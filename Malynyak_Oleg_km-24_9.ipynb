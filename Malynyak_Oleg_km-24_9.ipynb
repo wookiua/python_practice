{
  "cells": [
    {
      "cell_type": "markdown",
      "metadata": {
        "id": "FMqboNwO4rVs"
      },
      "source": [
        "# **Курс \"Програмування на мові Python\"**"
      ]
    },
    {
      "attachments": {},
      "cell_type": "markdown",
      "metadata": {
        "id": "A2T6MigL5Z06"
      },
      "source": [
        "## **Практичні зайняття №15-16**\n",
        "\n",
        "### Тема: \"Ітератори та генератори. Декоратори\""
      ]
    },
    {
      "cell_type": "markdown",
      "metadata": {
        "id": "cfCdgK2zXm7e"
      },
      "source": [
        "### **Завдання 1 (2 бали)**\n",
        "\n",
        "Розрахуйте коефієнти розкладу [біному Ньютона](https://uk.wikipedia.org/wiki/%D0%91%D1%96%D0%BD%D0%BE%D0%BC_%D0%9D%D1%8C%D1%8E%D1%82%D0%BE%D0%BD%D0%B0) за допомогою генератора.\n",
        "\n",
        "1. Степінь многочлена користувач має вводити з клавіатури (невід'ємне ціле число).\n",
        "\n",
        "2. Програма має підраховувати біноміальні коефіцієнти для біномів усіх степенів, починаючи від 0 і закінчуючи тим, який ввів користувач.\n",
        "\n",
        "3. Коефіцієнти мають виводитись у вигляді трикутника Паскаля.\n",
        "\n",
        "Наприклад, якщо користувач введе число 5, програма має вивести результат:\n",
        "\n",
        "1\n",
        "\n",
        "1 1\n",
        "\n",
        "1 2 1\n",
        "\n",
        "1 3 3 1\n",
        "\n",
        "1 4 6 4 1\n",
        "\n",
        "1 5 10 10 5 1\n"
      ]
    },
    {
      "cell_type": "code",
      "execution_count": 62,
      "metadata": {
        "id": "Bku8v9CjE_Qc"
      },
      "outputs": [
        {
          "name": "stdout",
          "output_type": "stream",
          "text": [
            "1 \n",
            "1 1 \n",
            "1 2 1 \n",
            "1 3 3 1 \n",
            "1 4 6 4 1 \n",
            "1 5 10 10 5 1 \n"
          ]
        }
      ],
      "source": [
        "import math\n",
        "try:\n",
        "    poly_degr = int(input(\"Polynomial degree: \"))\n",
        "    if poly_degr < 0:\n",
        "        raise ValueError(\"Incorrect input\")\n",
        "except ValueError as ve:\n",
        "    print(ve)    \n",
        "else:\n",
        "    def binom_coef(poly_degr):\n",
        "        for i in range(poly_degr + 1):\n",
        "            s = ''\n",
        "            for j in range(i + 1):\n",
        "                s = s + str(math.factorial(i)//(math.factorial(j)*math.factorial(i-j))) + \" \"\n",
        "            yield s\n",
        "   \n",
        "    for i in binom_coef(poly_degr): \n",
        "        print(i)"
      ]
    },
    {
      "cell_type": "markdown",
      "metadata": {},
      "source": [
        "### **Завдання 2 (1 бал)**\n",
        "\n",
        "Реалізуйте генератор колоди карт (52 штуки). Кожна карта подається у вигляді рядка типу \"*5 diamonds*\".\n",
        "\n",
        "1. 4 масті (diamonds, clubs, hearts, spades) та 13 значень карт мають зберігатись у двох окремих списках (кортежах).\n",
        "\n",
        "2. Значення від 2 до 10 мають гереруватись за допомогою функції range().\n",
        "\n",
        "3. Окрім чисел, у списку значень мають бути присутніми елементи 'A' (Ace - туз), 'J' (Jack - валет), 'Q' (Queen - дама) та 'K' (King - король).\n",
        "\n",
        "4. Карти мають виводитись у порядку від 'A' до 'K'. Порядок виведення мастей не має значення.\n",
        "\n",
        "    *Приклад:*\n",
        "\n",
        "    А diamonds\n",
        "\n",
        "    2 diamonds\n",
        "\n",
        "    ...\n",
        "\n",
        "    K diamonds\n",
        "\n",
        "    A clubs\n",
        "\n",
        "    ...\n",
        "\n",
        "5. Кожна наступна карта має виводитись за допомогою функції next().\n",
        "\n",
        "6. Виведення карт має завершуватись виключенням StopIteration."
      ]
    },
    {
      "cell_type": "code",
      "execution_count": 66,
      "metadata": {},
      "outputs": [
        {
          "name": "stdout",
          "output_type": "stream",
          "text": [
            "A diamonds\n",
            "2 diamonds\n",
            "3 diamonds\n",
            "4 diamonds\n",
            "5 diamonds\n",
            "6 diamonds\n",
            "7 diamonds\n",
            "8 diamonds\n",
            "9 diamonds\n",
            "10 diamonds\n",
            "J diamonds\n",
            "Q diamonds\n",
            "K diamonds\n",
            "A clubs\n",
            "2 clubs\n",
            "3 clubs\n",
            "4 clubs\n",
            "5 clubs\n",
            "6 clubs\n",
            "7 clubs\n",
            "8 clubs\n",
            "9 clubs\n",
            "10 clubs\n",
            "J clubs\n",
            "Q clubs\n",
            "K clubs\n",
            "A hearts\n",
            "2 hearts\n",
            "3 hearts\n",
            "4 hearts\n",
            "5 hearts\n",
            "6 hearts\n",
            "7 hearts\n",
            "8 hearts\n",
            "9 hearts\n",
            "10 hearts\n",
            "J hearts\n",
            "Q hearts\n",
            "K hearts\n",
            "A spades\n",
            "2 spades\n",
            "3 spades\n",
            "4 spades\n",
            "5 spades\n",
            "6 spades\n",
            "7 spades\n",
            "8 spades\n",
            "9 spades\n",
            "10 spades\n",
            "J spades\n",
            "Q spades\n",
            "K spades\n"
          ]
        },
        {
          "ename": "StopIteration",
          "evalue": "",
          "output_type": "error",
          "traceback": [
            "\u001b[0;31m---------------------------------------------------------------------------\u001b[0m",
            "\u001b[0;31mStopIteration\u001b[0m                             Traceback (most recent call last)",
            "Cell \u001b[0;32mIn [66], line 14\u001b[0m\n\u001b[1;32m     12\u001b[0m gen \u001b[39m=\u001b[39m all_card()\n\u001b[1;32m     13\u001b[0m \u001b[39mfor\u001b[39;00m i \u001b[39min\u001b[39;00m \u001b[39mrange\u001b[39m(\u001b[39mlen\u001b[39m(suit)\u001b[39m*\u001b[39m\u001b[39mlen\u001b[39m(value)\u001b[39m+\u001b[39m\u001b[39m1\u001b[39m):\n\u001b[0;32m---> 14\u001b[0m     a, b \u001b[39m=\u001b[39m \u001b[39mnext\u001b[39;49m(gen)\n\u001b[1;32m     15\u001b[0m     \u001b[39mprint\u001b[39m(a, b)\n",
            "\u001b[0;31mStopIteration\u001b[0m: "
          ]
        }
      ],
      "source": [
        "suit = ['diamonds', 'clubs', 'hearts', 'spades']\n",
        "value = []\n",
        "for i in range(2,11):\n",
        "    value.append(i)\n",
        "value = ['A'] + value + ['J', 'Q', 'K']\n",
        "\n",
        "def all_card():\n",
        "    for i in suit:\n",
        "        for j in value:\n",
        "            yield j, i\n",
        "            \n",
        "gen = all_card()\n",
        "for i in range(len(suit)*len(value)+1):\n",
        "    a, b = next(gen)\n",
        "    print(a, b)\n"
      ]
    },
    {
      "attachments": {},
      "cell_type": "markdown",
      "metadata": {},
      "source": [
        "### **Завдання 3 (3 бали)**\n",
        "\n",
        "Реалізуйте підрахунок площі трикутника з використанням декоратора, який перевірятиме можливість побудови трикутника з трьох введених користувачем сторін.\n",
        "\n",
        "1. Напишіть функцію area_calculation, яка підраховуватиме площу трикутника за трьома сторонами. Для підрахунку можете скористатись формулою Герона.\n",
        "\n",
        "2. Напишіть функцію check, яка перевірятиме правильність введених користувачем значень (значення мають бути додатними числами, не обов'язково цілими).\n",
        "\n",
        "3. Створіть декоратор triangle_ineq, який перевірятиме виконання нерівності трикутрика для трьох заданих користувачем сторін. Навісьте декоратор triangle_ineq на функція area_calculation та перевірте правильність роботи програми."
      ]
    },
    {
      "cell_type": "code",
      "execution_count": 133,
      "metadata": {},
      "outputs": [
        {
          "name": "stdout",
          "output_type": "stream",
          "text": [
            "Incorrect input\n"
          ]
        },
        {
          "ename": "TypeError",
          "evalue": "'bool' object is not subscriptable",
          "output_type": "error",
          "traceback": [
            "\u001b[0;31m---------------------------------------------------------------------------\u001b[0m",
            "\u001b[0;31mTypeError\u001b[0m                                 Traceback (most recent call last)",
            "Cell \u001b[0;32mIn [133], line 38\u001b[0m\n\u001b[1;32m     35\u001b[0m         s \u001b[39m=\u001b[39m math\u001b[39m.\u001b[39msqrt(p \u001b[39m*\u001b[39m (p \u001b[39m-\u001b[39m a) \u001b[39m*\u001b[39m (p \u001b[39m-\u001b[39m b) \u001b[39m*\u001b[39m (p \u001b[39m-\u001b[39m c))\n\u001b[1;32m     36\u001b[0m         \u001b[39mprint\u001b[39m(\u001b[39m\"\u001b[39m\u001b[39mArea: \u001b[39m\u001b[39m\"\u001b[39m, s) \n\u001b[0;32m---> 38\u001b[0m area_calculation(check())\n",
            "Cell \u001b[0;32mIn [133], line 17\u001b[0m, in \u001b[0;36mdecorator_function.<locals>.wrapper\u001b[0;34m(res)\u001b[0m\n\u001b[1;32m     16\u001b[0m \u001b[39mdef\u001b[39;00m \u001b[39mwrapper\u001b[39m(res):\n\u001b[0;32m---> 17\u001b[0m     a \u001b[39m=\u001b[39m res[\u001b[39m0\u001b[39;49m]\n\u001b[1;32m     18\u001b[0m     b \u001b[39m=\u001b[39m res[\u001b[39m1\u001b[39m]\n\u001b[1;32m     19\u001b[0m     c \u001b[39m=\u001b[39m res[\u001b[39m2\u001b[39m]\n",
            "\u001b[0;31mTypeError\u001b[0m: 'bool' object is not subscriptable"
          ]
        }
      ],
      "source": [
        "import math\n",
        "def check():\n",
        "    try:\n",
        "        a = float(input(\"Input side a: \"))\n",
        "        b = float(input(\"Input side b: \"))\n",
        "        c = float(input(\"Input side c: \"))\n",
        "        if a <= 0 or b <= 0 or c<= 0:\n",
        "            raise ValueError(\"Incorrect input\")\n",
        "    except ValueError as ve:\n",
        "        print(ve)  \n",
        "        return False  \n",
        "    else:\n",
        "        return a, b, c\n",
        "\n",
        "def decorator_function(func):\n",
        "    def wrapper(res):\n",
        "        a = res[0]\n",
        "        b = res[1]\n",
        "        c = res[2]\n",
        "        if (a + b > c) and (a + c > b) and (b + c > a):\n",
        "            return func(res)\n",
        "        else:\n",
        "            print(\"Incorrect input (a,b,c don't create a triangle) \")\n",
        "    return wrapper\n",
        "\n",
        "@decorator_function\n",
        "def area_calculation(result):\n",
        "    if result == False:\n",
        "        print(\"Incorrect input\") \n",
        "    else:    \n",
        "        a = result[0]\n",
        "        b = result[1]\n",
        "        c = result[2]\n",
        "        p = (a + b + c)/2\n",
        "        s = math.sqrt(p * (p - a) * (p - b) * (p - c))\n",
        "        print(\"Area: \", s) \n",
        "       \n",
        "area_calculation(check())\n",
        "\n",
        "\n"
      ]
    }
  ],
  "metadata": {
    "colab": {
      "collapsed_sections": [],
      "name": "Practice_10-11_KM_01_.ipynb",
      "provenance": []
    },
    "kernelspec": {
      "display_name": "Python 3",
      "language": "python",
      "name": "python3"
    },
    "language_info": {
      "codemirror_mode": {
        "name": "ipython",
        "version": 3
      },
      "file_extension": ".py",
      "mimetype": "text/x-python",
      "name": "python",
      "nbconvert_exporter": "python",
      "pygments_lexer": "ipython3",
      "version": "3.8.10"
    },
    "vscode": {
      "interpreter": {
        "hash": "e7370f93d1d0cde622a1f8e1c04877d8463912d04d973331ad4851f04de6915a"
      }
    }
  },
  "nbformat": 4,
  "nbformat_minor": 0
}
