{
  "cells": [
    {
      "cell_type": "markdown",
      "metadata": {
        "id": "FMqboNwO4rVs"
      },
      "source": [
        "# **Курс \"Програмування на мові Python\"**"
      ]
    },
    {
      "cell_type": "markdown",
      "metadata": {
        "id": "A2T6MigL5Z06"
      },
      "source": [
        "## **Практичне зайняття №6**\n",
        "### Тема: \"Робота з кортежами, множинами та словниками\""
      ]
    },
    {
      "cell_type": "markdown",
      "metadata": {
        "id": "vr7jApnVy7LA"
      },
      "source": [
        "**Контейнери** - це такі об'єкти, що можуть зберігати інші об'єкти.\n",
        "\n",
        "У мові програмування Python існує 4 класи об'єктів, що можуть зберігати колекції інших об'єктів.\n",
        "\n",
        "1. **Список (list)** - це впорядкована змінювана колекція об'єктів. У списках об'єкти індексуються та можуть дублюватися.\n",
        "\n",
        "2. **Кортеж (tuple)** - це впорядкована незмінювана колекція об'єктів. У кортежах об'єкти індексуються та можуть дублюватися. Кортеж - це незмінюваний список.\n",
        "\n",
        "3. **Множина (set)** - це невпорядкована змінювана колекція об'єктів, що не індексуються. У множинах об'єкти не можуть дублюватися.\n",
        "\n",
        "4. **Словник (dictionary)** - це невпорядкована змінювана колекція об'єктів, що індексуються за *ключем*, який посилається на *значення*. *Ключі* не можуть дублюватися, але *значення* дублюватися можуть."
      ]
    },
    {
      "cell_type": "markdown",
      "metadata": {
        "id": "193Kzrii8JCG"
      },
      "source": [
        "### **1. Кортежі**"
      ]
    },
    {
      "cell_type": "markdown",
      "metadata": {
        "id": "mE2hO3-h-0uE"
      },
      "source": [
        "Кожен елемент кортежу має свою власну позицію (свій індекс), і ця позиція не може бути змінена у процесі роботи програми. Неможливо додати або видалити елементи кортежу.\n",
        "\n",
        "Існує кілька причин, чому іноді краще використовувати кортежі замість списків. Одна з них - кортежі дозволяють убезпечити дані від випадкових та навмисних змін. Друга - кортежі займають менше місця у пам'яті, ніж списки. Третя - використання кортежів дає приріст у швидкості обробки даних у порівнянні зі списками.\n",
        "\n",
        "Приклади створення кортежів:"
      ]
    },
    {
      "cell_type": "code",
      "execution_count": null,
      "metadata": {
        "id": "wqy7HpHmAnLH"
      },
      "outputs": [],
      "source": [
        "tuple1 = ()\n",
        "tuple2 = (1, 3, 5, 7)\n",
        "print(type(tuple1), tuple1)\n",
        "print(type(tuple2), tuple2)"
      ]
    },
    {
      "cell_type": "markdown",
      "metadata": {
        "id": "so5velgfQyjj"
      },
      "source": [
        "Кортежі можуть бути вкладеними. Наприклад:"
      ]
    },
    {
      "cell_type": "code",
      "execution_count": null,
      "metadata": {
        "id": "J3Q93O_SQ2SL"
      },
      "outputs": [],
      "source": [
        "tuple1 = (1, 3, 5, 7)\n",
        "tuple2 = ('John', 'Denise', 'Phoebe', 'Adam')\n",
        "tuple3 = (42, tuple1, tuple2, 5.5)\n",
        "print(tuple3)"
      ]
    },
    {
      "cell_type": "markdown",
      "metadata": {
        "id": "tV8J97HCByNp"
      },
      "source": [
        "Кортежі можуть бути створені з об'єктів, що ітеруються, за допомогою функції **tuple()**. Це означає, що кортежі можуть бути створені зокрема з множин, словників та списків.\n",
        "\n",
        "Приклад використання функції **tuple()**:"
      ]
    },
    {
      "cell_type": "code",
      "execution_count": null,
      "metadata": {
        "id": "nwKhJ2F8HDlM"
      },
      "outputs": [],
      "source": [
        "list1 = [1, 2, 3]\n",
        "tuple1 = tuple(list1)\n",
        "print(type(list1), list1)\n",
        "print(type(tuple1), tuple1)"
      ]
    },
    {
      "cell_type": "markdown",
      "metadata": {
        "id": "9Wyb3ej7HoPX"
      },
      "source": [
        "Доступ до елементів кортежу можна отримати за допомогою індекса (у квадратних дужках)."
      ]
    },
    {
      "cell_type": "code",
      "execution_count": null,
      "metadata": {
        "id": "pp5S7l4sK9iJ"
      },
      "outputs": [],
      "source": [
        "tuple1 = (1, 3, 5, 7)\n",
        "print('tup1[0]:', tuple1[0])\n",
        "print('tup1[1]:', tuple1[1])\n",
        "print('tup1[2]:', tuple1[2])\n",
        "print('tup1[3]:', tuple1[3])"
      ]
    },
    {
      "cell_type": "markdown",
      "metadata": {
        "id": "lHVAp8N9LS_u"
      },
      "source": [
        "Зріз кортежу можна отримати так само, як і зріз списку. Початковий та кінцевий індекси зрізу задаються у квадратних дужках та розділені двокрапкою."
      ]
    },
    {
      "cell_type": "code",
      "execution_count": null,
      "metadata": {
        "id": "pAc8Dig6LD93"
      },
      "outputs": [],
      "source": [
        "tuple1 = (1, 3, 5, 7)\n",
        "print('tuple1[1]:', tuple1[1])\n",
        "print('tuple1[-1]:', tuple1[-1])\n",
        "print('tuple1[1:3]:', tuple1[1:3])\n",
        "print('tuple1[:3]:', tuple1[:3])\n",
        "print('tuple1[1:]:', tuple1[1:])\n",
        "print('tuple1[::-1]:', tuple1[::-1])"
      ]
    },
    {
      "cell_type": "markdown",
      "metadata": {
        "id": "eCD4vVBoOCYf"
      },
      "source": [
        "Кортежі можуть зберігати об'єкти різних типів. Наприклад:"
      ]
    },
    {
      "cell_type": "code",
      "execution_count": null,
      "metadata": {
        "id": "aLg64vW2NmEO"
      },
      "outputs": [],
      "source": [
        "tuple2 = (1, 'John', ['Phoebe', 21], True, -23.45)\n",
        "print(tuple2)"
      ]
    },
    {
      "cell_type": "markdown",
      "metadata": {
        "id": "dkQg7ks8O4WR"
      },
      "source": [
        "З кортежами можна працювати у циклах. Наприклад:"
      ]
    },
    {
      "cell_type": "code",
      "execution_count": null,
      "metadata": {
        "id": "zWGVziwAOjkT"
      },
      "outputs": [],
      "source": [
        "tuple3 = ('apple', 'pear', 'orange', 'plum', 'apple')\n",
        "for x in tuple3:\n",
        "    print(x, end = ' ')"
      ]
    },
    {
      "cell_type": "markdown",
      "metadata": {
        "id": "79iQ6EoVRHDh"
      },
      "source": [
        "Щоб перевірити, чи наявний елемент у кортежі, можна виконати наступний код:"
      ]
    },
    {
      "cell_type": "code",
      "execution_count": null,
      "metadata": {
        "id": "HGVaRGMBPQcu"
      },
      "outputs": [],
      "source": [
        "tuple3 = ('apple', 'pear', 'orange', 'plum', 'apple')\n",
        "if 'orange' in tuple3:\n",
        "    print('orange is in the Tuple')"
      ]
    },
    {
      "cell_type": "markdown",
      "metadata": {
        "id": "9CMFSPJ_T4b0"
      },
      "source": [
        "#### Робота з кортежами"
      ]
    },
    {
      "cell_type": "markdown",
      "metadata": {
        "id": "jQ04IbzfRo_p"
      },
      "source": [
        "Довжину кортежу можна визначити за допомогою функції **len()**."
      ]
    },
    {
      "cell_type": "code",
      "execution_count": null,
      "metadata": {
        "id": "5L1arHzcRiGI"
      },
      "outputs": [],
      "source": [
        "tuple3 = ('apple', 'pear', 'orange', 'plum', 'apple')\n",
        "print('len(tuple3):', len(tuple3))"
      ]
    },
    {
      "cell_type": "markdown",
      "metadata": {
        "id": "HU4bh8YtSDee"
      },
      "source": [
        "Щоб підрахувати, скільки разів певний елемент зустрічається в кортежі, можна використати метод **count()**. Пам'ятайте, що в кортежі об'єкти можуть дублюватись."
      ]
    },
    {
      "cell_type": "code",
      "execution_count": null,
      "metadata": {
        "id": "bSRJoKMsR4Uw"
      },
      "outputs": [],
      "source": [
        "tuple3 = ('apple', 'pear', 'orange', 'plum', 'apple')\n",
        "print(tuple3.count('apple'))"
      ]
    },
    {
      "cell_type": "markdown",
      "metadata": {
        "id": "pA5WPy4lS5-q"
      },
      "source": [
        "Визначити індекс певного елемента в кортежі можна за допомогою методу **index()**."
      ]
    },
    {
      "cell_type": "code",
      "execution_count": null,
      "metadata": {
        "id": "K14oWi8bS4P1"
      },
      "outputs": [],
      "source": [
        "tuple3 = ('apple', 'pear', 'orange', 'plum', 'apple')\n",
        "print(tuple3.index('pear'))"
      ]
    },
    {
      "cell_type": "markdown",
      "metadata": {
        "id": "JFo-IrUGTtwd"
      },
      "source": [
        "Існує всього 2 вбудовані методи, які можна виконувати з кортежами:\n",
        "\n",
        "Метод | Опис\n",
        "--- | ---\n",
        "count() | Повертає кількість елементів з певним значенням\n",
        "index() | Повертає індекс першого елемента із вказаним значенням"
      ]
    },
    {
      "cell_type": "markdown",
      "metadata": {
        "id": "3txUK3KJUdkf"
      },
      "source": [
        "### **2. Множини**"
      ]
    },
    {
      "cell_type": "markdown",
      "metadata": {
        "id": "VDtoYgk8UpVz"
      },
      "source": [
        "Елементи множини не мають позиції (свого індексу) та не можуть повторюватись. Порядок елементів у множині - випадковий. Елементи множини незмінні, але саму множину змінювати можна.\n",
        "\n",
        "Множина задається у фігурних дужках. Наприклад:"
      ]
    },
    {
      "cell_type": "code",
      "execution_count": null,
      "metadata": {
        "id": "L_zX_dfBTjjq"
      },
      "outputs": [],
      "source": [
        "basket = {'apple', 'orange', 'apple', 'pear', 'orange', 'banana'}\n",
        "print(basket)"
      ]
    },
    {
      "cell_type": "markdown",
      "metadata": {
        "id": "5O78GPrzaZGO"
      },
      "source": [
        "Множини можуть містити дані лише незмінюваних типів, тобто всі, окрім списків, множин та словників:"
      ]
    },
    {
      "cell_type": "code",
      "execution_count": null,
      "metadata": {
        "id": "y6UDTkG-Y0BW"
      },
      "outputs": [],
      "source": [
        "set1 = {1, 'John', ('Phoebe', 21), True, -23.45}\n",
        "print(set1)"
      ]
    },
    {
      "cell_type": "markdown",
      "metadata": {
        "id": "9G2822rqm6aD"
      },
      "source": [
        "Однак, окрім звичайних змінюваних множин існують ще незмінювані, або заморожені (Frozensets). Якщо Frozensets незмінювані, значить вони можуть бути елементами звичайних множин. Наприклад:"
      ]
    },
    {
      "cell_type": "code",
      "execution_count": null,
      "metadata": {
        "id": "KbKVyvLwoNw5"
      },
      "outputs": [],
      "source": [
        "set2 = { frozenset({1, 2, 3}) }\n",
        "set3 = { frozenset([1, 2, 3]) }\n",
        "print(set2)\n",
        "print(set3)"
      ]
    },
    {
      "cell_type": "markdown",
      "metadata": {
        "id": "Qn-cbwIDbIis"
      },
      "source": [
        "Звернутись до елемента множини за допомогою індексу неможна (тому що вони невпрорядковані). Але можна вивести елементи множини у циклі for. Наприклад:"
      ]
    },
    {
      "cell_type": "code",
      "execution_count": null,
      "metadata": {
        "id": "SlxOkdRoasC9"
      },
      "outputs": [],
      "source": [
        "basket = {'apple', 'orange', 'apple', 'pear', 'orange', 'banana'}\n",
        "for item in basket:\n",
        "    print(item)"
      ]
    },
    {
      "cell_type": "markdown",
      "metadata": {
        "id": "MVlyefCbb3SB"
      },
      "source": [
        "Щоб перевірити наявність певного елемента у множині, застосовують ключове слово in:"
      ]
    },
    {
      "cell_type": "code",
      "execution_count": null,
      "metadata": {
        "id": "MlTQ_STKcKB_"
      },
      "outputs": [],
      "source": [
        "basket = {'apple', 'orange', 'apple', 'pear', 'orange', 'banana'}\n",
        "print('apple' in basket)"
      ]
    },
    {
      "cell_type": "markdown",
      "metadata": {
        "id": "RGG5CSvxUZYL"
      },
      "source": [
        "#### Робота з множинами"
      ]
    },
    {
      "cell_type": "markdown",
      "metadata": {
        "id": "Ne_W5g-WdG_2"
      },
      "source": [
        "Для додавання елемента до множини використовується метод **add()**:"
      ]
    },
    {
      "cell_type": "code",
      "execution_count": null,
      "metadata": {
        "id": "eiEQKYkFdV6E"
      },
      "outputs": [],
      "source": [
        "basket = {'apple', 'orange', 'banana'}\n",
        "basket.add('apricot')\n",
        "print(basket)"
      ]
    },
    {
      "cell_type": "markdown",
      "metadata": {
        "id": "Pu3zxpCNdvUG"
      },
      "source": [
        "Щоб додати більше одного елемента до множини, застосовується метод **update()**. Аргументом цього методу може бути множина, список, кортеж чи словник. Метод автоматично конвертує параметр у множинний тип (якщо це не множина) та додасть значення до вихідної множини."
      ]
    },
    {
      "cell_type": "code",
      "execution_count": null,
      "metadata": {
        "id": "kPGKA4hnd5xW"
      },
      "outputs": [],
      "source": [
        "basket = {'apple', 'orange', 'banana'}\n",
        "basket.update(['apricot', 'mango', 'grapefruit'])\n",
        "print(basket)"
      ]
    },
    {
      "cell_type": "markdown",
      "metadata": {
        "id": "aJT5-fYOhttB"
      },
      "source": [
        "Як і у випадку з кортежами та списками, визначення довжини множини визначається за допомогою функції **len()**:"
      ]
    },
    {
      "cell_type": "code",
      "execution_count": null,
      "metadata": {
        "id": "_cz4ashfiEZb"
      },
      "outputs": [],
      "source": [
        "basket = {'apple', 'orange', 'apple', 'pear', 'orange', 'banana'}\n",
        "print(len(basket))"
      ]
    },
    {
      "cell_type": "markdown",
      "metadata": {
        "id": "a5dkQzt1iN-7"
      },
      "source": [
        "Для видалення елемента з множини використовують методи **remove()** та **discard()**. Обидва методи видаляють один елемент з множини, однак метод **remove()** генерує помилку, якщо елемент не входить у множину, а метод **discard()** не генерує."
      ]
    },
    {
      "cell_type": "code",
      "execution_count": null,
      "metadata": {
        "id": "aVGnrUB8iNJf"
      },
      "outputs": [],
      "source": [
        "basket = {'apple', 'orange', 'apple', 'pear', 'orange', 'banana'}\n",
        "print(basket)\n",
        "basket.remove('apple')\n",
        "basket.discard('apricot')\n",
        "print(basket)"
      ]
    },
    {
      "cell_type": "markdown",
      "metadata": {
        "id": "6zeueOULki3V"
      },
      "source": [
        "Щоб видалити всі елементи списку, використовується метод **clear()**:"
      ]
    },
    {
      "cell_type": "code",
      "execution_count": null,
      "metadata": {
        "id": "YRVYzQCEk7Fn"
      },
      "outputs": [],
      "source": [
        "basket = {'apple', 'orange', 'banana'}\n",
        "basket.clear()\n",
        "print(basket)"
      ]
    },
    {
      "cell_type": "markdown",
      "metadata": {
        "id": "stMzCf8Sk6go"
      },
      "source": [
        "Також над множинами у Python можна виконувати операції об'єднання (**|**), перетину(**&**), різниці(**-**) та симетричної різниці(**^**). Наприклад, якщо є множини A та B, ці операції можна зобразити так:\n",
        "\n",
        ">![Operations with sets](https://www.learnbyexample.org/wp-content/uploads/python/Python-Set-Operatioons.png)\n",
        "\n",
        "Створимо множини set1 та set2. Операції об'єднання, перетину, різниці та симетричної різниці над ними матимуть такий вигляд:"
      ]
    },
    {
      "cell_type": "code",
      "execution_count": null,
      "metadata": {
        "id": "SpRDCuOvrJbD"
      },
      "outputs": [],
      "source": [
        "set1 = {'apple', 'orange', 'banana'}\n",
        "set2 = {'grapefruit', 'lime', 'banana'}\n",
        "\n",
        "print('Union:', set1 | set2)\n",
        "print('Intersection:', set1 & set2)\n",
        "print('Difference:', set1 - set2)\n",
        "print('Symmetric Difference:', set1 ^ set2)"
      ]
    },
    {
      "cell_type": "markdown",
      "metadata": {
        "id": "524gRYs9qxvO"
      },
      "source": [
        "Ті ж намі операції над множинами можна виконати за допомогою відповідних методів:"
      ]
    },
    {
      "cell_type": "code",
      "execution_count": null,
      "metadata": {
        "id": "UcUZm3R9ruwr"
      },
      "outputs": [],
      "source": [
        "print(set1.union(set2)) #is the equivalent of s1 | s2\n",
        "print(set1.intersection(set2)) #is the equivalent of s1 & s2\n",
        "print(set1.difference(set2)) #is the equivalent of s1 − s2\n",
        "print(set1.symmetric_difference(set2)) #is the equivalent of s1 ^ s2"
      ]
    },
    {
      "cell_type": "markdown",
      "metadata": {
        "id": "dg2Q_TKSswhG"
      },
      "source": [
        "Повний перелік вбудованих методів, які можна виконувати з множинами, поданий у таблиці.\n",
        "\n",
        "Метод | Опис\n",
        "--- | ---\n",
        "add() | Додає елемент до множини\n",
        "clear() | Видаляє всі елементи множини\n",
        "copy() | Повертає копію множини\n",
        "difference() | Повертає множину, що містить різницю між двома та більше множинами\n",
        "difference_update() | Видаляє ті елементи поточної множини, які також входять в інші визначені множини\n",
        "discard() | Видаляє певний визначений елемент\n",
        "intersection() | Повертає множину, яка є перетином двох інших множин\n",
        "intersection_update() | Видаляє ті елементи в поточній множині, що відсутні в інших визначених множинах\n",
        "isdisjoint() | Повертає значення двійкового типу, що вказує на те, чи мають множини спільні елементи\n",
        "issubset() | Повертає значення двійкового типу, що вказує на те, чи містить в собі множина, що розглядається, поточну множину\n",
        "issuperset() | Повертає значення двійкового типу, що вказує на те, чи містить в собі поточна множина ту множину, що розглядається\n",
        "pop() | Видаляє випадковий елемент множини\n",
        "remove() | Видаляє певний визначений елемент та генерує помилку, якщо елемент не входить у множину\n",
        "symmetric_difference() | Повертає множину, яка є симетричною різницею двох заданих множин\n",
        "symmetric_difference_update() | Зберігає у поточну множину ті елементи, що є унікальними для обох множин\n",
        "union() | Повертає множину, що містить об'єднання двох множин\n",
        "update() | Корегує множину, додаючи до неї елементи об'єднання поточної множини та тієї множини, що розглядається"
      ]
    },
    {
      "cell_type": "markdown",
      "metadata": {
        "id": "n1mNKt9JzLSj"
      },
      "source": [
        "### **3. Словники**"
      ]
    },
    {
      "cell_type": "markdown",
      "metadata": {
        "id": "xenHUM19SOpG"
      },
      "source": [
        "Словник - це невпорядкована, змінювана та індексована множина пар 'ключ':'значення'.\n",
        "\n",
        "Графічно словник можна подати так, як показано у прикладі нижче.\n",
        "\n",
        ">![Dictionary. Keys-Values](https://www.learnbyexample.org/wp-content/uploads/python/Dictionary-Key-Value-Pairs-Illustration.png)\n",
        "\n"
      ]
    },
    {
      "cell_type": "markdown",
      "metadata": {
        "id": "4hV2lQs0aNQY"
      },
      "source": [
        "Словники створюються у фігурних дужках. Кожен елемент словника складається з пари 'ключ':'значення'. Наприклад:"
      ]
    },
    {
      "cell_type": "code",
      "execution_count": null,
      "metadata": {
        "id": "pRw3iGD1zN0K"
      },
      "outputs": [],
      "source": [
        "cities = {'Wales': 'Cardiff',\n",
        "          'England': 'London',\n",
        "          'Scotland': 'Edinburgh',\n",
        "          'Northern Ireland': 'Belfast',\n",
        "          'Ireland': 'Dublin'}\n",
        "print(cities)"
      ]
    },
    {
      "cell_type": "markdown",
      "metadata": {
        "id": "TMcLOWC7bl9d"
      },
      "source": [
        "Щоб створити словник з об'єкта, що ітерується, або з послідовності пар 'ключ':'значення', використовують функцію **dict()**. Приклади створення словника:"
      ]
    },
    {
      "cell_type": "code",
      "execution_count": null,
      "metadata": {
        "id": "bWYEXQ86bH-Q"
      },
      "outputs": [],
      "source": [
        "dict1 = dict(uk='London', ireland='Dublin', france='Paris')\n",
        "print('dict1:', dict1)\n",
        "dict2 = dict([('uk', 'London'), ('ireland', 'Dublin'),('france', 'Paris')])\n",
        "print('dict2:', dict2)\n",
        "dict3 = dict((['uk', 'London'], ['ireland', 'Dublin'],['france', 'Paris']))\n",
        "print('dict3:', dict3)"
      ]
    },
    {
      "cell_type": "markdown",
      "metadata": {
        "id": "ShVJLiFQS350"
      },
      "source": [
        "У dict1 ключі не є об'єктами рядкового типу.\n",
        "\n",
        "У dict2 пари 'ключ':'значення' є кортежами.\n",
        "\n",
        "У dict3 пари 'ключ':'значення' є списками.\n",
        "\n",
        "У мові програмування Python ключі та значення можуть набувати різного вигляду. Наприклад, ключ може бути кортежем, а значення - списком, кортежем, множиною чи навіть словником. Наприклад:"
      ]
    },
    {
      "cell_type": "code",
      "execution_count": null,
      "metadata": {
        "id": "K2HZbVHictpO"
      },
      "outputs": [],
      "source": [
        "seasons = {'Spring': ('March', 'April', 'May'),\n",
        "           'Summer': ['June', 'July', 'August'],\n",
        "           'Autumn': {'September', 'October', 'November'},\n",
        "           'Winter': {'December':'Snow', 'January':'Wind', 'February':'frost'}}\n",
        "print(seasons['Spring'])\n",
        "print(seasons['Spring'][1])"
      ]
    },
    {
      "cell_type": "markdown",
      "metadata": {
        "id": "aLPKl5rHTt-U"
      },
      "source": [
        "#### Робота зі словниками"
      ]
    },
    {
      "cell_type": "markdown",
      "metadata": {
        "id": "QF58QTS2UoCt"
      },
      "source": [
        "Отримати доступ до значень, які зберігаються у словнику, можна за допомогою асоційованих з цими значеннями ключів. Для цього використовуються або квадратні дужки, або метод **get()**."
      ]
    },
    {
      "cell_type": "code",
      "execution_count": null,
      "metadata": {
        "id": "Bf4JEAjyP498"
      },
      "outputs": [],
      "source": [
        "cities = {'Wales': 'Cardiff',\n",
        "          'England': 'London',\n",
        "          'Scotland': 'Edinburgh',\n",
        "          'Northern Ireland': 'Belfast',\n",
        "          'Ireland': 'Dublin'}\n",
        "print('cities[Wales]:', cities['Wales'])\n",
        "print('cities.get(Ireland):', cities.get('Ireland'))"
      ]
    },
    {
      "cell_type": "markdown",
      "metadata": {
        "id": "Ibk9ij_vVw34"
      },
      "source": [
        "Щоб додати новий об'єкт до словника, потрібно задати ключ (у квадратних дужках) та значення, що йому відповідає."
      ]
    },
    {
      "cell_type": "code",
      "execution_count": null,
      "metadata": {
        "id": "RKzVXYcEWTRD"
      },
      "outputs": [],
      "source": [
        "cities = {'Wales': 'Cardiff',\n",
        "          'England': 'London',\n",
        "          'Scotland': 'Edinburgh',\n",
        "          'Northern Ireland': 'Belfast',\n",
        "          'Ireland': 'Dublin'}\n",
        "cities['Wales'] = 'Swansea'\n",
        "print(cities)\n",
        "print('cities[Wales]:', cities['Wales'])"
      ]
    },
    {
      "cell_type": "markdown",
      "metadata": {
        "id": "jhRslp18WjKq"
      },
      "source": [
        "Для видалення елемента словника використовують методи **pop()**, **popitem()** або ключове слово **del**.\n",
        "\n",
        "Метод **pop()** видаляє об'єкт за ключем і повертає видалене значення.\n",
        "\n",
        "Метод **popitem()** видаляє останній введений елемент словника (у версіях Python до 3.7 метод видаляє один випадковий елемент словника). Повертає видалену пару 'ключ':'значення'.\n",
        "\n",
        "Ключове слово **del** видаляє об'єкт за ключем."
      ]
    },
    {
      "cell_type": "code",
      "execution_count": null,
      "metadata": {
        "id": "z3vEncavxKbh"
      },
      "outputs": [],
      "source": [
        "cities = {'Wales': 'Cardiff',\n",
        "          'England': 'London',\n",
        "          'Scotland': 'Edinburgh',\n",
        "          'Northern Ireland': 'Belfast',\n",
        "          'Ireland': 'Dublin'}\n",
        "print(cities)\n",
        "cities.pop('Northern Ireland')\n",
        "print(cities)\n",
        "cities.popitem()\n",
        "print(cities)\n",
        "del cities['Scotland']\n",
        "print(cities)"
      ]
    },
    {
      "cell_type": "markdown",
      "metadata": {
        "id": "ZHBVal_o2Abe"
      },
      "source": [
        "Метод **clear()** видаляє всі елементи словника. Зверніть увагу на те, що порожній словник - це фактично множина без елементів."
      ]
    },
    {
      "cell_type": "code",
      "execution_count": null,
      "metadata": {
        "id": "neNumKKi0DJd"
      },
      "outputs": [],
      "source": [
        "cities = {'Wales': 'Cardiff',\n",
        "          'England': 'London',\n",
        "          'Scotland': 'Edinburgh',\n",
        "          'Northern Ireland': 'Belfast',\n",
        "          'Ireland': 'Dublin'}\n",
        "print(cities)\n",
        "cities.clear()\n",
        "print(cities)"
      ]
    },
    {
      "cell_type": "markdown",
      "metadata": {
        "id": "F3rntCXC4zWb"
      },
      "source": [
        "Елементи словника можна виводити у циклі for. Доступ до значень відбувається через ключі. Приклад:"
      ]
    },
    {
      "cell_type": "code",
      "execution_count": null,
      "metadata": {
        "id": "ZqoE2N8nLFBl"
      },
      "outputs": [],
      "source": [
        "cities = {'Wales': 'Cardiff',\n",
        "          'England': 'London',\n",
        "          'Scotland': 'Edinburgh',\n",
        "          'Northern Ireland': 'Belfast',\n",
        "          'Ireland': 'Dublin'}\n",
        "for country in cities:\n",
        "    print(country, end=', ')\n",
        "    print(cities[country])"
      ]
    },
    {
      "cell_type": "markdown",
      "metadata": {
        "id": "g-nHfpBzML6O"
      },
      "source": [
        "Існують три методи, які дозволяють вивести вміст словника: **values()**, **keys()** та **items()**.\n",
        "\n",
        "Метод **values()** повертає значення словника.\n",
        "\n",
        "Метод **keys()** повертає ключі словника.\n",
        "\n",
        "Метод **items()** повертає пари 'ключ':'значення'."
      ]
    },
    {
      "cell_type": "code",
      "execution_count": null,
      "metadata": {
        "id": "iD7ogeUdMHEj"
      },
      "outputs": [],
      "source": [
        "cities = {'Wales': 'Cardiff',\n",
        "          'England': 'London',\n",
        "          'Scotland': 'Edinburgh',\n",
        "          'Northern Ireland': 'Belfast',\n",
        "          'Ireland': 'Dublin'}\n",
        "print(cities.values())\n",
        "print(cities.keys())\n",
        "print(cities.items())"
      ]
    },
    {
      "cell_type": "markdown",
      "metadata": {
        "id": "ujLlZducaWIJ"
      },
      "source": [
        "Щоб перевірити, чи містить словник певний ключ, використовують ключове слово **in** (або **not in**, щоб перевірити протилежне твердження). Наприклад:"
      ]
    },
    {
      "cell_type": "code",
      "execution_count": null,
      "metadata": {
        "id": "gCln1Sbxa-TW"
      },
      "outputs": [],
      "source": [
        "cities = {'Wales': 'Cardiff',\n",
        "          'England': 'London',\n",
        "          'Scotland': 'Edinburgh',\n",
        "          'Northern Ireland': 'Belfast',\n",
        "          'Ireland': 'Dublin'}\n",
        "print('Wales' in cities)\n",
        "print('France' not in cities)"
      ]
    },
    {
      "cell_type": "markdown",
      "metadata": {
        "id": "eOu7znhXbBri"
      },
      "source": [
        "Функція **len()** використовується для підрахунку довжини словника."
      ]
    },
    {
      "cell_type": "code",
      "execution_count": null,
      "metadata": {
        "id": "XkMxG7Pma_3w"
      },
      "outputs": [],
      "source": [
        "cities = {'Wales': 'Cardiff',\n",
        "          'England': 'London',\n",
        "          'Scotland': 'Edinburgh',\n",
        "          'Northern Ireland': 'Belfast',\n",
        "          'Ireland': 'Dublin'}\n",
        "print(len(cities))"
      ]
    },
    {
      "cell_type": "markdown",
      "metadata": {
        "id": "UjfolxKpgPAg"
      },
      "source": [
        "Повний перелік вбудованих методів, які можна виконувати зі словниками, поданий у таблиці.\n",
        "\n",
        "Метод | Опис\n",
        "--- | ---\n",
        "clear() | Видаляє всі елементи словника\n",
        "copy() | Повертає копію словника\n",
        "fromkeys() | Повертає словник з визначеними ключами та значеннями\n",
        "get() | Повертає значення, що відповідає визначеному ключу\n",
        "items() | Повертає список, що складається з кортежів, в яких містяться пари 'ключ':'значення'\n",
        "keys() | Повертає список всіх ключів словника\n",
        "pop() | Видаляє елемент з визначеним ключем\n",
        "popitem() | Видаляє останню введену пару 'ключ':'значення'\n",
        "setdefault() | Повертає значення та визначений ключ. Якщо потрібного ключа не існує, вписує ключ та значення у словник.\n",
        "update() | Додає визначені ключ та значення до словника\n",
        "values() | Повертає список всіх значень словника"
      ]
    }
  ],
  "metadata": {
    "colab": {
      "collapsed_sections": [
        "193Kzrii8JCG",
        "3txUK3KJUdkf",
        "n1mNKt9JzLSj"
      ],
      "name": "Practice_5.ipynb",
      "provenance": []
    },
    "kernelspec": {
      "display_name": "Python 3.8.10 64-bit",
      "language": "python",
      "name": "python3"
    },
    "language_info": {
      "codemirror_mode": {
        "name": "ipython",
        "version": 3
      },
      "file_extension": ".py",
      "mimetype": "text/x-python",
      "name": "python",
      "nbconvert_exporter": "python",
      "pygments_lexer": "ipython3",
      "version": "3.8.10"
    },
    "vscode": {
      "interpreter": {
        "hash": "916dbcbb3f70747c44a77c7bcd40155683ae19c65e1c03b4aa3499c5328201f1"
      }
    }
  },
  "nbformat": 4,
  "nbformat_minor": 2
}
