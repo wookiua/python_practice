{
  "cells": [
    {
      "cell_type": "markdown",
      "metadata": {
        "id": "FMqboNwO4rVs"
      },
      "source": [
        "# **Курс \"Програмування на мові Python\"**"
      ]
    },
    {
      "cell_type": "markdown",
      "metadata": {
        "id": "A2T6MigL5Z06"
      },
      "source": [
        "## **Практичне зайняття №7**\n",
        "\n",
        "### Тема: \"Робота з рядками. Глибокі копії об'єктів.\""
      ]
    },
    {
      "cell_type": "markdown",
      "metadata": {},
      "source": []
    },
    {
      "cell_type": "markdown",
      "metadata": {},
      "source": [
        "### **Завдання 1 (3 бали)**\n",
        "\n",
        "Напишіть програму, яка, завхідими даними наведеними у прикладі, - буде виводити форматовану таблицю наступного виглядну:\n",
        "```\n",
        "| Post code | Cost, thouthends USD |  Country  |    City    |       Street       | Build. | App. |            Date            |\n",
        "|-----------+----------------------+-----------+------------+--------------------+--------+------+----------------------------|\n",
        "| 33022     |                0.543 | USA       | New York   | 53rd street        |     44 |  345 | 2020-01-30T11:45:33.654357 |\n",
        "| 33145     |             9563.214 | UK        | London     | 45 yard av.        |      3 |  210 | 1985-04-02T22:45:45.045385 |\n",
        "| 33658     |               85.543 | Australia | Sidney     | Cristmess eve str. |    253 |    3 | 2010-10-10T10:00:00.000000 |\n",
        "| 33854     |                0.010 | Ukraine   | Lutsk      | Soborna str.       |     10 | 5342 | 2008-02-28T23:33:33.000000 |\n",
        "| 33698     |          1000000.000 | USA       | Washington | Columbia str.      |     25 |  222 | 2021-09-29T07:34:01.000143 |\n",
        "``` \n",
        "На що тут варто звернути увагі:\n",
        "- Імена колонок - вирівнювання по центру. Частина колонок із даними мають витрівнювання по лівому краю, інша частина - по правому.\n",
        "- Дотримуйтесь точності відображення таблиці із тим що наведено у прикладі (стосується ширини колонок, всюди є додатковий пробіл щоб дані не прилягали щільно до лінії розмежування колонок).\n",
        "- Дата виведена у так званому ISO форматі (Python має свою підримку цього формату - вам не обов'язково треба своїми руками описувати цей формат, достатньо - загуглити, **бонус +0.5**).\n",
        "- Підказка - дану таблицю можна вивести суто із використанням f-нотації форматованого рядка, **бонус +0.5**.\n",
        "- Зверніть увагу на те, що долари у таблиці відображаються у тисячах. Врахуйте це під час виведення.\n",
        "- Для кращої читаємості кожен кортеж можна розкрити відразу у змінні наступним чином:\n",
        "```\n",
        "for line in data:\n",
        "    (post_code, cost, country, city, street, build, app, dt) = line\n",
        "    # print(post_code)\n",
        "```"
      ]
    },
    {
      "cell_type": "code",
      "execution_count": 171,
      "metadata": {},
      "outputs": [
        {
          "name": "stdout",
          "output_type": "stream",
          "text": [
            "| Post code | Cost, thouthends USD |  Country  |    City    |       Street       | Build. | App. |            Date            |\n",
            "|-----------+----------------------+-----------+------------+--------------------+--------+------+----------------------------|\n",
            "| 33022     |                0.544 | USA       | New York   | 53rd street        |     44 |  345 | 2020-01-30T11:45:33.654357 |\n",
            "| 33145     |             9563.215 | UK        | London     | 45 yard av.        |      3 |  210 | 1985-04-02T22:45:45.045385 |\n",
            "| 33658     |               85.543 | Australia | Sidney     | Cristmess eve str. |    235 |    3 | 2010-10-10T10:00:00.000000 |\n",
            "| 33854     |                0.010 | Ukraine   | Lutsk      | Soborna str.       |     10 | 5342 | 2008-02-28T23:33:33.000000 |\n",
            "| 33698     |          1000000.000 | USA       | Washington | Columbia str.      |     25 |  222 | 2021-09-29T07:34:01.000143 |\n"
          ]
        }
      ],
      "source": [
        "from datetime import datetime\n",
        "\n",
        "data = [\n",
        "    (11, 22, 11, 12, 20, 8, 6, 28),\n",
        "    (\"Post code\", \"Cost, thouthends USD\", \"Country\", \"City\", \"Street\", \"Build.\", \"App.\", \"Date\"),\n",
        "    (33022, 543.67, 'USA', 'New York', '53rd street', 44, 345, datetime(2020, 1, 30, 11, 45, 33, 654357)),\n",
        "    (33145, 9563214.67555478, 'UK', 'London', '45 yard av.', 3, 210, datetime(1985, 4, 2, 22, 45, 45, 45385)),\n",
        "    (33658, 85543, 'Australia', 'Sidney', 'Cristmess eve str.', 235, 3, datetime(2010, 10, 10, 10)),\n",
        "    (33854, 10, 'Ukraine', 'Lutsk', 'Soborna str.', 10, 5342, datetime(2008, 2, 28, 23, 33, 33)),\n",
        "    (33698, 1000000000.01, 'USA', 'Washington', 'Columbia str.', 25, 222, datetime(2021, 9, 29, 7, 34, 1, 143)),\n",
        "]\n",
        "# print header\n",
        "columns = len((data[0]))\n",
        "\n",
        "for i in range (columns):\n",
        "    print(f\"|{data[1][i]:^{data[0][i]}}\", end = \"\")\n",
        "print(\"|\")\n",
        "\n",
        "print(\"|\", end = \"\" )\n",
        "for i in range (columns - 1):\n",
        "    \n",
        "    print(f\"{'-'*data[0][i]}+\", end = \"\")\n",
        "print(f\"{'-'*data[0][columns-1]}|\") \n",
        "\n",
        "# print data\n",
        "for line in data[2:]:\n",
        "    (a, b, c, d, e, f, g, h) = line\n",
        "    b = b/1000\n",
        "    print(f\"| {a:<{data[0][0]-1}}|{b:>{data[0][1]-1}.3f} | {c:<{data[0][2]-1}}| {d:<{data[0][3]-1}}| {e:<{data[0][4]-1}}|{f:>{data[0][5]-1}} |{g:>{data[0][6]-1}} | {h:%Y-%m-%dT%H:%M:%S.%f} |\") \n"
      ]
    }
  ],
  "metadata": {
    "colab": {
      "collapsed_sections": [
        "LyWSBl0DOxJ8",
        "5qzvb1n_va3D",
        "fRXqCrBOmwAX"
      ],
      "name": "Practice_6.ipynb",
      "provenance": []
    },
    "kernelspec": {
      "display_name": "Python 3.8.10 64-bit",
      "language": "python",
      "name": "python3"
    },
    "language_info": {
      "codemirror_mode": {
        "name": "ipython",
        "version": 3
      },
      "file_extension": ".py",
      "mimetype": "text/x-python",
      "name": "python",
      "nbconvert_exporter": "python",
      "pygments_lexer": "ipython3",
      "version": "3.8.10"
    },
    "vscode": {
      "interpreter": {
        "hash": "916dbcbb3f70747c44a77c7bcd40155683ae19c65e1c03b4aa3499c5328201f1"
      }
    }
  },
  "nbformat": 4,
  "nbformat_minor": 0
}
