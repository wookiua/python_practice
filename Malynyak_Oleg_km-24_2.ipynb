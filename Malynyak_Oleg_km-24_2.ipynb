{
  "cells": [
    {
      "cell_type": "markdown",
      "metadata": {
        "id": "FMqboNwO4rVs"
      },
      "source": [
        "# **Курс \"Програмування на мові Python\"**"
      ]
    },
    {
      "cell_type": "markdown",
      "metadata": {
        "id": "A2T6MigL5Z06"
      },
      "source": [
        "## **Практичне зайняття №6**\n",
        "### Тема: \"Робота з кортежами, множинами та словниками\""
      ]
    },
    {
      "cell_type": "markdown",
      "metadata": {
        "id": "4AV5CN7N4xja"
      },
      "source": [
        "### **Завдання 1 (1,5 бали)**\n",
        "\n",
        "Напишіть програму, яка визначала б, чи можна з літер однієї фрази скласти іншу фразу. Наприклад:\n",
        "\n",
        "\"William Shakespeare\" -> \"A small spark\"\n",
        "\n",
        "Перша фраза містить 11 унікальних літер (хоча деякі повторюються): a, e, h, i, k, l, m, p, r, s та w. Друга фраза містить 7 унікальних літер: a, k, l, m, p, r та s. Кожна з літер другої фрази зустрічається принаймні один раз у першій фразі.\n",
        "\n",
        "1. Обидві фрази повинні вводитись користувачем з клавіатури.\n",
        "\n",
        "2. Скористайтесь властивістю множин у мові програмування Python для виділення колекції унікальних літер.\n",
        "\n",
        "3. У множину не повинні потрапити пробіли, розділові знаки та інші символи, що не є літерами (скористайтесь методом **isalpha()**). Також усі літери мають бути переведені в нижній або верхній регістр (скористайтесь методами **lower()** або **upper()**).\n",
        "\n",
        "4. Зверніть увагу на те, що літери як в першій, так і вдругій фразі можуть повторюватись. Однак множина унікальних літер другої фрази повинна бути підмножиною множини унікальних літер першої фрази.\n",
        "\n",
        "5. У складі змістовного повідомлення програма повинна виводити множину літер першої фрази, множину літер другої фрази, а також змістовне повідомлення про те, чи можна скласти з літер першої фрази другу фразу."
      ]
    },
    {
      "cell_type": "code",
      "execution_count": 1,
      "metadata": {
        "id": "9Mesp1jV4xjb"
      },
      "outputs": [
        {
          "name": "stdout",
          "output_type": "stream",
          "text": [
            "The plural of leters of the first phrase:  {'i', 'l', 'p', 'r', 'a', 'k', 'h', 'e', 'w', 'm', 's'}\n",
            "The plural of leters of the second phrase:  {'a', 'l', 'p', 'r', 'k', 'm', 's'}\n",
            "You can make a second phrase from the letters of the first phrase\n"
          ]
        }
      ],
      "source": [
        "from curses.ascii import isalpha\n",
        "\n",
        "\n",
        "first_phrase = input(\"Enter first phrase: \")\n",
        "second_phrase = input(\"Enter second phrase: \")\n",
        "\n",
        "first_phrase = first_phrase.lower()\n",
        "second_phrase = second_phrase.lower()\n",
        "\n",
        "first_phrase = set(first_phrase)\n",
        "second_phrase = set(second_phrase)\n",
        "\n",
        "set_1 = set()\n",
        "set_2 = set()\n",
        "\n",
        "for i in first_phrase:\n",
        "    if i.isalpha() == True:\n",
        "        set_1.add(i)\n",
        "print(\"The plural of leters of the first phrase: \",set_1)\n",
        "\n",
        "for i in second_phrase:\n",
        "    if i.isalpha() == True:\n",
        "        set_2.add(i)\n",
        "print(\"The plural of leters of the second phrase: \",set_2)  \n",
        "\n",
        "if set_1 >= set_2:\n",
        "    print(\"You can make a second phrase from the letters of the first phrase\")\n",
        "else:\n",
        "    print(\"you can make a second phrase from the letters of the first phrase\")"
      ]
    },
    {
      "cell_type": "markdown",
      "metadata": {
        "id": "y7pQFLvSCkym"
      },
      "source": [
        "### **Завдання 2 (1,5 бали)**\n",
        "\n",
        "У Канаді поштові індекси мають специфічну форму. Вони складаються з трьох символів. Перший символ вказує на провінцію. Другий символ вказує на те, у міській чи у сільській місцевості знаходиться адресат. Якщо у сільській місцевості - це 0. Якщо у міській - будь-яка інша цифра. Провінція позначається великою латинською літерою. Повний перелік провінцій на літер, що їм відповідають, подано у таблиці.\n",
        "\n",
        "Провінція | Перший символ поштового індекса\n",
        "--- | ---\n",
        "Newfoundland | A\n",
        "Nova Scotia | B\n",
        "Prince Edward Island | C\n",
        "New Brunswick | E\n",
        "Quebec | G, H and J\n",
        "Ontario | K, L, M, N and P\n",
        "Manitoba | R\n",
        "Saskatchewan | S\n",
        "Alberta | T\n",
        "British Columbia | V\n",
        "Nunavut | X\n",
        "Northwest Territories | X\n",
        "Yukon | Y\n",
        "\n",
        "Напишіть програму, яка зчитує поштовий індекс, введений користувачем, та виводить у складі змістовного повідомлення провінцію адресата та інформацію про те, у міській чи у сільській місцевості він знаходиться. Наприклад, якщо користувач вводить T2N, програма повинна визначити, що адресат знаходиться у міській місцевості провінції Альберта. Якщо він вводить X0A, адресат знаходиться у сільській місцевості провінції Нанавут або Північних Територій (зверніть увагу на те, що літера X повторюється для двох провінцій). Третя літера для нас неважлива. Зауважте, що літери D, F, I, O, Q, U, W, та Z не позначають жодної з провінцій Канади.\n",
        "\n",
        "1. Скористайтесь словником для збереження усіх провінцій та літер, що їм відповідають.\n",
        "\n",
        "2. Користувач повинен ввести рівно 3 символи. Перший і останній символи мають бути літерами, другий - цифрою. Для перевірки скористайтесь методами **isalpha()** та **isdigit()**. Якщо користувач введе не 3 символи, а більше чи менше, або ж послідовність літер та цифр не буде співпадати з шаблоном, програма має вивести повідомлення про помилку.\n",
        "\n",
        "3. Програма повинна приймати літери як верхнього, так і нижнього регістрів. Однак виводити - лише у верхньому регістрі (скористайтесь методами **lower()** або **upper()**)."
      ]
    },
    {
      "cell_type": "code",
      "execution_count": 2,
      "metadata": {
        "id": "EVY800vg4xjg"
      },
      "outputs": [
        {
          "name": "stdout",
          "output_type": "stream",
          "text": [
            "Province of the addressee: Newfoundland, city.\n"
          ]
        }
      ],
      "source": [
        "post_index = input(\"Enter post index: \")\n",
        "\n",
        "post_index = post_index.upper()\n",
        "\n",
        "if len(post_index) == 3:\n",
        "    \n",
        "    if post_index[0].isalpha() and post_index[1].isdigit() and post_index[2].isalpha():\n",
        "\n",
        "        decoding_index = {'A': 'Newfoundland',\n",
        "                        'B': 'Nova Scotia',\n",
        "                        'C': 'Prince Edward Island',\n",
        "                        'E': 'New Brunswick',\n",
        "                        'G': 'Quebec',\n",
        "                        'H': 'Quebec',\n",
        "                        'J': 'Quebec',\n",
        "                        'K': 'Ontario',\n",
        "                        'L': 'Ontario',\n",
        "                        'M': 'Ontario',\n",
        "                        'N': 'Ontario',\n",
        "                        'P': 'Ontario',\n",
        "                        'R': 'Manitoba',\n",
        "                        'S': 'Saskatchewan',\n",
        "                        'T': 'Alberta',\n",
        "                        'V': 'British Columbia',\n",
        "                        'X': 'Nunavut or Northwest Territories',\n",
        "                        'Y': 'Yukon'}\n",
        "                        \n",
        "        if post_index[0] in decoding_index:\n",
        "            print(\"Province of the addressee:\", decoding_index[post_index[0]] + \", \", end = \"\")\n",
        "\n",
        "            if post_index[1] == \"0\":\n",
        "                print(\"countryside.\")\n",
        "            else:\n",
        "                print(\"city.\")\n",
        "\n",
        "        else:\n",
        "            print(\"There isn't province in Canada with this post index.\")\n",
        "    \n",
        "    else:\n",
        "        print(\"Error: incorect enter\")    \n",
        "else:\n",
        "    print(\"Error: post index must be 3 characters long\")"
      ]
    }
  ],
  "metadata": {
    "colab": {
      "collapsed_sections": [],
      "name": "Practice_5_KM_04_.ipynb",
      "provenance": []
    },
    "kernelspec": {
      "display_name": "Python 3.8.10 64-bit",
      "language": "python",
      "name": "python3"
    },
    "language_info": {
      "codemirror_mode": {
        "name": "ipython",
        "version": 3
      },
      "file_extension": ".py",
      "mimetype": "text/x-python",
      "name": "python",
      "nbconvert_exporter": "python",
      "pygments_lexer": "ipython3",
      "version": "3.8.10"
    },
    "vscode": {
      "interpreter": {
        "hash": "916dbcbb3f70747c44a77c7bcd40155683ae19c65e1c03b4aa3499c5328201f1"
      }
    }
  },
  "nbformat": 4,
  "nbformat_minor": 2
}
