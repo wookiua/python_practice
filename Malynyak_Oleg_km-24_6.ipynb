{
  "cells": [
    {
      "cell_type": "markdown",
      "metadata": {
        "id": "FMqboNwO4rVs"
      },
      "source": [
        "# **Курс \"Програмування на мові Python\"**"
      ]
    },
    {
      "cell_type": "markdown",
      "metadata": {
        "id": "A2T6MigL5Z06"
      },
      "source": [
        "## **Практичне зайняття №10**\n",
        "\n",
        "### Тема: \"Лямбда-функції. Функції вищих порядків\""
      ]
    },
    {
      "cell_type": "markdown",
      "metadata": {
        "id": "cfCdgK2zXm7e"
      },
      "source": [
        "### **Завдання 1 (1 бал)**\n",
        "\n",
        "Продавець роздрібного товару влаштовує розпродаж. Для всіх товарів знижка однакова - 60%. Щоб вивісити нові цінники, продавець хоче скласти таблицю, в якій для кожного товару буде підрахована його нова вартість та сума знижки.\n",
        "\n",
        "Написати програму, яка буде генерувати таку таблицю. Вартість одиниць товарів до розпродажу подано у списку products_list. \n",
        "\n",
        "1. Для підрахунку невідомих значень повинні використовуватись вбудовані функції вищих порядків.\n",
        "\n",
        "2. Вартість з урахуванням знижки та суми знижок для кожного товару повинні зберігатись у двох окремих списках. Порядок товарів у нових списках повинен бути такий самий, як і в списку products_list.\n",
        "\n",
        "3. Кожне підраховане числове значення має бути округлене до сотих.\n",
        "\n",
        "4. Дані повинні виводитись у вигляді:\n",
        "\n",
        "**Discount table:**\n",
        "\n",
        "**15.89 6.36 9.53**\n",
        "\n",
        "**39.99 16.0 23.99**\n",
        "\n",
        "**...**\n",
        "\n",
        "\n",
        "products_list = [15.89, 39.99, 82.10, 135.85, 318.90, 510.00, 799.98]"
      ]
    },
    {
      "cell_type": "code",
      "execution_count": 22,
      "metadata": {
        "id": "ifNX2M7LXm7f"
      },
      "outputs": [
        {
          "name": "stdout",
          "output_type": "stream",
          "text": [
            "Discount table:\n",
            "15.89 6.36 9.53\n",
            "39.99 16.0 23.99\n",
            "82.1 32.84 49.26\n",
            "135.85 54.34 81.51\n",
            "318.9 127.56 191.34\n",
            "510.0 204.0 306.0\n",
            "799.98 319.99 479.99\n"
          ]
        }
      ],
      "source": [
        "\n",
        "products_list = [15.89, 39.99, 82.10, 135.85, 318.90, 510.00, 799.98]\n",
        "\n",
        "new_price = list(map(lambda i: round(i*0.4, 2), products_list))\n",
        "\n",
        "discount_price = list(map(lambda i: round(i*0.6, 2), products_list))\n",
        "\n",
        "print(\"Discount table:\")    \n",
        "for i in range (len(products_list)):\n",
        "    print(products_list[i], new_price[i], discount_price[i])\n",
        "\n"
      ]
    },
    {
      "cell_type": "markdown",
      "metadata": {},
      "source": [
        "### **Завдання 2 (2 бали)**\n",
        "\n",
        "Зазвичай рік має 365 днів. Однак у високосні роки додається ще один день - 29 лютого. Правила визначення високосного року такі:\n",
        "\n",
        "- Будь-який рік, що ділиться на 400 - високосний.\n",
        "\n",
        "- З тих років, що залишились, будь-який рік, що ділиться на 100 - **не** високосний.\n",
        "\n",
        "- З тих років, що залишились, будь-який рік, що ділиться на 4 - високосний.\n",
        "\n",
        "- Усі інші роки, що залишились - **не** високосні.\n",
        "\n",
        "1) Створіть функцію, в якій за допомогою вбудованих функцій вищих порядків будуть визначатися високосні роки серед перелічених років у списку years. Створена функція має повертати список високосних років.\n",
        "\n",
        "2) Створіть функцію вищих порядків, яка прийматиме на вхід попередню функцію та визначатиме кількість днів у місяці. Також функція повинна приймати на вхід ще 2 параметри: ціле число від 1 до 12 (місяць) та рік, як ціле чотирицифрове число. Ці значення корисувач має вводити з клавіатури. Перевірку введених даних слід виконувати поза межами функцій."
      ]
    },
    {
      "cell_type": "code",
      "execution_count": 64,
      "metadata": {},
      "outputs": [
        {
          "name": "stdout",
          "output_type": "stream",
          "text": [
            "Days in month: 29\n"
          ]
        }
      ],
      "source": [
        "#please uncomment for 1st solution:\n",
        "#import numpy as np\n",
        "\n",
        "#please uncomment for 1st solution:\n",
        "#years = np.arange(1900, 2020+1, 1)\n",
        "\n",
        "def rule_of_leap_year(year):\n",
        "    if year % 400 == 0:\n",
        "        return True\n",
        "    elif year % 100 == 0:\n",
        "        return False\n",
        "    elif year % 4 == 0:\n",
        "        return True\n",
        "    else:\n",
        "        return False    \n",
        "#please uncomment for 1st solution:\n",
        "#leap_year = list(filter(lambda i: rule_of_leap_year(i), years))\n",
        "\n",
        "def days_in_month(month, year, function):\n",
        "\n",
        "    if month % 2 == 1 and month < 8:\n",
        "        days = 31\n",
        "    elif month % 2 == 1 and month > 7:\n",
        "        days = 30    \n",
        "    elif month % 2 == 0 and month < 8 and month != 2:\n",
        "        days = 30\n",
        "    elif month % 2 == 0 and month > 7:\n",
        "        days = 31\n",
        "    else:  \n",
        "        if function(year) == True:\n",
        "            days = 29\n",
        "        else:\n",
        "            days = 28\n",
        "\n",
        "    return days\n",
        "\n",
        "try:\n",
        "    month = int(input(\"Input month number: \"))\n",
        "    year = int(input(\"Input year number: \"))\n",
        "except:\n",
        "    raise ValueError(\"Incorect input\")\n",
        "else:\n",
        "    if month > 12 or month < 1:\n",
        "        print(\"Incorect input, number of month must be > 0 and < 12\")       \n",
        "    elif year < 1000 or year > 9999: \n",
        "        print(\"Incorect input, number of year must be > 0 and < 9999\")\n",
        "    else:    \n",
        "        \n",
        "        result = days_in_month(month, year, rule_of_leap_year)\n",
        "        print(\"Days in month:\", result)\n",
        "\n"
      ]
    }
  ],
  "metadata": {
    "colab": {
      "collapsed_sections": [],
      "name": "Practice_7_KM-01_.ipynb",
      "provenance": []
    },
    "kernelspec": {
      "display_name": "Python 3.8.10 64-bit",
      "language": "python",
      "name": "python3"
    },
    "language_info": {
      "codemirror_mode": {
        "name": "ipython",
        "version": 3
      },
      "file_extension": ".py",
      "mimetype": "text/x-python",
      "name": "python",
      "nbconvert_exporter": "python",
      "pygments_lexer": "ipython3",
      "version": "3.8.10"
    },
    "vscode": {
      "interpreter": {
        "hash": "916dbcbb3f70747c44a77c7bcd40155683ae19c65e1c03b4aa3499c5328201f1"
      }
    }
  },
  "nbformat": 4,
  "nbformat_minor": 0
}
