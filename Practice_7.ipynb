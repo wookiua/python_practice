{
  "cells": [
    {
      "cell_type": "markdown",
      "metadata": {
        "id": "FMqboNwO4rVs"
      },
      "source": [
        "# **Курс \"Програмування на мові Python\"**\n"
      ]
    },
    {
      "cell_type": "markdown",
      "metadata": {
        "id": "A2T6MigL5Z06"
      },
      "source": [
        "## **Практичне зайняття №7**\n",
        "\n",
        "### Тема: \"Робота з рядками. Глибокі копії об'єктів.\""
      ]
    },
    {
      "cell_type": "markdown",
      "metadata": {
        "id": "LyWSBl0DOxJ8"
      },
      "source": [
        "### **1. Робота з рядками**"
      ]
    },
    {
      "cell_type": "markdown",
      "metadata": {
        "id": "uD_xUD86O13C"
      },
      "source": [
        "**Рядок** - це впорядкований набір символів.\n",
        "\n",
        "Символ в цьому визначенні - будь-що, що може бути надруковано на клавіатурі. Це можуть бути літери ('a', 'b', 'c'), цифри ('1', '2', '3') та спеціальні символи (',', '\\', '[', '$').\n",
        "\n",
        "Рядки є незмінюваними. Це означає, що рядок не можна змінити після створення. Зміна рядка фактично означає створення нового рядка.\n",
        "\n",
        "Щоб позначити початок та кінець рядка, використовують одинарні або подвійні лапки. Але в одному рядку не можна використовувати обидва типи лапок одночасно.\n",
        "\n",
        "Можливість використовувати лапки двох типів стає у нагоді, коли сам рядок повинен містити лапки. Якщо рядок повинен містити одинарні лапки, то символами початку та закінчення рядка можуть слугувати подвійні лапки, та навпаки. Наприклад:"
      ]
    },
    {
      "cell_type": "code",
      "execution_count": null,
      "metadata": {
        "id": "Ev5bWcILeZ9u"
      },
      "outputs": [],
      "source": [
        "print(\"It's the day\")\n",
        "print('She said \"hello\" to everyone')"
      ]
    },
    {
      "cell_type": "markdown",
      "metadata": {
        "id": "jwX6rJx7fI6U"
      },
      "source": [
        "Також можна використовувати три пари лапок, щоб мати змогу розбивати текст на кілька рядків. Наприклад:"
      ]
    },
    {
      "cell_type": "code",
      "execution_count": null,
      "metadata": {
        "id": "jQiKv7KsfJD2"
      },
      "outputs": [],
      "source": [
        "z = \"\"\"\n",
        "Hello\n",
        "  World\n",
        "\"\"\"\n",
        "print(z)"
      ]
    },
    {
      "cell_type": "markdown",
      "metadata": {
        "id": "xW2MWYrJhFtL"
      },
      "source": [
        "#### Робота з рядками"
      ]
    },
    {
      "cell_type": "markdown",
      "metadata": {
        "id": "G74C5zfAhJHZ"
      },
      "source": [
        "Конкатенацію двох та більше рядків можна зробити за допомогою оператора '**+'**. Зверніть увагу на те, що спосіб задання рядка (кількість лапок) не має значення. Наприклад:"
      ]
    },
    {
      "cell_type": "code",
      "execution_count": null,
      "metadata": {
        "id": "wx99pbewhIjE"
      },
      "outputs": [],
      "source": [
        "string_1 = 'Good'\n",
        "string_2 = \" day\"\n",
        "string_3 = string_1 + string_2\n",
        "print(string_3)\n",
        "print('Hello ' + 'World')"
      ]
    },
    {
      "cell_type": "markdown",
      "metadata": {
        "id": "gTqZz0GMiEFA"
      },
      "source": [
        "Для визначення довжини рядка використовують функцію **len()**."
      ]
    },
    {
      "cell_type": "code",
      "execution_count": null,
      "metadata": {
        "id": "M0WC98xahw23"
      },
      "outputs": [],
      "source": [
        "my_string = 'Hello, world!'\n",
        "print(len(my_string))"
      ]
    },
    {
      "cell_type": "markdown",
      "metadata": {
        "id": "ez7gxybrjCVa"
      },
      "source": [
        "Щоб отримати підмножину символів рядка (зріз), використовують оператор **':'**. Наприклад:"
      ]
    },
    {
      "cell_type": "code",
      "execution_count": null,
      "metadata": {
        "id": "qNkbUEf3i9Nu"
      },
      "outputs": [],
      "source": [
        "my_string = 'Hello, World!'\n",
        "print(my_string[4]) # characters at position 4\n",
        "print(my_string[1:5]) # from position 1 to 5\n",
        "print(my_string[:5]) # from start to position 5\n",
        "print(my_string[2:]) # from position 2 to the end"
      ]
    },
    {
      "cell_type": "markdown",
      "metadata": {
        "id": "ahf0V6DyjixQ"
      },
      "source": [
        "Оператор **'*'** також можна використовувати для рядків. Він дозволяє дублювати поданий рядок певну кількість разів. Наприклад:"
      ]
    },
    {
      "cell_type": "code",
      "execution_count": null,
      "metadata": {
        "id": "_BAF44M8vzEE"
      },
      "outputs": [],
      "source": [
        "print('*' * 10)\n",
        "print('Hi' * 10)"
      ]
    },
    {
      "cell_type": "markdown",
      "metadata": {
        "id": "-8qwfQiQv7Pj"
      },
      "source": [
        "Дуже розповсюдженою є задача розбиття рядка на кілька рядків за певним символом, як-от кома чи пробіл. Це можна зробити за допомогою методу **split()**. Аргументом цього методу є символ (або символи), за якими розбивається рядок. Приклад:"
      ]
    },
    {
      "cell_type": "code",
      "execution_count": null,
      "metadata": {
        "id": "APcsQnPUv3T9"
      },
      "outputs": [],
      "source": [
        "title = 'The Good, The Bad, and the Ugly'\n",
        "print('Source string:', title)\n",
        "print('Split using a space')\n",
        "print(title.split(' '))\n",
        "print('Split using a comma')\n",
        "print(title.split(','))"
      ]
    },
    {
      "cell_type": "markdown",
      "metadata": {
        "id": "A4IHFnEly7gJ"
      },
      "source": [
        "Щоб підрахувати, скільки разів певний рядок зустрічається в іншому рядку, використовується метод **count()**. Приклад:"
      ]
    },
    {
      "cell_type": "code",
      "execution_count": null,
      "metadata": {
        "id": "_4BV4lQly6AU"
      },
      "outputs": [],
      "source": [
        "my_string = 'Count, the number     of spaces'\n",
        "print(\"my_string.count(' '):\", my_string.count(' '))"
      ]
    },
    {
      "cell_type": "markdown",
      "metadata": {
        "id": "DSzIibUazuVz"
      },
      "source": [
        "Частину рядка (підрядок) можна замінити іншим рядком за допомогою методу **replace()**. Приклад:"
      ]
    },
    {
      "cell_type": "code",
      "execution_count": null,
      "metadata": {
        "id": "970LVGrTzqi2"
      },
      "outputs": [],
      "source": [
        "welcome_message = 'Hello World!'\n",
        "print(welcome_message.replace(\"Hello\", \"Goodbye\"))"
      ]
    },
    {
      "cell_type": "markdown",
      "metadata": {
        "id": "5YVhuAQ51Qzl"
      },
      "source": [
        "Щоб визначити, чи є рядок підрядком певного іншого рядка, застосовують метод **find()**. Якщо заданого підрядка у рядку немає, метод повертає -1. Інакше він повертає індекс першого символу підрядка у рядку, що перевіряється. Наприклад:"
      ]
    },
    {
      "cell_type": "code",
      "execution_count": null,
      "metadata": {
        "id": "U5TkrUee1N-h"
      },
      "outputs": [],
      "source": [
        "print('Pamela Lyndon Travers'.find('Lyndon'))\n",
        "print('Alan Alexander Milne'.find('Lyndon'))"
      ]
    },
    {
      "cell_type": "markdown",
      "metadata": {
        "id": "FqzHs18P3mTN"
      },
      "source": [
        "Щоб перетворити інші типи даних в рядковий тип, використовують функцію **str()**. Наприклад:"
      ]
    },
    {
      "cell_type": "code",
      "execution_count": null,
      "metadata": {
        "id": "Z4_2oNNq22Xi"
      },
      "outputs": [],
      "source": [
        "msg = 'Hello Lloyd you are ' + str(21)\n",
        "print(msg)"
      ]
    },
    {
      "cell_type": "markdown",
      "metadata": {
        "id": "qb5bjPPD4IGY"
      },
      "source": [
        "Щоб порівняти два рядки між собою, можна використати оператор рівності **'=='** або нерівності **'!='**. Порівняння повертає значення True або False. Зверніть увагу на те, що рядки у Python чутливі до регістру. Наприклад:"
      ]
    },
    {
      "cell_type": "code",
      "execution_count": null,
      "metadata": {
        "id": "wTnd9-R94Dlj"
      },
      "outputs": [],
      "source": [
        "print('James' == 'James')\n",
        "print('James' == 'John')\n",
        "print('James' != 'John')\n",
        "print('James' == 'james')"
      ]
    },
    {
      "cell_type": "markdown",
      "metadata": {
        "id": "3PerswHH5rG7"
      },
      "source": [
        "Приклади роботи інших рядкових методів:"
      ]
    },
    {
      "cell_type": "code",
      "execution_count": null,
      "metadata": {
        "id": "uox-E0qe5zzO"
      },
      "outputs": [],
      "source": [
        "some_string = 'Hello world'\n",
        "print('Testing a String')\n",
        "print('-' * 20)\n",
        "print('some_string:', some_string)\n",
        "print(\"some_string.startswith('H')\",\n",
        "some_string.startswith('H'))\n",
        "print(\"some_string.startswith('h')\",\n",
        "some_string.startswith('h'))\n",
        "print(\"some_string.endswith('d')\", some_string.endswith('d'))\n",
        "print('some_string.istitle()', some_string.istitle())\n",
        "print('some_string.isupper()', some_string.isupper())\n",
        "print('some_string.islower()', some_string.islower())\n",
        "print('some_string.isalpha()', some_string.isalpha())\n",
        "print()\n",
        "print('String conversions')\n",
        "print('-' * 20)\n",
        "print('some_string.upper()', some_string.upper())\n",
        "print('some_string.lower()', some_string.lower())\n",
        "print('some_string.title()', some_string.title())\n",
        "print('some_string.swapcase()', some_string.swapcase())\n",
        "print('String leading, trailing spaces', \" xyz \".strip())"
      ]
    },
    {
      "cell_type": "markdown",
      "metadata": {
        "id": "ZtpjpRvh7PIA"
      },
      "source": [
        "#### Форматування рядків"
      ]
    },
    {
      "cell_type": "markdown",
      "metadata": {
        "id": "mpunUI-0IACO"
      },
      "source": [
        "У мові програмування Python створена зручна система форматування рядків, що може бути корисною для виведення інформації або запису результатів роботи програми.\n",
        "\n",
        "Система форматування рядків використовує спеціальний рядок, який називають **рядком формату** (format string). Він відіграє роль шаблону, що визначає, який вигляд матиме результуючий рядок. Рядок формату може містити **заповнювачі** (placeholders), які буде замінено актуальними значеннями під час форматування результуючого рядка.\n",
        "\n",
        "Існують два стилі форматування рядків: **новий** і **старий** (умовні назви, що зустрічаються у документації Python та подаються на сайті PyFormat)."
      ]
    },
    {
      "cell_type": "markdown",
      "metadata": {},
      "source": [
        "##### Форматування рядків за старим стилем"
      ]
    },
    {
      "cell_type": "markdown",
      "metadata": {},
      "source": [
        "Форматування рядків за старим стилем базується на використанні оператора \"%\".\n",
        "\n",
        "Існує 3 типи заповнювачів, які використовуються для форматування рядків за старим стилем:\n",
        "\n",
        "1. %s - вказує на рядок;\n",
        "\n",
        "2. %d - вказує на ціле число;\n",
        "\n",
        "3. %f - вказує на число з плаваючою комою.\n",
        "\n",
        "Розглянемо найпростіший приклад використання заповнювача %s."
      ]
    },
    {
      "cell_type": "code",
      "execution_count": 1,
      "metadata": {},
      "outputs": [
        {
          "name": "stdout",
          "output_type": "stream",
          "text": [
            "Hello, James!\n"
          ]
        }
      ],
      "source": [
        "name = \"James\"\n",
        "print(\"Hello, %s!\" % name)"
      ]
    },
    {
      "cell_type": "markdown",
      "metadata": {},
      "source": [
        "Приклад використання заповнювача %d:"
      ]
    },
    {
      "cell_type": "code",
      "execution_count": 3,
      "metadata": {},
      "outputs": [
        {
          "name": "stdout",
          "output_type": "stream",
          "text": [
            "Number one: 1. Number two: 2.\n"
          ]
        }
      ],
      "source": [
        "print('Number one: %d. Number two: %d.' % (1, 2))"
      ]
    },
    {
      "cell_type": "markdown",
      "metadata": {},
      "source": [
        "В одному рядку може міститись кілька заповнювачів різних типів:"
      ]
    },
    {
      "cell_type": "code",
      "execution_count": 32,
      "metadata": {},
      "outputs": [
        {
          "name": "stdout",
          "output_type": "stream",
          "text": [
            "The value of pi is 3.141593.\n"
          ]
        }
      ],
      "source": [
        "name = 'pi'\n",
        "value = 3.141592653589793\n",
        "\n",
        "string = 'The value of %s is %f.' % (name, value)\n",
        "print(string)"
      ]
    },
    {
      "cell_type": "markdown",
      "metadata": {},
      "source": [
        "Бачимо, що значення з плаваючою комою автоматично обрізається. Щоб вивести більшу або меншу кількість цифр після коми, заповнювач %f слід записати у вигляді %.nf, де n - кількість цифр після коми. Наприклад:"
      ]
    },
    {
      "cell_type": "code",
      "execution_count": 20,
      "metadata": {},
      "outputs": [
        {
          "name": "stdout",
          "output_type": "stream",
          "text": [
            "The value of pi is 3.142.\n"
          ]
        }
      ],
      "source": [
        "name = 'pi'\n",
        "value = 3.141592653589793\n",
        "\n",
        "string = 'The value of %s is %.3f.' % (name, value)\n",
        "print(string)"
      ]
    },
    {
      "cell_type": "markdown",
      "metadata": {},
      "source": [
        "Також можна вказати довжину рядка у рядку формату. За замовчуванням рядки формату, оформлені за старим стилем, вирівнюються по правому краю. Щоб залишити n позицій для заповнювача, можна оформити заповнювач так: '%ns'. Для вирівнювання по лівому краю перед числом позицій для заповнювача ставиться знак \"-\". У наступному прикладі для заповнювача виділяється 10 позицій."
      ]
    },
    {
      "cell_type": "code",
      "execution_count": 30,
      "metadata": {},
      "outputs": [
        {
          "name": "stdout",
          "output_type": "stream",
          "text": [
            "      test\n",
            "test      \n"
          ]
        }
      ],
      "source": [
        "print('%10s' % ('test')) #align right\n",
        "print('%-10s' % ('test')) #align left"
      ]
    },
    {
      "cell_type": "markdown",
      "metadata": {},
      "source": [
        "##### Форматування рядків за новим стилем"
      ]
    },
    {
      "cell_type": "markdown",
      "metadata": {},
      "source": [
        "Форматування рядків за новим стилем базується на використанні методу **format()**. За допомогою цього методу набір значень може бути застосований до рядка формату. Найпростіший приклад рядка формату з одним заповнювачем (задається двома фігурними дужками):"
      ]
    },
    {
      "cell_type": "code",
      "execution_count": null,
      "metadata": {
        "id": "QsOysdnv51rQ"
      },
      "outputs": [],
      "source": [
        "format_string = 'Hello {}!'\n",
        "print(format_string.format('John'))"
      ]
    },
    {
      "cell_type": "markdown",
      "metadata": {
        "id": "NXAvyQx6MU7P"
      },
      "source": [
        "Рядок формату може містити будь-яку кількість заповнювачів. Приклад рядка формату з двома заповнювачами:"
      ]
    },
    {
      "cell_type": "code",
      "execution_count": null,
      "metadata": {
        "id": "6G0xIzUKMDUg"
      },
      "outputs": [],
      "source": [
        "name = \"Adam\"\n",
        "age = 20\n",
        "print(\"{} is {} years old\".format(name, age))"
      ]
    },
    {
      "cell_type": "markdown",
      "metadata": {
        "id": "lB3tY9rfNVej"
      },
      "source": [
        "За замовчуванням значення прив'язуються до заповнювачів у тому порядку, в якому вони зустрічаються у методі format(). Але це можна змінити за допомогою **індекса**, заданого всередині заповнювача. Ця операція доступна лише для рядків формату, оформлених за новим стилем. Наприклад:"
      ]
    },
    {
      "cell_type": "code",
      "execution_count": null,
      "metadata": {
        "id": "BK8WIGV0OKpo"
      },
      "outputs": [],
      "source": [
        "format_string = \"Hello {1} {0}, you got {2}%\"\n",
        "print(format_string.format('Smith', 'Carol', 75))"
      ]
    },
    {
      "cell_type": "markdown",
      "metadata": {
        "id": "ElEaYFFfOfWi"
      },
      "source": [
        "Альтернативний варіант - використовувати **іменовані значення** для заповнювачів. В цьому випадку у фігурні дужки записуються назви ключів, що відповідають потрібним значенням. Приклад:"
      ]
    },
    {
      "cell_type": "code",
      "execution_count": null,
      "metadata": {
        "id": "So41ye7yOPAZ"
      },
      "outputs": [],
      "source": [
        "format_string = \"{artist} sang {song} in {year}\"\n",
        "print(format_string.format(artist='David Bowie', song='Starman', year=1972))"
      ]
    },
    {
      "cell_type": "markdown",
      "metadata": {
        "id": "uJ8AVbi6RDxU"
      },
      "source": [
        "Також можна вказати вирівнювання та довжину рядка у рядку формату. Наприклад, щоб залишити n позицій для заповнювача, можна оформити заповнювач так: {:n}. У наступному прикладі для заповнювача виділяється 25 позицій."
      ]
    },
    {
      "cell_type": "code",
      "execution_count": null,
      "metadata": {
        "id": "1m1qgRqaP6uT"
      },
      "outputs": [],
      "source": [
        "print('|{:25}|'.format('25 characters width'))"
      ]
    },
    {
      "cell_type": "markdown",
      "metadata": {
        "id": "k19cecACstz_"
      },
      "source": [
        "У межах проміжку, що утворився, можна робити вирівнювання:\n",
        "\n",
        "*   '<' - вирівнювання по лівому краю (стоїть за замовчуванням)\n",
        "*   '>' - вирівнювання по правому краю;\n",
        "*   '^' - вирівнювання по центру (доступне лише для форматування за новим стилем).\n",
        "\n",
        "Приклад:\n",
        "\n"
      ]
    },
    {
      "cell_type": "code",
      "execution_count": null,
      "metadata": {
        "id": "vhNlMc9rq_FZ"
      },
      "outputs": [],
      "source": [
        "print('|{:<25}|'.format('left aligned'))\n",
        "print('|{:>25}|'.format('right aligned'))\n",
        "print('|{:^25}|'.format('centered'))"
      ]
    },
    {
      "cell_type": "markdown",
      "metadata": {
        "id": "5OtwZZ8-txNY"
      },
      "source": [
        "Окрім того, використовуючи двокрапку та кому, можна виділяти тисячі у великих числах:"
      ]
    },
    {
      "cell_type": "code",
      "execution_count": null,
      "metadata": {
        "id": "2o1t80KttqsX"
      },
      "outputs": [],
      "source": [
        "print('{:,}'.format(1234567890))\n",
        "print('{:,}'.format(1234567890.0))"
      ]
    },
    {
      "cell_type": "markdown",
      "metadata": {},
      "source": [
        "##### Використання f-рядків"
      ]
    },
    {
      "cell_type": "markdown",
      "metadata": {},
      "source": [
        "З часом синтаксис форматування рядків було вдосконалено, і, починаючи з версії Python 3.6, форматування за допомогою методу format() було спрощено до f-рядків. Насправді f-рядки та метод format() мають однаковий синтаксис та функціональність. Але запис f-рядків більш компактний. Окрім того, f-рядки працюють швидше, ніж рядки, створені за допомогою методу format() чи символу %.\n",
        "\n",
        "f-рядок починається з символу f або F, що є аналогом виклику методу format(). Приклад:"
      ]
    },
    {
      "cell_type": "code",
      "execution_count": 33,
      "metadata": {},
      "outputs": [
        {
          "name": "stdout",
          "output_type": "stream",
          "text": [
            "Hello, Eric. You are 74.\n"
          ]
        }
      ],
      "source": [
        "name = \"Eric\"\n",
        "age = 74\n",
        "print(f\"Hello, {name}. You are {age}.\")"
      ]
    },
    {
      "cell_type": "markdown",
      "metadata": {},
      "source": [
        "Якщо потрібно вивести кілька рядків, символ f слід вказувати перед кожним з них. Наприклад:"
      ]
    },
    {
      "cell_type": "code",
      "execution_count": 44,
      "metadata": {},
      "outputs": [
        {
          "name": "stdout",
          "output_type": "stream",
          "text": [
            "Hi Eric. You are a comedian. You were in Monty Python.\n"
          ]
        }
      ],
      "source": [
        "name = \"Eric\"\n",
        "profession = \"comedian\"\n",
        "affiliation = \"Monty Python\"\n",
        "message = (\n",
        "    f\"Hi {name}. \"\n",
        "    f\"You are a {profession}. \"\n",
        "    f\"You were in {affiliation}.\"\n",
        "    )\n",
        "print(message)"
      ]
    },
    {
      "cell_type": "markdown",
      "metadata": {
        "id": "5qzvb1n_va3D"
      },
      "source": [
        "#### Байтові рядки"
      ]
    },
    {
      "cell_type": "markdown",
      "metadata": {
        "id": "_ywPSuOIvc93"
      },
      "source": [
        "**Байт** - одиниця зберігання та обробки цифрової інформації, що складається з 8 біт. Будь-яка цифрова інформація (текст, зображення, мелодія тощо) складається з послідовності байтів.\n",
        "\n",
        "До байтових рядків можна застосовувати майже всі методи, що використовуються для звийчайних рядків.\n",
        "\n",
        "Метод **encode()** та функція **bytes()** повертають закодовану версію поданого рядка. Аргуметом в обох випадках є використовуване кодування. У методі encode() кодування UTF-8 стоїть за замовчуванням, а у функції bytes() його потрібно обов'язково прописати."
      ]
    },
    {
      "cell_type": "code",
      "execution_count": null,
      "metadata": {
        "id": "nIn2cTDqkHwK"
      },
      "outputs": [],
      "source": [
        "byte_string_1 = 'Байти'.encode()\n",
        "print(byte_string_1)\n",
        "\n",
        "byte_string_2 = bytes('Байти', 'utf-8')\n",
        "print(byte_string_2)"
      ]
    },
    {
      "cell_type": "markdown",
      "metadata": {
        "id": "FqiAu-mFvF0e"
      },
      "source": [
        "Щоб перетворити байтовий рядок у текст, можна використати метод **decode()** або функцію **str()**. Аргументи прописуються так само, як і у відповідних методів перетворення тексту в рядок."
      ]
    },
    {
      "cell_type": "code",
      "execution_count": null,
      "metadata": {
        "id": "20xzr-IkmoS3"
      },
      "outputs": [],
      "source": [
        "decoded_string_1 = byte_string_1.decode()\n",
        "print(decoded_string_1)\n",
        "\n",
        "decoded_string_2 = str(byte_string_2, 'utf-8')\n",
        "print(decoded_string_2)"
      ]
    },
    {
      "cell_type": "markdown",
      "metadata": {
        "id": "fRXqCrBOmwAX"
      },
      "source": [
        "### **2. Глибокі копії об'єктів**"
      ]
    },
    {
      "cell_type": "markdown",
      "metadata": {
        "id": "tVOQlB0dm0SX"
      },
      "source": [
        "Операція присвоювання насправді не копіює об'єкт, а робить посилання на нього. Наприклад:"
      ]
    },
    {
      "cell_type": "code",
      "execution_count": null,
      "metadata": {
        "id": "XG_s48q5KMV_"
      },
      "outputs": [],
      "source": [
        "list1 = ['a', 'b', 'c']\n",
        "list2 = list1\n",
        "list2.append('d')\n",
        "print(list1)\n",
        "print(list2)"
      ]
    },
    {
      "cell_type": "markdown",
      "metadata": {
        "id": "cb_STE_1NwM-"
      },
      "source": [
        "Для змінюваних колекцій або для колекцій, що містять змінювані елементи, така копія, часто необхідна, щоб її можна було змінити, не змінюючи оригіналу.\n",
        "\n",
        "Копії бувають двох типів: **поверхневі** та **глибокі**.\n",
        "\n",
        "Різниця між поверхневими та глибокими копіями є суттєвою лише для об'єктів, що складаються з інших об'єктів (контейнерів).\n",
        "\n",
        "**Поверхнева копія** створює новий об'єкт, а потім вставляє в нього ***посилання*** на об'єкти, що містяться в оригіналі.\n",
        "\n",
        "**Глибока копія** створює новий об'єкт, а потім рекурсивно вставляє в нього ***копії*** об'єктів, що містяться в оригіналі.\n",
        "\n",
        "**Поверхневу копію** об'єкта повертає метод **copy()**.\n",
        "\n",
        "**Глибоку копію** об'єкта повертає метод **deepcopy()**.\n",
        "\n",
        "Зверніть увагу на те, що перед використанням цих методів треба імпортувати модуль **copy** за допомогою ключового слова **import**."
      ]
    },
    {
      "cell_type": "code",
      "execution_count": null,
      "metadata": {
        "id": "qrexFuatNnpP"
      },
      "outputs": [],
      "source": [
        "import copy\n",
        "\n",
        "test_1 = [1, 2, 3, [1, 2, 3]]\n",
        "test_2 = copy.copy(test_1) \n",
        "print(test_1)\n",
        "print(test_2)\n",
        "print()\n",
        "\n",
        "test_2.append('new_element_1')\n",
        "print(\"Nesting level of 1:\")\n",
        "print(test_1)\n",
        "print(test_2)\n",
        "print()\n",
        "\n",
        "test_2[3].append('new_element_2')\n",
        "print(\"Nesting level of 2:\")\n",
        "print(test_1)\n",
        "print(test_2)"
      ]
    },
    {
      "cell_type": "markdown",
      "metadata": {
        "id": "VjhL1gD8ceox"
      },
      "source": [
        "Бачимо, що **поверхнева копія** об'єкта створює новий об'єкт та зберігає в ньому посилання на елементи оригіналу. Якщо додавати новий елемент до нового об'єкта (test_2), то елемент успішно додасться, а оригінал (test_1) не зміниться. Якщо ж змінити якийсь з елементів, що був взятий з оригінала, то зміниться і новий об'єкт, і оригінал."
      ]
    },
    {
      "cell_type": "code",
      "execution_count": null,
      "metadata": {
        "id": "EcH-WVg3WZ1x"
      },
      "outputs": [],
      "source": [
        "import copy\n",
        "\n",
        "test_1 = [1, 2, 3, [1, 2, 3]]\n",
        "test_2 = copy.deepcopy(test_1) \n",
        "print(test_1)\n",
        "print(test_2)\n",
        "print()\n",
        "\n",
        "test_2.append('new_element_1')\n",
        "print(\"Nesting level of 1:\")\n",
        "print(test_1)\n",
        "print(test_2)\n",
        "print()\n",
        "\n",
        "test_2[3].append('new_element_2')\n",
        "print(\"Nesting level of 2:\")\n",
        "print(test_1)\n",
        "print(test_2)"
      ]
    },
    {
      "cell_type": "markdown",
      "metadata": {
        "id": "MywbTgSheZ8u"
      },
      "source": [
        "Бачимо, що **глибока копія** об'єкта створює новий об'єкт та зберігає в ньому самі елементи оригіналу, виділяючи для них окремі комірки в пам'яті. Глибока копія дозволяє в новому об'єкті змінювати елементи, що були скопійовані з оригінала, не змінюючи останнього."
      ]
    }
  ],
  "metadata": {
    "colab": {
      "collapsed_sections": [
        "LyWSBl0DOxJ8",
        "5qzvb1n_va3D",
        "fRXqCrBOmwAX"
      ],
      "name": "Practice_6.ipynb",
      "provenance": []
    },
    "kernelspec": {
      "display_name": "Python 3.8.10 64-bit",
      "language": "python",
      "name": "python3"
    },
    "language_info": {
      "codemirror_mode": {
        "name": "ipython",
        "version": 3
      },
      "file_extension": ".py",
      "mimetype": "text/x-python",
      "name": "python",
      "nbconvert_exporter": "python",
      "pygments_lexer": "ipython3",
      "version": "3.8.10"
    },
    "vscode": {
      "interpreter": {
        "hash": "916dbcbb3f70747c44a77c7bcd40155683ae19c65e1c03b4aa3499c5328201f1"
      }
    }
  },
  "nbformat": 4,
  "nbformat_minor": 0
}
