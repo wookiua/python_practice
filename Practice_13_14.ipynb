{
  "cells": [
    {
      "cell_type": "markdown",
      "metadata": {
        "id": "FMqboNwO4rVs"
      },
      "source": [
        "# **Курс \"Програмування на мові Python\"**"
      ]
    },
    {
      "cell_type": "markdown",
      "metadata": {
        "id": "A2T6MigL5Z06"
      },
      "source": [
        "## **Практичні зайняття №13-14**\n",
        "\n",
        "### Тема: \"Робота з файлами. Робота зі спеціальними форматами файлів\""
      ]
    },
    {
      "cell_type": "markdown",
      "metadata": {},
      "source": [
        "### **1. Робота з файлами**"
      ]
    },
    {
      "cell_type": "markdown",
      "metadata": {
        "id": "vCvHmWWH3nD8"
      },
      "source": [
        "***Перед початком роботи завантажте усі необхідні файли!***"
      ]
    },
    {
      "cell_type": "markdown",
      "metadata": {
        "id": "rCm_6yJgMd47"
      },
      "source": [
        "Робота з файлами у мовах програмування - звичайне явище. Мова Python надає широкий вибір інструментів для роботи з файлами різних типів.\n",
        "\n",
        "Зчитування текстових файлів та запис текстових даних у файли є достатньо простим та прямолінійним. У мові Python *файловий об'єкт* створюється за допомогою вбудованої функції **open()**. Цей *файловий об'єкт* можна потім використовуватись для зчитування та запису даних у файл. Синтаксис функції open():\n",
        "\n",
        "```\n",
        "file_object = open(file_name, access_mode, buffering)\n",
        "```\n",
        "\n",
        "file_name - шлях до файлу, який буде відкрито.\n",
        "\n",
        "access_mode - режим доступу до файлу (зчитування, запис, додавання даних тощо). Необов'язковий параметр. За замовчуванням режим доступу стоїть read (r) - для зчитування файлу.\n",
        "\n",
        "buffering (буферизація) - ціле число. Якщо значення аргумента дорівнює 0, файл відкривається без буферизації. Якщо 1 - з порядковою буферизацією. Більше одного - процес буферизації буде виконуватись із вказаним розміром буфера (у байтах). Менше одного - розмір буфера буде дорівнювати системному.\n",
        "\n",
        "Повний перелік можливих режимів доступу подано у таблиці:\n",
        "\n",
        "Mode | Description\n",
        "--- | ---\n",
        "r | Opens a file for reading only. The file pointer is placed at the beginning of the file. This is the default mode\n",
        "rb | Opens a file for reading only in binary format. The file pointer is placed at the beginning of the file. This is the default mode\n",
        "r+ | Opens a file for both reading and writing. The file pointer placed at the beginning of the file\n",
        "rb+ | Opens a file for both reading and writing in binary format. The file pointer placed at the beginning of the file\n",
        "w | Opens a file for writing only. Overwrites the file if the file exists. If the file does not exist, creates a new file for writing\n",
        "wb | Opens a file for writing only in binary format. Overwrites the file if the file exists. If the file does not exist, creates a new file for writing\n",
        "w+ | Opens a file for both writing and reading. Overwrites the existing file if the file exists. If the file does not exist, creates a new file for reading and writing\n",
        "wb+ | Opens a file for both writing and reading in binary format. Overwrites the existing file if the file exists. If the file does not exist, creates a new file for reading and writing\n",
        "a | Opens a file for appending. The file pointer is at the end of the file if the file exists. That is, the file is in the append mode. If the file does not exist, it creates a new file for writing\n",
        "ab | Opens a file for appending in binary format. The file pointer is at the end of the file if the file exists. That is, the file is in the append mode. If the file does not exist, it creates a new file for writing\n",
        "a+ | Opens a file for both appending and reading. The file pointer is at the end of the file if the file exists. The file opens in the append mode. If the file does not exist, it creates a new file for reading and writing\n",
        "ab+ | Opens a file for both appending and reading in binary format. The file pointer is at the end of the file if the file exists. The file opens in the append mode. If the file does not exist, it creates a new file for reading and writing\n",
        "\n"
      ]
    },
    {
      "cell_type": "markdown",
      "metadata": {
        "id": "Un8rdjkhaYny"
      },
      "source": [
        "Сам по собі файловий об'єкт має кілька корисних атрибутів:\n",
        "\n",
        "- **file.closed** - повертає True, якщо файл було закрито;\n",
        "\n",
        "- **file.mode** - повертає режим доступу, з яким файл було відкрито;\n",
        "\n",
        "- **file.name** - повертає назву файлу.\n",
        "\n",
        "Метод **file.close()** призначений для того, щоб закрити файл після його використання. Виклик цього методу призведе до видалення усієї незаписаної у файл інформації та закриття посилання файлового об'єкта до самого файлу. Закривати файл після використання дуже важливо, оскільки кількість посилань, які програма може зберігати одночасно, обмежена.\n",
        "\n",
        "Приклад:"
      ]
    },
    {
      "cell_type": "code",
      "execution_count": 3,
      "metadata": {
        "id": "hFDrfoyG89oC"
      },
      "outputs": [
        {
          "name": "stdout",
          "output_type": "stream",
          "text": [
            "file.name: myfile.txt\n",
            "file.closed: False\n",
            "file.mode: r+\n",
            "file.closed now: True\n"
          ]
        }
      ],
      "source": [
        "file = open('myfile.txt', 'r+')\n",
        "print('file.name:', file.name)\n",
        "print('file.closed:', file.closed)\n",
        "print('file.mode:', file.mode)\n",
        "file.close()\n",
        "print('file.closed now:', file.closed)"
      ]
    },
    {
      "cell_type": "markdown",
      "metadata": {
        "id": "E4gcE9N1-tDU"
      },
      "source": [
        "Щоб прочитати дані з файлу, використовують методи read(), readline() та readlines().\n",
        "\n",
        "- Метод **read()** повертає вміст всього файлу у вигляді одного рядка. Цей метод є не дуже ефективним, оскільки зчитує увесь файл відразу. Якщо текстовий файл достатньо великий, зчитувати його краще порядково.\n",
        "\n",
        "- Метод **readline()** зчитує наступний текстовий рядок з файлу. Рядок зчитується аж до символу переносу на новий рядок. Метод зчитує лише один рядок за раз.\n",
        "\n",
        "- Метод **readlines()** повертає список всіх рядків файлу, і кожен елемент списку - це окремий рядок.\n",
        "\n",
        "Важливо звернути увагу на те, що якщо рядок було зчитано за допомогою одного з попередніх трьох методів, вдруге цей сами рядок зчитати вже не можна. Тому, наприклад, метод readlines(), якщо використовувати його вдруге, поверне порожній список.\n",
        "\n",
        "Приклад використання методу readlines(). Спочатку увесь текст з текстового файлу зчитується в програму, а потім виводиться рядок за рядком:"
      ]
    },
    {
      "cell_type": "code",
      "execution_count": 2,
      "metadata": {
        "id": "kcIVz7gGMdOC"
      },
      "outputs": [
        {
          "name": "stdout",
          "output_type": "stream",
          "text": [
            "line 1\n",
            "line 2\n",
            "line 3\n"
          ]
        }
      ],
      "source": [
        "file = open('myfile.txt', 'r')\n",
        "lines = file.readlines()\n",
        "for line in lines:\n",
        "    print(line, end='')\n",
        "file.close()"
      ]
    },
    {
      "cell_type": "markdown",
      "metadata": {
        "id": "1LCdOXboDd4M"
      },
      "source": [
        "Зверніть увагу на те, що за замовчуванням кожен рядок файлу завершується символом переносу рядка. Щоб текст виводився без додаткових порожніх рядків, було змінено значення параметра end у функції print().\n",
        "\n",
        "Насправді у мові Python елементи файлового об'єкта можна безпосередньо ітерувати. На кожній новій ітерації цикл for обробляє один рядок файлу:"
      ]
    },
    {
      "cell_type": "code",
      "execution_count": 4,
      "metadata": {
        "id": "jp_HwN0aDPQM"
      },
      "outputs": [
        {
          "name": "stdout",
          "output_type": "stream",
          "text": [
            "line 1\n",
            "line 2\n",
            "line 3\n"
          ]
        }
      ],
      "source": [
        "file = open('myfile.txt', 'r')\n",
        "for line in file:\n",
        "    print(line, end='')\n",
        "file.close()"
      ]
    },
    {
      "cell_type": "markdown",
      "metadata": {
        "id": "aCRTsahPGEBk"
      },
      "source": [
        "Також елементи файлу можна ітерувати за допомогою генератора списків. На відміну від методу readlines(), такий підхід дає можливість попередньо обробити дані перед збереженням у список.\n",
        "\n",
        "У наступному прикладі усі символи рядка переводяться у верхній регістр:"
      ]
    },
    {
      "cell_type": "code",
      "execution_count": null,
      "metadata": {
        "id": "1j8GsHNBFw3p"
      },
      "outputs": [],
      "source": [
        "file = open('myfile.txt', 'r')\n",
        "lines = [line.upper() for line in file]\n",
        "file.close()\n",
        "print(lines)"
      ]
    },
    {
      "cell_type": "markdown",
      "metadata": {
        "id": "Fh-DhbygHBQh"
      },
      "source": [
        "Щоб записувати рядки у файл, використовується метод **write()**. Під час створення файлового об'єкта необхідно встановити режим доступу, який дозволятиме запис у файл (наприклад, \"w\"). Зверніть увагу на те, що метод write() не додає символу переносу на новий рядок '/n' в кінці рядка. Це треба робити вручну.\n",
        "\n",
        "Приклад запису даних у текстовий файл:"
      ]
    },
    {
      "cell_type": "code",
      "execution_count": 5,
      "metadata": {
        "id": "xS6TZvDhGup3"
      },
      "outputs": [
        {
          "name": "stdout",
          "output_type": "stream",
          "text": [
            "Writing file\n"
          ]
        }
      ],
      "source": [
        "print('Writing file')\n",
        "f = open('my-new-file.txt', 'w')\n",
        "f.write('Hello from Python!!\\n')\n",
        "f.write('Working with files is easy...\\n')\n",
        "f.write('It is cool ...\\n')\n",
        "f.close()"
      ]
    },
    {
      "cell_type": "markdown",
      "metadata": {
        "id": "BI4ic9y6JG-r"
      },
      "source": [
        "Якщо файлу my-new-file.txt не існує, він створюється. Якщо файл існує, він перезаписується.\n",
        "\n",
        "Перевідка вмісту файлу:"
      ]
    },
    {
      "cell_type": "code",
      "execution_count": 6,
      "metadata": {
        "id": "fMOhtll3I-K4"
      },
      "outputs": [
        {
          "name": "stdout",
          "output_type": "stream",
          "text": [
            "Hello from Python!!\n",
            "Working with files is easy...\n",
            "It is cool ...\n"
          ]
        }
      ],
      "source": [
        "file = open('my-new-file.txt', 'r')\n",
        "for line in file:\n",
        "    print(line, end='')\n",
        "file.close()"
      ]
    },
    {
      "cell_type": "markdown",
      "metadata": {
        "id": "jlIGZrNLJ76Y"
      },
      "source": [
        "Щоб спростити процес читання файлу та запису нових даних, можна скористатись інструкцією **with**. Вона відкриває файл перед початком роботи та закриває файл після виконання усіх інструкцій.\n",
        "\n",
        "Приклад:"
      ]
    },
    {
      "cell_type": "code",
      "execution_count": null,
      "metadata": {
        "id": "QXqAhe47JimM"
      },
      "outputs": [],
      "source": [
        "with open('my-new-file.txt', 'r') as f:\n",
        "    lines = f.readlines()\n",
        "    for line in lines:\n",
        "        print(line, end='')"
      ]
    },
    {
      "cell_type": "markdown",
      "metadata": {
        "id": "56S0N_DOOtEz"
      },
      "source": [
        "Іноді може знадобитися прочитати кілька файлів за один запуск. Це можна зробити, відкриваючи кожен файл окремо, зчитуючи рядки та додаючи їх до списку. Однак є й простіший спосіб.\n",
        "\n",
        "Модуль **fileinput** містить функцію **input()**, яка може приймати список файлів та обробляти ці файли, як один файл. Приклад:"
      ]
    },
    {
      "cell_type": "code",
      "execution_count": null,
      "metadata": {
        "colab": {
          "base_uri": "https://localhost:8080/"
        },
        "id": "EtP6Q6qLN2Jw",
        "outputId": "1ed42c35-b5f2-4d47-ac9d-4cca95e6cdc8"
      },
      "outputs": [],
      "source": [
        "import fileinput\n",
        "\n",
        "with fileinput.input(files=('textfile1.txt', 'textfile2.txt')) as f:\n",
        "    for line in f:\n",
        "        print(line, end=' ')"
      ]
    },
    {
      "cell_type": "markdown",
      "metadata": {
        "id": "7kX8Y7J5Whm9"
      },
      "source": [
        "Розглянемо ще кілька функцій модуля fileinput.\n",
        "\n",
        "- **filename()** - повертає назву файлу, який було відкрито.\n",
        "\n",
        "- **lineno()** - повертає номер рядка, що був зчитаний останнім.\n",
        "\n",
        "- **filelineno()** - повертає номер рядка у поточному файлі. До того, як було зчитано перший рядок, повертає значення 0.\n",
        "\n",
        "- **isfirstline()** - булева (двійкова) функція, яка показує, чи є поточний рядок першим рядком у файлі.\n",
        "\n",
        "Приклад застосування цих функцій:"
      ]
    },
    {
      "cell_type": "code",
      "execution_count": null,
      "metadata": {
        "id": "TumAEj3FVZK2"
      },
      "outputs": [],
      "source": [
        "with fileinput.input(files=('file1.txt','file2.txt')) as f:\n",
        "    for line in f:\n",
        "        print(line, end='')\n",
        "        print('f.filename():', f.filename())\n",
        "        print('f.isfirstline():', f.isfirstline())\n",
        "        print('f.lineno():', f.lineno())\n",
        "        print('f.filelineno():', f.filelineno())\n",
        "        print()"
      ]
    },
    {
      "cell_type": "markdown",
      "metadata": {
        "id": "wWiyb6m9mck9"
      },
      "source": [
        "Для перейменуванння файлу можна використати функцію **os.rename()**. Ця функція приймає на вхід два аргументи: поточну назву файлу та нову назву. Вона є частиною модуля os, який містить багато функцій для обробки файлів. Приклад використання функції os.rename():"
      ]
    },
    {
      "cell_type": "code",
      "execution_count": null,
      "metadata": {
        "id": "RbdIn650iIYW"
      },
      "outputs": [],
      "source": [
        "import os\n",
        "\n",
        "os.rename('my-new-file.txt','my-new-file-renamed.txt')"
      ]
    },
    {
      "cell_type": "markdown",
      "metadata": {
        "id": "NRarCyJZoB70"
      },
      "source": [
        "Файл можна видалити за допомогою функції **os.remove()**. Вона видаляє файл за назвою, що вказується в дужках. Приклад:"
      ]
    },
    {
      "cell_type": "code",
      "execution_count": null,
      "metadata": {
        "id": "ZGX1wWfGnxuP"
      },
      "outputs": [],
      "source": [
        "import os\n",
        "\n",
        "os.remove('my-new-file-renamed.txt')"
      ]
    },
    {
      "cell_type": "markdown",
      "metadata": {
        "id": "Kd8CHmVoonfq"
      },
      "source": [
        "У всіх прикладах, які розглядались досі, рядки у файлі зчитувались послідовно, починаючи з першого. Хоча такий підхід є найбільш розповсюдженим, він не єдиний. Можна також використовувати підхід *довільного доступу*.\n",
        "\n",
        "У файлі можна зберігати вказівник (pointer), який показуватиме, на якій позиції ми знаходимось в поточний момент під час зчитування або запису даних. На початку роботи з файлом вказівник стоїть перед першим записом. Після зчитування першого рядка він переміщується на початок другого. Цю ідею проілюстровано нижче:\n",
        "\n",
        "![1.png](data:image/png;base64,iVBORw0KGgoAAAANSUhEUgAAApYAAAG5CAYAAAA04HR0AAAYLWlDQ1BJQ0MgUHJvZmlsZQAAWIWVeQVYVc23/ux9ku7u7u7uEpBOQTkcOo5wSBEMUEQwEREJQUBKSZUSUBBFFEVCBUUEEQVBBUFU8m5Cv9//u//73OcOz+zznjVrrf3OzJpYHAC42AlhYSEwPQChpEiyvZkhv6ubOz/uA4CQPzogCtgIxIgwA1tbK/A/lqWXiC5SBmQ2ff3Pev/fwuDjG0EEALJFsLdPBDEUwbcAQHMSw8iRAGCeI3KhmMiwTbyIYGYyQhAALH4T+29j7k3svY3lt3Qc7Y0QbAwAnppAIPsDQLvpnz+a6I/4oQ1D2hhJPoEkRPUYgnWJAQQfADg7ER3p0ND9m3gOweLe/+HH///x6f3XJ4Hg/xdv92Wr4I0DI8JCCAf+j8Pxv5fQkKg/7xBEKnUA2dx+s8/IuJUF77fcxNQIbiF577ZBMCOCHwX6bOlv4tcBUeZOO/qzxAgjZMwAKwAw8CEYWyIYGUuYNSrYyWAHKxLIW7aIPrw7MNLCcQd7k/fb7/iHo30jTBz+4ABfC6sdnymkkN1/8BW/QFMLBCORBt+KC3B02eYJd0YHOu9GMC2Cn0cEO1ju6I/GBRjt/qNDjrLf5CyM4EU/sqn9tg6KPTTiT79QskTCFgd2BOtHBjiab9uiXH0jXK3+cPPxNTbZ5oDy8SU57XBGIdFlaL9jmxwWYrujj7riG2Jmvz3OqJqIaIc/tv2RSIBtjwPqfRBhl+02f9RSWKSt4zY3NBpYASNgDPhBFFK9wX4QBAKfzTbMIt+2W0wBAZCBP/AFMjuSPxYuWy0k5OkA4sAXBPmCiL92hlutviAaka/9lW4/ZYDfVmv0lkUw+IjgUDQnWhethbZCnvpIVUSrozX+2PHT/Xkr1gRrjDXHmmIl/vIgIqxDkEoGgf9d9o8l5iOmD/Me8wIzhhkGlkirL9LnTYakvz1zBh+2vOx83xeYSP4Xc35gDcYQO9Od3nkj1tN/dNCiCGsVtCFaB+GPcEezojmBDFoZ6YkBWg/pmwoi/U+GUX9Z/DOW/37fJr//7OOOnFaSVmWHhfdf/kZ/tf7txeg/xsgH+bT8tyYqBXUT1YVqR3WjWlANgB91F9WI6kG1buK/kfBhKxL+vM1+i1sw4ifwj478dflp+dX/9nbCDgPy1nyDSN/YyM0FYbQ/7AA50D8gkt8A2ZF9+S1IRFlpfkV5RWR33Nzft7ePBfutfRti7f1H5q0AgPoasn31/CMLXQWgCtkneR/8IxMtR5bLIQCu5xKjyNHbMvTmAwMokXODGXAAXiAExJE+KQJVoAX0gQnYBWyAI3ADe5FRDwChCOsYEA+OgmSQBs6BiyAb5IMiUAYqQR1oAC2gHTwET8Bz8AK8QWJjEsyAObAEViAIwkE0EBPEAfFBIpAUpAipQ7qQCWQF2UNukBfkD5GgKCgeSoLSoHQoG7oKlUO1UBPUDnVDfdAwNA5NQ9+hZRgFU8PMMA8sCsvB6rABbAk7wp6wPxwOx8HH4DNwFlwI34Dr4Xb4CfwCHoNn4B8ogKJCsaIEUDIodZQRygbljvJDkVGHUKmoTFQhqgrVjMz1AGoMNYv6jcaimdD8aBkkPs3RTmgiOhx9CH0KnY0uQ9ejO9ED6HH0HHodQ4PhxkhhNDEWGFeMPyYGk4zJxJRgbmMeICtqErOExWJZsWJYNWRtumGDsAexp7B52GrsPWwfdgL7A4fDceCkcDo4GxwBF4lLxl3G3cDdxfXjJnG/8FR4Prwi3hTvjifhE/GZ+Ap8G74f/wm/QkFPIUKhSWFD4UNxgOIsRTFFM0UvxSTFCiUDpRilDqUjZRDlUcosyirKB5QjlAtUVFSCVBpUdlSBVEeosqhqqB5RjVP9pmaklqQ2ovagjqI+Q11KfY96mHqBhoZGlEafxp0mkuYMTTnNfZpRml+0TLSytBa0PrSHaXNo62n7ab/SUdCJ0BnQ7aWLo8uku0nXSzdLT0EvSm9ET6A/RJ9D30T/iv4HAxODAoMNQyjDKYYKhm6GKUYcoyijCaMP4zHGIsb7jBNMKCYhJiMmIlMSUzHTA6ZJZiyzGLMFcxBzGnMl8zPmORZGFmUWZ5ZYlhyWVpYxVhSrKKsFawjrWdY61pesy2w8bAZsvmwn2arY+tl+snOx67P7sqeyV7O/YF/m4Ocw4QjmOM/RwPGWE80pyWnHGcN5hfMB5ywXM5cWF5ErlauO6zU3zC3Jbc99kLuIu4f7Bw8vjxlPGM9lnvs8s7ysvPq8QbwZvG2803xMfLp8gXwZfHf5PvOz8Bvwh/Bn8XfyzwlwC5gLRAlcFXgmsCIoJugkmChYLfhWiFJIXchPKEOoQ2hOmE/YWjhe+LrwaxEKEXWRAJFLIl0iP0XFRF1ET4g2iE6JsYtZiMWJXRcbEacR1xMPFy8UH5TASqhLBEvkSTyXhCVVJAMkcyR7pWApValAqTypPmmMtIY0SbpQ+pUMtYyBTLTMdZlxWVZZK9lE2QbZr3LCcu5y5+W65NblVeRD5Ivl3ygwKuxSSFRoVviuKKlIVMxRHFSiUTJVOqzUqDSvLKXsq3xFeUiFScVa5YRKh8qaqpoqWbVKdVpNWM1LLVftlTqzuq36KfVHGhgNQ43DGi0avzVVNSM16zS/acloBWtVaE1pi2n7ahdrT+gI6hB0ruqM6fLreukW6I7pCegR9Ar13usL6fvol+h/MpAwCDK4YfDVUN6QbHjb8KeRplGC0T1jlLGZcarxMxNGEyeTbJNRU0FTf9PrpnNmKmYHze6ZY8wtzc+bv7LgsSBalFvM7VLblbCr05La0sEy2/K9laQV2arZGrbeZX3BemS3yG7S7gYbYGNhc8Hmra2YbbjtHTusna1djt1HewX7ePsuByaHfQ4VDkuOho5nHd84iTtFOXU40zl7OJc7/3Qxdkl3GXOVc01wfeLG6Rbo1uiOc3d2L3H/scdkz8U9kx4qHskeLz3FPGM9u/dy7g3Z27qPbh9h300vjJeLV4XXKsGGUEj44W3hnes9RzQiXiLO+Oj7ZPhM++r4pvt+8tPxS/eb8tfxv+A/HaAXkBkwG2gUmB04H2QelB/0M9gmuDR4I8QlpDoUH+oV2kRiJAWTOvfz7o/d3xcmFZYcNhauGX4xfI5sSS6JgCI8IxojmZGrTk+UeNTxqPFo3eic6F8xzjE3YxliSbE9ByQPnDzwKc407tpB9EHiwY54gfij8eMJBglXD0GHvA91HBY6fOzw5BGzI2VHKY8GH32aKJ+YnriY5JLUfIzn2JFjE8fNjl9Ppk0mJ786oXUiPwWdEpjy7KTSycsn11N9Uh+nyadlpq2eIp56fFrhdNbpjTN+Z56dVT175Rz2HOncy/N658vSGdLj0icuWF+oz+DPSM1YvLjvYnemcmb+JcpLUZfGsqyyGi8LXz53eTU7IPtFjmFOdS537sncn3k+ef1X9K9U5fPkp+UvFwQWDF01u1pfKFqYWYQtii76WOxc3HVN/Vp5CWdJWslaKal0rMy+rLNcrby8grvi7HX4etT16RseN55XGlc2VslUXa1mrU6rATVRNZ9rvWpf1lnWddxUv1l1S+RW7m2m26n1UP2B+rmGgIaxRrfGvqZdTR3NWs2378jeKW0RaMlpZWk920bZdqxt427c3R/3wu7Ntvu3T3Ts63hz3/X+YKdd57MHlg8ePTR9eL/LoOvuI51HLd2a3U2P1R83PFF9Ut+j0nP7qcrT289Un9X3qvU2Ptd43tyn3dfWr9ffPmA88HDQYvDJi90v+l46vRx65fFqbMhnaGo4ZHj+dfTrlTdHRjAjqW/p32aOco8WvpN4Vz2mOtY6bjze897h/ZsJ4sTMh4gPq5PHPtJ8zPzE96l8SnGqZdp0+vnnPZ8nZ8JmVmaTvzB8yf0q/vXWN/1vPXOuc5Pz5PmN76cWOBZKF5UXO37Y/hhdCl1a+Zn6i+NX2W/1313LLsufVmJWcatZaxJrzeuW6yMboRsbYQQyYesqgEIq7OcHwPdSAGjcAGBC8jhK2u38a6egoM20AwBnSBaagY+hFFFT6AIMATnr5nCN+FMU/pR6VMzU9DSMtPR0zPTcDAKMUkyazNYs3qyxbBfYqzh6OKe4fnCv8eL52PlFBOQFdYVshL1EIkRTxPLE6ySeSmGkCTJtcvzyBxUGlSSVY1Q61LDqRhqRmkVaPdrfdCn1GPRZDNgNOYw4jdlMmE3pzPBmG+aLFjO73lkOWD20bthdZpNte9ouyT7OIdIx3CnCOcblkGuKW4Z74Z5KjyrPir0l+4q8rhLyvQuIV32Kfcv9qv2bAu4H9gaNBs+HYkmc+6XCNMPNyU4ReyN9o0Kiw2OiYw8cSIg7cjAvvjlh4NDnw+tHaRO5kkSPyR5XSdY8oZtieNIs1S6NfCr3dPeZX+ckznukn77QljGbyXpJK8vjcmz2uZyi3Pq8x1fe5s9fRReyFokXa1yzKHEt9S+LKk+sOHM958a1ytqqu9W9NWO1Czext7huy9ebNLg1hjYdaU6/c7XldGtkm9tdnXt87aD9fcf9+yWdaQ/IDz27dj3S7Obtnnlc/MSlB9tT/dTx6a9n2b16vZPPL/SZ9K323xlIHLR5wffi68vWV6lDTsN8w1OvK9+EjyiNLL6tGw17p/hubezZeP77sAn9Dwwf3k/Wfjz6yXaKb+rL9J3PJ2ccZzlmh79c+ur+Tejb77lP8/MLEotnl6R+0S3brc5ubGzNvxBUA1vBc6hMtCn6B6YU640Txk3hqygiKQ2oRKgZqJdpZmjf0D2nf8DQxtjA1MjcwtLK2s7Wzd7H0cXZylXPXctznbeMr4T/isAFwXNCRcJdIl/FWMX1JUIks6UeSS/Jiso5yB9SqFDsU1pSYVdVV7NRJ2gEaRK13LStdQx0lfVE9JkNYINvhm+MHhrXmGSbHjMLMbe3UN3FZQksP1k9s769O9/mpG20HdHe3sHQUdFJ2JnVBe+y4vrF7Z17355OjwYkGvL3ZXilEo54RxNJPiRfkl+of0hAcGBQUECwbwghdC/Jfb9LmEO4Ddk6wi3SD7kyJ8Qkx545kBF3+WBufF5C/qGCwwVHCo4WJdYnPTs2lYw5IYjEAzE1Ka3oVPvp0TM/z9GeF0pXu2CV4X0xNvPspeKs5su92RM5P/MornDmSxVoXjUrdC4KKD50LaOksvRR2YcKcJ3nhlalSxW5+lTNtdqWuuc3396avv2jAWqkaeJoFrkj36LRati2667tPad294499x07LR5oP5Tp4nqEezTX/fJx05OcnvinHs+0ejl7fz1/2Xer/8JA5KDrC/2XMq/4htiH2V7zvpEc0X7rMOr9zn3MbFz5vcAE7cT6h6+T4x9ffeqdejLd/bl75unswJfP36A5tnnp78YLXotJP2qXZn5p/y5YYV+tWLfamn8p0AlZQkNIBDxEWaBeoL3Qi5hkrAC2AeeAW8CXUnhSMlE+pzpDbU/DTzNH+5juBn0Gw1HGSKZgZk8WHVZ21gUkEgo4ojktuQS4fnI/5SnmTeBz4VcSoBf4JNgklCLsKMIjMiZaKEYUFxH/KFEuuV9KXRot3SeTLUuQE5ebla9ViFbUVFxXalc+pmKmild9rJambq1BofFQM0lLX2tVu1EnUlde97PeNX0vA06DQcMzRhZG68Y3TYJM+UwHzE6Ya5l/scjfZWcJWdZZeVszWD/YnWCjafPT9pYdGbk/fHOociQ5yTh9ca50CXWVdp1yK3R328O8p8/jnKfDXo697/dVeR0kWHpze38ltvuk+3r4CfnN+N8MiA80CaIPGgmuCIkLtSYJkn7v7w8rDQ8jK5GXIpoiE6KMoqmjh2JKY+MPuMSpHeSKR8V/TRg+dP9w5ZFLR48mBic5HzM4LpvMc4LmxHrK/MmPqa/S2k5dPZ10xves+TmZ80zn19I/XxjJ6L/4NPPJpd6swctD2SM573I/5E1d+Za/dBUUUhVxFEtc0y6xKw0oO1KeVVFzvevGWOXvaqYamVqLOv+bybdKbj+qn21kaNJrTr4z0Mrb5ne38t5Ch9b94519D4W74h+9eWz4pPap5LP85+g+Qn/7oOKL5lfkYeKba6Me4+WTAzOEBaHN+d/+P9xmwaoCcJEXyVDpAXC4CMBp5IAQ+wYAGyUAtjQAOGoAeJcOgJnjAGTC+/f8gJDEkxIwAm4k21RFcmkXEASOgAxQDu6BITAPUUPiSG5IhBKhIqgT+gRTwfKwC5wIV8NvUdQoHVQYqhg1jKZHcrSj6Bb0L4wqJgJzHfMOy4K1xCZi7yA5lgKOhKvCfUNyqVj8PQpqCneKCop1JEuqpmKiOkA1Tm1F3UQjSZOHZDqnkNwmBclmzjCwMOQzyjC2MFkzvWMms2BZslllWTvYXNhm2RM5ODhqOe05l7mKuW2513gqeT356Pg6+KMFpATGBDOFdgtjhVtFIkVlRKfFysVDJBQlViS7pbKlSTImsnyyq3Jv5FsVTil6KikqUylPqXSrVqtlq5/UiNcka4VqB+oE6gbp+elbGygbchoBo4/IDbne9KrZGfNDFhG7QiyDrfZbx+1Otblq22Q3YP/NkcZJxtnOJca1wK3HfcVDxtN7b/a+FwQmbwdils9bP0F//4DKwIVgzZCk0J797GF+4Q0RlJGEqDsxPLHNcZ7x+ISmw2FHpRKnj5UmE1O4Tw6knTitflbhPOnCk0yLrImck1ckCmqLBK4dKK0vf3+Ducq65kzd8G25hvRmqCX+Lro9sxN+6Pmo5Qn/0xO9i/1+g6Ov9gy/HfEd/T5+6cPeTzLTU7MRX9vmHn+/tKjwo2xp45fsb4dluxWrVdk19NrQ+rkNs639AwIYQA1YgACQA3rADviCeJCOzH4HGAG/IBZIGXKEoqEsqAV6D1PACvAeOA2+A39B8aOcUadQD9AQWh99EH0LPYsRxRAweZjXWHasCzYL+xrHg/PGlePm8Vr4FPxLCjGKOIo+SinKk5RzVHuouqk1qG/QCNLk0rLTZtFx0hXQi9PfZDBgGGQMYoKZ8pg1mIdYYlk5WVvZvNnx7DUc7pwYzptcRG4W7sc8ibxavD/5bvNHCagKLAveFTohbCvCIjIiWiJGFjeQYJT4KNkqdUk6QsZeVkmOTW5NfkKhTTFXKUGZoGKhqqwmpM6iQaWJ0YK0gQ6si9Oj0cfoLxvMGU4avTHuN+k27TBrNW+2aN7VavnAqs96fPcPW2o7IXstByfkFnPOucZl0HXZXWiPjcdhz7q9U16ChH3eucRXvgx+Vv4nAjoC15DZjg1tJC2H6YWnkAcjhaNiontjlQ/kHsTGkxPGD9sfeZiok9R4XC25KUXv5OM011Ofz5w4p3r+84WSi4GXVC5TZk/l9l5pLagrvFF8vaSyrL6i/cbTqpc1w3Uvbj2qr2k83ezVItU6d7eqPeC+2YM9XeHdqU+uPb3bO9w3P4h5yTIk+Fp6RHlUY0zjPc8HzOT8p7HpZzPNX/K/xc6bLMCL5Uu6Px/+1l8uX6VaI67f3Jp/GOABMxBC1r4V8ANJIB/cBWMQGln1u6FIKAe6D83CrLABHAGXw+MoHtQeVB5qHC2GDkPfweAxLpgyzDrWDduE48WdxP3Gh+DfI+t7gNKaspvKmmqQ2ov6G00iLQftLToHuiX6PAZzhhXGWqYQZinmryz1rElsDuwSHDDHO84urjruIp7LvBf5LiH3kBvIrA4Jz4j8FqMS55dQk3SQCpe+INMkOyHPqGCpeF5pUIVV1UntvPoTTbSWjnaMzk3deX0jgxzDn8bOJg1mHOYHLUYsta2yrX/buNi+svdzWHY67yLq2uhusuexp9neNi85Qi6R0ifBd9E/NOBzUGDw59AQ0tew8PDFiJjI5eiEWI4D9w+GJwgeenHkRKJa0sTx1BNSKV2p+9K+n048y36uNt3qwvTFlEtiWV3ZfrmYvMJ8vYLXhZHFtNdKSw3KRisSbvBW3qv2qaWoq7nlfHutobjJsvl7y+U2/buf2s/e5+nMeEjXdbqb7vHFHt6nZb2Kz9v6zQf6Xzi/HBpyHu59Yzxya1Tg3fGx2ffuE0OT+z5OTZGmp2bsZ6u/zH3jn9OeN/quusC/8GWx+Qd5iXOp4yfh58dfIb/mf0f+fr2sv1yyQrMSsfJwlW7VZbVgdWpNYe3AWsfa/DrPusV61HrBes/6rw3hDduNgxulGwOb8x/hp6S4dXxA1IYAYEY3NhZEAcClA7B2fmNjpXBjY60ISTZGALgXsv3bztZZg5wxuQub6LFATvy/f2P5LyBV2J1iDWa8AAABnWlUWHRYTUw6Y29tLmFkb2JlLnhtcAAAAAAAPHg6eG1wbWV0YSB4bWxuczp4PSJhZG9iZTpuczptZXRhLyIgeDp4bXB0az0iWE1QIENvcmUgNS40LjAiPgogICA8cmRmOlJERiB4bWxuczpyZGY9Imh0dHA6Ly93d3cudzMub3JnLzE5OTkvMDIvMjItcmRmLXN5bnRheC1ucyMiPgogICAgICA8cmRmOkRlc2NyaXB0aW9uIHJkZjphYm91dD0iIgogICAgICAgICAgICB4bWxuczpleGlmPSJodHRwOi8vbnMuYWRvYmUuY29tL2V4aWYvMS4wLyI+CiAgICAgICAgIDxleGlmOlBpeGVsWERpbWVuc2lvbj42NjI8L2V4aWY6UGl4ZWxYRGltZW5zaW9uPgogICAgICAgICA8ZXhpZjpQaXhlbFlEaW1lbnNpb24+NDQxPC9leGlmOlBpeGVsWURpbWVuc2lvbj4KICAgICAgPC9yZGY6RGVzY3JpcHRpb24+CiAgIDwvcmRmOlJERj4KPC94OnhtcG1ldGE+Cme+32MAAEAASURBVHgB7L0HkGVHff/7u/fOnbw572qlVVjlLIEySDISQRhMxthgZEzZGGO/51R+rn89v/KrwmXscijb2C7b1B/zMMEmmiQTFEEkCRAI5Zw3z+7kueF9P79z+86Z2bnnXLF3Z++sumfOPX06/PrXv+7T/T2/ToW6jEUTJRAlECUQJRAlECUQJRAlECVwiBIoHmL8GD1KIEogSiBKIEogSiBKIEogSsAlEIFlrAhRAlECUQJRAlECUQJRAlECHZFABJYdEWMkEiUQJRAlECUQJRAlECUQJRCBZawDUQJRAlECUQJRAlECUQJRAh2RQASWHRFjJBIlECUQJRAlECUQJRAlECUQgWWsA1ECUQJRAlECUQJRAlECUQIdkUAElh0RYyQSJRAlECUQJRAlECUQJRAlEIFlrANRAlECUQJRAlECUQJRAlECHZFABJYdEWMkEiUQJRAlECUQJRAlECUQJRCBZawDUQJRAlECUQJRAlECUQJRAh2RQASWHRFjJBIlECUQJRAlECUQJRAlECUQgWWsA1ECUQJRAlECUQJRAlECUQIdkcBhAZbVatW4MPV63Wq1WtOOJTwHO2Ew3OfboZN284D6gUYIX6lUmukRfmZmJgQ76u7kmbynZZjOJO5BZsiFCxNklQ77s9qnp6c9akiHe7DjEcrrZ6Uf40UJRAlECUQJRAlECSxNCRwWYFkoFIwrC2AEP8JhwvN8e/D3QI2fdFicQhjcsXPND5OOf7TaQ56DPNKy6WSeoQ+ADemEO2kEHjqZXqQVJRAlECUQJRAlECWwNCRwWIBlsVg0LkwaaAQAgl/QcAU3wmLnIk4ALoQNYYJ7iJuOE8KEtIOmjjBHgyHv82XJM7LAIK/5MiuVSs1yCLLthCzK5bJNTEw0SSFz0go8hrJoBoiWKIEogSiBKIEogSiBF4QECgIDyTh0h7IbyOWBC0AQYdPAERZw4yJ+8A9uhA1hgj/PwR7AZBpQeYSj4CfIi7ylDcCS/IcLP9yCXJEdcTHz47rjIf4AMHt7e+ekH8rtEEnH6FECUQJRAlECUQJRAktMAocVWAIwAugD3AStFsCnp6dnjqhC2ODIM1cwAVSG53BnPiXhoNcqTAh7tNzJLyCa/AawyDPu4Rm5pwElduSOtvFQDelAHxPspI8bPOH2QimLQ5VljB8lECUQJRAlECVwNEmg48AyLRwABhegZj6QJFwAJek4aYAEUAkAhjABHEELkASICv74cfEcwFWa7tFgD7JJg8OQ5yAH8pmW60JxDlUWgPnAQ0g/lPPRLP9DlVuMHyUQJRAlECUQJXC0S6DjwBIggwHcBbARACDP+AMMueOOZgugErSYuAFWAg23NH6IjwG87Nmzx+655x7bvXu3HXfccXbSSSfZwMCAxw3pNaIdNbcgz/3799v9999vW7Zs8WtkZMTuuusuW79+vW3bts36+vpcpmmNZhp4HqpA4AMePvvZz9qJJ55op512mj322GP2yCOP2Pbt2+3ss88+1CRi/CiBKIEogSiBKIEogSUogdL/I9NJvgEwAJoAZLBPTU3Zvffea1/72tfspz/9qd1555326KOPOjgZHh62/v7+ZpwQN8QHxGAHbAa/p59+2v7mb/7G/u3f/s3+53/+x/bu3esAa9OmTR6G/ABUCX+0GOTAxZzG2267zf7yL//SweOLX/xie/DBB+33fu/3XE6nnnqqPfPMM/a5z33OZb58+XJbtWqVyy+A+UOVCeXx+c9/3v7qr/7KTjjhBAeT3/ve9+zjH/+4l/WZZ57pZXqo6cT4UQJRAlECUQJRAlECS0sCcyc6doD3AAIDsOMZ4HfDDTfYhz/8YRscHGxq1NBcXnvttfbGN77RAQrDq4AnDPGwB0AZ3CcnJ+0HP/iBA8qNGzfaNddcYwCZ1atXN7kn7NEEKoM8uJM3tIUAdTSDyHlsbMzuu+8+A3ADHh9++GH74he/6BpMgCYaXQya3E6Y0dFR+/KXv2wHDhywtWvXepmiPWV/SwDmVVddZRdeeGEnkoo0ogSiBKIEogSiBKIElpAEOg4sQ94BhsEw1P3kk0+6lvL66693IPjss8+61us//uM/bPPmzbZu3ToHhwCndNxAA6AIcAEcPfDAAw5W3/SmN9nrX/96j8cwOCYA0bQdN2gGuoCx8BwAa/AL8dIgDP4BwekwhMMQP/Cc9g9pBIA7P50QD//gR5wwjA9AxC/QTN8Z6g7xcQ9xsJNXtIhveMMbDG3lMccc0wxLHtKGNIJb4CHkCVqBHjRJI8j28ccft9tvv91OOeUU26ahdzTOTEXg+v73v28/+tGP7LzzznP+oUs+QhlAH7rRRAkcHRLgQzj5GNZnsCU1O9Tv2Tsh9HbqN5nmc3TkfbFykcg3O7Ug6+xQh+6bx0un+MhL59BzQo1cHNNOXvJ46QSNdnLLKOd8XtTHE7XxUyikR0IJOz8873jCr7o/958TB7f5UQh2FJm5SKNDGQugJE0O0AQAQUN55ZVXutYNt3/+53/2+YJo4RiyBYig4QQ8PvXUUw5oGOIGqED3u9/9rv34xz82tGa7du3yeX2AnqGhIdfcAXqIt2/fPgecxx57rA/VwgtD8tAF5KAdBdyOj483QRE8oPl74okn3J+4p59+uvOQBnLBDp+kBV+APeY5QvcVr3iF3xnuJz00e4A8AB+aPeQAD8wTxX/Hjh2eHwD28ccfb1u3bm2CL4a+AyiH/xUrVrh8SC8APfIGT8GgRdy2LZlrCeAmj+QJWqRPms8995zLB40mczMDiAVEIxe0nsxfRcMMLUAjcgaMojFmuP2XfumXbMOGDe5OmtD6zne+Y3fffbcx75PyTJsIKNPSiPalJIG6+gpeMX0jJcY7Bt45nQwmsOhtQkFzxr3HkGfzdfSAHkefzLrPPieE4m++BJBZU6AtgneLXLuFjxZimuO8WLx2ovw6QWNO5hd88Hc0VDUlmUgo+SUCXrQF+BRwnvXC0dsI7sVCIMJTEqjZR8vraO8LDxuwDOCLOwCSO2AIUAUI5A7YAvggZEASBkDDMCsABSAEmAH0vPWtb7WXvOQl9pWvfMXuuOMOB0s333yzg7PXvva1Th/A8/Wvf91BE2liAGnveMc7HJji9t///d8OsvADXAEEX/3qV7vmjrg33nijz12EX3hjmJ6h3WXLlhFljgGsfepTn3KQRX5+8pOfOEh70Yte5ICTOYcMT6NpJY8Ar1e+8pU+TAwo/cIXvuBD+qQF+CMMcyYBbAxf487QMuEAvPgDLAGq0AxgELAXZMgdsIsMCcvFPpPMb0VuLLZhGJ300VZefvnl9s53vtOHtANoRMaE4Rn5M+UAGV199dXO0w9/+EMvU6YgUJbwiRzhmWcANfleuXKl84XQ4DWaKIElLwH6C/UTqvKq26nOoyBtZb3XavWC3g3meEs3WUlGM+RoVUWoVnVNp+IseWEsUgbScm6VpOR+2E07fMDEofLSbjqdyPCh8toOD+3kJ4+PTtBog9d6kcXHs++oulMr6Yd+NVzFnrLc9P5rZhndWlEoijthiamQ+g39HSOwJBxoJtrPJAzuR6fpOLAEZKRNeA7aLkAJdsARYAfAxqpiQAgaPAARw+MMjV900UXGnEqA1V//9V87wEGLCFgCyHFHYwYAZAj23//93x3kAezQ/pHWpz/9adcGvv/973cNGuDvq1/9qsclXbSIgFp4+dCHPuTuVwtAoR0kLpo50mA+I9o7KheGOxrOb3/72w7+tm3b5mEAsmgY/+mf/sl5ghbAjEVLpAsg5Jk7K7uRzznnnOMg70tf+pLPQwX8kX80sp/4xCfs1ltvteOPP97IO2CWfKGxBRgSnysN3NA0AsxJB1CMfMg3C3qgc8YZZ9hZZ53lIJ2V9eeff75ddtllDgY/9rGPuVaY1d3nnnuuoQEGwKPFRHuLZhLgCJBE00lZIj/kQRnysQDfAEvSCfJCZvCZfsYtmiiBpSCBQlHtmjdtmvstht2qzrCg3qVeK+ojrGBT4zXd63q3qzY9ldir1WT/WL+rz6pOdbzJXQriO0QeE6VDNpHQkWeHOjTfdvgghUPlpd10Di03SexD5bUdHtrJTx4f7dCAlzw62fwWitNW00cibzjvOL09fRb9a6LIKUpB1it7Qf2vLm0L3dNXkPKmaL39JXcrOepM1oh4O+FUDgaYCfVsfpaq72Ft5UJhAEK4ADyAm29+85uuLQTsoPUCuAHaWC1+0003uYaNuZgvfelLHUAh3L/4i7/wIXC0eQA3rte85jX25je/2cHn3/3d37m2k7mFv/mbv9kEkX/8x3/swPRXf/VXHcAFnq644gr7lV/5FQe1aOc++MEPelqsrma4HgO4/Pu//3vnC0AWtKsBzBEmAKrXve51rhlFY/eNb3zDF8+gSX33u9/t8xzRFrKKGg0kWkKAHLwDxACjaFOZD/kbv/Ebri182cte5nMVAcwAzd/+7d92MMj8RQAwaQSDbBnChi9Meg4m4BMe8QOMk/Z73/teT5O0AdxhTiQ8suL85JNPtl//9V932QB+0aYCbvG/8sorvewY5oYeBpkG+rgRnrIOIBI/7ABQgGg0UQJLTQK1epUBb9VjhrvVeelVq1YLVplROzFR1zScih3YB6is+LtYrTBKo2B+abBcAFPHF1hPMdb/w1P2Sdt3eGgHqsCMvHTaCRPotbp3gkYr2mn3xUonnWYre55cW8VLu3cgP3X1ZQKC4b1Nl3dRgBO4WShMGNMsiyXtVKPXudxHn1uyvqGy7j3CCSW/SiUOMElogS2rGkNnlEOY9Kg3HQeWaTARAEWQIgAITRzaxKD9YzgaLSVz/8IQKmAIzRzgCcCEAZQEDR/+ADGAHkCG7Xa40KABfJiTiT8aSVaNo43EH8BEXDR5ADc0ovCE9pS0AWTMDURzCF38MGhSMQEc+YN+yB9hAJ0sIuKOG2lBk62U0C6iFWTOJ3nhjkYPYAbIYtgaoI32E3fiMwWAYWjAMxpbNJpoGNEWMtcULSSaUuil5Y2d+FzY0xfgD7kDvJEDfmgkGSZH+wmthx56yPlG1vBMGZAPntGwwitgG17hBRkhTwz0KVMuZA+4nG9IM5oogaUogapVNKI9oyGwfqvWCnpf6jY1WrfR/SZAOSVgOe2Qg3elpqHvujqoonoddS3qU/RXTOZharx8KWb/yPOcJ7fFEuti8ZGXTidKZLFkBq95+WmHl07QyJFboVi2ooPLEJB3GXtypwcrqa+rCyTW9PFY0Zfl5NSMjZWmrDQivx76wbKtWDlkg0O9NjCkFkCazSJ9M+1C8k2aDKWHJI7Ce8eBZZBRGuAEYAKY+uVf/mX7hV/4BQcyLMRBo8ieiAAnQAugimFX5icC9HADgDE/kQUkAC60gvhhoA1YAxytWbPGwRMABqADwAlb7QAOAYHwBeALGjcAE2kC4Ej3Ix/5iIMowgG6AKdsZQQP0CM97FwY7vgDmJNOpebACz+0r+QRWvDLtkBoJxn+hx+Gxj/60Y86YAMkwwMADz5JC6AJfYaYQ34BcwBoAB2ygDZxcIcG+cYdXjD4B0DHnTD4Ex9wiBtp4QZghAc0k4BK0oYOZQAYRb7Y02lgJwx3aBEn2J0B/YT0ccekeXKH+BMl0OUS6CnonTR90M4UbFzaydGRaRvZq05lVEPe06rzzK8s6SNY74DVEzBJL1JHtaGOqUaPIp1nUQAzmucrAYHynG/Sgsv3+dJ9/uHrPkzaOl5n+MjPb2sO2vdJcFrSJrcf62cJmZ0f52POSuuF0simQYxOyF5dod7X5B3lgzCYBPcmv/4u6z0vFHqsR3zX1DZIH6l+TdNe9MF5YKRqE+P7BTD7NCI5YMtWCWAO0jcmcGumqg9UxD5LPiRz1NwPC7AEOGAAFAFM8AyAYfgVcAJQuvTSS30hC5o5FpOg7cIfMPdbv/VbPt8xgEFobtu2zYERIBIghIE+YAl6aMkAmQAdwhMXsBjAGXdAGIYw8AN4DFo3NIN/8id/4uAUf0AWgC0sggnh0vHhAzqEJU34IS5hGc6/+uqrPV/kGXmQP4AxGse//du/dUD8rne9yzWoDJMz5E3+4DXknXwRH0BKemgRSTMAtpAvADKGPCHLEJ+w8AZf0MEdQI0suPCHX9wB3SzUectb3tJcmAM98gUQJR55QHtMetAkfXiBb8Apz6Qf0uQ5miiBpSyBWq2kIW/TiMaU7d0zZuMHpmxqUu1MVe9paUDzq3pspqYPOukomdTvWkrAjneYageVee94atNLWQxHhPe62hYJLyNtSTvLOyPm8/XKB7jPl+JC4fkgOfwfIJ0AYgtxP9+tE+WXT0OvWgfqAHOp5yzKa2TG32fqoUxlmg9IYQ89FzSu7VsJaRSD/s4nzNSqNjNVsUn122NjGs0YH7CVa4Zs+Uq1A9JomgCpIjUoH523jgPLACYAGlwADwzgAoCCG2AN86iGnzkGEDfmWaIRA5AwPw+gw/xLDOCHuIAq6GPH8Ax9hr7RGLJghZXhrKwmPTSEaAUJHxbIAJAC0Aq8ohEk7QBuGTImDv7whiEdnjGkizs8Qo8LYEuaAEzSIjwgF76gTZhAC20l8zoZWmYvzt/93d91mjyTLrQIy5xLeEVGaC8BdmxNBChlyB5ADdALADLQhwdAH3ILeSB9+INneCMdwuMO0CUsi4MIA20AJlpKwgbgiZ348MF82DQohRZpInP4mb+KHpkRN5oogaUoAYa8n3tmyvbtGfF3vFQqW3+vhsXVJtQqGmmZ1ocjM/llaCaStiXV2flCH97BpO1aijI4cjzT7uaghlyNVye4b4cP+otDBQ1tpNOJ7KjNPnRe22Gkjfzkll8naLTBa1F9pqa98P6Gy2NJVMytpp/rUd/Je19Xf8jOtSUt3hPCSWqo3EsaTgecMnVmamLSdk7vtZGxfbbywKCt37BK2sujX9HS8Z4ewQNO0oUCMEFTBjhidTdzJwEvLBRB88XCF4bCAYiXXHKJ/eu//qv9zu/8jruzOpnhZOYq/tEf/ZGx6AYAA6AKABEgyGIYhnA/8IEP+PxAFrxw3CPAkoUobOYNmCIuvIS4VBrSYMEOGkSAHlpDeAmbfTNcf8EFFzjoJR75w2AHbHFBkzwD9pi/ST7+7M/+zLcJYhESYckDQPO6665zrSjgi8VMDI+Tn3/8x390jR/0MJxew/A/Z3IDKAHaADrmZJIXgB3yBsiRPnkjLvyF/AEc4YuwAQjiRjjcuaMBJQ7bObHl0mc+8xmf3wmf5Ac5UF5/+Id/6CvDmV4ALXginUCPMGgtySOr7fEDTJJOGlTyDN/RRAl0jQQYAuO165FGsTCj9wItfK9Njxdt546K7dnJxxqB+qyvJ5mGU00GTWYn4+MtE2o2i0ObD+6jn3ojUniedw9x5zk/r0e64KPJtCMTtWS5Wc6j001y6wSvnaCRK9Q2AuTxAYnOlF9+HchlVwvy1KMe9No6amxUEEFKH4Hwl9vdSBeIKRf/ESbgPaffK/Wpfei3mQMV2zFSscqBmq3fWLLlawnLqGNYzOMRFUcgVeS0VtDU/CxZ03FgCWgIJoAHNGKANwDUY4895hdAiEU0aOsAc8yhxDAEC5hhiyGOgEQDhvYM4MncQmgCJKEHgAFgQf9Vr3qVg6NPfvKTHhetH3SgD0iFBhpJtICAHJ4DCANEsqgFsMRCon/4h39wO5pVtuJBixrAMnEAUvABfejhB7jDHUO+/uAP/sDziwaVCz/SfPnLX+4aPzS0b3vb23wfTNLjmRXbj0qLS3xoAipZVU48wB2aS7bwYdU7C20Yoidd8sWiHsA0eSPvADvmfsInYeATTSnD2Bg0iMiOBTzIkTCk9773vc9B9be+9S0/jxw+8AfkEhd6yIQ7mlPckT/0+EiAFwAwWtq0zLAjX9IhbjRRAl0nAbWGNF8FzZkqanO6qbGCQOW47d01bVM+gr006i1czrbCXSflI8LQ0ii5IyKaJZHoUio/+rcicy+1WAd7QX0//f+MFvvsH9mvHSIGraKh8xVrytZbRvEiEArIdLiqnMqP6TRL2RQEBDvaBgG8XJgSKHYMSQA4AJWAHjRZ+AHMGIZmIU0Aa7ij+WK1OHF4BtAA7tCUEZ+9FdGyATDR+gUAg7YMrSgXQAdgCKACGAFkAV3PaF9K5iwC5Eg7aPbgM6zMJm1AEHxxAfSIy4UhDgYNIWHJL8PIAVjCD2kA5PAP8w5Jj3ShiWHInzmggGdkQX4Iz1AzIBoQRhrwvHPnTqdPXgByyAgDmGToG1AHmIM+vD8qgBpoIkPSgQ9kSPqUCTJBi4obdOEfN+RHeORJnuGbMoA/aFGObPS+bds21/LyUYD2Eg0t2lTmlrJtEnGRFXS50MoCZkkbmUUTJdAtEqhrOyA6ABp4Br1mpgq2e+e4PffUmN5PtBECm3qvD7fp1FvR0Ub9cGc6h347MsnLbydo5LDZUe88fvPyCzOdoNGJTOXxQRp5+ekEjU7kpR0amm2pObIaThf8oU0BD5BBMElN87DZsmxoecE2HbPCVq7u0apxRjGSNRM+71WjJQpEM7RkTceB5XxJAEQCkAiAjDBp8AnoCGFwx85FQfBMwYQ7cXHHEAbjBdd4Jhz++EEXA8BJ84Efz8QjTPDzwPqBT9wAdvgHmiE8/tDAHRPSCs/cQ16hgx23NJ+BLn4AQXhMAzHcA9/QCAY6pActwnABIKEBzcAL7jxjiE887oEHwgcaAeyFsNyhAw0MfAR+eSbue97zHrvhhht8b05AJtrLP//zP3cAypQF5rlioEH8YCdNaMNPNFECXSMBaQ0Y4GIgbGayYDt2HrBdO7RbxJjenypadvktQkPfqbcir6PuGrm3wUg7MsnLbydotMFqx4Lk8ZuXXxjpBI1OZCiPD9LIy08naHQiL23R8FVEyRxMwtN3hv6zpoU9HJaAdnLF6j5bt6nflmlRT4/ApZCL2hntXAOwBJRqm6Klajo+FI4gAA4BPAAgAogAqAWQEwQW/IN7CMsdjSN08AuG5wBOgls6Dv4UImAGOxf+xIEOfiEMz2k33HkmLJpRDM+YEB879LjStLFjAj3SwXAnbjpOCMsdf4BhoIeMMCE8/tjnmxAX2gBp7oTFnSudf/ww0CEMYC+kwz2A0pBWSA8agQ/ih7whG1aOsyUR2la0qmhQ0WgyNM40BXgI6REXA/1oogS6UgK80/qr6gSdffumbcdz4zah+VClItNg1Jb4HL7Zdqgr8xCZihKIEjjiEvB+T8Cxrj2F/GAE9YU1HefKaT1CIr6avFbr0bZEUu6U5d7Tb8PLpVjyPYjEvrr7usApoZeq6TiwDEAsgBMEk9Z8BUCEO/ZgAugIQCb4cQ+AhrD4hzTCM3fCcaXjB20Z4XEPacx/Jj4mAKvkKfklHibED8+BP56hF8Aaz8EvxHMCjR/8Q5jAL17BngaJAD7CBr6xBxPSCLS4wwNhA610WNzSABN7KBficJEP7mma0AhpBbnhz3xQACYb2zNNgS2iGE4P+3QSj3BcmEADe3DDHk2UQHdIQB89Wrk9OlKz3dJUsmhHB7WJNb1Prk+Zbau6g9/IRZRAlEBXSkDfn3W2LWrsBOGbqTs+SXAIPNMHVrTn5ci+CSv2stvKoA0NJ20Nq80BoUvZdHwoPICPIBQARQAVgBnsCJVwwT0NZoiXBh6EC24hrjvM+8GPK02LuKQZeAphiBrCYQ/uuIXnEBe/hUxwJw72dPg0wAs059MgTsgncQM/xA0AEJBJmOAXeAv3dNqEg2ZwI0yafngO/vgFuYRwac3lfP7S9OERbSZzO7GjWQ5x0YCGuIEuz2kT3NNu0R4lcCQlwHyoibG6Pf1kslinzvC3Ts6p1rTPq+ZLlfS+LMa+f53qTua+cUdSsoeedjsyyctvJ2gcek7ap5DHb15+SakTNNrnuHXIPD6ImZefTtBozWGHfejv9K8mQ2aW8+QDFRf1vfTXGgWp1ad1Ok9JayqGbPXafu2HCy5gyyLiLt0Rvo5zDnBJG0AEbgHQ4JcGGrgHoAHQSfsRNsQlTNqP53T4kE6gRVjiBrOQe6CHHxf0gknb8SNsCB/u6TgBDOIXeA60Qjj8sAcT6IZn7ml/aIY8wE+apxAn8MIzYeengTs003R4hlZIK9AIYUIc7hjCcQWQjhvxAZRcGLSXYfgdOoSHbrg8kH4WykPwi/cogSMlgapWcO7aOWb7do9rX0rNKda2QhzL6J0BE/F9Uc+R4i6mGyUQJbBUJOCrwB0ZAh7Vf9IfOhZJ+n7catrSjE3wGRqfHK/Z3t3TdmC/Fvew3ZGC1Rqn/yyVPM/ncxZ5zffpwHMAJNyDSYMYgEraL4QPYbmH8NgDYMGeNmkauKfjpMMRf36aC4WHHuEwadqBvzRYSttD+ADQ0nGdWOMH9xAGJ9JaiOfglqYTeAjxCUN8nkM43NLPpBHiBZrcQ3j8A53gFsJzT9MiXACQxAtyCnRxS5uQTppe2j/aowQOvwRoylXHGaJyKz9agKdLLvrYMRvdW9CJOjpNZ4IPLgFKP9u74ntUsnUILVjSTTRoCHTSKSSXmtEkiYM/nJSgvxuNOVO+R56GyYolTVtR/FoFOlBmyxE6G53qobSLJRFUOIbRiM+VbF9yWJts5TKaIy2B2d7y8HKyWOkc3lx0H3Xv6wCS4B4XcqNxEKtNmzaqxKvA8a8aHZnUzhMje7RX7jjtUtI6LZSz0BYs5NdNbh0fCu+mzEVeogSiBKIE9P2vFl3gTdoA3fShJLBWmFYDro+rer9NaxX4Yw+Y7ds7oikd2t+VBXTeISSyq0ubicaS495Mk+7RZLKRMYs/2W9OI+YCreoQ5MAk/XKvFtTNzO4cwWpyOhtAZMn6rVLcY0VN2u+prLbx0br1D+u88dqI90Mk7BoORaqKVp097VxzKt7FfI8vJEp2xcgqWQezWQHa8aNjzDDZvhkRD4NXXn6RfydMExi0INaZVFoQP4qdF6v8FkuEefWkpik2nNCTaChRsGl6Wd+MrdvcbxuPGVQbJaWN6ixySdfdMOLn4LVDdfpwyKTji3cOB5ORZpRAlECUwCFLAIAHEf1IDw+E0xxKHUWqoahxnekLgCwxhCV/GvR0o+7hmSmjxrwkJFnR3OLpyrRx9G+1qq2+BC4rgErNPWavuoqukjZZZ7CrKpAJIEQVMTq5z57acZ8tWz5kx6xfLe0/oyhKUEc90mkUtd1ITWnPTKPBbABJ0SVuTxnASlqei0MWRyQQJRAlcGQkwChgAqYZERSAFBsVbaA+Pjat9mjAhpepYZFJwtAUJO/8/LsH6sKfCCy7sFAiS1ECUQKdl8DcD3y0AUWrTOtIU63MnJiY8gQBgABOQB4aTQzPRakmaeQr0mgyTF3UHnN9PTr44cAuu//Bu+UvwFcYkH9NWs+qbVi30bYec6w99+xOe+jhR2zThs06VvY0e+Txe+1//39/56dcveddp2rbr0EtghuV5pMheC0WQqXqQ+y6A2TpgHySvxb1yYb2M5oogSiBpS0BgCVtBW1LaJf4WB0drWquZVkrxIdpeA4yAVge5NFlDhFYdlmBRHaiBKIEOiuBpubRFX/86FKjXa/pNChpK0e1byX7zfXoeLWCtAdh7zmfhK9Wn/gJ0ERxmHQE/X0lmxDI/M53brG//fsPWF+/YF+Fc4F7NLQ+Yy960SX28mtfZQ8+8JDd8JWv2UUvvthOOfVkaTnH7e577xI4ZYuyGeuV9rEEaFU601NsL2bSerLXnU6t0nAZQ+plaSrRalYqnGHO1iTJXredlVKkFiUQJbBoEnA0mbRD/gXJvBq1LdNTFRsb0RGyK80Gh/iuXJpfkhFYLlpNiglFCUQJdIME0ESiKWAz9AmdrDMucMmCtLCIrqr5kizYKTUadYamCU+YYpEh8Ckr+lB1zXbtfU5Hsz5jr3n9q+34zWcLBGrrLflt2rTFjj9xmx85yz6vx0h7OTU97teKFcO2fpOObO0VDwKTLNxBEzm8bJBUBB5JT91NrWzTMwK9WsDTx1Go+qtJwxpNlECUwBKXAB+3MmwtVNNCHj52feqMXu+xA3Vtnp4Ay5DL+UPiwb1b7xFYdmvJRL6iBKIEOiMB1w6IFGjNQaIadQ2Dz0zVtSH6tMCdQGVfsiUai3e8ERfQY9jJ7YoDuCtqPibzoZLZmVrfXe61grSexVK/XfNzr7CXXvo6LdBJjkBlk+Pp6Wnr7x2wjRs32urVq51WWXMpJ7T/69TUpE1OaXPkeo9O3eizMQ2HP/bUYzayd79rJdetW2+bBU4HpK0cGRnTcPmEDQ4M6hpysNkZwUQqUQJRAkdCArQrPq1FWw75h6vaGkYpaFsq00Ub3T+lj0+1L6HtEpNLCVxGYHkkalVMM0ogSmDRJACenDVoCgQUNfQ9NVnV3Ept76OV3iy4SRpxNfhqzLkAk2gPHZAqVqWmleQCjoqtYWrNfdTJGZzOg8KhOiMQOt0rrWavAKsWAikumsvbb7/dbrn1JrvgwvPtDW94k4bbte+r4lYr0kL29Vq51GcPPXqPffkrn7Jvfus2HSe5xzWjW7dus6uvutauvvoaWyuQeWBkUkPhgNUp0Zibo9m8RVuUQJTAkpAAc6kdNIYRCBYLqg1h1wm1KlMTGhnRhykHjoTt/gKwXAr5i8ByKZRS5DFKIErgECRwMBDzldc62WpmShPoa31a0T2VAEo16gyDgyZ9myFWamtIvNSbrOKsSWvJkBWay6rilHXOL4ttRkYmdGrPLrmrSZUWom+AeZFabT4xYTt2Pmd79u7yOZWV6ar1Kg6aUYbWa9WKfeELn7MvCVief8H59qKLXmPPPves3Xbr7QKbn7cVK1balVe8zHmTalRAlCU8AsPRRAlECSxdCTAiIkwpxaUsTHJR+8LuDzyqPdFsHD/NLuxRjftSmm8ZgSUlFk1TAsz4Yj0shu5Y3WvjjkviXtKmrr6JH04yvBaJHscf5cWMNDrn8Ny0BYsWKzStTcscJx7Cx1wzxPO3zE8nNbKQEOPNlnZpQdNgqC6ggRR4dKdEDEEcSdSQ3eCHa9rejJwEj7+LJwFvvJUc85m8Rmv4eUYrMkc1l2mKses+aSu1OKZGS6+qTbmxJyWtPot5sLMHpm9uLqDJ6s1yn4CljmPTZEsFn7KPf/JD9vUbblYUakqPXfSiy+zSyy6xUo9Wm5cm5aZBrmqfklccVexSkWGuoj325EN227e+ZluO3Wyv+4U32Bmnn2cHNMGqrvmVt9x4i/34rp/Yi867XEPqy5Su5lsWJsSX6OSZgyp6XoTn75+u3s8/dodjdCC/7eSn0SR0mPmDybXDy8Gxnp9LO3npBB/tpKOXIZP5TvCRmUCHPbNzo1dYH6iMhdMGJJ1KOkbVZrTn7ejuHhvcTINEjzzt7U/SQCm+DndIeqTQ8XQ4A4dILgLLQxTg0RY9OUtkNldJdZ/3WoPWgpM6XYAk4NInIisqXsRLzw9JvzZO/SCHWZLur58EsIann+2e5gEKge00teQFxUVMpfgKoJRhzaZpEggBkzvDGACR4F3kOQRpRo6WbpAA0K8qoDijoWVAJ/V2Tj3xcsNjlltWY7MdEOG8OsgbbQIbHVOrVq1ZaZvWr/fhq3qtZMPaLoQ9MWsaOy9owQ97T/pQlk7cAcD2SPtIX/rkk4/bzp1PW6FnjX3jppvsB3feq3A1u/vHd8t9l4bGR7RStGoDmgM6o30zewdER1g4miiBKIGlKwHvHvhxXNhoaNyuhkXTb2hvZvRN6gDUNSxyx3Dz4E2LO3fbTwSW3VYiR5gfHUqiCWOhwsvulbhR8dHiYPwmN5x5OeSA+p5eWv2nP1VTX6DecSsO310JCRT/fK0Rd2FDh1/twMdYbgUHKCSZbAKJRi79dYY7wQf9NkLNZ7khC22NPSc/B+HK+fEWznZ0PQwSmK1noWRVmmq82ZAYFykl/Z6ZNHWVSqnAAEasJQ1lA1DRRl7y4svs4gteKbqs8CzZqhXrrX+wR1rGGd82iNN+AJRe5fUSOLjUwpwJLeCpakgemgyZ79exkgDQ/v5+u/CCC+20U0/zeVYMm3PV0bBGEyUQJXBUS4D2ZUbTZjQ4ov6HNibpQGivsIXnbhVCbr/brYxHvg6TBFSRvZflTg2m101qcoBWyVdWqOEejABJZccZvZ26UY/mHu7XsKEdUiAnydszx+g5+U/8E7JzQjzvB6URuFsobvDFD3bgKIGRSWieBYH1p1w1+cGCz6yZj5HxTYcgRjP6bLRoOwISoFwqWrxTEaDzKthGwTBixSIdIqC59MU+qijgSGrIMVuOtZOOP03eGqKSv3H+78x+PB1M1nUcpAbbZVddIj2l73tSClAWdK1Zs8Ze8YpX2NqVW13r2VOuCVzqBI7BNQKUZa0i55SfsgbAIrB0ocafKIGjWAJVtTPMw07aFxoMtCw0Qo1MJ1+oXSuBCCy7tmiOEGONOWagoACkuKfBFtXcL34wobInT/KU5lJdYGKSbyvwqSsgCSt7wd+YRkRu3sPLon9AHIYD8Q7Z0Mk3UR8JQzHcsZEamZ4NFkSAW5JvOE+4CkA04dCdnduy80+MhlGaae4TCsEz3o+EBCgzLzdVaFZloylEH+D1IY+hxsuAprPIOY6qzUm1wl4S6OsT8ERDKfCoRACYaC57tL2QzzfWxPyihr+ZMsGJG1QXzhVfu2adrVm7TvMqR214YNi2bz/ZN0gfGx/xhT/95SEHlmycLIWlp52uV3lsR/8ogSiBpSeBghoIdoFQczLH0H55FzbHtfseIrDsvjI5ohxpe78E46VqL0PYiQl3hZE/T8U5gJBQgmno7xtzz5IeVCEJpyuZrqi7ThRJ3JI47ocVqvrnxSoQ5lBNb5ktC2UAk2iLuDeeuWkVb0Fbvrgb/h6O4AqkeCXd6xwE7SqrxNnBpbzFpl+QkfrJaSSk+WW4H3CJ/hbjPm6LP0dIAl5XVTIqELYRYjuhgvaOa8ugaacuUKaK6/VIwJGFOiXr83mQXrdVDegL2JOuoLmWzLdkuFyH5ghIAmjlqXtJgBO34449wS7WMPo3v32z/ecnP6W5lY/ayhXLtfH6swpfs/PPu9TOP3ujQCWVmJN32uI2BooSiBJYwhJgOgzvv5oaGfqOcIVMdXd/0marGjIT70e7BIBBLFjDaPRO1VlAkQ7YXeTgvbJWtlLh6Un5pEL76HfZ3U3P9JpJDy5/BdbXl/eKcgM01vAXEYJw99+U3dOG5iGamo7HAwQDBOiaOTrPQUEjR+rhpRoFWHogEIHQpEJy6krDrVAe0HNjs9rgT0cvO/SQkgNST6jBMHkBjDTylrgSNpojJQFfPKPEKTLqHc9JXUjqXx5fCZhUVdfczKLqSF2ax1UrVtvJ28/QnpTDWiUu4KehasBkQRW4Ko3k0NAKO3bLCbZm5UZ9a/XYUP8y237SGbZ58zbfR3Pl8nX2qle+RsNe03b/fY/bLTffphN5AKPjtmXLMVolPuVAtqQzzKmy05VJr6J5vEb/KIEogaUtAXqP2e4j6TuS3+7PVwSW3V9Gi8phUcCQqwkKAXfqSF3VAkDEb3o08Xc/AUSGFD2MwgEyvddOgUK3pl4MkdF6WQdeczOXfm3a6+znxj/4qejDndBN6LGCfa6Ru6uB5I4Xq498CwjdAZEYDXPqBGcBUIFJgKgWXWgzQj0LQDjA1HNxWRLPgSdxeZRmSigmSZnfBj1oRrOoEnANgMo5AZIqCR+vpkSeR5n4VxDaRp3lTT3QdI/zzrvAhpYN2KmnnK5yFqiUG9UdTX5vb7+dd+6FtnXrFp87OTyw0rYec6K99c2/bCuWr1LK2kxdm6yffto52q9yhT371G7bu2fEJqfHbHC4LPC5xbZsPF7VUCC2oo8wLQB6XvwuqoRjYlECUQKdk4DaJZqmVDc6l/bzaLfmRlyUJymPvLVclMRiIocmgdbQJIEu7QCXWRqNOA4CZQ/3Ge2TNwNYROsowDgpO89cWqWWgDCFwTSrToifOPvvQfV+vkMDgBLYtX6puK5b1BvlS9TlLpDmakeAbTMs9Bp5SEdtujXSY8/NphFNojT5bng0aeo5zWawM3xJPMJxwQ8A1IEnd20FM7jBN7AtcFICwJNLiy78TjjmevrZ09h1uQmgs/EUshO8G6HCYLoizmGv4R1vbUiAZq6qcWiAZV3D17t3jtvjj+yT1lHa6LpOzymqfmcY3zRd1acqgOdzJUVlRvuBcByjzsPhyWYmiipyJkD06iQe5lNqv8penZQjDaRVBmzigD7aeqd1JniPjnXUvnSVQZvSe1Xu09njvQKiJc4KL+mVG9OKc/a6lF3nmFdnyj5Xc1rvJot6/CMng9fotbAE5r1WBwUKr99BHimHPBqpoD+ztR0+fmbi8yLm5acTvOSlAUudSGde1o7oY16efRvLkGn6E2/Z5cDrjdGH72BfzbadtNqGV/OstkvtFnod7z74MPY4BO4+EzWW3VcmC3JEfRMUS5YaqJNMIAauqmBeyYjGNijMHWs4qwbSkfLnTvJjs2eeiiwuYOsSHRGng4hNy07V+WmIe/SA7Gzi3IZJvz1e29Nx0p5p94a9INDFhDPi+fzFBtMOvhSGrJXkJp6bw9VjArRoD13riEqQt4xLNAhHxtE+YmdeJM8AwKYhTvOhfUuP6Mw38BcELWbLE0/IQeHgBSApbaavtijrFeMaHDQbGpYfmk7N+1T+q6wuVomyNRMpDHLygstDD2IVN0Cl1gbqjyVGbNEtutE8bwnwHjCc7DL1KsJbgd5cZUVZ5lSMuvai9DfQF4NpUY7+TPViUh9epR6t1dbm5SVprf1oR18ZLsqqB/Vqr02P652saZP0MqkX9IrxpUJvMqm4Sl6Lfmqq2joHSMWPn571CiZQlxN8qAcc70bZt1f+pJRl2nkNOkEji4fg14l08miQVl6YtmRC25JhgkY8I4i30Vn++LVDJ49Gnj85yc5N3luRl0L7/u3IPo9aXl48/iKVn7fjGQwXvO9oBKBpmV8S4tPn56t9SJomGqnQ72NVJPpNb0d06zID29EsAQnw4nmXogrnSmY5+K79cueFqmoIukZH5u5JdaPaJZAlAZMFQNeYQCTzGx1QTlhdoLI+rUuaE1ZqO64DGC2GAURhuGH3li40D3r2yZ66a7GDvz906j6fU2HIqLRD/glHvvwlEx0WDmEnI4BKwi+GkabSAa1PIxA/2irCedF5r87L2JTN7BsXrtRxgGXN1yz3aWqnjgPk7Oje3iRM821UqYVylnDKyncQFVnx8td9fueD+3y3xcj6CyUNjnF0+ap4Xda+0k3D4iqcXk2JqM7wxoX6O1cqqoktfOaGi09RAlECUQJLXQLNrmypZ+Ro55+OyTsndWJgqho/6sPUxyUG0CXDQBxgEl1Yga8aaVJ0or128ddZyBPaC2+vgCVADHcNdRPG55sBJgFjrJpZFKN0gqaSJANycpDIs3gpCHAxHA9Iq+m5l7mO4hM3ACQCQJ2DdtJXoitffQqDG3S4Fst4WuJH4K6JINBAIk/8tF1MuSatsMtY/PkwuXiFXwFNV12tG5I7ryS6SUoSoEJhNzJBkUvjHIAlrvOBZASXDVl1+FZV/aroyJuSPlZcCa76yr6SOkNHr5I+1PT+hROaKBP+MFQHNzwGe8Mp3qIEogSiBI5GCURguWRKVb1SQyOF/hFlXhiJRXHno+ECIN6doZGcGndAWReorE2NWX1Kq0mZIzktUOM9nOgRiV6SSH6JAIB1MQw9LmAyZAJg7EnLPbGIV9nRCmlrFp/fCW8MnwOCGWoGTAqwOVgDvAVwKi1hTZrY4qDmzy2W8fRJTLwBHj0vPPKcOGvZsCy6yAO8o82cHJO/8qI4tdqQsLS0mdoY23oFMn0bJMVv0HLJAFp0sbn2QmY+0FwoTHR7/hIoqnyY/5jIXidi6OOmqGkNPbrYToh5l9ofS4QpJZlQ/uF5rqM/xZ8ogSiBKIGjUQIRWC6xUm10W841mFDdmRVQ3oEzwlzJCa3anhBgEbgsMPcLTUvo4Ji3GDo97sxRdLVK415XlQjDyvI+bMZREtRlgXf4wPgwthjDf0DDxMz3RLs3LqDM/ESAWphbCcD04XLCos2U8S2KNIeUeY39AqTS0i6KQUuKPJvCVQaQK5cWfLjxOaMKBND0DHrGlQcBElmLzymP2nfTAJYDWmXOvMw+Li0uEX2oeBK6A3Tmmwgq50ukc88FfeAwZxIZl8pMVdCIgF68gj5wivo40uxm/27w6slPw8zVLgfXeI8SiBKIEjh6JRCB5ZIp26SzoqOa0fA1wMJBJcAFrR0Aav8eacE03Ko98WyGIW+5O2pTGLSTkCjiJourOAEnIBr3SPwBaiCYxTQkjyHdRqdcmZywKbFW1+rZ4fUrlD+tbkBLB8vwC/9oLX1egNzRfDJETpghATPd66KBlmlRDLxzubxDinII4NJFzI/cfLoBGSECXwUy5AOF16TcppUPfSRUxwWsh7RSeHjIigPKk+Zl6ofQ0SyyBHzqibYGKmrBDoBypjqm6jZjgzotp6T5tWVNYZik7JqmUdbN52iJEogSiBJ4YUggAsslVM7JEhz9OjDR/EiAIxq9EWknRwW8JkeEawRUADM+zK3M0b/5uLkAF0CGrU/o/6oCNmj+/K5APgSuuwNO+R92AxPwwAWTGPHDs4aKH37kUfuHz37WTj3uBHvX294mRZ6qqmsolT/yWFJYB5PkVVHRVKLFY39JDTFPCFQOrF1jdkByIanDbeYPTYcska7nUXeXMcykPCkrGOTORu0Y8qePhUJVm2Nr65nitFbq9/dbYXCZVQbX+kdFWmMZ51UmYjucv0XmUKoca9UZVbUp26mTcfbt3W3Lly+3lavWaF/KlSpDgf5GXaaEvWgPJ1ORdpRAlECUQBdKIALLLiyUhVjyxcbyqAtcJcs6dMqH5k4WRwQ69usal4ayRyBT2Gq2RwO06RnABagBw7A/JfMW8WCPR3eXXc5uUPAtygIepal/5w3+AGbwB1uaf7h73z6748H7NL2SPQbFFKCyuYmXAhKXiyFoenAugc/xAyN262232DPPPWdvFCAdLjTAmoIeVtMEx2QiZdy9wWwAlmFeqQfFT8ZvaJMlCy8e7XmoQimyf+gBaaHHVcaTWlleXqH1PVpZjsxSJoLLlDAOh1Vlx+b6Bcm9qo+v8Yn99tTTj9iOPWVbPbLWT+DZuPoUbQmk6ReYRrFytrg/qh7wx/ZR0UQJRAlECRzNEojAcomUrisS1Sdx2qCDKOZT6pQOO8BcSoEPFoOEhTjkqQlaQg8nAAYRwtHrNZyTO4QbcdrRWHLaTDh1p9QYmgWs0omyMR/aRfbEZLUsgBAtKYxPBfSqcP3a07EypZ2P2AxaiyJYoAMI9LlrOkP5+M12/S/+op2wcpVOYiZ/okOazLtkD8yKNJGcJc7wMHtbkp6Ojdwr7e3nvvtD+/FP77arX/FqG9q0yQpMFUBriFDEB2dEz2ileW8P2/5AS3MbZ6CvC1C9TAtntD9hTQue6j2sApa7/jNNpr9oNo3szUciwZeMuyl/QWsb+MWdRT+UW33Cevfs0H7ektWadQqpvAjosN2NFxvRIZnJi/xfcAYhcgHtEqukJpmpnur4xaLqMCfmZBtBQsmZM8BLunpUTyamd9u4tuqaqey0ffuGbXx02pYvW62zvldqeuywqpzqFt9L/kGhcvaPgex0Ktovs6aRBNKAZRZp8Qqxbx27N1Q03aPUo/qZYRo1KiOEyFFXDrGiIFE2a8gyPaq7WUF45Wo5H7J8SGcZBl5KLuPWofgYyEunnaYvhxUvs8wMUx+8QFvzCh95vKja5poSws0weFOGWYZp4Vkm+VDKDsR747qMFoR8ynyOeh8aNd+OoQUROZdoJzNYwasi2Yf6mBzHi6xnI3FiFoZfai71hnM6fKsx+fGXN5edj3yuXKM8tTR5FaBlxO7wUOsVzVKRgNc1Kq1O/KhJS1naK2A5qY4qHCsYFrKkM5Su3zS+dFhpEypwRh1PB3c7LwQvTrjLyj6Y9z/2pO0e1xD08mHbP7LTnr7/ISsN9NrmU06w07efbKt1wokDT/W2jzzxnD340H323HOP6sWu2oY1m+ykY0+xrZs3SEtZtv7lQ7ZycMhW9ws00ogKpN72g59Ybdmwzlsu276nHrN9O3ZY7/BaO3H7mbZdAHJs9w77+u3fslsfetgefupZu+GWW2z16tV20eln2TFr1tvo/v12n+Ld98RjNjE+bRtWrbftJxxrxx+/zk89md57wG699yc2uGmD1UbH7eF7fmprNqy1y889x5av0lBnpkkLeqGA+C8UJiX4xpZRHnuhjlJAurRrh1UlF5McptSrVwXk6ZcLAtV0rjX1BAtFXYijw+3WTgN8uHlI6Ae5ozEURmcKq6ZLVLRp+YwWtxXrOgVnwbKZ5Y7pJ9656eNppqqPGm1k3lOeUSx9HGlx1rQ+QiZGf2iDQ8ttterVmjUbNUy+VuuuhvV69gnIKYXGR9Ms1YNtBdUBFgrxweF9kwqzJEBKJ1dyHui0Do6XdgE0pmpV2itlzw+RCrygFTbyeGGmTTaUhnQOL8pPVvHAB7r+bJOThiKzIXWWAeDmvVvenMJvhsnxdnHkYMK2BpX0OZ5p/HjbHLFQw7OMf6oFpNYiIMAxqxKQQl5+6WpCV9UimYRGVn7EB7z4lDLxXGz0l9ySbxsiV/09rfMRqEc+CitKmKMVeAv53k8+ylpxoWhiNhdYkqFMk+efGfmIe85DGUecn8hAKwlQzwSw6pp/V9X8wdroqJXQWvJWMKQdjj9sFb+T7kGDFvaL1Grtseqk3fzdb9std/zAelcMasR90vY++bQ675qtOOYYe91119obLrlK62167NHHHrYPferLdv+D90sRd0DrjCblPmBnnnKOveraa+ycc04RMNxp//gf/2EvPfVkO+eSixXmgH3261+1xwSmVw73W2Vklx3YtdPGBVbPvOAS+8VXvtwKo/vs5m/fbo89+aQDh69+/es2pA3IT9x4jA329Ns3br3FvvHtb9mTe3ZJS9UjTWjZjj1ui/38G15uV5x+oT15YK996DP/ZZPSuPZpysCzDz9sZ555hp12/LFtAMtOCrgFLaYL6Cppcda4QPW9Tz9rBygLNXkF8VtWqwcmyev8WlA/ip0TTSVnWVQlPzqWycmK7d03pvVtkpnUPyUdw5hliup56B+Z1lzXKv59B55TUVS1DemglInSeOr0nOnCXps8sM/2T+yw3SPP6KNmk61dvVlazDXaA18LsKTBLOSomsoVeNU7TVkKtaGV7lGcqgoVXQta9irH8mQZ+kSYzTSH3nFRz5IOuXVClRyVF2AhT/nmfXA2vrGZHG0WuW3ujNGCXUH2Fj6zzrna0zbEmhcEkAUgzzKuRctgF688DR9llwfWKjmF4zLLyRAgI6s+Jm1WRmaI77U/O6GZnMpIPSo5mExKOlDj7u8c5a8RLd6zutpV/nBPMKCeFDDvY1mkopEEIrBcKtWA2q+Oxjc9Z+X3hIZvGR71IVP5sZilmtMKdCqvDHnTGpA+8x+1YKYyVbQHn33Svvadb9mKdavtkgvOtauuebk98cyz9qmvft327N9nP3fhS21QWx995LOfF0i8yU4+6Xi79PKrtEilard/90770m232Lhe5nVbN9g+rXK/56HHbOsKrQjXSz6mNO8XYLztRz+2E47dZFefd7Zt336C3fqju+1/br/F1q1dbj9/6UV27oXn221K8+npp+zCc87V3Lc1GjXeYD+473776Gf/22ak3b34qqvkttZ++N077MY7v2fjQ3WBxzNtv1qQux5/1O5/4mm77PTT7aKLL7UTTzjelmlYsysMdYBhNIGjvU89ad/+5jftSc2x7dEb83A2AABAAElEQVQm6z0qj2RIx1u/rmA396tdXC5KQw0oQ2yqe1Uhw4KORiyo3k5rikSJvULVeSRL8jPEJvnWawxtaxhcH1Q1TUuY1ns4oCkd0iO7e+9QzT+kKgL5u0embHRs1EakJd+w/jjbtOEYGx5aqVOuMtKQV52jH2EHoOR9LTpRNGUATbSXgkd+vGRrOkT3LLUO0giQg14y4ycksuGAdsrSaESWAeYLS2cal4f/LByMXPTnjMlXhMQY1swyCdzIChFARuswzmZ2MirL7AyTnzIoJsNUhNSytHzE7s9Bp8i9mgPG+h2IZTAimYZ5xK1CudY6p2vqz8mv08gWifWqC8wKQrFUGN2ToW0K7RPzponHc0HTsZjuUtfOD75XrT7tSkzjUmT8a+qHVAucRvxpLYEILFvLpqt8vNFTYwKwLApY+FwQQCUdEBtZeqPJS7MIlR5tCHMTWVjS0FrOKP3CYL8Nr1tlV1x2mf3+O99l27duswefetwe2fGM3XLb7fbQU0/ZsoEh++yNN9nGjevs+rf/ol15+Yv1fWh22qmn2j//74/a9+76vl19/wUaRhy0wT4NI9YYCh/Qez2h9UnTGmZcZW+47jX29ldfZ6uXD9iyz3zW/uUT/2kPPPSgbX7j6+z18vvGD++xyq4R+7W3vN1WblyvUyyn7Rsf/og9vmuXtJNvsOte90at5NWQpYbJH3rmCfvBD+6xhx593NasWCusXNccuSH7P97zW3b1+RfagBoVQRBxmKsCUpjDbRpli6ZMu+KvXbPaZrQJfEkLRsrs8ak5qDW+tHM6tsPNZaCfBxpDwx7CH667b14u4nW9O8yvZa4ja9gmdMxmsTCgzkRAs0cfaxmG7qQoUMm3OKUwpc37Z/QhV9eQOBukAxZ8zqZgJhqPcqnf+vuGbKhvuQ1IW1ny+cPEzy6cuoDuqBZpHdizX7NcxJPeb2peQfNA2U1LzOeWb5Z2CAqJIReH3lbwfZll+jRFI8twDG1V85izTF3tXdbrR+xyDrDEW0rlw2/QiOe8gLnAUtlNallrdqdVyFk1qSig1psjk6pknxPEymEP3hasgJFzMKG28VW7lMmtdBM5RACWGlzINL2hG2wRqiZmK3r36XAcJKq9BCQWAZtUMbWruK9aoZ0eNBULQFnQS8dRx8ia6SzMeebDMppsCSzGq5bNQfRtTwK8wKrdfj44YJLK7aCSZhXDPdjd4fD9aBhZb5noiyF/47T0gS85vbRr1q+38zWn8dQtJ2heZN22DK6yS8463278moagNTTer02/d2gLoJdcfqKdvX2rDdc0X03xzj55m522/Xi78cZbbOfTj9v64e3Wo30By/7VXbI+fUX26cU+cfNWu+rCi+2Y1Wtd336ShrnXLVtpB/aN2MSBUetRJz6sdPum6jagjph2ZEKr5x9++gnbr62ZHnjoUfvMx/9L4qtrwcUuq05oGF4sTOzYa73L1vlCn1OOPd5eftkV0rYQWZphhvMWSbT5hSZepOFdu2GjXbPlGJvQ5vFTApOcJy5urQeQxAdHNE0J+EeZxMYEfBWm6mrRRvZO2bNPjWjNF9pLDYNLhlmmrh0XCiV1MqoT0zp44LldD9ujT44pmqajiGyPtPaT4/oI6Rmw5dJMrlm1ydatO0YfKRu0d/8KB50176QdHbZMqlYetscfH7Uf3nW/htt3SRstflXeTN3wE340fSNH4eW0BXVbppF4HHodyUuBdKZ7ABWtXx7/SGYEJMOweA6g1MoA+idzwGlR4ICN7LNM6xRmY2VTUD1QgDyNFtrnLMP0gUpOz1zWnqpZCljENcNoUoZhYVVeva/0ZvPKKEk1RyuNNpIBtVYGcDuFVjDD9CidnFkVyi/4sHUpEh+wDbAHQLL7CB+/BfWl5GNGzzVtJXb6yeqbzthuqzXlqqhIBQHQuvjr0ZHCFV4+TkyLJlMCOdU3M270XEQJ+FYngg41NUpVgYmCTpUpsoclK6Wp7AzHLZahwRpjeyO9yTROGootl6ZtelyLirS5d69eUhvXanXtywhr/XopaTawj49psFs8r9TKa/WZ+gxtdLTabNo7GV5iaUL7BJAGtehhkO1bxjQXTm69Wj1e1cKlHu0l6JvAC0AOCHCiBfVtYNQwlLXIB3A1II3qhDZVH5gZV2MzozmXkzam04juv+deG9NWRNWZCWmtxm2NNH5nnXamHb92oxZEjdpy5WXT2tVadD4qYCkGfegE+SpPR9rABp0S2uKhYVu1cqUNS0a02cBKGkBfvej14UgziwYgozchK+IzT6vZiVzU6lqCIF4K0uqyHyVVjhOpDuwuazOAsi/cqvtxjK1TqzGGrZEBtnqaLo/ZyMhugVJ1RprvWtSZ9n2q42uWHWcrVq+zjes3SyO+ThpLnZ6kOcA1NJoCpKzqFmRonYh8ABX7awesOjBjZ5x6kp199naVqeJJlFXtXFDW7gnTxf2ZNPDMAh2zkalQP7tp641gJCMrCXnm1QEfas1NLDMVJaJ/GqEck0UllwXRdu1qTsA8jSWNZa5MaPdz0kETn2nakH0y9JtFReWbI9e2yi9L8FnJp/wQRxaZRFz6SJG2gXKqNtrLkt5p2qpp9R03fPEOG+OACvUrPWglpHFnxwhGgmp6//mIZ/JMNNkSiMAyWz5d5cscqxqdo7R+xWnNPeTsb/av5HWS1fX5i8ExX2wcs9inS2COyT6sSh7QcJ0GZqUaEj8rdNeQ3mRtzJ7VCnFe6mU6qpBhyT69sDtH9vuBQcbWKdIkTE3vs3FApVaBl/qXq7Hqt1GBwlHO0h7QFi/S1OgsHhvXwomCjtTz2cE6mgdtzqTmzpUBWyzqUbgxgYC92kKorHmXYspqB6a1gnpKw+2n2Huv/3W7+sIX25DYK/XSgCh5TTbqKQ7aE/c/INAxpYNvNM/N56wqbwzlzdEML4aAW6UhZtnKafUa01wBm2FoRrKUa2LU6HnjmdPQh+CH+z5/r8356bnWgI+Qw2wSRSVCSSRFkqTN+1IE+EirVq1lg7WagGF9Rh85WkhTr2gBTaVs1amy6vOQLR9cbYP9q+yk48+xIa0KHxgYlEZcgFJxAJ7ga+p9HlhADNW69iqt7bbhFaN2+qlb7ZIXrRHX0qxI48YiHs4mH/cMEbq1adaJlkHyQ7SM2vBop+SGcoZSWXAxmYOCfTut2Vp+EFvkZIDtwjLMlN7n6Zx02imfpN60TiiPV2LmyU0tmTRr2fmZkNxUrVoaavtAztjxpGgwhSnLLPMRo4wQeo+YYpJlpjVth2HoVgZe+/LqidrgnCJWfrM/YsjKpN4d6R6VInCxIjtPWiMgaU5J2XDnnep7qtoqTGjZt/bSe1dSHFdcKA81AH0OXm+VzxeSewSWS6W09f57h+gaK80LWyWHKc3BmlFFp7LTe7V+dzubS9JiL0UNI+sN1IsmfZlAzYBWve584hn73P98ybaesNpefNZ5dt+uJ+y/b/qKtg8yO/Os06Ul2m/rlw3Ybbd9x6656DLbeMkqaVeK9u0f3mvfvONuW6aVtKecfZHt27Pb6gKU9SGlo05hvxY11AQSmVQ9Lrt6WQmk5A3jBB2vJucfkGaqXx14Rdrc58ZH7e5nHreLhzdpzswyO/+C8+xjH/+8/eiOO+2yk0+1lZvXS3b7bVyLiqbUAK/qq9ik9sac0Zy5yYK0r+WawIKaeGlIM2fJd1ay2dSY/rBMglwuTZgABotG6BaoF70UA0dcUgcWqx5kc5vr205HnkukrQBoDOn8kBYAT3JSfamXtFWQyrquPVALNdWzDFPUe8cWJGg5qvrYKEoTOTSwWsPdKwQoT7O1q7bqNRQE1IcOOyGgWadzKkjjrRTVbTF/iyHd7F5pUHMzB+saAZiWdlIdZY8WCM2MHZDmHp20DgvQNlllzpPPMTl4QbGRxaEZhlvzjGYHZBp12Zrikh0ovc9gK2LjOeOkbC2jZRmtort7O/UxD1i28/qhA8syrOYey/l46NE3McPurQxeEzkyoY4wvSjL5NFI4mbX6fKEPtwzEnFes4tGr6vehwwaeE3kVHrmHpfVWBYb4/KsgUMp6ce06p2uTmjaxrjeUz40VUYMqyNjRtiYe8/Wbol6VoSiyZRAVnlnRoyeiywBvf9gOPRTmm2iTlHDv1ppakOjVt+33yqjY3ppdDqLv1x6WwCgNBrMK+KiX8WPN8kNflh0l7PfsXN6Dy+ef2Hq2ekRBjqE031IWkbt2+ftNGBGX3UV3UfVIO6S9vCpO39ij/zff20btfJ6TNsDjT4xbr/6hjfZemnZNinuu3/+Ovt///O/7H1//Vd29ldOsZKGwR+89wFbodXXv/ya16qjXmV37HnYpsa1pZBO0hHCtOUMVQqUlsVED5NpKtooHaCll36Zto1ZoeHIssBBv87V3r5prX1dm7H//v/6X7Z9/Sb7tXe/26664DK7/86f2kf/6+P2HS0QOlXbGI1p26anH33ETtuyxf4vhR0b1rZJuzXXcs96beWkrA4LwJEWabscyH8LE1YGEM7DNu4hHr0woEK35JK/C15CZZzT5YsGlQBK0wGI7BqScRCvbZNsWKvTN26SGzypU3BCCT1i5fSbhHiBGi2FEJh0DSky0z/iRsYlgThTvakXJfsMU5d2p9CYV1xTb7NmzVZbpa2EevUR09/bbxOqJ04/gCSVO0DS3zvRVYm1ZUqac1wXgNQkDYELnRPvQ3KD6jTV6WmOJ3OIa+VsXttKqEsCUQw5OzAphNfuQ+KYDTMqagdZvAWYZUoD+4oyBMpQKB8EbOXGyMeM5kowVFpTJeGZ1HHzURGVaUUbobJtGrT44OCDrsJCRoy/v4nVf5XBxjhC0xHtNdqwXk4VIx1dxHNeaNNkWJEMj7hRr9D+Yw+jAJWcOaXNxHIsi7GRiDYMacNkl3F4rbIJZSfEO0wXRhfItmMFTV9xmeKmuaQzGrmq6TAP5uOWNXLQq36WxWU1jZ5V1Vbw/g9Jt6nZutlsyDfvIyXvA0WFnptGNweIwLKbSyfNm947MApVGoU/QwuuoRpW5yO3sjo4qfXUeqqBY/iWxooLXxo75gpCQMDPn3Hjq5h7U/Ugf54xuHl42SFDRde/gyBOvdFL5sPh0FBDSUPLMNCmjRvshONPsM0CkY898rCtXrfO3nTttfbmX3itXtNEa/TWN77epteus9vvuMN2PPO0RndLdt2ll9pLLr7ILr/kIlumjnqd5hC+/KVX2jknbXcQW9WQ4lUKwzYbK4YEsjhpR43+1g3r7KUvvsAXN/BFu1rzDt+oFeNj+/ZqA/b7pdhUx6GG4sXnnWsDv/Ee+9rNN9l9Dz5gDz9wv+IUbZv22HzpZZdav+SzYmjAXnvdK2yLticqsIv2KKBWckvaelHPMP4V7AJKArm8EBwXRq+aGjaXI+VC0IA6vBHBr9FgUQbqsOoa9q73afoAgJItj9gYXbIOplFS4THeMyWwgLQoA+ov1TLHNPe1U9n4kZqDSVmVAAIONuhuGuUHreY7lUN4nre6Oo+bLDCAZ8Egrw98UMoPezQ/kwR43/mjUwcUJndVAoFKZNwjoAfQ8PIV+gD8OQCQn8/L8/eUItAzoETtLCATWsTzujCfMxUXQBaTBhuEndT+vbj1aV43xrXdDUCZAF9pyRq84e/AVvcZgVjipenhH02OBCQzN+E+L7g3ye6W2HibfXDd+0LJW87x7ZsntBaPEVi2EEy3OifvBJ2MLhoXNIbamkfH0QgAqThZ0IM2kc3TBcb06ZsATN9RV7kqqReFiBPiNWkAHxpN13CSc71SHoa7Hv1qdJq8XWyAxnAiYUhD8y2rmps4peHnZWqcf04A8DVXvMT2awPzPn0Brl+zxlbqNJvqvj3CVnUbFL9vu+Zau+7iyzQUvV+p1bQB+TKtoF2uRRBJHk455WT7P3/912ylNqDWBE5Nn+yxX3rT6z3JDcwxZJhHCzBO2XacrX/rWyULaZFWLrfqyD47/dhj7Pd/8922e/ceW9M/ZJt0Kk+ftKkXnn6ynXTMJturNMc1jYBzyFcODdpqAcp+aQCO1Yr2915/vexlKSsF5CbY7qWRb8SSZTR07kZsuUxpjNyO8HCSP5pjhOmyxVF5xY0xGtcqKy2BZWOoU3NNCwKVbOGk8wEFMHWXzBvUiBzNIkuAOlYQEC1Je1HkvZPhdUATAvCMhbPIBfI8kgP4BRO0RQA1AKNrKwGbDXCI/5TaB+4BzBGX5xCGeIDDoEHELwA97GkT3NN3wCHxg1YSHgJ4DcARGrgRL+3Pc6CVTifaowS6RQIRWHZLSbTLB21WA7OgIwGjOPhRP1daJq2lNmm2afbP0TY5k7qmZPd5ggKYaBkx3APwmdsGCuCIILOc0a6hzYG+A6GGHRIMxeIHcgJ4MXygZEo0jpoTNqyv7uM0r9G0p6X765QgO7A/UfyhWVWjvVwAcvl6bRmkIxNdyyoyakWVtjSuotMvbd1pxx4r3sW3tneBzrFbNittpSl/QCUaPrZ5WbdeQJO4ClMS7V65DW091o5dtVrOVHH54S7bem24vn6lFj6RMbRN8C9QPCN5lbXo4ngBVU8T+q49UvpkNc9wJAtG7LlBTm5vRHaZKS3c0vRcjnKQlw1JZtrSQqs/BCZ1oclgOEyyqip/RCUP0Sy+BLwzV8GxOwOvTtrgVuJDK5qulUAAgDAYACJ2gCJliz/gLQDHoH3EHTdMAI/cAX8hbAB5aDgDEPQIjZ800AxxGQYn3vz0iZKmEXiDduAD/zTNdFrRHiXQDRKIwLIbSuF58kC/Bu5jBC9ZbZdoMGv9AlZyL7Jae0AarmmBE0DmtIAZmkWGyXWijQNLNCwaIm6CzWZn2QBb83kC1XABMl3LRuICUwAi3csCfNu0Gfkegb+VnO8NKBOYcxBFOgBWAK0aSHej5mkhTmJ0Z8dqaRW1V1By10Icm5IdvnEncW0H4YY+3FVFOIuma/tk1/YvanElGIVDm0Bg0ta8GOcbF54BeeSDNJGJZnFzHKJ6Cz3j3ggPKAX4QVP/mQYeMOQTA/pgaNv7JNlJT4+JDHWHrhZk1KU1KVBeArh1rS4u6Mg+K0t+aC7VgRBPIb28ddOz/8afxZaAysurnOoC26cEcEnHjzvztZjkH013SiCAP0AZBmAIkOQa1IgAoA3tJMPTgDiAJX4AOLSKXBjcoBHiB+AX6Hug1E8aAAZ7f7/m7IkONAMd3IJ2FFqE5UJzSnrwg3sAoqkkojVKoOskEIFl1xVJBkOACvALHZn+ktWmzLxSgyPnKg2PwqClYw5QQZq7YlUgpTakzlCbO7M/1z6BTDVqPkfRgZTAlANMEVVDFsDMHC5ENzGNOzeAWGBGHergQJ+9RGd6n3ridjvxuOMSAMQwPHHZIochbr78wXnME2TOp4M8pcn2QSxWcbr64c5sbcAvJukLxDOgEE8cRAsw5z18Ixxh0UKSLwe1CtvQNni+8HeaouM08Yem4rN9EmFJA0DpgFXPJJf8YGltwuxynydJJF3OW8NOTKzwJw2vaybR3jLU3ae7ZFLV5ti+ublkSycCWxiPhh1LNEdGAqpr/s1Ah69ycCABwOQdoGwiqDwy5dJmqgHUAej83eL90gVo4/7oo49qH8Np27x5s895DAAO/927d9sTTzzh4G779u0aUNCmanqPoYl/oB3c8lgCUI4yiiODnXjBbceOHQ4612lu+nLNU4cP6OOP4Rnj9c9t8SdKoPskkNTW7uMrcjRPAo0urDECDegAWoI11DguADg43aGgzZ/rAkkJ7BSFXuaIabsatl5heJxLe00yFOxzMQGcLO7xofJGh0k7BuCk83STpOqJA5I0/xFPgOwZJ2+3M046JZn3qf0mm+BNDbcbABvG56MpLYhCH5AK8CQcYJHGk4NwsaPBUzLOA+Hgg0vpJWBVdgeHCo8/F/mgo/fGWHdPn7hElPFwEMXIHYJBu4gfafqQvPKGBrURzYO3+knQRkIb4BzSYFU3wgJMopkU2Nd+MbpzSVupTeQ51cFFLPkwd1ah/eIngMvEoVXi0X0xJOAAQgXFnnZ6u1R1NPdN70oAFrGzX4xS+NnSoGwoJ4AlJmgBuXOQwje+8Q37yU9+Yu96l46iFXjEHQ0iQO7ee++1T37yk9qUYdje9773NYEggJBwaDhbmXSdCHa0kNAmHgt3cH/88cft9ttvt+9+97u2QtN1rrvuOm2Of7b7QZswhCcPXIFWq3Sje5TAkZRAo6c/kizEtNuRANhGXZgDDQcbAC9hIOyOhXgEpDVMgoVAJgyTC7jI3bHTsE7sUcNkNW2yLo1iAe0eZxLLznYb9WltXyTAWRD4K9IIswm7rzJXHNf2KREAJcDNh7J5FiPEqSdDur4YBUAGj6QF6IIB5qGxES7AkTjElxUe3Z/O2sPKj7TQeHo4mNczIA1QTEZwB8A5SFU8B4i6uVZT4XCCFrzyQBrcGVZ30Kf4AFdoyOp2B4ENO2gWd08DJhU2y6CVVSfjYBftp+ZK1h0UCyxCo08AXxdAnzDom+FDnwVOmuFVNNDOZiodsoBxzZjuDmjcJf4sqgRUTD6/kjqB4WtOZcb7R3VkUY/X5cQ3/nahBABjAMEAzgCNgEOGo++88077yle+Yi972cvsxBNPdA1hAHKEC3ayBZ0A7rAHutAGuBI+uIfw6WfSC8Ph0L377rvty1/+st18881uP/nkk+3888+3c8891/kLYBhapNGuZpTw0UQJHAkJqJeLZulIoIEyYJhJlgClhvHHFPZp+tDx6YFnvDmMwU+HQDvGMAxfzKaV19K8AEELM9rShnmHAVSyeIYhdAAbYBLtoN/lBmAC6AGq0FDq/FqPxyrnPtnpbB0oys58THpg3LjgRlGdM4CeHn3RDHcHfgqDdg/tKelhcCcuvTluAF5yBhrDDaBIeOYnYtAkBI0jfoTDkDffdkn0cCIOwBXQh528AlzJHlMI3J2wjbQc7MruvOAmP60unwssNTkfYCkZ+6kNyiDcJkZxJJdkFmgCJjndwY3YcEN+ZPhFTNwJoZSiOQISAFR6AXhJqDz8QydhJAENfLzNlvARYDEmmSEBwB5vUQIsaQLY9FpHDGh1f5+mooyPa4oQIVSuhOEa01GyLLI59dRT7S1veYu27x2yZcuWuRtD1gC8ldre7DkdEQtYxA+tZgB+AUyiodyvnSigB6BcvVpzqdWWoK3E/atf/aoOjLjN08QPHuCX4e80qCVO4C0NNp3xrv8JDVsrRhvtXyvvDrr7u9ugh0yDSezz+PT3XmGCM33bYrXCpL1ETQSWS6TgGrqtpHNrVd8EhBYyITjeWs4zz+Arn7Cq1YdoZ4PwEoaGjkYOe9+Y9ncEqAHQAGGATzaY7pOdBlzHJxqn42CaifNCcnGTo7+oDU9AJ6Z5UgRQSia89I1oDh4DPacBEV3u5gQTQBiGxgGADj4h1vDHinHaAsMY0JpfelaH4ppRgB3b+8BqSdMHigKK+DG8DpDmzpYzgE7mi/YLWGaYg4om5CPEmf/cEBzOSiGaIywB74y8qjUKSu8BxjsjWVm4c1ARLsBzEmsBj+i0KBJgU3QMr3JRH3NVjYpwL2kkA0BIeYY2LzwDOp9++mkHjaeddpoObThgX/ziFxWv6KDzlltucXB5DHvivvSlPpQOIKW93Ldvn/3oRz+yH//4x/bss8/6vMnzzjvPrrjiCh8OByCu1zZn73znOx2kfuxjH7PHHnvMeQzgkWFzeOKZNIO7B1oSP9T6vJrfztvTucwiT2SJCeWdUFcf11hUyolwXD7fH/YAlVx5WUkIZf+Gvq1FKE9OPNIlYvfDFqibsnufJNfFlVgLRls4xz6rhWCicyIBGtrkS44K7VXc6iu1jZCqeMFBpF40gKEPl/PScan6B7+gAXQQqo2EdedF1tkToqGwbhRebkTzO6+PvIpNUNgINu/GvoKJSb1ibp196er9ODTykNYwkhfPD+BQF3Z1LH4BGLFzl3tBoNK1koShMWpoTtlH1A1hElv8jRKIEliiEmBYGtDGRRuFdpE275577rEPf/jDDgABhCMjI/aJT3zCHnjgATtWW6IRDwDJIh+G1N/73vfaRRddZHv27LHPf/7z9i//8i+uEd22bZs9+eST9pGPfMT+9E//1F772te6FvRtb3ubp3XXXXc10w7gET6gj/aSi2e0owH0LlFRR7aPcglEYHmUF3Cnshe+7qA3LdQHkCpo/D35hkrmbSZH3gEWVa20cKj5ZQdi5AIscsfo6Dqh0cQ9+Ovufwri5wOzfVCGcVznPyFQAHqzz0z7nA0nf4BhAJjkAj51OKKb5ANWbo34Tdpi3EFskltyjQSY8xo4bFBoRIy3KIEogaUmgQDeAJOsEAe8BXAJmONiOyJWa2PQYp511ln2jne8w7WNH/jAB+z73/++ARBPP/10+973vtdc9AOQJOyjWn1+/fXX2wc/+EE788wzfT5n2NOSdAGO3HGDH0BlcAvaynRbvNRkHPl9YUggAssXRjl3NJdszJ7GYOAwP5WkOS8wAWABoKHPC4tOHLMBHAs62WaeSfyAbQ3TgTkmjdGOQPGgO8AwgEMgMSbthl3nc3h+0+ESe8Jpk1+PHX+iBKIElqIE0BKGuY2ASkAdF0AOkAfgw44bwBNt5fvf/34HiIT/6U9/6trJXbt2uVbz/vvv99Xer3rVq3zoG9qnnHKKXX755a7xRMPJ0DrugFYAJOmENEgnuONHmtxJK5oogW6WQASW3Vw6Xcqbdl5smllQhS15SgMzArqrGkQaRf3LCDw64puNjSsmDCoTjIVGWaY5Eq5AAYPOj+KLmvBPkKDfgx3a6BwLmjdDp+Hc6I4lzUeB+aQywc1fmvmsz3/2GPEnSiBKYKlIoEdTX8I2QIC3oMHEDbAHsAPsBU0ii3nY9xJgiD+Ld7gDBlmUw/A49y984Qt20003+dxMNKAMpdPecGdhT0iLuBjaSeyki4Get0+0TTL48xxNlEC3SiACy24tmS7hi0ZsvilwOk3TyD+N8Bw0AhybAZoWbwtD1IPJNsMFSwCL4fmge6CV8ghax+AUgGUIOoeHEMj5Jx/BIQGc/uTO0hA4M6IO325vBOYZa9IHeJT4EyUQJbD0JMB+lqG9484FqAuaQkAhp/QAFnFfu3at2wGYgE0AImAwaD6RAJupX3bZZXbVVVc5HYa4SYe4F1xwgccDmAIUoYEd8Ioh/fCMG7S5gr8Hij9RAl0ogQgsu7BQupWl5ldyeiTGkRroCtO4N9GbnnHyCzuWxDB0HhbfuCYwBepCGHZ7zDQpeiFck8eGg5YLuS3tPic9Z6mBgrE3kgwpgyETPgWW5yPd2eyE5OM9SiBKYIlKYHBwqAnwAJEAxAD4uPMMoAQsYvbu3etzMNk2CHcAH5pGwCBuzMUESG7atMne/OY3O1CEBgCUC5qEJQzP+GFH8xm0ooBL0iMcBvrEwz2aKIFulUAElt1aMl3EFw1Z2gRACAhjAQvIMWnmEnsyoxKwxpBNEtPvqbYQGrWmpjPl0UiIaGwYnmtoYJvBZJnX4Hoa7j+bRhjSdtryK7GlhEzAjSEkTTl2rcv0fPr+nwRUgmlwmmwF1WTCQ8SfKIEogaUlAbYRuvXWWx0wohkE7G3bts2HrAGNAdwxfA1wJDx3ngM4BGDSXqLZ5ASfrVu3+sbnrARHcwkNth4CGF5zzTUOIjnZh/mWDz74oK8aZ1siVpezpyX7ZDKXE6DLwiHiAy4jsFxadeuFxm0Eli+0En+e+Z0PKoke3ICTyaKcNKgCioXn5O6g0iPykxh82gKOIcJCdyffSKtxmx+srTRakEAxm4BMnQusvwBIWyQ1P+n4vIQkkFem4WMjK0vthMmKj58DBgg1iFHvcAtAgudonr8EaLMKmp/DPpaAM+wVbWeGNpBzu9et2+Aaw8997nN24403+rA1oPHaa6+1DRs2NDc+T+gktWXVqlWupQSAUj7ciYMhHEcysqXQpz/9aV8FzlxLwrDl0JVXXmlXX321azpv0vzLG264wffCZLN19s1kOyNWmHMSENsRwSeAMgyJP38JHMkYeW/X4vNG+YT3Kl2m0gmLmUTR4IeQsKcl9YZ9nsO+lm1kJ7yvLXPW7BQXDpGMlGmraKXlb3xjupb3QXLw5bE5NBamvDiuEVgujpyPylQC0JqbuTbeOkVYOO5cSm095SSX471gEuk4iZ3ftOuC0aLjUSwBSn+xIF2rdHyT5KNYxocza6GjZ0ADUAnAY+gZoAZoQ3sIgET7mAYdZ5xxhrszrA2wAzgyp/Ltb3+7g0KeocHQNVsMsZUQmsowDP7KV77SF/jcd999DlaZr8kel+ecc45rI8kz4XHnIm0M/EITP7SfpBEAbODPAy6Zn+5pP4OMg5zDc1JHxGdj6Cr5iONtTL+RDdC5GHJvjugtRmKdTSMCy87KM1KLEogSiBKIEugyCQAe5gKIZL4iQBLgdvHFF/v53AC4AOqwM8QNwOP88AAsydob3/hGH5oGWAJQuU466SQftg6LbAjHUPiWLVv8RB40o2hLOfYRcEpchs4vvPBCPxcc+mk+A2CFHsPgDIfjD41oogS6WQIRWHZz6UTeogSiBKIEogQOWQIBsAEaAYEBPHIHtKG1DPMkcQsADjsGUIfhmaFq5j4CCkNY/AgDYAQQpsEfwJDwAMoAJtPaR9wBlRjSDXfsaDGTofsEGAd+QjgPHH+iBLpMAhFYdlmBRHaiBKIEogSiBDorgQDOAGZcQRsImGT7HzSXhOEZ0IY/JmgRiQMgxQ+gSHie0WbiRzieQzq4Y6CDewCOgFHC4A64xD1NGzsXBj/CcueCTkjLA8SfKIEulcAiThjoUglEtqIEogSiBKIEXhASAMwBDNPgkWeAG34BGCIMwgDkAIHc8ccE7SXPXIQjPmG4QjyAYPAjHOkALAGduJNWuIiHwZ0LE9LFj3A8Y4K/P8SfKIEulEDUWHZhoUSWogSiBKIEogQ6J4EAxgJwDJpGwFrQCAL6AngLIBEOQpwA+ggX7IDHdBjCBpCIO+FwI06Yr4k9gFTChjAhbfjBLdxDWjyn0/KH+BMl0IUSiMCyCwslshQlECUQJRAl0DkJBK1fAHJprSGADfAXNJAhDHeuoJVMD2kHkAdIJAz0uALQDHEDKMSd4fMAKANYDTkMQDcAU+JjeCYudDC4k3bwd8f4EyXQZRKIQ+FdViCRnSiBKIEXsgQAENJiASwa4CJIo8D2I+GM0uAY721JAGBWLvdIa5gMexOJPS2rtWRFt99lF5R0raXjOBUFoI5wASAC6nr7em2mMuNxSzpfvFhUQP3PzEw74PODFAIQBLASR3M3cQ/gtSaa2AMYrYheQXS4PD3xl9BJ5lr2KU1MtcpwuOoB1SSan0kClPFBBnnOkanvFMnWlYnxdxG3OYEOIhMdEglEjWWsCVECUQJRAm1IIK9LWaC7OohqHo1KYUjbM9dsqD5pg+rMakWdHz2gWDVtN1OWpqo8aqWZZBPug4g3HNiMppaTUDVnjzyil3Jo1PMSgY/08a8N/g665QlOcijk7LBT78lj1uGYJy2RyiRD2D1l4gnkuQ8/NQFQ0IQWzei3tzf4aAGOnuuFis7h0r6VlEkDoGhpjWxajCMeeivSKNbZVFveAZQ00jJPq2KTZTPS1QC5AsnutKBWMfbh7itpvqfLhJ9GOrVpueMHP4qpWzgpDBoLmXotT7ALxZrrVsyTO3lsgOi5MWefElFk81LNoTFLrbWtNO9DbH7IuvYvpUyqFWmAVQcE41VWaJuZrqAy66GM+bgo2lS9ZNPWYwOSc29txiZnpvTuDUnu/VacGZ9P+uDnQ81PtrgOTq/LXCKw7LICiexECUQJvHAlMFGZMq03tgmdCvPMzqo99KiGYgVESoWyVaQ9m56Rlq0vAUWtpNSjTqmcHUSAtVXsWfdCDnIpSOuWZ2ptdLDNI2JbEANU5rGbl05eGi2SPsg5TyYVaZTzMAHlk2U4bYUry/QK1Od8Gwg55SSUlUDDLw9YUgOaWr0W9JBZTnYksw7wmkOiTkUSUPRpCPCksqoBLEtazV9l2ynTKUwVWzYsAC8Nc1lfVpWpCasJiCqUa6OnNZ2hP68ytpDDC8k5AssXUmnHvEYJRAl0tQR6pJHq1erh3Xv22VduuMm+fuO3fDucAkOuaFwE1Kq1lZl5aAdY1hvDt5mEcjrqRIuYHaiWp/aEgRxNkw9DZzIqsJBDIyd6x7wrQlA5eNzKOXgcUAmdLNMrGjlBmvMys+jk+eWlQennzffMh5Wi0QFgmcera1b1/qDJ9ekLDd7DnFXmy07VpnQUp/YonZ606R6dFy8pl0qoN8vSE8vo4y73K4dwL3ATgeULvALE7EcJRAl0jwR61VOfvHmrreobsilWLPf0WoWOsNybDKgKtRQro5kM09nnabwSVJLbFWemkwcIPXKuxjIfUiRcZvOaTyU7K53y7WkD8M3kaLyYRpsMhbfmqh0A2w6ga51Cuz75ks8vv3wa7XDTjoKWdwNT0LxX+AIUU0Vxr7N6X1NY161ZbcuGBuSgB84JlyejBXUFLGmaAlMRosmWQASW2fKJvlECUQJRAosngYkpW1nqteUbNlqVxSXq9FiuUertsWl1bmha+mrZzTZxqjngJelKs7IlIm2AwlxFUy4NOAndfQt+2tFGtpFOC+odddY0vUxQCCSZyS4+08is5Q2XT+fNsZRIk+Unh5a9nJJJiOfIvh2Am1sH2shGHrAkDbSVvkgKWKl/TNC4wmfNBjU0rk3ytUiKIfAik14157aoKSh6+axX81Kqmq4STbYEcqp4duToGyUQJRAlECXQQQloEUGPOjCG56oCVDP+rHmWLBgpsLiAzm8oM0GGWvtylCqhM80iBA9Zph0aCeZo9OALENOuj7lTAdtKZwHac5ychdZ8zAnb8kEwKwdpAerRbLUyginWm6zZaRXE9WF5w+n9vkioJQn3yGE1O/Lz8A1bIbWKQl4S/eDCIbwOdGCh0cLUZ10dWEooFA/fKs63PtTCFk89xZKWU2nT+rqAo/iBb6aMqIYqsN5HAU2uUjvTO2aTfUHaIrB8QRZ7zHSUQJRAN0qAVdRTRXSUYBj1flJfMTTKCuxSo7OraGVylvF+L2fxDtSzNDx0qrWcVRnOn3jLMiIjk/wuFM63VVrII+XmgCD1vJAVGWWZ/5+9946y7SjPvOukTjcHZSTdC5KQNAiJKETO4xkDxgyewdj+WIxZDjOecfYfXsZxzWJ5TfB4zRrbGPv7zHgGmDHBg40DtjGYjEWwBRIgIYSEcrqx00nf83v3qe7TfftU7b7ndN/T3W/de3rvXeGtt57ae9ez30o5PVJpl8OkSSYfJkWlZjijRy1H+hUpN8aywb2Q0WVZ77M/y038pzy5CU3krgWbEkpQlk0oDBqIVXI/MSYXC6VGLtss/g7EVg9ERQOHayp0Vx9VXd3/mtOjHnF92IlYMiG/wxjLZFkSxdxBQU4sd1Ble1EdAUdgvBFoTrLojBovkY+6mr1aZUJdctJZPxo3GsM6Y78SjiY6N46vBnNMtfWSkZ85rgY4wwdyXbrW0GdkmNUopysMIOGK5BkhifRFkMqbYuMWSWQlrYoNbchlxVjNlCOYKhzkLChhOR2UbrV/7h4ADg1NTDuR7XQU3dUZzNIZFKEpPIiBhbKGBVLKsLwQz1JVVkpunTZLRIlM1tQrINppRJhwcUq7x7kHzeqaseKX0XMnxHFiuRNq2cvoCDgCWwIBZvvWZbZsd7WftNbXq6gBxIBZ72rNoYY6xGsLob6YboXpis1xilTXZASqkmMMuZZcgphVm4qGpUoxYpZrHm29zASJInnOapbrriVjLFk5l81H/CSlKvJza4hWZTFLD0KQjIyidg9k4uQ1FdfCkpd00K+0s1nY6SjZ+iuSp3VJW0W5R4ofsvR06S/PV2G5N8ulnj18OxZR5FKLXTIek6WIeA65TyGkVVtLFCnuBiHgxHIQMu7vCDgCOwaBdJNVDoZcA4uUXD4Ti4tqADUTnO0B1S1XrTS1rrYsLbJcttQtvlA7Faa1HFHKQaLqGWpiJCqjTC1jZyqa4XSp0SUVo9Ajbc9KlbUII4cMFUsp0cuAhenzLpOP1XAaWBblzrncupw5LXLyRxcOsDlwS+Bqs61TWoFZGjd2Kko6JQd6i9UHYJVxFLq2e1W9ArJbahY4kdlxSRRJ4bYbkqyVEFGFbLzLFGXjFRguByeWw+HnqR0BR8ARGBkC8w0t1KxddmbV/93RTNSJajs0sF62FsOcxnctaNOdXbkBeNY4plumrCHKSpSWUYZY5hrhIodcPsPDa3rkCF1WjWyEUoqmqXaPPmV1HYEuyiNbPzmyVrLEKVJYtiR5XTPKmIBebhx0jRf1YUHCY1Ifc1NaMxY7OpPnaiKVfKSZ1V3Wy5rWtmyXe3gyymzvYCeW27t+vXSOgCOwhRDoNPaGRx4/Fe687+Ew2zwVZkQ0G3OylLRmwqIaw9bedpicS7+2i0Yy3Vznu4aRYpIS6JFHOp/spAx1O6YlJLJfEdRnglrhv3yR1SVrscyXt8AsjVsee6SkZeSCl0udPsvkUqJuRoNJ1uJsBc5oW4IELw0yQG2Js6EYvXTsC99onQgXX3ggXHThBbZRge0uJYNrR2MwGZKRWykhjfbOCU2/oXYODl5SR8ARcATOOQIdWScfeOB4+PKXvxqalZPh8AHt/nFaM1XbU7b+YWdWyxGdyry2aTAzvY9GbpINsYTkZlSYGSdHCzNkgNY9J6JMrWRmsFsWyfJCMnIjF1Ekp2yuvHkRpXQdkdUsR3LzZHxEmIwCV1TJusI6yS5WkHeWGuKcW6Op1dGPPfSwdrq6MhzYf8i2dWSnnYqeA5Yi6ohYAnvuDsiqsAMiZN5QOwABL6Ij4Ag4AmOCgHYE15jK0+GSixrhumfcEF7wnKu1JqXIZKcRTncWw3zjZNjV3pPU1uavsrBzyqlBTXNPWtB0jGKT6Ewzmwk2s1FGk1QxLEwEN2f3hEDlu6Az5bXMcgUqQSwz5S1ySFtgy+SSw83yyZLtMjmNApNRyMiVWOEqDmSZCTgczUop0shkpwXtA/7//b8f1W09bTteIa2rISnstsNqAE3Fb2rs5ZRP3skC7cQyC5FHcAQcAUdgcxCY0MSdiYVamNR6Qfu1nePhKc2r1oQeDbUMjUY7LGrPx5l2ZoVto1BpYlnKEqWlV9JOZCBnKcwQF8grEyOGd2liYjPLM5lU8msjSd0M4atSlgwZK2FtzNWP7W+dLnKmtNJSRClnlJY5LyNHdH0EmFRYwDXhuiVwzZZF8rvSVXRSZFFkUhbIlnbYabCjgO7jucp8mJzSGMr2RFgs1iSy5YmqIpase1nVhLqZxmTozM8nNPUgEHBi6feBI+AIOALjgoD2Yux01Hi19dPWjazH3NWYysnudFC7pvZvMlSa6cZebaA1hKkiFWPF0nIkJSVCYaTPyciIMFtjhojlRBCeWtOoTHrFqbBoYdLly1t0tObkJDMpAqnElDMLbCpCibBcHhKR6yovcw+UwiRTf3RHD+96NmuVu1LjYZLMpj7S1BtgM8rnO6HVmtBqDCK5smJCJBsK77aaYaHF9qrqPK8q7vCKbHsJTiy3fRV7AR0BR2CrINBqLITO1KnQnjwemrXToaVFLKuNea2np+WG1CXe7C7KipIpjdrLXDOc2nawkJ6TEHVIE8uc5Q0pOaNmzCl1zHEk6wrPZNQWvnmXLm8e+TJkLY/JKGYma2hhNiPWoMy74THJ5ZKpOlMxN+HJaCVjKzUMpFstiGWr2tSEnLY2A6hoTPO8tnTUorFShvuJ8ZdtdYVDkia1xNeCPvSaC60wmXv+8oBt+xhOLLd9FXsBHQFHIIfA8E1jLody4dpETtZKjbTs7NHyeVOyVNIAqmsuzIdOXTPCW1pvqLfl40CJKkxuPOHAtCsCcs09kdPIjcbStEKpNS/yxAM9tVyMWDnW2pb2fF7UEIPJyUkZrZrFODp1h9ZlpWIRbBzkAmJMGlyrxXg7DU2wzAps2m1N/mAZGlnA2upWZWvAqEtFJIa0EJSFhUWTMTVFfiIrWtIGPRjXh8xlV+BJHrYrjGSiAzLQdV7dsOgY81hOd5ZnmSoeWT4Z9UaRT/pOVF1KB+JUaw09Y6xRqXpjfKWspRXVPXjb4ufqBp8QxdSeVzb2clFnLVkxuZeneT4z93ymqDsi2InljqhmL6Qj4AgMgwANUqYNHkb8UloW6WYiikZ0qRVksWad2+QUuqVFYjQujO3lNseNIp9RyBi+tJGcQQ5xkLOJiQkjF/hVKoyta5sfcQu/YnmZSDAhihC8hqxXhHMeSWGUa2Mfe0Swq603u92CQEIKkYss8obUkraudRG5htwW8pihTJ0XZNL2sJa+HEk7OTlleloh/M+6EIh3YvFhEJNG3+LadiyyB714Cu3Zs/rgWdTYTD2ZTiwjdoOPTiwHY+MhjoAj4Ag4AtsAgcICWBBDSCDEDT8IHmRwamrKiB3XNlO4t7sR8QjHcSQskk4IIWQwukgGkUsYx+hHHM5xEFNkResnMmOa/viRrEJKCce6GclwlGUC/Y8jMGYIOLEcswpxdRwBR8ARcARGiwBEDHIGmeM8EjiI4fT0tBHMmCOkEOKHFZE0xCmsiUWXNUQQOcQhHFmcE4drXMwvhsc48Zo8kMMRWTjSR8JJ/Ehi8SceR/z787GE/scRGDMEnFiOWYW4Oo6AI+AIOAKjRSASskgGo3QIG2E333xzuP/++8ONN94Yzj//fLNKxrjf+MY3wt///d/bGMeXvvSlYe/evZYG4okFsV82crmOR87jNaQyyoQ0RoL64IMPhjvuuCPcddddWpx7Lhw6dChcccUV4ciRI2HPnj3mh5UTXZERCSjn7hyBcUTAieU41orr5Ag4Ao6AIzAyBCB0OEhetBpyDVljQsxf/dVfhc985jPh8OHDRuyIE62EEL4PfehDYdeuXeGZz3xmOHDggJE7iCEOmcjnGK2JMQ/8Ypc3ftGfbm66uB999NHwR3/0R+ETn/hEePhhdn2ZM/+nPOUp4dWvfnV42cteZnpEEhrzQo47R2BcEXBiOa4143o5Ao6AI+AIjBwBSGDsVoagcf3Nb34z3HrrreGxxx4zggipjGMczzvvvPD0pz/diCXkkjQQvTjeEcsl3en9MiPJhFRibSQMeeRFevwhlo8//nj4yle+YvIgraTDevoXf/EXFheC+YQnPMHCyTMSzJGD4gIdgREi4MRyhGC6KEfAEXAEHIHxRAByh+u39uEHwcNB9vhFB2GEFF522WXhJS95iRFLrJX4f+1rXwu7d+8O+/btC3feeaeRRrqtL7roIvMnj0hAsUrec8894dixY9aNjjy62yGJdKu/6lWvMvJ41VVX2VjPd73rXeG//bf/Fm655ZZw7733hksvvdRUWssqGnX1oyMwTgg4sRyn2nBdHAFHYCwRKEbNDadaWRkDOzkHBgyn105IHa2E0apImSPx44gjDGLJNSQuzsbGmvnHf/zHNt7xh37oh8Lp06fDu9/9bpulffnll4cvfvGL4YEHHgj79+8Pr3nNa8KLX/zicOGFFxoBve2228KHP/xhi3Pq1KkwMzMTsEK+4Q1vCEePHg0XXHBBeOUrX2nWT4gmeeKPLGaBY8HE0UWOhRRHPCyq7taLQHwC47E/PfcAP4X1dvnRp0EvQjxyycdJMayiF7hxh7XU3LjcRip5kxAaqc4uzBFwBByBkSLQrWqSReKn1crVnqR/tAOpXxmFjeTENk4JaNzws5+kLzd2ZaR5nIgApJGf4StPCFvEFX+IJL/Y/Q1544cfYx8/9rGP2RhMxmPiGBP5u7/7u+G3fuu3jGhiyfzc5z5nfl/60pcsr7vvvjv84R/+YXj7299usp7znOcYcf2N3/iN8Pu///thdnbW4qELVlAc8plEdPLkyXDw4MGl8Z7oGrvUI/m1BP5nnQhADPWUrtgisvfA2ULpPMG9JaS0ZmzoNvTTxwbe7GuvPcvj45k6rlOpM6KTX0X61DgSqnPOUAOP/M5ZRDx3zj97zh32nrMj4Ag4Ao7AJiCAhQ9yBnHsJ5VkDXkkLE7WiWMho7UQQscYSta6jOtdRpL65je/OWDFhIT+2q/9WvjIRz4Sbr/99vDsZz/bxkp+6lOfCi984QvDW9/61oB1k+7wN77xjeF973tfeN3rXhee8YxnWOmRR/50q3/yk580wkn3+8UXX2yWS3RAr0gqo26bAJ1n4QisGwEnluuGzBM4Ao6AI+AIbCUEogWSIwQOMtnvIGqRLELe6HbGikh8/CF2pKN7Gn/Or7vuOiOHzCQnzVOf+lQjhZDH48eP2/jIhx56KDz5yU8OX/7yl21yEOmZAETXOROFkAWphbCSjkk7kNGrr746vPzlL7fxmnS904XOka5yCCZp+LlzBMYRASeW41grrpMj4Ag4Ao7AyBCAhEEm+UEKIZLResk15/xwcTce4kIoox8kE8IZ00EmGUtJ93UknlE2YyLp6oZg0m3ORBzGWEIqIaqMs4QsIosJQIT9zu/8TnjHO95ha1j+5E/+pM1EJy4/9OVHPpQFXdw5AuOKgBPLca0Z18sRcAQcAUdgZAhEKyVEDUIHQYMoQgYJg7hhOaTbOxJE/KLVknNIJ3FIx1hILJDMDofwEY7cSPqQweQcurx/+Id/2AgosiGikEoIJTPJT5w4YWMu3/Oe94Qrr7wy/NiP/Vh43vOeZ/KIS16R1MYtJ2NZRgaOC3IERoiAE8sRgumiHAFHwBFwBMYPAYgZxA8Xj5BBCFokg3Qz090MWcSRBj/iYZ2EkEZ/riGJ/dbDSFCRCXFk/UvS3nfffXZk2SDyRi7d4MSh+/v9739/gFRCQt/ylrcEdvdBPlZM5JMPeiErWkdNEf/jCIwpAk4sx7RiXC1HwBFwBByB0SAAQeOHi8SSc0gk11ghWaz8ne98p03AIS5+T3va06xLm7j4QR6ZsU03NwQxbsEIOWW8JBZFzkl7ww03LI27/Jmf+ZnArHBI4he+8AU7/tzP/Zyth8m6lSzO/qQnPSn85V/+pc0uRxYWTSb3vFjLF0FWyRtyyTGSXPRy5wiMGwJOLMetRlwfR8ARcAQcgZEiEEklRwhhdBA0LIfszU03NOQSSyFxsBqy5A8LmhPO+EgIHl3fR44cMRJJNzUy+bHHN4ucs/g5BJAJOD/wAz9g6VjPEislDlLKdo0QRPJBLnlzvEvbRzIzHMdalozhJA/yhWxy7CfGFtH/OAJjhoATyzGrEFfHEXAENh+BCmvWJVzRiZqIoKC0BFnK0skt1HprWbPO1q3DS6lsET2OutQ5/7KuRJSsjDGJIM6Wdb1e7mQ8yB+kjCOOc8gjR3a/uf76p5q1sQgrur0vvvgSI3hXXnmFkTosjpC7H/mRHzGrIWMko/WQbR8houedd1gkccasljfe+OxwwYXnh7vvvifMa0JPYYncb6QTggr5/Imf+AmzfJIvsrrdIu+6yOkll1wcanWRyQ6z1tvSHb3tRiD6kC5/k0SsUhnliW6JCixzT2efsJSWhFFe7gFOpdOSWuZhz1bh2VsxgHVrK/oIqbAbk/y6WpZKv+zzN4Ib1tbUlX49zXq69daxRS1CyuQjzc+Fc2J5LlD3PB0BR2BLIUAbxEt+GFdOBg1X4Yxf6lSUwsgGhEMj9ORREI/BupATv+FcZeWKPGcIKxroM7xXeJQhJisSrHFB+fMuX95+AtRPMum6xmJ45VVXDMzm0ssutRvAyqxYrFMZXbSAYl28+OKL5F3M4Ka+du/eZTPAr732WiOV7VZbhHM6JjUr53Of+9yla07gC0YgdY7ORjZFLKlSrvlXtcpJl7kc9vFuW6HC0kWWRPX0XUowpnNEnAAAQABJREFU6CSlqlTor5u1RaQEFCmMZyWiGSG34kIul+8pw9SuCZSA3kddUXb89NyBt6XNPBSowk0yLOlDPX1EZr53yW0snRPLsawWV8oRcAR2LAJqlyKBgUpy0YZQYLXSMU8YaF0TLWxJYM0qkos7bAOak09JSuWx/vKulpsnNyibzqewXhoDUbUt7+5Dqoa6vrGQRgsn0tZy6CWjaMFjkEGkVRgUuqd1WUv2ev1WY7RmeumYdFIzpWlhPEzFQDrhmTgiYpkYSzhSrli2/nPTJVOcZFk90BBwYuk3giPgCDgC44LAqkZanW+ylmhrN/3a1WItxnIWvGELJCK7SpczJWab8RIyzpS62scoRSYrCHfORSIR460uX3GdkAMZyVCXZZmFnHgdyQuWxkQOUTWRT2KtjGkQSIeyLuY9OP6ZeayOW83kRx75fFZLXXltpTyL+lspRVfocobnskeRD9xymVQSuvq+WE7hZ2eLgBPLs0XO0zkCjoAjsEEIGJlSS1jQiKIhhJTQ0LeyjTBNaIkuu4zuGU4xNKHIZL8UDF1IFtkYQ55wrUWAVvotd48uZd5/Qj423rXfc+U5mBlRsa7TwsKM8hBFvPRt0CONK9OtvCIjK5SOCLT/K6LE0BWeZ3ORqeQyhF0FTuacDu0lzcgAjpV1tUaWa+C0OhYy+GE1pp6i9ThOiiKslL6rBfv1CgScWK6Awy8cAUfAETiXCKxs1oxi9DWG1iDWVsY5U1vCc3HOTLXaJ9fWF/GHz2d1vmdc57IgvDcu7oy06/GA+SVcYa3MKVNQPouLhVkEphi+UAhWVWbdSgua8iv+99L1LkZRXpOYUajMTVCiUCvLtAqCjAoW22C3P6sSr7xMqqt8KtHqD4FU5LV+S5x+pWi/WgcCTizXAZZHdQQcAUdgIxGgYbRGeKkNXbawiKIUlhYmqSYdLfWSgGTMQYGFZSdjwVMeScIg4dEiNCifMv6MN0zlA6/J5YNFKsqgbNFFP7sG+xiwxrEv2RqhhVdbRBJiUtWM4kJ2kRdpGbPKFbqkXZFmOU6hWL9uhaR+n+XYnBX1t1rOyjimaIZFVas1lWN1uuVr8slhDw79mC+nXj7LYYuMFXW1nHTpzCa3JYtcFARdoqx4XBLiJyNBwInlSGB0IY6AI+AIDI9AbBfN4tUjbrYkjqyUlVo31PWv2V1MZ2RCcqQwLYJQ8k05undzpCJPolI5FGEFYYjIrB0/pyupVpOb/msjG+J76VwghwmWpTwgYkhZJkJK0RNaEDRIFtoMdv16FbH4uFipWzGpOS0oj73Sp4tjE8Zy+lYz9wllSOOWLgfpy95rKaIIrsgpjstd4eCEX/xlIEEddxkEnFhmAPJgR8ARcAQ2DQEIRK8lh4gwrrKm9QxrelN31IA3atqnutIooc6wzSONfa7BJ490PrEsJRQeGAUcClI2MIowS+uxTPSWZfTrxnklMsDlKKvORI8y3eVmSRTrM+R69RhRXNYwbbFcq7yFPNQppOXKazF7+a8qRN+lZC0r1ee/fJqdvKOo/Tgup1w+y2SxHDF5hpScpDIfUxqnLCLJBxH3BEeuIyFt6EFrt9ZQhHujgH6NQPdajYATy9WI+LUj4Ag4AmshwILJCdcdwaJzc9Wp0NKizCcffjh89mOt8Oh9slFOToRZLa5N41eraW/rarGDS0KVbFC71OSeMg11Oit1pCYjkIMoXTIOXci5udTLe+msLYoc0nROxD3HXpGRvgVY8XBo/oF1r5ohyu1Kvm7S9ua1cdoYX5BPo9/OrFUKHtwHSZfBRFRSEtL32l1f/0a49IJLtVrslWGhqsXvawuh1tUuTK0F1Yn2m7fxzRNJNUoFZu41tGTTBnVSmMb2IaE0IEBSypEuSSktNiySE8sNg9YFOwKOgCOwPgTqai0O7d8bDu7bHR596MHw2QcfCE1t+8f4SrYJtG7H5p71CV0jNlQt6zINdTa9IrBcUsrRQOYMa0VzmiYVGR621B2d0sVa7GSEvM0MLYellhUrTAY3s66mMckaYDNlHVVwVbvV5JBrZ5RNoxE1zZHtPLHcP3NeuOSii0JNk3wWm/NBe27qtijoKJbNmoY6tHLZRHV28NGJ5Q6ufC+6I+AIjBcCrYW58ITzDoULXvBc20eaNSwhk5CVpnaIaetXmxi+ZUNu3g2fT46+5m2RoiTGn9IkqluGmIyAfeZQK4hlHtl0DNHxdHE1CT5fNwVBTee0GaHFx0UKOW0AkAqWkjk8inJkQOMjJpNPd7EaZqZ2h2n1EnTUJ14TKa4p846GN2CNrua+gjYD0C2QhxPLLVBJrqIj4AjsDAQqIo6TjVqYmZiUZUSNmRq0SpxcMFHXBB51Cncyk3dKQFXKYlnNk5dcVrWMCIJzumgkXC4btnFOuhI8THrIJeQgIxFs+Vt5cpGSmirQ8kkLgeYklVFwhkPltBhZeFGSdHlyQxnSqQtVRf+yOufuteoU45erod1c1HOmLnBZLo2Mqlu6o/G1Zq0cF2CzpT13EZxYnjvsPWdHwBFwBFYggG2ysrigcZZqSjWgj8k7bVlO4laONc0Kry7uWpHmbC4Yb5Z1uQGFWQEqQqatZxxgTpfc+ErU6GSYR04PZGStZoqTg8QMwSWgJb+BTiQmUxyRHNHgVD4Kzuk6MP9zEJAbMZjDo1A5Z7HM32saTKkNCBZDpd3ReGYAFl2F9eqUK9sQKYV7ociO/+vEcsffAg6AI+AIjAsCde0n3W0Xy6JUZIZjQWcc47toXFutxVDPzEy2BLk/pfoWh29B4/i0Qeow3ylPGpjMMkgCTX8JGcokJQPpZbrTs7qWGmIwuCwWIkVzyOfGriIgq2tGjdEFU0ODK7C4B3IlTvNodM11/Rf5DNYjlrchXavqNaB3oK0xlvzjA2+JXcaIfhyIgBPLgdB4gCPgCDgCm4tA0ezJjmf9rnGygWaHiljiOrKkdKoj6Aov1Tc8PDXJTmSBT2RILoQhN2M7TxeEXYa7ZHWVqrku24IRZjKiIpOO0qRLVFDPdD658iZVGGmgRiemimP3QIkMUzJALGsuVg1n7jXr9xZwiOIRoTvcllPqDc7kQy+3vFKJkmz7KE4st30VewEdAUdgqyDQlrWSRhjiYMsX9SyWTfaaViGqVVk0M93LZcraNfNdqqVWbrmZDmUysr7DREQrVEoPpUWPjC6ZYMMuSW5MxRLUMqNqwUgS5S0RxOdEjrx0y1itc7qW0GU0UUQsU4SuMCUms+I2yd/3mQ8h6ZCrYa1wqYxEJvUBx3hM6oG1S4G7rXvZPvD0jLpLI+DEMo2PhzoCjoAjsGkI1MJ86Ko7vFWdVAMXNKJSy52oQeuw4460aIhosl1g2uXCZb0zGSmGSmdrbiVE8knnVcmzuawlsaoBlOkxeMIngwlrApZxydKImFAXKWeEr/cxsHa8spil88GCm8ZEHyG5gadWd+l8rPvXaPnapSnqPy2jzAoEnYwF3ZYsSuKKptTx4Ho2UtkbbNtmUpyiMsDESHxPtqbOacsp7XClSXTVdlNPHWNvNfLZsBTh7LB6eobADoJqPf6QYOm3ElmuCk8zzq5H3ibHdWK5yYB7do6AI7BFEciQk8FN2nJ5VzYUy/7xrKrJA7MiYw+f7obW/EKYac2Gmrrj2hN7w7x4YL2ihi1HGKzxzOUUcxx8rHQzxHJE+QzWoBfSyehBtGqmk1p1181MHc831jT2KTKuZt/ySN8JXS2AvxluJPWXxV73WW5mlO7X9E5BJWRAqDL3fZn606wcVVJFY5VFHLUmZVWEkt13WJ8S4nmqsivsmpkJh+tadkh5Qmg7Ynhtxatr2a9KZy60uyUWSM8pk/ngsmCRS1459iTrHLd0ZxEhl8dm3GQD8nBiOQAY93YEHAFHYLMRWGzsC7ff/3j4wu3fCvMnjof99Xk1Zk0Ry5mgpjBMqBFvL+QaNghQ0RCdrf65iRDLctNEazneMGdlLEQ5PZCx1CwPUCaPWQ7XMrjlZAxQbl3eZfQoBJbBLZd1GRlp7MsR9pwe6fqDi9HBzYSyltYNYn951qhkWS+GmHRkjWzpY+qqyy4Ke45cGPbMTGpMs54lPhboDtdHBURU83ncZRBwYpkByIMdAUfAEdgsBNQJF46dmA+PPHYsHNg3EY5cdkhWysWwUGuo0VMvnehldnidta/phrxMebrZQW3kMXw+eV1yxAUJafJp+4BnVO1murnJITe2ka5/yEvK5fYbT6VdT9ho6m8TsC91vyrS0PUnAUyCk6WvI3ZYl5USV3SLV0Oz2Qxf/Py3wqOP6cPt8gttDcu2CCgWzY6WHmpr7CXn7vIIOLHMY+QxHAFHwBHYFAR2yWpyQN1tVxyeDDc++0h4xXMv17hK7bqjNrGpBrEm8lMd4y6wTQHJM3EEzgIB+CvfDjw+HZ0wEYfub86xRM5r6MljD50MtXZDH28sNdTRbldNLb7PoumsCKB4eX5rcXf6HyeWO/0O8PI7Ao7A+CDQmg+d2eOhO38sNEQwJ7TLTnf+uGakylKi7jrt/aHFLKcz+mLaSVvwMgIUrCY3M3auYmPehs2nhCY2fhJaMNhVOrmmDEtT2tqUGYKp9JoekhnnV2CW07XEmNHBRS0ZMpr661aZrJJyYJIrD33HaUywxacddZeWkas/LMWTFUgi1seiK5zZ3zjWiW2dngsNWKfWsJRtMizKqgkRZUvVwPqy8qtpIo/N37FU/mcQArmncVA693cEHAFHwBEYMQLdxu7QmdwbmrXTmh+uOeLqWqWLdlFd4dW6xnyJYDKRIO0Unlt/Jy1AoSIMuXwsj5wu2YzyEdSY50hFrry9xZqSeVVylmCRjPQkFKxhdLUms1F9ZiKkk5cMHVH9GfapLPP3Gsv2DFt/xfiPNLEsU39NlhLimdI/puvY4ucilay0MKeJcS1NlBPt7BFP6JHWZVCXeZMPO6Vta5zlZtReCvGtEObEcivUkuvoCDgCOwKBpsjaQk1LC8lC0lSD15H1pFqZUtPcEKmUJUWWlsUwm8diFK1flpymG/q8kiVjZPVAzgh0KZNPdlIURCtTrqyMTPqywdny5BQF1jI3Ugk5OZ3LZJOTkdEV4lnVUkKMPWUiT1c9AK1uKzQ0Azzow61TX7RlqzDUE7ei57DK8yZCqQ5xTX6HlLZl1cwp4uFOLP0ecAQcAUdgTBCoqOFi7Up+VZ2zZ3FF47wY28WuO3WRzVp3f0bbfLdhRoAFd3PLDdnSLSMgFTll6ONM9nNKh9xyQyIduXU5IRtJZ9aqdCSzjGZ0ZXbxZriR1J91cyeYVJl7QHiI0mWKnJtqjQ5pGeXqTxNx9I+4bNmo6eFhotuQ9bJmXd81dZVjqaeGiIcFE82IW9PHXqWtoQHpWyBTzp0R7MRyZ9Szl9IRcAQSCIxLW1ERQRKfVINXNMW2Q3hrUrxKGtZbodOc0gLqw2/pmIBiKYiOwrzbBORKEbG8HhA6ertbLZF2EXTO6/VGWFxctKVn2Be60WjY/tCFVUtz9BXOOTOGG3XNFpa1kUkdxJ2YmAjzC1rQXkMVdu3aZXGwdDWbmrkv2ciyblexGPyLfFWvyhtHmI3tE7lpTMhiJrnFTG6RYMWH4JAPlNjWWtRYv4WFBcuX8JwbSf3VypDgNPbgno6RK0m58GwexjyLuihWAAB/FkDXfa4wnjGGOjCO1mpID2JV3eMahGL7kNc0hKEmEprbXrSUtrn62yyrdill1x/JieX6MfMUjoAj4AhsDALWCLOpn4iDcYfewt6QKzU2+JcjDBuj3rmRmqUMWbXajJ1TYw6RAz+QhCC2tLsK5K1Wn9KvEhab8yaLeMwU5hpSZyRR6SCHrH9Iu7/YXAhTU8W417l5LWSPv8ZYNiZYeLsgj7a3u4ipslM3bCVMTk5IRssIIjI7Ii+2QJHiEN7SmlKQS8hkV+foPKE08/PSQ3Gnpov80H9z3PD5bJ6uaUSiHkbKI3HjaM8V5SzKas+eruwpJLj3KPI4qobNmpnOaRSh9vCPQtA5kVHc/ecka8/UEXAEHAFHwBHYXAQiwSyIYEXkUFZgWaxswWyRQ46QyWglhADiFx1x6+oWhTxiyeTINY5rwnGkj1bJmBcEET+zRIqxGHGU5bMgsloAX+f8yBOZxCt2iWH5m8KiGuVbJv7HERhDBNxiOYaV4io5Ao6AI+AIjA6BfmLYLzUSvq9//evh8ccfD1dddVXYv3//EimEdD744IPhlltuMcL3jGc8I8xoyz+zcopscqQrHYLIDzLIEYLJEcIIwcRBCDmHNEIeI3E9efJk+Pa3v20/0h04cCBceuml4eKLLzZ5kNHp6WlLT17IQbY7R2BcEXBiOa4143o5Ao6AI+AIjAQBiBiELJIyjpBCiODc3Fz467/+6/D5z38+/MiP/Eh42tOeZsSPcH5f+9rXwrve9a6wd+/e8KQnPSns2bPHiCOKQRxxyOM85sORH+Qx5kMcSCUWyEhAjx8/Hj74wQ+Gz372s+G+++6zLm/Gaz71qU8Nr3rVq8INN9ywREwhwXE8qGXqfxyBMUXAieWYVoyr5Qg4Ao6AIzAaBCB4kVRCADnHQfCwEmKR/NjHPhb+xb/4F0YEJycnjShCCjm/8MILbYJOJI+kw0EesSZC+AiL3dack5bw2K3NxBvOOUYiipX0k5/8pJHKSy65xNJ/5StfCbfddpulf+ITn2j5oj8Oufyi/ubpfxyBMUPAieWYVYir4wg4Ao6AI7AxCPRbEskBkoaFMHYxYxWEtEXLIF3WV155ZXjd615nVsxDhw4ZEb3nnnvC7t27rVv8/vvvD4888kjYt29fIBx/SCVykHf69Onw8MMPB7q8sXqed955ZvUkDwjqK17xinD48OFwzTXXWJp3v/vd4e1vf3v40pe+FB599FGLT1wIMPq6cwTGHQEnluNeQ66fI+AIOAKOwFAIQCgjKYukDz8IG1ZECGAM58g18XAQx09/+tNGCq+44gojinSNQzqxKH7hC18IEM2LLroovPSlLw3PetazLC7E8u677zZLKHEYK0ledLV/13d9lxHG888/P7z+9a83f6ySWDOf8IQnGEmN3ehYQZHFDxePduF/HIExRMCJ5RhWiqvkCDgCG4PAiikPXLAZsLsdg0AkZVgKIZBYASGX/S6SUMIgmPfee2/4wAc+YETwO77jOywdYzK//OUvmzUTAko8/G6//XbrOn/hC19o3dtYH9/3vveZ39GjR22CDtd0gf+7f/fvjFBi0UQHiOS3vvUtG28JCWUiEV3wkQhHnSPh7dfZz8siwPO+xjO/hldZiR7vTAScWJ6Jifs4Ao7ANkMAQlGxteuYxBELx8p2Wj9QvYtLXjFojeMKUrpGeBkZayRzr01CIJJKSCAO4hjHPOIHcYNUEg8rIX7xx+xwwrjGqkhcCOHTn/708MM//MM2zvKtb31ruPnmm228JrPHv/jFL4Y/+ZM/CYydfNvb3hauvvrqcMcdd4Q3v/nN4Q/+4A/Ca1/7WiOmd911V3j/+99vk4SwcGL9vP766637/eDBgza5KI6xjOQyXm8SdNsiG1WfHO8BHZbeBViC5Uu9awF0886UNvceyCS34Ny7QtpocXYta6XMyC/GZ9fKohwMiRiFJmW0XX8cH7Cxfsw8hSPgCGwTBOILe5sUx4uRQABiiIM08sNFQsk5RBNrIJbMGBd/rInMHI9d5ZBRwo/KAvlTP/VTNoOb8ZEvetGLrAv8xIkT4YEHHgh33nmnpWWMJnJZ0ogjBBMCCclED2RjqcQCypGZ4g899JBZN0+dOoUKRoAhlcR1i6VBsv3/GONdWcxIJcf9veUWy5X15leOgCOwzRCIlqr+YmGrLPzH/RXdr7Wfny0C1HW8D7D2QShxkEmuIXiRUELcGD9JGGmY9c0En34ZdFUzWxxrJMSTMCbtQDixaOIHQYRMsg7mRz7yERtjSTiWTsZWkgfpnvnMZ4bf/M3fNML42GOP2fJDv//7v29WTsjk937v94bZ2Vkjlayhie7oSFp32xcBNmwaPFIn1n2kmuOFgxPL8aoP18YRcAQ2AwH6lJY6mDYjQ8/jXCIQrY0QMsgd5AwyyXUkmRBMyF4knoRBECGYpMFSSTgkj7ScM9ubcZCEEx8Xu6vJk4XOX/Oa14RXv/rVloZw8iMOVk7SQFAhrjhmlhOfcZ2MxcSqiQWUvImHbk4oDapt/QfayMfvwFcUEcaTU1q9OLHc1renF84RcATWQkA8QE5/7N2tP2P8kl5Lf/dbHwLRGgkxgwTiIGhx7CT+xOEIYYT8ERYdBBMSiKWSODjIXnTERy4yIJ2EMT6SayyY1113nVk0YxjkFEsoXd5M5CEu5BI5xMfaCZFkFyBkoStklKMTy4j69j0WrycW2R9QxkH+A6JvtrcTy81G3PNzBByBTUWABr+/MeZlXan2lp/ROT2KA1/gm6qpZ7ZRCERrIvcCv0gwOYfIEc54xve+973h1ltvNXJIGEsDQfK4f4iHXyR4x44dW9pnHL2xbEJAIY+QRsgkyxExW5zdep7//Ocbaf3EJz4RLr/8clu/8uMf/7iF06X+5Cc/2fIh/G/+5m9s2SGsmtFKio6co0sktxuFl8s99wjU9FGi223J8Z7iQxg/3cW66AtcijUeJ04sx6MeXAtHwBHYJAR4MeudrV/xera39Sbl7dmcGwQgYhCyaLlEC6yDkEEIG0v7fOYzn7HfV7/6VSORhDMeEhLIGpVYEKNFkbUmsTTiopWS8Y9xgXTiXXvttTY+khnfH/7wh229S3SAkL74xS+2LRuRi/WScMZhQkohp2zpyFqXzA7HSgqhRSZhHN1tbwSo72pNuywtVTVWcpjl+JLJ/hpxYtmPhp87Ao7AtkWA13J0Vb24KxWxSx27GiG/NV7XUXs/rhcByFi09EVrZeymxrrI+pSXXXbZkqWS+BDOo0eP2vqVEEAslZBHCOab3vQmI6WcQwIghCw99G//7b+1CT3EQy676hw5csS2aGTnHXSAfEJkGU/5lKc8Jfybf/NvbJIPRBVZBw4csD3JmT1OHIgn3fKkJTwe14uBx99KCOhDgl6VvheTqn/LvKecWG6le811dQQcgbNAoBgTp8XqltLWtEBcY0IzdE9o8kaFsXTF8jNLEdY46SemawSb13IOZ8Yok77aqYdGWzu/SOWaWhLtCm1EQj5qVbSuYqUe2t3mmcLX6WMTAzJpoj03E+2cBxe45tBVt6I0tfrpETT1J6vhLkp5rbqc+UE2u5qOW6vVFax7QyYjLEdPEsFk+AT+1cmJ8KIXvkAkryqSqa5pxlxK5hFZNp9wycUmAxIKKTiksZMHn/2scJ0I5CJd6fKcmprWT9ZP5bV/397wvOfeFG6QhXJOlsma8qK7u15v2NjKjshtHQul5JMPaSCWXKfutVFVSv4+2Sp3CfY+/RNuHaZb6wdJZ71I7gOcBkjYK6Lau5UsPn5gb2kLVHN3Wpl6WY5TSLNXk9bRRAuqN0iJ2mQz6DZAcbliiaveRfTUcVkSscbFObEcl5pwPRwBR2CDEKDhYMne4iWs9kQvbBHLKTUsFZELo2/DZ517xROea5TQoqOFkdvddmhXtIxNaIdOTbOX1fK0u9UgusKS7sMrKwkpfdGzjK4jUWQEQlJlQfzSsi0i5/Eav0q1HhYWNdlmYirZxTwxVbTwHSUi3dT0bpMTZYEmBHQSJqBwyEjb+AoEsBKmZ3Zrcs5e3W/6hBFZhMtAcAiL8qYUh3J0SKs4zVaP8EjHQhakkhyL0toplxvpigwH5yBVNofiDlZhXSG9+jedhWulRyp1I+gVoY8IYWu4qtwUnRpYL87EL2oop5li9h5lvYbMWV561ivKfGJKH5aRoXU1OUxx7aNCGnGEGI+ri2qPq36ulyPgCDgCQyIAgZQIvbXtxa3Tak2WI1mGJia0y8oiDfx4uMVaN8zXNVFE/GRRBHNRpstKvR0WOiKXYiCN+rQIZizFEDpbgVOl7gNriGw2LWmukRVm/Eu5Fgwv4VJonZFMdbeimkRgIhHAImrUQ9mZ36ojpKETmcYZgst7QFqHdqVEpHEbWgcJKHJI51OmvMt1IOxF1Hp8LuibLXT4qbyQuphTVSSvqw+G4vOgZ00cSYGUA9hKAfQw8zaZk7HunZqef6zh5qIyuiiIJb4k5jeezonleNaLa+UIOAIbiIB1OcoK1ZjUWoXz2r6Pl/sYuJZauHZVXfN1janTsdvFqtIIdXWBaiSfesjUxFVX7m19NmoXDVRsVteSoPz6B3itFWVs/Eqs7aj6zRGP5UZ7cMEiMRkYo4/gLjX7fUTF+lp7pFE2TiMRy0dJNbOUSKjSDOtM7tBCzLY3UIppaf24A6OMKCB1rxZZFHinHmTdJz1tOmb31zJOlWLtUXDvVuYVCtNbqjkjfFzFD4Be8qEPUNd4P3bFaBmSgV9XPRXwxfqElruaEbvUOUZVPf6rXJ+Oq0LG4dKJ5TjUguvgCDgCG4ZA/0vcXsf6w4zwyclamJishpNdzbTVGKZxcFUakZa66dsTodFthJrGW1YWpd1ENTTU+FRFgifU6AzrChKVlpMlUcMqMbL0xcScYcXRuK8gFasEglmOfIIZYmAEq/GLaeORWHAyPhniuaVTPsMuJ1SoUMg14Wf5pwxnlIFtE1y+jlfjfaZSyzLasho3NHa1Y+MaeR/og65V13sAgtnDrVffXY13pM6GR7NPo95ATkglBBPpDI3oaOgLQ2onJhsaPlFYLFfDK1VSt2lfJufu1InlucPec3YEHIHNQEAvYhrI5YaBZWfUrQyxnJJFsIqlYjzcdK0dZsJ8qLfmwkRbJFLds4y3q+pYVbd9TV3l7ebk0MoWjfAyImcKzJOoM9OcOx+b4Z/Inu7nfkK3VlTIRcqRPicjhldlATOS2W/15T7kH13ua0Lf8zQSozhDujzRymcQy5OKOYp8UvJjWE6X8nroA01mwLrGLTJmFkfd1/VBV+toNQBVzpIshWPn7NrQhuHrJJaFiUKanmeXFb2cjFhKJw3MCbV6TSsK8DGpcLsluF9W3zBcr/aL0s/90Ynlua8D18ARcAQ2CQGaBusQU0PRaFTD9C5t0zelCTHDT7QeSQm63VmNpTyuBo+laRY1vlLzwdXILFSaanKaYUKTQ2ojMBGNrokcSbGHFjKK8jBhaliHDBujF4mlEYJIAAot+8fIrlWVJFkiNkMoNApM8mQOshzLN4SyI0iaL68+yhSJzwfqoKrxy5FYVjTmutPR7krqGjdrMcJ6ZA4MeGeQblQl5QPD6tkkIrWQzLfN5LSWtdozEbPX0ZRRnOK+yNWJRTzHf5xYnuMK8OwdAUdggxHQG7zobqIRxPFaZ0mZirbZq+s3E048Ph7MsisrSmNyjy01sqhlkGZ1XWvs0mSebjitVnECy0ocFzYEbGW6WnMWvCGyH2nSLhafDCmEqOXKw2zsnMsRi4hrJIbxuJZcy23NPDXmLm08XUvcCj8wsfGCK3y39kUKS0qWI1yExzgc49qmpEX2vJ6xWSyZWpMUC3eVGeR6RzCBJ35y5HRAVhmH/MJqCQVTHvp19TFSa9TCzK6JsGsv1kyzlRrnRF/yLvLnWCaXcxfHieW5w95zdgQcgU1AAFIJoyzacJ3Y5Am92LW8yISWHJrZPT02xLLV3Rtm5+fCbV/9VvjHr/5d+PMPfio057RNoCyrs9WFMNndHerDz91Re5lvmfota5tQTUNlkSuPWamzOeQxicRkkCj06CcfdHgWTsSgx1vPDF8Oi7HL6Rtjr30s7ve1w8r69us6KE0Ok0Hp1uNf4nbtPd+DpVIW6ocxlHwAMMayuMcZGlO1HY4ePTYfbrjmaiOglqf8eX9UbMY2FZi/RwZr0BfSLwrrtv6hA93gU9NatkrDXoxYGqFkmSndSZrYRxlMrz5R43gqq/0obr9xLJrr5Ag4Ao7AIASKNzt/F+Y74aufP6b1BbW8zyI+dVugmlnRWDY7mlFjs3SXWcIgoUP7L6rxOH5qLjz86KPh5OkTmlBQWFKxntg4L+lYqrHPtH+R5AxWWA2YWb0Gx0AfY+yDo5QKyWSzRMhSwnJrewJHb77EQDGjKA8UIefOvI3Asd/lsW9rrG2KfKJHrZ3XpT/XszmnLLn6Y7Ge3H3SylhoayJ2WA6HdUUdIwWdVsvrhhmNuz60f184fOCgxjlOso66la8m8seSQDZWl/70IV27NitxWu2hOxM6mqDX0nPe0LJi+89vhPMvmg5795e5k4ZUYgOTu8VyA8F10Y6AIzCuCBSNCn/r2oXn0OE94cGHH7fur4nGRGiq76vd0qQZdY/Rzcr3t+1+s8HFachicXDf7rB3z3ToalVsxn6x2wpmiq4aNCwtrMGZcvlmvGhSk1JoxHMNOcQyz1BTqpagHHldi/KmmQlG6mR50ZIp+cO6HGbIz2FWAvuWiGWarFVCfROIpWmRhl6462PIanptcJGRUxVSWe3N4F5bShlf5ZT5umg3F7T6glZg0Kxs7piOnn2euS43kDbn4pxdlYZ1ykGEUvLtXqBbvK3ekxD27Z8Iu/eAFphl79hh1diw9MMjtGGquWBHwBFwBDYeAfbkPXRhPRw/XQ2nxShtuRHe6ZoRahYKTZwpaEkxi3MjNaq0myKSWm5Ik3YqDc1Yh1CK1NoPKxVjvjIKQI9orFOO4qXlSEKWZ9FQp3LJh41GVxGTTIlRM9tMD1mWorQ55POYcN/llK0aqU/I0j2jW2jDHaVlYfGUgyalonAPZL6VxMU1JjKVSdmwlCLI0N7vOPuI4wFQXWCt5AMPJVlH1urHYp39Hz3h2rJVMu3ZbovIdsLufVMa791Ql7ihKuEjKfHZKzlESieWQ4DnSR0BR2DrI0Av1/SuSjh43owWSz+lrnHt2VzVXs6yHra6MlOoEWf5mAx3GQkQGCeNNDAZxdowWUu0Z3WXrkCt4l4X6ez0tvoblCENE0umpFw541yuFR6+kSUH9QQmXRld2ZYz5dJo9FLKGjUeDm3TGusuyKuaY3x5CdkYaJmrn5yu1Bw736ScdQyPwmIJaU+4iqyRTOLqFHto2rjH+HEHobTzRPrSQer7r9o6mk2N9V40Unno8KRmhBekssDMiWVpPD2iI+AIOALjhkBF1sD9h6fD3OlOePThudDVmna2HY/e88WYxnRDP7LyWIMmUikyC3VY7sJVo0ajKM9cc0O03JJETADI9Aoqdxq5nCsTZ7AMuEKuPGV0LUGzRD1zuubCB5djtCFl7rW8rhqVO1q11pBGJ25WW93EqXut1D0gkqxFwdbQYL1eaUwglRgl+U7hubdx1hqCwrAYffHpXs0w4JLq8A1TES4V9YZMaQLhgYNanWIf+4HT9a5eC1ZJ38LOLZZbuPJcdUfAERgNAtC4qalaOP/CaU3i6YRjj83qKCuhZo7TnGRNKqNRwxo0iKE1bshUY8YuQezQwa4cNsaykn5tW1obu5VQSt1w+WY6RxlogXNxEjoQZCL4k3AldM1N7IC8QILSLqNHOnERypdAzuXMc5Y+rSsfGSltSZ0vb07RcuEp0ogEJlYlUaEgqcL01MhN0OpFSxzIJI2rLV6vaNDluKVpnN9Ml3ij0QjN5vBLkzE8AAI5IQvlvoOTYc8+TeSx8dzK3O6P0RDYBBgbGpR+Q21o1i7cEXAEHIFxQKAYw0hv94zWjzvUmgqL7YVw+qTWs2trEL9249Aoe7U2JVq/YYuDEoyrZMKAZBUzs2nk8FeHoIhLsUZhOiOGbyVdLtwS5yKNBo/N0VXtda44ZdhNElQFYl7NulHESWNfhJbJJ6vs0BGWZ2KfvajRlCeNmWmnjzhDrceEI6lkKSB+Re/F2ZcjpqyJjde0Y+P+A1Ph4KFpdYFDJIsBLJWqaBk363hUX1R5XUcnluuCyyM7Ao7A9kOANzg/NTwij7v21cN57d3ymQsnj2m5Ie3bbftIMy10g11hZZI1kQZO6tC+sLoJfEW2S1kwWdMu3UDSJqZjSBaicmWBTCedcskKSQowS9bQuqrA7Qyhy+VhWuZMb+miWGiubogULWEDxRmpyWBfRtds/Q3UYF0BuRndZlsd8j6xD7t1aTUgcgY3e86Ev+nMkWrQs4gPO3mPwlqJZtV6Jxw4MB0OHp7QLjuMn2blCZ7+vt6RzC2AnHF1TizHtWZcL0fAEdg0BLrqfiqaD83Q1PJDBw9q7Q/Wl1uYD/OnaGEYoSeyZwQmEiroCr5FA1RpF6/TZXLRozOKUNhBaK7yFIc86jA/tWrIsp91febTAljUh/NBzkjroMD1+BsJWk+ClXHL6roy1ZlXWWQUIRcn14udS19oRYnSLvNdoMR5GTDyErGSipQrT1JEqUDLJ3Of5MpSRtdSMjJ62F2ih8MIZawJPY/I7oj4MVucjRWWXFRsKXNO5Mlzq1Q2TtOeZWhpS9cij5pdvlsfrwcON7TDjhYxs6WjkEjaJUF4bFnnxHLLVp0r7gg4AiNBgMZBLQmv9LoRR7U+2kf80CHNDBehfPj+0+GkusXbXS0FQmOBNVGNj3VWwxJgJEpcCVO2Q0fHuqsRSitGI6ODtRlFHroa7EwUCfj1ktnZ8p8iZPl69RlZLbVVqwN71zkZROvmrDsUbwQuk41Bl88mUyKBkolRKp9cka2aM8rm9MBUHYnNIFG5mdhFumxOWUwG5b8efzDJuXwciFra5WWUuAfsZuzlxeroODKWcDNcamUGZoebLj3CaedLynGicPt64D2hLVn1a2kf8k5Xa2TOqEdE+4A/4XLNANfKRja0xd4qGnITCxCP5L1FnRPLLVpxrrYj4AiMCAEajb6uurbGOjEHtT5RCXs1qL4a9mhNyblw/MRCYT2kIVA3YwUrpn5tsQCWJ6nV5q3LHG7KhBsjCGqcmHDTppFSm8PCyMO7pVZsgKgyLVNOBuqm5WD1xDKTdmkZRdpRyEhrMarQHL0p8ekgVTLl1Q2UI5aR8wxfrowuw2dQUsJm3SeZ8vZ9OdjQkyW1lk70YYnlkWJBHKlxiCSPAuOfeWrqeg8Ua9BS1y2N1+4EkcopfaxqSbODB/eEiQmNp5SMogekJERbKJoTyy1UWa6qI+AIbAwCRUPRa/JpJSo0HtqzV+tb1jVbvDo9HSYeq4ZTJ2fDaW252GrSXT2tbvMpNSY1I4/dyik1IL0B+DQ6WEFFMLUcpq6KrvRuZtHGwtKRK+NyI5eLOTi8hIzcqtXglBnHl2s4o2VnsJ6jCymnSzq/rpmtBsfJdacXKdPYQ33SMRTe9yE0WJsyIbmcysjYrDij0DUjwxi94hT/l4nf0gtCHdpdzQqnkqxHQlH1hQW9JAofqORQ7JLFsv3s1NPVwueTYd+BSS1pNhWmZxSHd0OUSXwIad810rey873Ct3Ltue6OgCMwEgTampdjS8fRjR0WJZOB9LTefHuLOOpqXvuIn3hsITz+yKmia3xBVomuusvDpEJlpWicEq3UTHJ1lXX0syamZ3oqhllJYoaYlCOWEr0JTsbYpCtHopIitlzgZmHSu20G4mPW4oGhHnDWCOgjsSB40ENIYyHJeKT+YLG2NSaxTvLPrJQyc1qFaK1L87OD4unDVB+lu/ZOap3KmbDvkKIxN0dyrEODaFysctuBYDqxXFWpfukIOAI7D4FlYknZRQ5tBjgvfevoUgvAGKi6SGPQzjwhnHi8FR57ZDacOr4QmouMvKxrHTod1RAV1gtZOW0Gt7rJRTLb7WLWZ62Rnll+ZjNzZl302rozA/p8cnLKyMDeknI23jQVQWFrNZyrk+Qa0rQWq6UNuF6jAT8jZmQRZwQse4yC8OWwp7y5MudkLGs8+GwUMgZLX1/IKMqbk4FGuTJXRCyLZ75PfwmGRBaVorPWhPVE2DeiDWamC1xrzNq+4hpGo65y1sTdry7vvfsmtauXPk81F7DW6x9mEhA7eUVdVj8jueehT7OxPXViObZV44o5Ao7AuUKAhgIrRHz5Y4Bk5CWLJMNRtMtimJ/tili2wokTc2F+bjEszMpfXcMkZTQli6tXWZMOyydpFNCtiJUmHN1qeZcxJZqAvsFiawrMy2CsacoxDhUSnXJYdNJuZZfg2nFzMtZO1e9rNZkhlyV4pXr+07hVs+VFq7QMYjABLOVyE55SaZfD8nosx93os3R5y2Am1EoomS5z0UshMXoMC4vk8vMYLZn0UrDNatsedA19UWXU1N2NhbKmFSVmphsilVr0fG/DSCUfI9ZjoftvLdLoxLJEtXkUR8ARcAS2KgKRexhd6iN5NC+E2U/nNZkr4BBtMc6FhZa2gpwXyazb+cLCYmguqOFROBN8mInBouY0IF32Hk+5MuxmFGaznAzp2Okr/1oqWxNdQs5aadfll9GjtKycriXyyVGXNG3paVpCj5HkUwaYnC5lZIwiTgnsszOaRiDDiB/DYexZ7X1Y6pnEwlhMyKtY7wO0k03S6xPVMDXZCDO7JsOu3RNa6FwDYzTpTxv0iGjqo8m+AOIHGncH7wMd0t9jo0D0nMpwi+U5hd8zdwQcgfFAgNnb0kREsH+GOEQSayV8j64v2oTiL2Os9FNjppeoLJgaXdmeVKNTUVd5JyxqPGZ7kUZInepNTelpaXHlRR0zu8EV8i2TwX9QKudyBLWEjG4/EGvkVxjVMhRIeixZgdaQAYZqxdcI6fdSY1yGNPQnWeM8pQfRTZc10kUvxtnmrWLYcTPlyZSX1LlJQiOxWGb0iOXelOMI7telAZGDFDYSnb5fiyW2+AAsnmsYIISyqgHYjK3kfHJGXdk61kQqGw2RSIikzuuyVlbUNc6SZbwrinuF/PiYxENs07rae5c6bFfnxHK71qyXyxFwBNaBAI0J0ema7Usmv0gTVvjLl39FCv5yVSycDEHlh0WTBqojsmlHGCrtTMJlgi1lGY6VM0SNQgbK5OSsxOzMglPenIxcWc6UurZPzppYBvu1Ja/Pd7PKm9Mqp0cu/SjDc3VcRtecDPTNyenffpIPRmTagA/dyIU1U5ZI7enNuf10UxmJVLziXo/vBF4inMcf1/Gn023unFhu8wr24jkCjoAj4Ag4Ao6AI7BZCOQ+4jZLD8/HEXAEHAFHwBFwBBwBR2CLI+DEcotXoKvvCDgCjoAj4Ag4Ao7AuCDgxHJcasL1cAQcAUfAEXAEHAFHYIsj4MRyi1egq+8IOAKOgCPgCDgCjsC4IODEclxqwvVwBBwBR8ARcAQcAUdgiyPgxHKLV6Cr7wg4Ao6AI+AIOAKOwLgg4MRyXGrC9XAEHAFHwBFwBBwBR2CLI9DbFr1cKbSHRLmIHssR2GEIlFlc2b/idthN4cV1BByBsUIg9572d/TK6qqEdVHEpcTrSpVbtX5Jqp84AjsMAW0Lm3fFpgz5eB7DEXAEHAFHYOQIZN/T/o5eiXmZdm1lCrtaF7HUlutriHAvR8AR8C9hvwccAUfAERhvBPw9vb76OVsL7rqY4iMPza9PK4/tCOwQBHL71Lq1f4fcCF5MR8ARGFsE/D29vqo5/4Kp9SXoxV4XsXzb+794Vpl4IkdguyPQyXzaVfSpfJa9CtsdOi+fI+AIOAIbjgC93F1/T68L59/40ZvWFT9GXhexfOUznxjT+dERcAT6EPAulj4w/NQRcAQcgTFEYOe9p8/NoNFKV65s/c/OtctG9XiOgCPgCDgCjoAj4Ag4AlsUgZnp2llpvi5iGcpz0LNSxhM5AlsVgdzXmXeDb9Wadb0dAUdguyDg7+l11mTl7FqudXWFh7PMZJ1F8eiOgCPgCDgCjoAj4Ag4AlsQgfURyy1YQFfZEdgMBM7uu24zNPM8HAFHwBFwBEDA39Obcx9k5khtjhKeiyPgCDgCjoAj4Ag4Ao7A1kfAieXWr0MvgSPgCDgCjoAj4Ag4AmOBgBPLsagGV8IRcAQcAUfAEXAEHIGtj4ATy61fh14CR8ARcAQcAUfAEXAExgIBJ5ZjUQ2uhCPgCDgCjoAj4Ag4AlsfASeWW78OvQSOgCPgCDgCjoAj4AiMBQJOLMeiGlwJR8ARcAQcAUfAEXAEtj4Cvo7l1q/DsypB/06elb6F7/GPYdGfa875dTqdUK3698hZge6JHAFHwBFwBByBbY6AE8ttXsGDihdJI+H9RLLfn/N+Uknc/nCu3TkCjoAj4Ag4Ao6AIxARcNNTRGKHHCOJLFtcJ5JlkfJ4joAj4Ag4Ao6AI+AWS78HViAA8UyRTyeaK+DyC0fAEXAEHAFHwBHoQ8Atln1g7MTTSCL7CSPnq6/BJsbdiTh5mR0BR8ARcAQcAUcgj4BbLPMY7agY/YQSItl/vaOA8MI6Ao6AI+AIOAKOwLoRcGK5bsi2dgKI4mrLY/SL/lxHQhnJJcd4vrURcO0dAUfAEXAEHAFHYKMQcGK5UchuAbmRPKIqywi1Wi3TularGbHEjzhcR2K5BYrlKjoCjoAj4Ag4Ao7AOUJgw4klhATXT2LwazabodFoLIX1x1tcXAzHjh0Ljz32mBGeQ4cOhfPOO8/WTyQesuLRBKzxp19ef3AkS1GfQfH603Den98w56vlog+/++67z8p1ySWXWF5c4yj79PS04dVut8PExIQRvX45pO9fWzKWKcZZC69Y/hgH2XfddVdYWFgIF154YajX6+HBBx80nZ74xCfa9eo0Ma0fHYGdjUDxjtNbbhUM0b/fe3Wc/jA/dwQcgfFHoCMV13qO1/Ib/9JshIYjJ5aR1EQSwjWkJZJIzu+5557wwAMPhCc96Ulh3759FhatZRAkCM4HP/jB8LGPfczK/OpXvzq86U1vWiJUWNBWk6lIniLpIxyHPzKjP4QW0hSJWIzXH4e4MdyE6A/xkMUvpolhMW7MA3/OcTF+1MM8e3+QQ7lPnjwZ/st/+S9GGn/5l3/Z/H77t3/b8nnjG98Yrr766nDHHXeEhx56KEDyLrvssqXyIIoyQThjnmCMTlHnWLZoecQ/6kx6dIPI//f//t+NWP7AD/xA2LVrV3jnO98ZTp06FX7xF3/R8iRufxm5ducI7EwEImnkyDAR3jd1e5bAo3gW5a9/NDd6xHquFk/86Ag4AmOKQGxL43G5veR5p2cvPtD2dOspx4dznw8tEEaPAiSFX3RUSCSVEBrI0Y/92I+FH/qhHwr/43/8DyM0xCUO6bBSfvjDHw6/9Vu/Fe68885w8cUXG/GCFN1+++12TmVHkhQrHhmkjzcA4ZxHwkre/PAnHucQsJiOaxwkjXDkxjiRqOEX88YP2cTliD/nuBjfLvQn6hJlIpdzHCQXYvmhD30o/PVf/3WYm5sLWGxvvvnm8Pd///eGF5hB8n76p386/Mmf/Imli3khZ3Jycil/0lJuwmO+nOOHXsTnnHLGsuL/0Y9+NPzt3/6t1cPBgwfDzMyMnd96663h4x//uOXJn5jvkoefOAI7AAEe13abj+TivdHp8C6IBeedp4/dtt4bvEbkTyOjp04/hpHwkcc7Jd/o8HzmfjHXwcdRyCjIcU6XXPhgHWNIGV2XgI6Jzjjm9RheBnnkXE6PMjJyeRA+inxGIYObPSfHHohMoTZDBnmUccvxluPTZhc/ytvQD5scPa46dsUp9As83yTpJYtlWp3nsvzVIdvneuQWS6BZC7hI0r70pS8ZcYTU/PEf/3H45//8n4e9e/caCYJkQay+9a1vGbH5+Z//+fCv/tW/CsePH7eu4te85jXhe7/3e8NP/MRPBMgPDqIDMUI+6TmnOxeLG4QPSx4OkkUYR8L7rZbIiL9Igknbfx5lQNyIG+XiD1GjzFEusnExP+LHm6wfmxhOeogcXd79JDGWCf+rrrrKynPNNdeYLPQjn0gkOSefqakpyxfZkUwiB3/KTv5g36//7Oxs+MQnPmFh119/fbj00kstLXn9zd/8Tfj0pz8dvud7vmeJ/Fvh/I8jsIMQ0KOl54cPx+WP5qL4y9d6vFY42rGiLeulq9DiFB+wKyL2XZBP3vVarkTEvJxRyEgosBQ0qnzScvLlRaGtIWMJusTJuJQXFcdFl1Hosbo8q2XSfvLBaG7A7STqabdaf1tP2xydyei7jv7b6bghxDKC2A8s5Abi9ad/+qdGoiBKX/nKVwJE8wlPeMISIXr44YcDPwgW5Of06dNGEj/zmc+ERx991CyaWPgIgyxBniJZZEwgeTIeEx0gW5AmSBhEi253unzphicO4xdxsaKJg44nTpywcYZ0yUN0L7/8cssDokk4+ZA3YxFjWSF4EEDcN77xDetChjBjcaUsyMZFggtZRhcIJX7IQSakj7icoze6oef3fd/3Wd6UO+Z5//33m3zkfv3rXw+7d+82wo08fjgwACNwpNzIO3z4sOFHXlyD0ec///nA+M5rr73W8CYtXfCU/R//8R/DbbfdZtf9+RPHnSOwExDgOcHFZ2+tMre7LdFGNTyKCn3EXlmpFL0HRTp9YJ5BTNeS5H6OgCMwbghEHqnOiiUHP4wcEULJe8L6Knqe8b2xlEAnqXdIf7ytfL4hxDICEgGM4EKE6Ob+p//0n4YXvehF4W1ve5t1sz7rWc8y8vV3f/d34fd+7/fCX/3VX5kl7j/8h/8Q3vWudxmxomsYIvZHf/RHZl0jDZbLI0eOmMz/83/+jxFV8oa0fvd3f3d4wxveYASN8Zp0uz/1qU+1LmYI4z/7Z/8svPnNbzayRBqIL8SVrma6pYmLtY5JNL/+678eXvCCF5j///2//zeQnrL9k3/yT8K//Jf/MrziFa8wIveFL3wh/Kf/9J+MLFNmfs997nOt2x95kEXyoHyUi3GTF1xwQbjuuuuMNEIoIYQQwYgZekFC//f//t8B+a9//esDZUe3d7/73eHGG280Ikt3NenQhXI9+clPNllgRhc7+WEJRu7Ro0fNAsn4Ta7/4R/+ITzyyCNWZkgseeLQjbhf/vKXjVxShlinFsH/OAI7BAHaCT0qS89lt4vHqsLXNMzEPOkAV7j9ijhEtWeadAlHPjmHHjmXkzMKGTkdCB9FPuMio0x5criXkUGcnBtFPqOQgZ45OVuu/njO+yrAHsm+51LfiiucOsl13Uuhr0qIpUxI1lau1V6u5bdC4Da42DBiGYkRIPKbn5+3MYN33313+PEf//Hwyle+0sYNYrG89957w5EjR8zaxuQUrHyPP/54eMpTnmLkDcsfpOtrX/uaxXv6059uZIzubiygv/u7v2vEDLIIuWLSDwQPy9xLXvISs4BCWvFHPnIhTBC9/krGGkkekF8seFjsIMBY6SBmkFp0gbRi1aT7mEk2+N1www2BPCCdTDY6//zzjQhCAPfs2RP2799vFkGIK5NkmBQD6QSXP/uzP7OxlJA69MdKijURCyl5Y6HFYohON910U3jGM55h+PzFX/xF+KjGRkJMwZMua3TEcvqv//W/NkswJJbxqsiL+DCW8ld+5VcsHB1uueUW0weLLphAbiGXWECxYmKNjWSaeu3HbBs8A14ER6AUAhU1GjSSkVTqtaZnYTmpBuOEtiJ0WkzKi7/euMwm193QWuhLsJx0+WyzWmEaxxTJjWbXZc3O7iyXT5nyknM/0Ks1KatrSgYyy+iyGTJWl2+t683SdYfVX3w6jSb2MK6oTa5qGIz+Wvs8tbsY/lZr0FuqW1NhtRphcdJKlLJWxe0Mvw0hlpFUAiHn/LDUQbIge5Ajur8hSH/+539uBAwSx49xlFgJsaJ953d+p5EvyBXj/bDQPe1pTws/+qM/at3QkDNIIMQH6+SrXvUqqzWsdf/xP/7H8J73vMcseBAhiNWVV14ZfvZnf9YscwcOHDCyR1gkS5xD7DgiA4sqhJBuZMhgJGxYL/GjO/0DH/iAEcpnP/vZRu6e+cxnhiNHjhghhNRCmummphsauZBDdPn+7/9+696GNEKOf/VXf9WsthQg6kRXOAQPgsmPcwh21JNyQyrf+ta32qYMUUwAAEAASURBVAz75z3veeGXfumXjISCNzr+5V/+paV5y1veYlgg84orrgg/8zM/Y9ZZ9MZaiT9d+5BJ5POjCx/SzDnyyJ941Ic7R2AnIcCs747NzMEeQSOy3Hh0miEsaqLoydNtvYta+shdDAvzmty32A5tEUw9sqHLT63V0visAeD1vzsHRLHncVAY/mVkwCnpqh/kYpf+oPCy/rl8yuhKXryDBrmyuqZkILuMLpshY1A5+/03S9edVn+6CwzmHqcsINezXrM2EW7AnPD50KjX1CbXQl2/iUlNUJ5qhOmpSRlmqvLTqiuVYuUV+ER01Fnu/olxt/px5MQS8CKA8RwyxLhEZjkzhi9ORIGgYVHDYsbMZ6x8EDkIHFYzyF+0mHFOJTFpB4smR6xoLF0EOfv2t79t1juID7PJsSgy1hEyRDqOkFbIF128yEc//GNlc016SByTVej6ZYwi5IxufPT66le/aoQNUvfNb37TSBn5YO2MyyfFpYEYuxjHeEImIWeQZgjpC1/4wnDkyBEjmdxEzPoGp5g/OnMd9eMavdAn6s34TKyQEHSsosShbBBuLKFxXCVd6XSDQ+zRAx2IA+ElP3SELMaln5APJmAU80Qeabl25wjsNAR4HgoiRkOh1kX/O5olPn+6qaEqs3rW9Kyf3i1rJe8QyKQ+WDsaD02XmM0W1UoUamxCRSw04SRWrvg7KJresIOCzL+sjGLAy2BRUOhhHboOm0+uvOiY1zUvZTQyCm1SuOU1SaUuwvK6QpHG4z7J6VEglrvX8lLymORl0PZF2CIv0KOvezjqB6a7ApPCF+fwZ+mhRbXLi2FqpimOMBF27w1hz96utZW0yf0utq39ftvxfOTEEpCWK6SoDIgfFkiIIA5rIo5rSA+TQyA+WNIgOla5FqOQReVA3DhGYkUeyKXbGGIEuYOckh7SF7u8IWaQIWQyEQWLXKzsfj2JRxzC+EESyQuHRY88iMN4Qwgl55BXdCYuaSjHH/7hH5oukD4sflgqsc7iIHrIoQsfYkx+kDesgnEWO3IglP2OePyiQ++oOySVfLgmTwgmeSADHCCDkEgIMcMQwIcwxodi7SQdfpQ1yiQfzuM1eVNeHPq5cwS2HQJmjVx1b+v1xVNHc8SxqsFVdIO3WpUwd7obTp9YDKeONUUoO3rOeMeY7UwJiNd7hkhphBJiKjl6rvIuFUcffZiRci6Tz6qSrilNOa3pHz3ToUWsXBxwFUBF5AF/06FFojypyOUSM0/nlg6NnCQVi3G4qfAoI+qz9rGQkJJD7aXCYz7pOLn7pK9ZWltR+Zoe6WyyuiI8I8Ke0VysbHmUS5ehFf0axYztZtWFni1rDmkXeaq11BBNNu3o3OkQZo93wqmZSti1uxr27q+LcCoJXeaUQO8CDY7RmQxbalJX1JKJ5l1DgEIqG0LPgHLD3YZoDiGJRI1ziNknP/lJAx6rJOMqITIQH7rGsTYyQxzLG8Qlkhpk8IN8RZIHSYqOuJBGrHTPec5zrKsb0kR60kTLZH8a5PXLj7KiH+kgUsiNsiB95M8yPC9+8YvNioocHGMSsapCfJlAxBJKTLBhzCUO8oxDZiwbZI/45InjiF+ME8/RhTTowY88icOPc374Ew8X/WI8bnTiYuFlrChH4lMW/CHaWCohpOQJUaZOokMO/hwpJ+n684vx/OgIbHkErNHQM917Jjnas0bBeOHrXwsLpbq4T4lQnjzW0lFrwc7rXdfSygsVjdeuaV1bmjdrIEhYvCM4W58zZRJJcuEkLd4tCSElgsrkU0JMIgpaFrQ9EalU0Kh0HYWc4WQUmJQp9HD5FDkMJ4PHheck6eIzlYyUkZFM2x84pByVB/y5K89wRYCIZ++57sVlDVscRLGltvL0Qjcs6mNz9tRCmJtty3pZC9N7tYrNtN4iGo+5lAMJmAkU8RGOxbOwRt6Ww9b5M3JiCUmKNxrndKFiTWRGM2SL8ZEQIcgK5A1LJt3AzPqGtNEVHglXJGLIIy7EBhKKlROyR/c43bcsTwRBhTxhkSRPrHakQwbkiCPXUbf+KsIPfcg3kjHiRwehRC/iQcbIB6KFtRQrJBZDZl9TBogZxJKxiyzojgUTyyoOGehLVz1EmiEB6MpSSpSBMBy6RF0hcujFL+oe9SUu57FsxI3nhJEfP0gsE4Ne/vKXW3c+ZWQheggl8bF6kicTpogbHeeQTRxyiEs8d47A9kOAFz73Ni97SgdFLH7qww6L891w6jRkci6cODanZ18fbU3mfk/awH49iEqz9RsESu7OEXAEzh4BlhjTN2iYndNY60UNSZuthT1zmq9wcFJWzEaoaXxmpaJ2vcr7Ig7F411T8JOivV/mH2evyblLOXJiSVEiAeIcayUTVjhCuF772tcasYyWL8gV1ky6avkx47ufHEFCIUKMb8TiRhxmPjNWk8k+kFVmWrOkEEQPEgjxpAuacGZLx8kmEMx+gkY+uEiWOMY4HCMBPnLkiOnFkj7kDQmkK5sj1lB0oOsd8gYZY3Y25f3c5z5n+kLccBdddJHNSGeG93vf+14jvxBRZncjB9widuhJufmhR9SlPxy/SCZjGUiHH+koP3iyVBETnyDBTNCBVEJuwYbJUJBl8KU8xMGRDzrhB6lHdxx5unMEth0Cem6MTNoYSEZUMTSkrudIH8ezWvLrsYVw/NiCPgQXRTLV79VhyIwaCc0GhU92OyuHr2w7fLxAjoAjUAoBhsvYcAft0NNuN8PpU4thXu38vCb1HTyPYW/qHteS17xyCjLJB23x/iED0tOOb2W3IcQyAhLJCVYvZnU///nPXyKNEBTC6UamG/ujWjYHIgMpgohBECE0OEDG7zu+4ztsTUaIEmkgpd/1Xd9lBI2lf/7n//yfZsWE3EG0IFEcsWIePXrUrJyRTCI3kjT8+GERJR/GTcZ4pIdEsuMP1kUsjXRvY+2DyGIpjWM3mcWOdZbucKypxKccjLEkPsMAXvayl9lMcayUf/AHf7BkeWUiE+Mj0QkLKESOcuBH+bFmIieOEcWCSPmx3MayQKDRFWsqMiJmkMNPfepTtpYn8SPODD1ANmNEkUe5mGAEKaX8EFDGZaIDeREXPCI2lrH/cQS2AwIYDzT7k9e5Nj5Vw6BuLXHF0yc74dijC+HxR+fCggim3hKhXtWknAnFZZtG/qlLi2ORejuA4WVwBByBs0WgsEMWG7cwuJL3yPysJr+25sVvamFu93Q4fIH6OjSDnJ5wG1Opv1XFpY215czONvMxSTdyYgnxwAEQP8jNS1/6Uls2iIW9o6WSMM4hSq973etseR/IH2QQ8sXEEghPlAWx+sEf/EHzZyY41jhIHUQK4kPXM5NqIGOQp8suu8xmgENOscr9+3//720MJ6QrEiNIXPyhD5NoyBvL6JEjRyxvyCZlghRjkaTrnlnV6E4+LGFEubD4MZMcfdhfm2tmlUPSsEpCPiHT6EI+EGOsmhBQZqojEwIOOUQXLLvoRjp0hniSF2twIpsjSwhR7ogR5JU1Nikz5BiHDiwkT3omSGGRBHMsrCyHhE4QVq4JB9s4G55rLJuEx60kKXfEzzLwP47ANkCAxkDvdj17Gi+pgfVtWSRPnWqFRx9ZDMcemw+teflW1O2tDy49nvZsdmSlLJYgUqPA2Kkyk2q2AVZeBEfAEUgj0FHbrZeDIumnKeTV6lToimHS63HqpIbmaQjNofN2hYmZ4n1iE/yIa5+nvEvsNJ3JGIdWRF4owsgcxANihIui4xhHCA8kjfD4i3EgYPhB5KIjjB8y+/2JF9Nxjotxo9wog7SQJ3RARryO6dAnkuGi0Si6oKOuyIEYQvgioUIWDrn9uuBHHOTFNPj158U1jjjkgd4xvAhZLgthUacYFo8xD0gn58QDQ3TCUc5Y1ohdf14xDVZVrJvveMc7wn/+z//ZLMCMg0Xu29/+dutCZ83NX/iFX1iSt1rfqJMfHYGtioAeNT1H+mjS89PWt/Gpk1oi7YETZq1sLmjyYGVClsreEmVEtgZDR80gXX4eindRCoORvGwt/1QuCuu9FwfFymtqJRyU3PzLyEgK6AWOApNR6VJG31ScMmUpo2tOThkZKT0Jy+VBnDL50K4kXeZeLJtPMg8FZrSw5LnylJFRzBpPaKOeDJCj2LwbrPiyTPIRSu8GhHPXlLZWPn+vusa1CQqzxqv0evS6xFmerJc+kctYBy2zuBGpGYkNxAUH4YGkcPNByCBohPEjLhZGiA8//CIZIj7XHCFguOhHZUUixZFflBnD8MNFfaKM6E8YaXDkjWx+pI+Ej2sIYtQ/hkeiRnrKRB7IpSxYE3GkIQx/ysQR2bgoh/PoF8uKLPyif4wf45KWH/LIA0e+nEe9Yld2f7lIQx7RL+oU02D5xMqL1RdLJdZP1u7Eaoy1k/SxbixT/+MIbCME9FSp14pJhRp0r4UnHnt4UeMqmxpPiaWSXgQG5C/azM+i2MU7CH9zPJfbCA8viiPgCJwlApqUQ1NftOPLMhh5aXxEvRtz6g15rFssoXhAH6wT0AaloZ21tMvJtuTZyC2WoBAtev0EDSLU7/pJSiQ9hFMZMS5ECJIUyWj075fDOelXO+TEPDjiIsnkGln95C2mJ88YP5JRwiCYkDDSEQdX3DiF9RQ/5Mc8ixukGJNIvHgd8yQ+v0jsYngsS7yOaWN+0Z/r/vNo8Y3lQna/fsSNujNjnu7w6IhLGIvVMx6T3YPQiwXt6e5n7GgsF+NKIZ3uHIHthEBLW+PUNMaJzogHvr2gNXFPhgUtgEz3d02TdPRWE3HsLRFm61Tq+dUi6LiK0vH8mDXCfAb/OfNNNTjuwJA13ndnxKV1Srh0aJEwp2sZGQkVloJy+SxFTJyMSpdEFqWCypSljK45OWVk5BTO5UH6MvnQtiRd5l4sm08yDwVmtLDkufKUkZGzWFJc4rTV9VFgo+UP+QCFczAuW3jVFrR7XWUx7D1UDedfMh32HmZJxYJXFKiv5Eu5so9b+IYQy3ErpOvjCDgCOxcBXuT2QadWIzYcRVvHi5ypOnRCaZhMqxruv3suPHz/6dBcrKsx0MxwdVGFqnbX6KhHpamP1a56KGgTtFwIRJKtHTvq2jL52mmnXmtosD4fskUTxqLqhNP21htau7e5YENP+FBtt4uP5thQsS5zNzZGZ7SA6sXoVWGZoZwx7qBajzgMCi/jn8ujjIwyccroOgpdyuRTRt9cnM3SdRT55MqyWeFl6qZMeXNyRiGjDCZtvT+CJvKwK9eeA5Ph4ssbYd9Bfaxqu8iu3hcTVYw3W5dcjrwrvAyoHscRcAQcgU1HQK2GbaqxlDHNiH7W2lTDSS14fvrUvCyRvNJ5qUMaSVMMsK/WY7e4ejWgo6TTwHykdEQIbftwdYOxPF1LA/XpCWg0JkJjQmRTptDm4oLWsKtq6ZG50G521BNTDPHpsAWkLKYQ4LpZP5G4yuVaxFXR/dIRcATGF4GqPljp6eioh2Th9ILGcrf1nqiph1DDbnrrWzqxHN/6c80cAUdgxyNA95MIYo9HRjgKv2JCzry6vY89MqsF0LVUWYstUvEXb8Q8qISFVVHd4dZbBctjLLTGZjNQX5eQ0UqdFSBYe1aTDWW5nNK+wcRfpE9dlsvGRD00O4tGLmu2AweWUsWVP1sOs1WjDV8pmG6P8HJAeWWJPlF5PzoCjsDWRYCeEL00GKO9sKDZ4o829X7QR2iDpQJ5zllLd+u6rWtr3bqYu+aOgCOwiQjYC1osEaJYULPe7Ey7lFVSYyVPPN4KJ44vyqpIt7bGTGKltNmd7PDNa1KJaQx44Su8rv5wTfOTVZIwrW5ZU9e5yGJV1gYNtVZsWSibWrdOJolKDZlaKULr2FWqskw0tPpFg9nnLcVhC9ViYp1OdIqevZ/8+dfvtnJj018OP3cEdjICXfVQdPT8wx7ZN5xvT7aJnT2ld5PeKVv9Ofeu8J18d3vZHYEdgwCvakgapA2CyJhFJtzIWLhQkbVSpHIOCtlbVoxxkeo3r2KtNEsiSZROA/D5h19NYYXlUWRxUtZLWR9rIpzIXNAuG4X1UclklagoHdbMxfZ8uOueO8PM1C6t2XuRrJnSQnKIS7qoI2f9zkZYbvXWpr9Afu4I7GgE9EGr95A6w/XO4AO1azPF2eFrckpbP+7a2jvcObHc0Te3F94R2DkIiLqpsIXVsdsbN9lpautSrVl56uSiLJdYHdnKUS99Btebg/QVJLPoB++tCqGGQAtbhmOPPxK+esctIqGyPEJARTqZDXrowEHtunWZrbJwxx3fsJ20nnzN1eGbd90R3ve+D4Qjlx0Nb3jDG0U41bTQwIh80l1uW0MawVTmfUQSr6XxoX3+hY7+1xFwBLYSAhoYYx+igT3DmSSo95G2FQ8nH18Mu/fUw64Zjb/ews+5E8utdDe6ro6AI7B+BCJRs5R0LuNB97Msi/Nd7YYxG1rqAq/2SCUzxY3F0SWtmOKZescXVk4bUI91UTywqxnit9x2c3jXe34vaGhUqHf3Galk0s51T3mqrf/6jTvuDH/7sY+Fp11/fbjqmivCydMnws2f+7S6vubVJc5e5LJz2gBNZaL8mEUeGWSRu6na0zgWZAu3OFYH/scR2OEItCf0EcuSg039GA5TkMuFOU0gPNkK+w9ooI3GWm5V58Ryq9ac6+0IOALlEBAfMypmJj8uRBJhhuKP87PtcPK4VkQPu81SydinLlYExkmKINJFVWWbR0U3UqnxmBoxqUZBR1kpv3XP7eEfv/K5cNMLnh6OXnxUIYXF8oILzgvTM1Ph8HmHtB3q1eGyyy8zgko6JuwgnxnijLG0bm51irEOrmUDjeS/iCZbw/FP68Lh5c4RcAS2AQJtLV02MSWrZLWpj1GtFqEPSnpLWF1i7rQWHZrVxjCTW/cD0onlNrhJvQiOgCMwGAHm4PCKLgiczrqMXxKp00v81GwrzM+zlWMRyfb4FYOrQTyNypESx9JAIpqQTs4UXhcxrFTYXasdXvqil4UX3fR6W0ydrnCMkLt2zYQZ/XbvnQ6HD18ooqqZ5hqvPzVVD1Mak2mGCq1lV5tshZOnHrNZ6SdPnrQJQHv37w2HDx5SvD1aqkiai4lCdAtrqg7uHIEdhADP3GZ8WJFHfOI3El5mfTN0hvHaHXopWGKIzPVuWlCX+Inj7bB7P8Ny+LhkKTO+dPVfP3pQ7OO491bbSD3PVrYTy7NFztM5Ao7AlkCg6MqWqnRhq8sJh9VxsSlr5WmNrZRFkkH09tI2myHjKIml136vRYMUKoZ+bOGq9CJ7WBRr9Yqsjs1waPcl4dDeS8RIFUtkkcneTc0Cv+tb35RF8+Zw1dHrw03PktWyOxVa3TnluaB4U2GqUQ0PnbglfPZzHw+3/uO94dhjx0Kt0QoXXHxeeMYznhWuv+Y5Yap+WISUxZS16J3kl3G0UcO6zWhg0TGn62bpsVn5cN/kHON8Uy4dmkq5+WH50pYjcyMpcw57e0cMj1FOV7rB2wKG8ZW1qj4y9a+tr85Kja1j6+HUqbY2bNDqEw31VPDcQz5FRBXNOlvYoIH3k14Iwyu7ARLQzJ0j4Ag4AtsWAdoSGjc6kyGHOPwWNa6yqZnatlal+Q7+s7QEkBgns8oZH9lsNWVdmJflshGwND5y7P7w8OMP6PiAkcqWurjuvPMb4TOf/FS44447bPwkO/WQhp132AaypobkIx/5SPhf/+t/hTu+frsG7c9o3OVi+MQn/i584H3vDV+7/TZbOBk/utCLJY8G6+khjoAjsAUQMOYFadS7SFZJ1rAtvmLFHfWOYS3cRa1vaR+3kaUpCtEy3xxjUXi3WI5FNbgSjoAjsGEIwCV5KZuxTxd6M7Pr4oK6wBcXWtgls1lDLCsihZBB6y6XPNaupKu7rZ1z/vZvPxruufexMK8F6arVifDUa58VrtXYSiOgsmi2FtVlLhKJKXRm1y7lp23bRE7vueee8Ocf+jOR01r4vu9/Y3juc58XHj1+n4jmO8PnPntz+PwXbg5XX/k0WTGn9ENvxmRqppA7R8AR2LIIGJHUO4T3AFZIXDEEnI9fEcvFjib4VcPMbnWHm1WyeIktk0oSmwBLO25/nFiOW424Po6AIzBaBOyNzUuYl7OcTlsaBzmv8ZUtkcKquqdz72isnTQGVfWDQyTp/q7WxE7pOtOEn9vvuD18+76HbLvGWpgM7blKOHh4n0hmCNPTU9bFtbCwoHB1gRvD1aQgBd7/wP3hnvvuDldf/USbyHPLl7V0UZWtH+uKOx/uv/8+27ln397dmj2uXYHUXTaenV8FtP7XEXAESiCgj9RiSASDchhDXZBEelS6slY2NeZybrYS9nf07rDxOLBPxnTroF9BM0vkc46iOLE8R8B7to6AI7A5CPAyZhB84fQSF0HsaHzloqyIWAtYS3KJdA5QqVjAXJFFCqcmJvWKn7YuLPbIYD/w73n968ONN70kTGhSzvyclgvZfb7Wo9sVbv3qzdrGUbvvqKFgsg8TepgJDtlc0Cj9hx96ULo0w21fvzXc85v/NcggGepaZqTVmbMu9t2794hQMhlIjQ3WSo3ppEfcnSPgCGwDBOCLkMU+B+FkAuCCVqxgsl9lgrHhrHepdxh94fYq46XWl2jMTp1YjlmFuDqOgCMwWgQKa4AsA713sY1r0ou7KXJZqTT0ftaMazbrTrgaC5kTS9aEBRHFKls5Vhc1+edUWJAV8siRo+GJl18tYtkI7SbbPk6F07PHw+z8rBqJYsIP5HJRcbFittst7SU+pcH5egWri/y5z7kxfPd3vkkzwS8JJ049btbQaXWZz0zuDTPTWCu7miE+HWYXjsehWAltPcgRcAS2LAJ6PzDumwmADNnh43Wpv7xXKHbzGmfnxHKca8d1cwQcgaERsG7s4jPfZIlThgXtuNOCAGoGpn36Z77+bT1JdUmx1iTjJOnOnpTlcnqyWMX4tAhmuzkZTs/TvS7SOEEXl5YVUhxbr7I1JwJ6ypYMYr26k6dOmozzzjscJiYa4fjJ41oUeV940tErQ1VWyfokVguRWK1p115sSKbGXrWwtqpByeg6NGAuwBFwBDYYAYbWiEDSzd0zRJIhjzZjvlm3VvP1bNkyfBl5WWzSEAfCjPdLwInlBt8+Lt4RcATOMQJ6SdvMy54aWCyNqIkg2pc/3UuZ9zQkryIyWdfyQB2ZPllXjh0zFuhOV+K6xkRWtCQRjUJDe/+ykwYD8Jn93dLscWaDT8pCySzwZrPYdYdxmtdee2246aabwqc/9ZHwe+94R7jx6S83gnnvfXeFYyeOhxuue2a46caXhgmRzbn502FSi6530sbVcwy2Z+8IOAJZBOgCl1saocMWsT1HD4u9jrQAr15RxVhMi0ic4jM587qKos7Z0YnlOYPeM3YEHIHNQKDoCo+D5YtXsu3/jalA3dNdLSiXe1FrRSG94FmiCDKqF39di6qre3yqcX64+PzrZJU8FNrVefVqax06WSxrWjQ9VFthz/QF4cKD14S90xdab1atPhEuPO/acHDfkXBy7vGwd++e8NpX/T9hunFeuO3W28MH/vTd0mrR8rriSVeHqvLVaCsR16nQ0ED+jqys7Aw0tKMwGddVOVMuHVqkzOeS5fQpFZbCiokQS5dnnBT3wBneKzw2S9ecLuiR02UU2JeRsQKgARc57PXADEi5+d457MtolKubMjLKxNGePLbWpQZo6/2EpVI/fQQbnJowWJyMZ5e4E8syNexxHAFHYAsjsNyw0SgstXNLLcTSycAydjUTvK2tIGswPR2bLc3crk2G5zzn+Zqksz9cfc1TZMXUJBttucM6dItYN2XFfNoNzwwXXHBxOHzokK4nwqWXHQ3f/8a3hIsuulDjMSdk8VwM11x9fdi393C49977wuNaC7OrMZwzM3vChRdeEi675Kj07WpppFkdNR50SfmBqnrAFkeAuzV/R27xQrr6SQToROEu6Bk2db6aQNqbLCnjXAaqK7/Ep+u51NDzdgQcAUdgBAjwquN13FEX0yMPzYVv33Vc4yK11FBbhE3WxZSztCJ47IzBC7/Z1CQcnU9OTNhC6VURvo7GbeIYhwnBxPF2xbemrnCWDWmrxWipW30SUqnlhwjcpUk6jMuk27zZnFVXurrTNdMciyhd6m3JZc9y20tYRyYBDe3KvPYzJHaZrg/WpoymZeQMzqEIyTVjZQj5ZumaKwvhOV3KYDYKGaV0zd1LmfuIPMqUp4wumxEnh2uZ8mRl6F0zNdkOR68+FPbsQyLr19J9IaQMLKaL8y5aTTiJe+6dWyzPfR24Bo6AIzDmCEBMsCKwXzfjMhtasJzFym2izqRmgJ8+rV51EcFeC2l7e4seQDhtHTq1JF3IoVkdtRamyKJ2GzdyyiSijibn0N01M3HALJ0wUmRj/cSxgDrjNIs1MMccLFfPEXAEdjQCTix3dPV74f9/9t4zypLsqvfc16StLO9dV2VXdVd3qdVyrZaXkEe0DOZJYiExIxBPi8XAYtYamLVmRp9YfOUBw1uatR5G6D1ADEiMBDLIgIRAaoFMt5qmpTZqtXflTfpr5v/bEedmZFbeiFuVN7Mis87OjBsRx+yzY58T5/xjHxc1EDXQiwYYW4+VgTUwAYq1GiBP2zrOAf6mBfq0PaP+HIAKFKon3EEjSJM1KLmvCRyyjAhLFhFuSIAUS+TcjNa5BIBqQlBb4FQ7QcowIR4gWR9fxTWzxLWXMGNCmRkeKWogaiBqoKQaiMCypBkTxYoaiBoomQYE9ACQ9D4BKLFODgwMCHDKEimw2dLe44yrZL3LlibYtJgUBDZ0wKlQ6sZi1BRd2sTBGhm6cLFGAi4xiyYrCmnAvm6ZukM6XDMznfGdZV/DrmS5FsWJGogaWGUNxE/fVVZ4TC5qIGpg7WmA2d4sku5AUFgP6yW7YzhslKWx6TPLBS6xVuoA/GGNxDrJPeE7Wznqc56dNBpaqA5AOcASRrrnqAiQVqtM/MHiSTiAJNZOLWQEqPVxVWtPf1HiqIGogWtHA9Fiee3kdXzSqIGogSvWQGI2FEZ0GqgNWqOibnCBy5p2zwE8VrV+JVZI1qfEclnXGkWK5WATdx8jKdDIFo3gQ+IIXoJNHUDWsWRqRngy8UcD9QU62+r+1lBLhWVCUNstpOxzHilqIGogaqCsGogWy7LmTJQraiBqoDQaaGqWNxN3mKnNJByfVOMWSaE+IUP+mGyTAEotlp6RnDGWDiw1W5zxmQBKwjFO08dNajxlle0e2cNNwLOto9Gclp9mgspcWWVsphgCOJsM1iwJpRi7JNLki7HeZC16niJ/tNVLmHyt9odHURqr7c+77F97mYRjR0FGGT1cRotlD0qKQaIGogbWtwaKGtkw3jGZFY4Fke7uinbEGdQMb3Vha+AljQ+77CRhCcNoS7q02Y9HwJBJPDrXNBs8WZqI6T4K50ZLWTixXDYxZcrRG7eqpwP4rNU1jnNYSw9pt59KZZAAy6MgZB6XwklC6uIXKM6lfvDITSD17OF5CiTtJZW+gLGeEuohUGmepwfdFz1OP56lKI1e/Ksqr9VqMgbaxzRrKAq7ZfGI7VryUcdQ5yLqy/Poa7LzevFluUDPgN/yUgSW5c2bKFnUQNTAtaaB6pwDUh67UsGqqUYNC6nQJ93uWC2xdq4GdRq1rokVA8t+8OiafPSIGuizBhqz6hVg1Qb1LPgXHsNV6CUAWPIx6X28fA5GytPA6tRQeRJEv6iBqIGogagB10BbALLCdpBusaRB0/qVLG3U1KFZ5VVZKyvp4utXX2VqaJfdNd8PHldfE1GC9aGBulZ5wGrpKzTIQpj0OqjnQR93uAEu/dVcH4+7Yk8RgeWKqTYyjhqIGogauDwNsBqmOs+9AWtpzGZDILKqbSS1JLsNyILJdaM5dXlMrzQ03W955ObIAutNEQ86lwWeI0UNlEEDrMIwx4Q6EZsbMLgZQJlscpBYMfvSzV2Gh11BGSKwXEHlRtZRA1EDUQOXo4HmbLKsUJ0Bl+lsc9NC7DUBy3ZLk3g0BrOmMWArTzSiHHlEE1vUzHrfYQ6TXnjkRI9eUQP91IC2dq3pgwnDpObqqXTrQv+VVvKxx4oMLP0VKV8Dq1FD5UsQfaMGogaiBqIGXANsFUmLNjc3LUOexluyIDqNnCb8VNpDApdq1Crammc1iC0q80hrbhZSEY+k1S5kEwNEDayGBhpamYExzGx8wPJeTbZa1UoQzBRPtl0t+thaDSnLn0YEluXPoyhh1EDUwDWigYqA5JlzJ+zE6cdtpnFBM1FnfKa5tvLRrPFRNW+aGd6eWAVtRIvlKig5JlEyDdTqY7Zj2x7btm271TXsBKslO2VhvWfTg7qslVoMrGRSl0+cCCzLlydRoqiBqIFrVQOVWZuePWOT0ydtaEPTtu4Y0WAvNXANraGpMZbW0lEdWgXtrBaw5FHUekeKGiiBBp545LxdmBi1LVu3JpPmXCaNvFQXODtt1bWmbKRiDURgWayjGCJqIGogaqBQAz5jNC8UkwGKSEGa6mIeHKnYdeN77Pqjh2QpYYxXMomg1dZknlVbrblA3gJvf1R14xdTT4GK2fQjBLrWX5bCODukXOiTDRWv14wGlIk+y5stUhlMKWJyTmOuYWfP3C2nZKhJxYZ81QPyv61dtgjTasla2cMQy6Jy4qmmaS+pt8XrdPn92imBEVgumavRMWogaiBqoM8a8KVKCpocWSXdfqcut7HNm2znzl1agF2LozPOyycVzKjh03aPkVZMA77UTMo9fCyEc9ZvxQSIjFdcA+yEVdNOWCFfuZ6amrJBDXGenZlzI3qyWYGWGNI8cdPHXk1jL5tzGvPcj8+LPFDJ01MJ8L53rS7KDTIjsFzxIhwTiBqIGoga6E0D3tCp0eHcOdQINtXCVLXVY4vdfEqyjmVolPOebD0BMZ53PT1PXr6tdz/fklUPyZk8JW/ZaaeXMr3eddOP54vAsh9ajDyiBqIGogb6rAEauVZ6VAUoteO4rCcyZcitLFQEtNZSQx0ARla34fnCeS09T/Y54vVCDZCP4cAne70wZLy7Eg1EYHklWotxogaiBqIGVkoDLMgs3p2hXDSCuq/4mTGWfdgrvE+yB8DVJ3ZXlU32WZYCkFn/qypoTHzZGiAvFx9Vxlx27XpedpLXFIMILK+p7I4PGzUQNVBmDSxu7LydK2lj14uVZy2BsQAms8/FNc8QzmUuO1G2Yg2EvAwhs+XT8788nQFBxDV5jsByTWZbFDpqIGpgPWtgvn0DVSbI0htBdgBx++XaeHpvrNeGqD6ZA1GRuZvc3dzXyCNe82KG/At5nB1jec0rp48KiMCyj8qMrKIGogaiBpajgdDgdc4OI2U1m0eay2Hf17gA3azFZynmYZLEUn5ldAvP1NF/Dsgso/xRpqiBMmggAssy5EKUIWogaiBqINVAWzNVATbNAGo486ezFrSU/bIcfeMBfOVlXBHwzIu72n6NxsIdVcLzAY655lkGB8szvnW19bMe0suWR659XKUejGv3K8erteZVHYHlms/C+ABRA1EDy9ZAtcAkiHf3ReU8+Wyj1U2eglRkmaxp0k5df6YtHLXTR7Wh3Ry1jmW7alUdxhqWnVk93VJZHfdennd1JClOJYBEQi4GE/jdddddNjs7a8eOHbPNmzd7mBDnmWeesYceesj3kL7llltsy5YtCfBPl6cJ3anwDjoJQDSslQhoxQ1gGqy4nPEnDv5PPvmkkRZu+/fvt7179yYfE+JLWOSGR6RuGijewamVbjQQOIQ8Jg+4ruodr8FG+obcXWCT9Rj89a/p5dOyX7mkLGoX1BVinMuiJN+O+TLm+EZgmaOc6BU1EDUQNeAaoB1YxTa9nWl4CpqgmEE9aCAAvmxQgEQAFKxheOLECdu3b59t2LDBBgbYJ3qhpRI3CIAHCOXAjQMwODc3l4ATZheLiA9f/IaHh/0aAEmaAShy/fTTTzugPHXqlJ0/f942bdrkoNKZxJ+1p4FVrivKqKAILMuYK1GmqIGogaiBqIG+aiCAyCzTYAEM5+AX7gGN27Ztc2euA0CcnJx06yNuXMMbwMkBmIQAlNwDIqenpx104kbYoaEht1JOTEzY6dOn7dy5cx134gQK4Dfcx3PUwFrQQASWayGXooxRA1EDUQNRA1esgQAqOYfrwAzwxgHoC8AvWCsBiYBCgB9gkG5wgCTd1oBK3J577jkHj1zv2rXLLY5cAxABjidPnjSskcHCuX37dreMEgbauHGjjY2NOdCkK3zxWM8gZzhHsBk0Ec9l1UAElmXNmShX1EDUQNRA1EDfNRCAZACY4T6ASdwBmBDXMzMzDgwBkmHcI93mgE26rekCJxx7TXNcf/31btm8ePGiPf744x4X3lCwUBLnyJEjDkx37NjhZ7rB4YtflpAPCuesX7yOGiijBuZt7mWULsoUNRA1EDUQNRA1sEwNBFAWzrAL14DC7L3fpP4AQqyWgD0sjlwzAYd7gCBWx0OHDtn4+LiNjo66dfLs2bMe9syZMz52EgvkgQMH7Oabb3YwCVB9+OGHHZjW63XnEYAsMmWPrCxLyRj84zlqoEwaiMCyTLkRZYkaiBqIGogaWBENLAXYQkKAy+yBewjPdfDDjWvOTPIBMAIqDx48aFgeAZ5YLek+p8scEEmXOAAUQDoyMuIAFGsnFk14ASoBsMGqSXqRogbWsgZiV/hazr0oe9RA1EDUQNRAoQYCSMwCw6XAIoxwDxNostfEhbBAcgAS6QrH6sg94JHucuKEMGGM5lNPPeU8uYeYBAQBJkmLONnxne6pnyBvuI/nqIG1oIEILNdCLq2ijKzXFVbpCubs+eVO0rE+6UJ68+6qjBfJqA6dRS4Lb9POp4WO4a4TdTHXECBzLgzSYXaJRDyn7BT+C8csq861oi9ekqzjR6RI14YGtP5dpLWtgQAMeQqAXDhzHfwAelyHc/ADEHIdACf3AEoIEEl4gGG2S5swwR1rJff4A0aZac6EHdwCeAwyBVlIK1wHv3D2hOPPIg1c+Tua1avX90uxaqvF0DqzhdSXumK+3SpMr4QBIrAsYaZcTZG0jK8l39TJOszsTKxqNwVdSWHXN7aLyLsXwCcOYds5QCWLOueBy1rg2Xl/Ohd6eZ39Iu7Brdt5qZpAYbXIdIedbrkL98mZeOlAfV3JdqBfkTz9SmcAKJXNUs/qYflJo3Xu48Wa0kClh8YglJtuDxZAQDd/3LMNWF646Nd/DQTdk08APAAhFsYAIrNAjtRxD3E4EydYF/EP+R3AJvccxMMN4MnBLHDGV+IWwCVjNEkbnsSBfzgTjmsopM911p80Ii3WQHElLDU7Bf1ys0DH8qcqCC1eElphlB1V3MmrHuqKEK/bOZv+kmGKKpslI5XHMQLL8uRFKSQZZHePBaQSHhCjQzLtTiColb6f8yEzLwJWQHYKmYdwSbDsy9TSW0pKS76jKXP2IMmjLD/CZSuITjzEDze6yH5vushegQcondgvHUJmnid9bK9snJd+8O7wDfzjOWogaqCUGqBu4Agg0gFCCuYCgMSNcZGMf4S4p3sbMEhc7rmGsvcBWOKOP/dM5MEiyTVLDbGMEAATfvAH1GK5hA/jMLknbSYIIU+YiY6lM1g2cYcfYQGkxI0UNVBGDURgWcZcuZoysV1u0kecIidVXgHfhYpM28wlwCpTsXEZwJiDU0Baxl/e2XuS4QhRdNkhsB5W0sVd0J0A6UXYnWRhKgtD1RsSPsiPVxq4ky57L1fC8h4K6B50eSisX2Pd0GtSyTJJ05A/QRx35wmRBo+nqIGogaujgQDCwhkpwnUAkIC5Rx55xB577DEHb4DA3bt3d7q8CU/YYOnkGgLsASi5B/zhD7E1JF3ezz77rN13330ONuHBrHH4sn0kcZghDvCEBzIALu+//35f33Lnzp2+fBFpACaxcmLtDLJ7QvEnaqBkGojAsmQZctXFyeInrgFMAEr9h86XpmmAekZQbJMJEEsq2iRS+E2iZ4L7ZTaZwLcTxpnL6tlxWPqipeSIG1INPBcA0kUlHL8QnrgkVQvjZvw5cdFRS8+6S56Niwyl3pwWKCMTJF5GDUQNlEMDAQQCyAIow40DwAYIZIY3oDB0UwMssRhy3rp1qwNI4gLuAIbE5TpYMbEssiVksEQS5/jx4x43LJAOaGQRdWaQM6scfmGmOPyIyxmCN5N8OEO4k1awXIbncM/4EzVQIg0sanZLJFkU5epoAHSWIjRAGB0/VHN0a+ub3GWiizqAM4CVd4zrogowE/GbXPntkj/VzBihAAjnAwbu8y5LXSGHOoQu9cpE1yIe7o+Td7vrYh540h2v+JW04lYYD5eeueYYbOoJqezT5/PBNnIP94RZQgpCRIoaiBoogQYAYxCWPwAZII0Dd8ZBYhm87rrrPAxAkwMQF8BbAHSc6eY+evSoxwV0YmUMPML2j8QjLICV8CxHBEAEWIaJPKRPuPHxcV/fkusgF+eQZoiHrBzIFilqoMwaiMCyzLlzFWRr+KSbAJQAXgxjToYyAy6hBUMucVAluIBa6lpuTiXu+Oloa0ZdSyZGKkzY1OcEWT1eGjc9uafz7PwsYL3gpqriW1UluwDVpTfpqTos0Mi1Ku0ao6/VsHCdHEBaxW8lYTyYXHyQtm4QyZuj4KD7hFd6VgjCcGS7+XUbKWogaqCEGgC8BQCHeF4f6Yy1EcJaGdywXgLuCA+44+AaN8BhFqQC+LjHHSIuIBJ+EMCT+IE314E/QJH4+MEjUHCHD2kSByIN3AKvED6eowbKooEILMuSEyWRo+5gKUF5FfqafYkFCadKz612eDU1uB0/WfKsIYCoSk+1pNx0z8F9WxWqg8jAQ/GJA39OhOPs1LnIuOGhMHmkcY9MJeoQyDAL8XTf8vGRYitw6OBPlTiNg1UlTwVQCjjVnr018fFDbnU1IAN1DausphU9r4niOP80NYmM5XNewqxnGiaeogaiBkqhAX/nJUkWjAXLXwCP3OMPyIMAgwHo4cYBHyyUnAMQJB48AIq4E4e4IQx+xCUeQJPwHIQLB+mFNDhDwY9zkJE0WHwd3pGiBsqqgQgsy5ozV0suAGJDg8Op3PjantU9h9ysITfcWycT6bz+414oy0EoAFFHE7CXVnw4yY2KMLF0ukPq7QwIME+OOtPbDGacD5C9AioKCAZaorKtzswmvlm/bJ2MuypuN1O6RVP8aGDUMDAHqS3w2hrcouXLBq3CuMu6gKn8K3V1qQFEFVdPFySI56iBqIESagBwBgXg6PWR3n3uAXv4A9o44weQCxTCAvgIzz1d4ITnCAAUsAgRLgDBwIMz8RhPSXqE4R4K6ZI2/CH8Ao8QLshG3HDtgeNP1EDJNBCBZckypJs4odPVwRl4zCsgQFFyCPpZPcVs8AjjCInHOEPOdGnrOxrfFCgKLAK8HDSKQ0uV6ay+hkM3tSqwjmWS9FKLo1sjSSRLnbRT/gFscdvtek78BeAAcm4ZRS7CIgcgbgncmU1SD08NnDghKzI6LznBw2dyp4KlFbYH7siaciMsFGTFuqlrt3DqXLOLCS/XtdIUuPR0BjhLfhqtjRt0Tu+9galrTGoCOtF+raXxoE1nlqaTJOl5gWxkrKcvd+nZnXg+pcns9yCyXCJdsQaCFj1zE52jWem+Kj1jURoc0geErmm8GZSbAAklKOu2G+/5URw+Migj7SbXFAF9gPASFlCQoFsw2bL0jspSpheYtHl34V2VZd2LsORK6oJuHFL3ooRCWStgU+jdj3SKeBQK0UuAJBHXHflGvuuF45e893dPNwHYZTkGtwTgJcCy6Zmta72QLS8TxEjS8HcZXp37hD0urfb80kUhjQAcF6SjMglvyhhxqvqIbTZVwBAVeUnNC0TgssQ5CbaER8YpFTnjsvCyFx4LY1zZ3WrJoXTQN0cA9+EafTZbGCJkTdY7nbjr1lc5UV1O+yd9FInakwLI2Dzyhj4vQLn9IrAsd/7MS6fSTIEOYMdnoqQowysYlVMm0VBc/dBLQrNUEWiqUpmpImzr67o5OUONZBUqqblZq2isTqUhN+4BWHRvF745eusWU8F7sji415iAMsCTp5fWolTSADN1R7ul9JKIix2UMC9pJ31dBEA8IJ5c90ouh34EFhZSCjyDI+lRuXuDlJwbUyOqjCT3gIBJfUhd6YPCnEOyfGLpZIpRGj7w0JlF5JNMlR9Evoi3H9wXVT6EibRMDSR57d8gNObKCn+fyAvlL8CRscE07FXKqxoZwgAmaZhalWTXFd62ZGXW5YnjUCcFr4wJrkmwWd23mvoI1HVirSpKg/KUlqluQTtgqFuAXtz7lU5akfWS5BWGSUDYwvc6cQuvmfy8EOQlQPyERyu1aLqWU12qyCykRfekp6pYlFhFQ2DedyjI42lQ/hJHd+e6lX4AJ6GTX4J0pcI8hkcBn0IeXVO/TI+CMuDKXaTQy0yBF7cKYkwJfaN7PtyCdZg63T80aDrILyXJu88L7yJIX7zrK08F+bLyAiwrhQgsl6W+VYysF8BxiM5erJVzSbWQFPKaTgDJJJBuBCIBjTar8UACkDar7u05gcdpXfPl1dY1lQZf3tR2XPPmiL8fK/1oyMDkGypo0nWQqbT97dW5IbciIqyHV0DOodLgmufAkng5wLJreuLVoTRNhgVkvip9MpJbGJUmzyJQaQMCmBpoX2PQvSxhWjskkQlUIvnEQcBEXV5pVVUXaFGT08GrnSR1kZUg6x6v+6MBGpkawx90bqrMVGQxrPqSUxQtwKUshzXyXOkpiyliTEjDj7ysFIKS3uRUJ6rSYgJJYtmikeMPO2Vd8tAIZsvdkly9u6KgxPB+LJf6ko7kcD7LFaaH+EWP3IscRTx6EKOn5y1KpydZC5j0Jf96eeAewvT0PD3wyQnib1Ja7v391XvFSiY48Z7VBCDrapMa9A6whIjG4Tv5eHxdtxhLq9dPr2CkfA1EYJmvn9L4UkXQJdrQGwEQ4WXADkYG+qQYXxJHM7H5qhWo9C7uaVkiAZLe3S03rJFujeOF0eEvDvBG11oo3BssQM9qUKci4clSSt52F0eCSp7g0eVMI0scwCOP5D9y4wsTt8w4qS4cenMOX+0oPQgVZOMMSJ6VvOjeg0jnFekeCyZgl2Nk0Bobhq0moFkZBHSynZvAJuBafBXT85PHCAZTkqMOc5Y8G54ug86R+qoBACKw3r+vAJYqW8Ey4RZkilpFuUQ2KL+9qOqHvMEKUtORHZd3pcL5x6G/l22f+Ts5LZCpMctJEWQRbjYnoCDkUOfdygmDV+bDqCDk0t49pSNZUVI36olHt8iX6V70vL3IUsSjSCTPujyFpAyK0umHrL3woKz1IG7RY+f6uxzUgAVUpJOC6G2loxY0eXv07pIV/m6rTuXDkfcXG0xrTj4ClslwFz4eaSP5tAu1cUFC0dtxSVTDWtCAV0ipoOkL5rZLurCndcgyadOarU2XGcCSCTdYKJm1DfDx2oEzL4nIeXAv/861e+hnFcClf/apxsIqxIvrn4JcSyZEBBwGWRFrKQJkwYcz8Zx0xo3o8AR8LpvE34n0OLjRT0gT/WEBxr3zOau0SV//EJPkKxPqThGgrAyOCGiO6Dxs9WFd69x2i20SluxiOKazF2+ewGfku7cnngSMv33SAECRciOdq+zJjuENDg0K2QloxK8pKyLNEQ0UlABOfd4pEF3m/aKaViSYOd+wRx59yqZmVIDa+vho6ajKillVA+fvc15qvZaR5crcSzpFafTCI+9ZL8evH7IU8ehFnl6euSidsvDo5XmLwvTyLPAo0kmP6YhNCivT6lzAUu864PL8uSkbHRpLP+R4xxXW33vVBdQMdIn7nnFFaV3b/hi8Iq0RDQAu6gIaPklHXdiVhj6vpmSlnJgUqBRymQJYqmWkdQygh2dzMBReXlAbbumZa8deqX/GGa8VIxpiQKW/uUqlrmvAlc88B40FeXMkALhB3j2o8FgpAdVYChc8cxLsin/hhTxBJK/fqJ3SA8b+LFzgSVjJAgAREOBc0fPWAPkA/knl24UJB5QGsBwZtcqQuskHdKg7tqaxoXTN8HQJkAlcgwCkE6mfGnBgKYZkaU0z/nmFkvGMejmUfzQmLT4eCEP++lhL5St5rDhNgT0vJh7iyn/4jBga3CAj96g99+wZO3ViSrKoPGvyl2aAaQivbC5YVCJFDUQNXLYGfNy019tU2XqveX31OnEkBhbtzb5hs+rfZFiMXjy911grqdWpB7yxvOx0r7UIEViumRynaDMJR3ADe73WMrOJC9aemEjGUgIomd0N9sDMEoCVvzG8OQAc+QF0nAgoEoDxSKFVJAzHShPPwTtK1/tQXT3J2kptZtoGJbsvBAzwTEXsSRS3TCoCwBIAx8xtLE0893Ip1DyXyJNRFOlBrm/STOVHr3Rt+sxCXROFvGL2oeejAOZFjcEEDG/YomNUqzXLmqndgJLuWBLNHrqN1HcNeDFxy73bJQQi0/KpMsps8WZlVvPJAPxYKOk6UxaS14pDDNySzF2eaC11e28c22VHRgdlIZ3W66l1HNqDSk9DYNqSoY7FsqjaTstenii0qMumfqTTA49lyykGSqawQvH8z0msFx450TtefUmnQG89yVrAA4H7Uk46T979oi866c6+46N0/L3Vu+vjleXBRyXqYrwlSz8NDY7ZYF29SLRB6iXgHScMH5ot1d0sfRwpXwNRRfn6KZGvWrKmurunBCgvXtChJXBYKBcw6V3GegECAKGRWwAueQxeHR2+TAb3NCxqNX2fQ65DQ6Mw4ZJgK0UsM4Scg3WbUz/xvQ89YA/ef78d2r3fXn7byxIZAJ95BA9AmiYmOZBkJjlugEtafnTQDwJAuPrQTaoc17Guw5klmgKRLhM90K9XmApHfGQCAA+kPBzNSPamQCbdm2d1npHVsqFdQDaNyYopSybrZ8JvtSr48AzX2DkBhgKIfIukDUlVegc0XtQH3MWpszY8OiBrxiaNYtig7wDNJMWA6R9ACbBMxmItT3HNObrbhm1kYJvKEAmoTGtnqKRhm9GQiWkVn2SXmK4pUeayPRJLBcQKulzqVzo03itNfNgVvUOFcoiH15fLFLYonZ5k9QolR5AeZO1X/uVI0bNXP3TSQ2JtvRcARKiWDpPiHm2yDmmlwpqmWipurqY+CibQ4QMY1VaaugSM4hIpXwMRWObr5+r4UnJT7OECcE+39+QFa5yTlfLceRtgQg5haB+wrtDKaRayAx3COxgKjAioioZXwq14uuSeipaDypKgMKxTyfsNDksTvB1gKXwgXsCu0QhPeiGwLrDQIbPA46nzZ+3LX/2K/d3ffdpec9sr7Nabj9uo9ti1GfEnCdK7RCFykyXp9MlTdvrMGW3JtsH27N4t66d0wKM6KYyLmJHTeeHpjJNgfpvek9RiogJy98WeioMevMHS88AiHN44KDzAw7tQ5Y9Vk/DUUHwMACzJO6/g5cSwhsa0FlCelNF12mpbtllldJPYqzJTGogeDKOLRYz3V6gBskKZloyXTPISgEhjw8LX5M3k5KQ99MMHNUpjyvbtO2B79x7QsqVb9CoJ9FM29FGQTOMh853hFQqjolEViFRsJhJQNMh31rTkveXVZcb6HANwc0n+/n7mBPIym+Pfi5eLIaHyqJd0VmPCYL/k6IVPnj7w6+V5vYcjh5F/OCxT9/3Kvxwx573yyqxKfJFO+qD3pMli+8y0gWD4kqip9wm/SlvjJ9UzwQQfXyxFbyKflkyaxZpZlxGk3h62KdriSLkaiMAyVz2r40lDot1gbQiUSJkVGGlqLBVYjKJfYWb3iWfMTj8zP9sqm3PqNvV1H2HE4RQuwjk4py8Vtw5o5J9xSkPln2bPytK4Q3Iyu1mC1GT6YVaOAABAAElEQVRJHRBI8m5oKjvxbMtN3QlYFOfmpmxg4yZ1/epp+Fhkdm1T4QY4z9gePeVbX/JS27Z1ux3et89GRyXQICBLi44PiteceEk71tJ4RBZVb6v7uC6LrZb0+ft/+bZ97DOfsjf/2OvsN/7zL0gWWQCZyNTSjOsZhVeyrkgfAym9XpySIUj81YBjDLKqwC1W3w1Ky8dAStfM1sYyTJ8HwIFKHF1dQnLD0ghldZgN6pkYPOUBOsQQ5TmLrjhSwuIq/4FZjaU7qfGyE3qO7Qq8ebvN6FklpRXYqgKneF6kgWQMpd4p9E520rg0BvRtwx7yrGNHprEn9KAmWslSoXwB99f0HrLMUGXgjL7rHrEfPfYjO/HcNtux/aDt3X29yux+GxxQIVOj1NRkObrQm4qYLF8ijkqOmd64w8/L4iLZsrft+pwb4flYoQHEUjIwoKXCCCQ5adOGvZLIxlp8TaIeY7FH576hZ0Kc5RBGef9GWgYTMLJv1JXDQ73/nZVfugVLLM7dfJXVElS1TS4NMhM4NwR5mX25CwJ38S5KJUmhQBIvTF0SkDM8ZHTLpV7yb7aAByOrshtzLJVgU8OtcnGyhK37+7dU7MStl3JCc5KrNaWD7nk1vD5Il7Sr6yX1P33M1VWft4Qqadpa+rCcluBttSXoqqXl+6rqbcpNo/sjLPBJ6qMFTgtvOgaQhc5r5S4LT9aKzOtOTgoqX0ZeG/AiayJLAiplB5kRwLpwXkBHYKostHmTzWn23Imz52xkiyxqeqOfeuwRm9Akoh1bdtv+PXtsWBMQ7PykV8QDu7bbmfPn7LkHH7VnTp60wT3b7Na9N2osi74AAXWjY3bopuNW27PfNm/YqPtN9twzj8oS+azt3LNVQHPY7r/vP+zC6Rk7cvh62zu+W8Bg1h5/9Bl74MTT9szkRbv/qafs7vvus51jNdu+d6cNb90pIN62J59+wh554AGrjQzb+PEbbdeOXWbnBNimZuz8xUk7JwC8bdNm+9E999qJE8/Zgf377YZbny/D4aSGGQiEMuaRFimp7Vc2B8j7kI7WMrQprWl4hj2FB6y+SdZLrLyRrkADYWJN0iTwbtUFGIfHtBsS75qca9VhfV+oSyy1ILsxQ4ufN2VtbmnpKL4v6Cpry2J4YfKsvjtm7eSZ07Z961O2e/cB27J5m40ObEm+P9Q4NbU6Q1OTbHydPEVmOAPdaiF7uz5EZUINn7rj1NU+pIaNBsi3DpR1f1AfF4NDbZsxvVu5xHMmz9ot2JA++JYLCmfUesyEb6ZuCRW402CP6MijaaUzV5BOUUMNaBwpUP7kQHH+FAHYvOcIfkWyOvyhkOZSvtIAfEV67SX/Rv0juLsgDVVJMwXV0hDvQQ6qB+hND+WXV0BjUf5NCQzmZTHvefKlp3xWwJDbDipTv8qsPuhUD9Bj4NW+ItXVVTDg76LmATAuXpP7IuVrIALLfP2smq/gQ5KWF3AKvawkrFEzLcvc+VPlApYjQ3bP9++33/vIR21o40Y7c+6EPfb4Q3b29EXbvm2nvevH32of+KmftL3bd7th8pt332W//5GP2MP//gOb0Fff5EjFXrr/Fnv3z/6Uvfktb7QNWgPy83//RfvSN79lr37BS+zn33WHPf7Ec/bh//u/2fXj++3iuVP2/XsftDOnpuz5z7vFPvjB99l11221T/zVp+3PPvUFe+zseXvymRN233e+aS++6bD9r//H/24bK+ftv//hx+0Tn/q4WiVZiwQgdhzcZz/37vfaHT/2Vll+q/bXn/ucfeKrX7Ad23bbQwKfk+cv2tvf9ib7v8YP2+hG2Qa1vWVLuxKxvqFgxcqXBcbQOoKhetQhS2lVwHvy9Cl77snn7MSkgG6s1C47H3yxcZ+kJssV3dYyf0xONO3MGX20NWWdVt5WZRVssCKBLJg0Pj5Sw8dbte30xRNaDvasWxwHBzWpSt12s7LCnzo3YecmnrPTFx6zLVu22s4tR23z2FYZvzfakCz5TSyOAnCA0VY6Ni8sut7tIQZktRaeVcMGcND6mHQRavJORQC3IgsroKQ1qDqhiAosllNFZqYi/n3yZ6hnkWWtl6SKwNq00plxZNGdW+EyTl40qKCXR0WyOrAs+DBIvmC6y4FeL+pYLjGvcLkEYC+iIsDuILiISYF/0rQyRpK6dR5YcoOEbotkfWGNcfYqX2Ga6oVr6COR+oCdsFhuKF0JsyC1a9s7AsuS5H+6JrJLoyWRdWanaX0dacydYbVkgkdmrcOrKfbExWnbuGOn3fvDH8lqc8bGD++1N7/xLW5R+dqd37ZPfu6LtlWTHH7hZ99njz/+lP2X3/2Iff1b37Nf/Jl32tEbj9n3Hn3QvvDZr9i5v/ordSVuslfd8kK7MDVnDz78qB3de1jjCId8SZV7H33C7vr3++zWI3vt7W9/h504NWlf/MpX7P/91Kftg//ze+1lL3+1/fDpc1a9/wd2aM9eu+PlL7XjR/bbiNL++Cc/bR/5sz+zt77ltfbq22+3E5LzL//uU/YXf/Mp2yOr6guP32LPqqv5zrsetO3bT9ltx4/b0YMH7MXHb7JRuvDpTpfVoMqgxlWyWLLFY9UX4RaoYCklBtUJWJ47fcHuuf9h+3fppxkm/lzNArDG0mYnG9+SkYZCIK/tYG1AC5BrNISW9SGfm5WzPpZRn3MCjulyT7KKD49oxYK5CVkx6CYfckuGr2OnRmZ4lG61GTs7+aSdvPiYnXj6gu3be8gOHLhOc680BtMHrihRXfkELNdbfiM7K4sI2zdiUZnTD4voM5lANhPFhlfFxiaLLJaeUO4PDXWKdXPD5Xky+sWHZOcFKvCji3O2oBUaFNAusq620w+Hbsk1VMHyzZBHwwiTR8qPJUfE5MVZwq9IVjJ/uemQt+RxHvWSf0XlBIvzIPVjDpG/jFPsRvgMFiyhhWW0yGo9pHLi7Wi3hOQ+D2AXv4eJfDMacNTQR1x1QBN51GvATjw+3llzAVr6WNN3qRKJFsscFbtXQdErih79+6UByuv8qxcKvc60MGoM/dyvxJbJZ0N1yCbVTd3UmMRdslD+4nvfb69/3atc/s2jWwXq/sa+dd/37c3PnrDv3HWP3fu9H9h/khXz19//n21s5w57y8UzWiJp2D73tS/Z1//tO3bj3oNW1XaHNTXcVcaLarzazExDjWld/Lfb//lr/5vdfNtL7ZknT9oTjz1pjz38mE2dmbCXv/A2u/8Hj9pDjzxutx+/1T4gOaoak/nwIw/a5z/3BXVT7rQPfOAX7aZjx2xGg9OevHjOvvKlL9u9mn0+fmhctVlNlskhAdcb7X/54Ifs2NGjNsYyTozBPKe1QTULWJ+pC3JmmarLje57jdMV62t5Ks/T7rBBfS5vHB1Rl/0mm4nAMleHS3s23dLL+9Wgi0sNRFvWxOlpATeVZZ8go25sB4Ju6RO4VAs1o0lUg3xYaJxVQx923mUmsI/Fg3GUvl+0vGvqN69rT/gNw2OaMa5yrPxyy6KPg5M1VPmIlZN4RSP9Guql0HeVPq6YZKDQrRn1XchaCXCSbGw7WV1u/7P0sJHiFaqZpZVW6MrYSIaqLodogEYlSx41FaggSHhVurIZlC47K611CdVAmPlK+JJQVMX9qIfT1/oS/sHBLZrLzBuypagrvJf8Kyon5EuzwKo5pnJbdeWFJ1x45lHnCqyaGi1vGwoKwVwRmvG8JbWlMtkzV8Pq9SGnyzbj7VUPE3JQ7y42zbY8WnJLerDkEamrBoqyomvE6NFfDbDEiZviVai1cp3bKwFYvuUfkzpYWLsshOVUS/xs0Azsg/sP2Yuf93w7xJhGVR4vuuGY/ePOXfb0qTP2xHPP2WNPPKlxKS3N9n6p7bnukLr2ZwQu99itt9xiX/rG1+z8+fMCkUxLSSwo6IHFH/jCHdDX4o3XHZDF8WUaEzdiQzvatmfbVjv5xKPWnpyzLVqOZ8vwkA3pa3KDdLZZY9CqMqG0patHHnlUuyhut3/68pftC5/5jA1pnOb37/13O3nilF24cFFdm9NS6Zxt1XjR177kRfayW56n7ksslZJFoNYn9wja+j2Ww1X5SlU1xiB2wA06pgXSMaZu1ue/aLeNv/AlVhkuqMXLUkZKJEfSFU5zovmeApZzGrQ/MdHQigIX1f3NmCrAH93M0rtMPQBBUNesZuYzQ/TM2ZMaavGQZoefEIBUVzXlAoCqsIP1ER/+sW2rJvRsPGqjI1qOSDspqcC4dSNYSJCB9fOKQEWlskXGcoFarXjAzHQAJY0bB5YT0FGrVmAi6kH3WJrguRzCKsaxHKIR58ijwnQK4sPb08lLRH5FFk2PvsznVdXWG/UhnaLRDoV6laRMnMojHqdo8hVlrYiKePRSTjz/8vQmYZHXgyy2oOrdxI9WeGR4VMt9qf4VuKzonSO8+2poUoWNPAgYKVcDEVjmqmf1PAFTsmt4oaUpSRo3mS7Y/m9YE1oEznxR7dUTqXtKErOusX6zsuKMjg3ZiKwrvnSQwNcGWWyGhwft9NSknRVonNCko+HRmiY2a+YsJpJZjQ/TTjPbN49pcsKANTT7ekYTZRjABnbzr0LVIm31fc3KbduWLeqOUIIT52xUVs2hIXUKytLYECiclUWphYVH4aviXcXap27EWXV9np64aHs27rJTTz+t2bznfRLOdi1h9KqX3mbPO3ZU1iWNrVOlMSSL1M6to75KkQZZ6sHIA/HBUgXxbIsrocSn/7/UjAyOoqsWkpUFsFPXjHXGrm7V7jysnxjp8jTALE9eLLqj0SeLF5w5rcXHm+dU9uSlFQpqlVHvGNCb5+Eoi02Vo5amysyqP3Cg+iQsfIJPRasFDA+MaYmrrbZ16x7bqQ+lTZtUTk3rjgp0Jh0MyjvAm8oOk3aY3Y3RBv55VJW58qknTmlN1x/aRU1Kqw/KWso4X70PoVjMskJCLtHy5bfmc3wsLZPonqbBXw4Bbop6oAFIVB15VDRu0WcmK608YkZwLmhQ/ATm53Ep9iuSVYnoPz//VDHlJsQ3UhFQ7iX/irqfUWkR+JxT5hVknxb/gFN36qWcuNEzNyHqUwKg4Pmc9CjuztCThh0dP2hHDh2yTVohouJlgo9CGSx4DrVFNQw+kXI1EIFlrnpWx5OCDbCkvDvRDgrgtFX5V5hdLVzpreGEBoWVgWhwVdvP6m9yZkIWILXO9DOpS/D8xHk7d+Gs8PAGG9Mi31XtqjOlL7+nmYBEf4YGyzQ0s/X82TOyDKqJ1FgWvg5pfJlJ2xAIqKi7lwHSPq5GV8mCfg2tXiRLrmqxhtJiods5jUecq85pUL4OydJWe9sG8Eq25rAsfXu32zvu+An1eNdlWVG8Ec2uFri4fsduVQ4CbEpDdiWBWOmVZYdaeo4RAU5NJnKASc2L5ZBlKbziWWnlq8Jyk5Z0CbiVxbYyrMW4xzZq+QvNWhaojFXa5edBAih5ywB5jJ+Eh5YH0uCvllrOqmlnGzUoZHG1JsulymBDk2cqMrUwO7ytMVfsE85QhaHBUa1huUMfPHtt27b9tmnDTo291EQvNTZ0jXeaUJVnX1xZTPlj+SEIKfKoqeWyTk0/bSemn7At28fswKG9Sl9lWzN6VBwklz6kWr2MsVT5ySEfZ5rj34sX3YNuXe8lcLcwDjpCxbd0oN7SyefBRDisUXmUpJMH/ItyL4971i9fjqSU5OdfEbAktQKsJm0U518RD9JRFuaTB8jTK/VdgU56KSdFckjKlnq3kvHO1AWJ2EnVrrdUH3933f2APXtqg43vv04DsKUhhlAoGMYNrKpx4k5+VgffCCyDJq7imfLt1kpk4EZHUuh1oTEfpmVRTN1ypvFWGvil0q2DLykaK/oZAHUAEd9ritcAJiI5e0vGCxdeuoBMcoFSGh8eSxGNrioCtpv7/qOP2j/e9W0b2DTiYnzznnvs9InT9vKXXG+H9+6zx/bsk7wt++evfd1e98rXqVEesWc1oeer3/qGwN2cHd132LZt3qG4+kbHsqQS6RYh1rkU4GuyiLoafmqvhsa68XLPMZBagK9ekwVTXZHT0snDzzxtj2gpo+2y7m0d3GzPv/6oPXXqpA2Mjtr1R46oi3LEzgj0TlycsPrImDXU1UhlVpNsblrCUulvg/TI2dGH/PyLNShvKWWkbgsGmym8qzCcCSOHTuWJe+CZnv2exoR7HRpLxzJMpi5WmcZcnoJcIZFIS2iAhoT3KbFWoF81KjrxCrAoMqbAtpad8mEYeo/IcoBIXe7eHa34o0Pb1UU25uN2t2/bo503tyR7ejNGU4XSgShpYwlRWvpVLvrnohwFaQKw5J3MoZo+klTCtYzXoB1/8QF7zctulozqdpc74LI92/bxlzksUi8eojsl3ZPLK1EUZxbvz6Mi6xxzdPM5JNUYFqtc6rxbS4dihKvs0kkeM8RAcnve8l5CKhAtvfPIy0cA/oAK/iDcsT5zTsIk/szyJyzjzTv7UHvF69GW/PFeCN5vsUaGjAhpiUnckIy0oLD9YBIen3yFYEnuVDHO4dIfz78C7Vcxu+cQYL1VYLbm+7xIlmZBOaqg/zQvuonT5MXLoYqeRTnv+Ugw2lzPT0UjbxsaBvXYU88pjOoEtal6q3Wtd46yUJX1Und1DB39IGRN83ZJdkUvxZKRyuPoTWl5xLl2JWH5GydOOjqvCA0S4+oq6krmBb6g9SwvaEtHX/1f9/5SC5BgcXMecvMaI5RMOOkIDDlToN1blYa3orrvEB4BfXYcF16oIR3QiPq6xqU9+ORT9uef+4w9+uxT1p5u2He+dbft2LDZXv+iF9s+jYd84c0324tvuMG+/fVv2//z3z5q+w7s01JCT9q3//279oIbj9qLNCN8TLuYtLS4dFWAkcaYWdgjWhytLkuohlLLgqhiKhDb1NqBVcnrXYs61wQ+927dbVvUDXmX1rD86F9+wl526KjddusL7Kdf8xb7L3/5P+wjH/3vdtsLb9U6g5vtsceekBra9mOve60d2Ltf2EG2KqlNRk/pU4kKrLYlR4VK3wEnupRfqsKFSlh0B+IN4bxWx58GQgw46O8LjZ/ngbxDbcuHgROWU4GZwSFryUpZ1XNV2XlHVjSi+JgpLiJdsQbITpRJE8NC/RXplnGtlTYNfQASlDG9kSrf7MoxOrzV9u4atCENxdiioRkj+kihQWJ9SbrLmXHOnDMm9AfydEjK80ulLmRxCNDlPKSAtZbAqrrVRzRcY9cGMdAko4Ys8S1ZTAdqI+q570/PxfKLEhyKuOQ/eNBTF3X07FwkBXIGMMlQ1QEtK8OYVd+iL23gARe4seMS7lw7kEulwB8i75mgNTc352G5nhXgJw51U1sfwHkElhxQLw28WZifeBzcw5uJXuFDBDdSxR8/VjVAPq45upOetyBv8uMnnNFZHuVJEOIV5w0h89MJvPLPBWVNH5E8T9A1+Yl+g/4nJ5taJ1ZDYliCTEaOmvKyogU4G8oPtU56L7V5hfKWfT76Qml56guvkjGJwLJkGdJNnLa6Qm2rCvqQWjAtLJ7sFS6rG1Y+3m4Vfj/DwCscOfICeK2EY3oT3j2vEXiZ5RDCh2Cc80hf6XRF06Du3btXk6cH7Hv/+m/W0oSa7bI+vuFVr7LXvvJ2G9F4yBuPHLb/6b3vtk/83d/ad79xp927YVBd5w1N+LnZfvqNb7Xn3XxUVseq7dKyQ8fGr7NdWnC9phZ6bHTQnn/0iB3ev1siqiEd0hej4u3ftc0mxg/Z5lFN1JHsNx4dtze9+hX2+a981e78p3+ygZtP2Otfcbvd8ZY32uNTJ+zuO++yfzl9Uo/Y0OSLWbvh+nFraetE9ZTbwV077GalwThOn7AjPVQYW+kTaKQg9ELFGgBgnk4Y4BP0TTjApf47JH0lDgpEOIiKxcGm0lBabbYIFGipapeiqraotCGNHaD/E0aB1zqujFwnV+mHRhbrU1UfF02te4oFimVHAA2bN262jcqTusAAjRATgFibEmJLRxrwZJ/wkLHLe4gsF4qglw3KB9ZUNW6CI8tLALlVjkKRunJmPHd+bB8OkB9EPAqYFMTHO4C+bkHdqqjeDz4GoDBzn7QBF4EAkwFwBGBJnuPGPdcQcbiHHyCVe3j565nNwMA4c+ZxiRfiBH5JfACw9Jryc/kUgbScUj8AZr7y4ZPImkl6wSW8i6gf+VeUN8o9iTGfB0Uydfcv4hHe0yT/4JPVQciPguzrnnz06WggAsuOKsp9oSpN4xo1eWNMNjxZtCrq4tXofi2croMtH6losGJSl1ChYOn0N4TKQwcmEy6xrEHuTxgdXOOJV/AnTDdSA+zjHJXmi245bj9zx1ttgxq9ytSs7d6lgc+HBfw2CwhLng0a1/iOt77Rjj/vRnvo4Yf1ZT+nHU/UPX3siF2nmeTDmHpUab7ythfZgevTnXcEwsYPH7Bf/6VftH2MX6PfbuqC5jAN2Tvf8mY7qwk4xw6Oa8xlzca16Pl7taD6C2+92ZrnJ2zfBu3Uo4lBR3Zvtl//xV+wH73sFdq46LxbF8YEDthZ57p92oZPC12/7hW32fGjB7VTkGa0q3HwbRxRGnpikgxWTCp0PW/SYnRTiNwBllTU4QCcQgBHVzmVXnCTgwNWWSEEZFtMpFCDVd24Q6ZagUl2+8FqSiNC/iiafnXLb6SV0ADd4GSU61n5zS0NDWBzcFAWDGUZs7odbOhMVvgEO8VyN4Wt+1CU5UnnWexCBD4ClGp0kYXu4GQSUFqOQpCrdKZRprjnUYrD8oIsaNxzAy7LM7EMAgIdrEmf5Fu4xh2wlwWRJMc7F47kecl7MohXNrFqhuvg757dfqSvhuqVYBUlGHkbgCNywB83iOvAlzh8yLBoN27FlB+mHzyQoTc+edIip1eSeYF68Ct4XirStNcI/Wb1DPOg8x4SikEKNBCBZYGCyuKt6kx2CgCIgMiwuqGxZml2dWVCi6dPaPzltPpzJ07rxaFCUsUXul39AagIeal00MXrt/rxLlu5cc+1rCE9veCakENzN3XxohbHbdutWvT82HX70/GfqiAYFzkrwEtloeWFamqYb3z+cbtRXd9M2NEejfJTGG2rqFpW6TZt+5bNtn3frkTGC+oCFzh8w/7bfetvl5nVrDVj+nlak9JJViWbnlLlYHb9vr12/aEDeg4VZ1lNnaf0cmD7VjvwmldKFrnxjIA2IsivrTGWh9Qtf+jI4QQ8YgmiYaFrFAqzwtFZL5W4Zu46+WAwPTfpkV+k53nBc+oZuAe00u3OB4LysYY1GiC5UQCXs7yz2UcUuaSH3+AQqY8aYOvFZJccvWn60GKHDcp4U+9LRUMVWirnAEsaUaxdNPCQgxMaqV4QVE/ykr/zeey5rleW8kDDx7i/iiz8y6XlgwGKcgK68mQBFBdRP3RX9Dzoju/nYKkk3wBqENc8C37BIgm/xc8XQGcAICF8iBPAob+qOQ8dwGOQmXRC9za8k12XsKCrnIkPbhzoSTWKX3uaipdHRTsJkW4R8Q4UUVH+hefM5dNLHZvLQJ5Fj7PoUZaSy/O9KJ3oX6iB5M0qDBYDXG0NDKhloZppypSiKsamZfGqjWgcIouKjwi0aGygXVR2aucOPwBirH0JWHTAqLeOxm+IRim8YTqHLlpHMkVvZqoFAUrVfrZDC3azf2tbFkGb2Kx05M8kFgFF5ws7GkHNZDWtaend9aosGSM6Oztlg6Pq7kUmxhgSFtBJBUN3v85VB57yEzt3E5D07RdoEJjERDoAQGZtszsRZ7fWiqecWxqPWiV9ATgNTjJjJjqk+Oyq4BZeWVo9joBqFcshlksWSZ9GJgklAChOiVweucsPYygJ71YrHkb8JY6P9eaZlF5beVWBH/JorbSKDm3tkhxutVT6IrApjwy5i+IzeN11g/4i9V0DNLIM76CrmXniPsZN2e6NuspVTd3gdeWhd0EqdQeiauzpsiSu7yVM+esDUXouJXgn5XBp/0tjlMGlF1l7CdOPZwE0hC5oQCGW6LBeKH64TfPui7JAj/wNoNLLicLOqn4lPu6UEeI7KNHDUA3kEeEChXikzZHcqyzqL6Q7rPqKNACunAnXExUJIiakkUvzonYNVsCha7ysR1EyhXI6s3wui31DXmbl8HQWB8wGiNc9aYBWM9Ja0IAKu8YROzZjXTBqL7dgClix6wdAr6qZ2ap5EmCkcYSmvaUdJDEDGssgSMfrJFUFncpN1165yIMaAhDa8euiGIU5su+g/dLPvc92bttm+3eoC5eZ6lgqNXvOu44lht+zLiMVIYAN0EVa6gpiOSJHTxOajIS/dpbxme10P+tWfdcCXqwfJLCJ3ABQXz8MIXUNEANE0thivXRQKD8AMosTCgRUWatSfLQattzFgwfEOggvtshEJ+4MTxGgD8ApapM+4YoqXg+tH54NXgBYzi6z3LRWp6en/dUrWvPT7wGWyOE6CWkgg6xmOqE6Z6FfetRRh2xDCR9dR+q/BmjQabAFEbxx90zQewZwYH92yoJbLHm/RMwgTvyUO8ojX/y8T2Ileb+YGeUjKSuA3+WSN6CwXAb5K1VQV4RJKF2TQXf9eB4fztM1Ff8Q8PcrzT+eH6AGQGQyFiARN4An7pQFJudwHtakLfwoIwFQBkCKP+5QAj65ys8fgpMOcYnj5UjXIY1kuINWUBXIRQYsnEPUF9QP+pge1MYUDRkSQrqkuBTBL4+IX8ijQK9e9gvyz+XIFyWp3/KE7cWv4HkTEeaHNiBX9ugliRimNw2o5Yu0djSgr1gJOyhARfMWrFpYMNuqoAA3nLQljoCaFr/cIuDEntdzAEsBLO02M6eFxiuqXNmyqioQVOsAofTN5+VML7vqRd2DG7bssPf91H+iVVCaAmlNgTckYlcQQBbCsZMNFlSALQu9UwFxr0rcphUAYTXz2bvvsbBSiQXrIoCM9STpmuZ53Jopf8CfIy+eV/wcXFKRIzduuiQODYivECw3LJzwBbQCNIOVUmtEOpDE+klErL7IiEXTQR88daihUQ2sMDnk/qr4ZdlCRrq4ORww87wDutaCu84v6BhZRU3FZYvAAdYqlBwOIlN371kXWKbxKWivnFf8uTINYAnyrlHlBY2+N4ZuxU/40aDPyt27opV/yg0Hl0yQYOIOYIQdvftNXkQo1l4Uk4YQ8Ltccr7LZZPRT1d5Ct4bRMA6t1yiKsgj3yNeYQKQI7/JZwAlwPE//uM/7Ny5c3bTTTdpdS8tRyY/wgDqnnnmGbtf28AS9tixY1oUf6snBeiDvKzoDG/KQsEjO5Cd0oc/5Y2Da9I4c+aMvoEnbIPGWO8/sF+bImipMdUGk5OTkidJK8iNzvL1FmoRJOxOhcCyQK9458uRpF2UPzznsqlI8Z5AH9JZtqDrn4FawUhrQgO8mWxxQAsjcgCSvkhesamBEyxKSGE6S1bI2tJua8A6a6G0Rm1gWgCHSkpjH5ND14xBBGAWfHkG9qyt2daWjT7ZBBkcLAJ8OCQF1kN9Vas2TIAgFlVvhBQWcEWzDIhkPOikrIs8kiNinQF/PCM8IEAdZjt3VzxFcQAYgFYAl/jjCV/XETxUvAGVdG85eISh3GUdcAJICs96S0A4CJlIG2AKn14qK8JpMXgAc1XjXrVOTAJkAcGSAeAv+C0VSP5FpJieDmP6rKlxqZLf805xkskhjKtCDv/nKtIKaMCtN8pyBppw7d8oyldmgDc0pATr0oA+drBMUia8S5zyrTA1lUWOzpfesuVTGlnyd4dykXxY0g2/XCoCFL3xR6Z8WZLZ8vncVuN5kBMQB/jjIwDgCA2pnjp16pR9/OMftzvvvNN+8zd/017+8pd7WPwAcl/72tfsd37nd7Qg/jb7vd/7PQee8MOPw8uOyoTrtBhB+Ta28AaoPvnkk/bZz37WPvGJTzi4BWTu2bPb3vTmN9n73/c+e8lLXqIqc0BVLEsbJfUWaaKzYt0vKkdLZIN/sC7hHpxYiaCIivLP9VPEhApu2VTEg7Ka5FMo/wvybtnpRwZBA2lrGm7jubQa8Ao8BUSpkIsrlkszU42dV0CyoBGHlWqxZNI4jungTOWoirYlYEaFOzR1TsBNAAeg6YcqYCph+XXAp+JVhBtt7qx40BrLT+u4ObAkHcIzblJO/pO8z7qWG6CS8EwWgpAJ8rGeyaX/Ipsv/q47rRXoiziGNgxsCtHgwpKzT0TCUdeEQ1++oDz8FQgegViiqUOpP13jEPG0cLsDVL/XDzudaCFsB6SauORd2IwDxToJIPVxnApD3MWHogMn1QzA7RJa4Ko1CgOR03w8QLD0c3KKvyugAV9mSOUd6FZVA95yUzH5xj7ilFn1CujDKymm7NqkLlCVOTYK8DIomdKS3GfpFpYBJEpK1PKSCWVqeVyKY/ORtBpU9DwAiCwIpO4EVGF1xGIJwHvggQfcYkg4LJUQ8cbHx+1nfuZnNOdQuy5t3Ohu+Ie4jMvkw4MDN7qya/o4ZXMHuvkJ25TFe0i9Jp5mfc7DUd+e1KYOn/70p122n/3Zn3X3f/3Xf7VP/X+fFphs2MGDh2yHhhphGWc2+YA+zInXCxXppDcey8+/fsjRi6yqoAuCpXU975B/ACTvVhKJWlo1bg8vcTZWQYJdvQOwzQngdU5HHuqZBQkvuOnK5mp5XIpFrpYkMd0V0kC2ACaDwv29wrKXku9qoMq0pkq0LcBUYdkiAKMDSwAlwDK9Vzib0+QdmlEsnNwDAv2atzK9xo0kcOo0uTTQ7qDwus7WOKkzoTsET6hbPYp3iNdJa/65vMF3EEmlIWL8JGkSpJM2N3LH4sThQBHwqEqKLnXCaXcfv0ZnWDOxHGD17PCTO93/OUQqxbQw1MK74tgxxDI0AHAM0anEM9T5gFNRz5KDyqxDvC61BrKNOXnKgVuwYoZr3B0gqm7DqnhI+0a/4Q1vcGDJAvkAyAcffNAtl1hB6cY+e/aslljTyhbbtUOTxmwSH35cAzyfeOIJB5F0sx89ejQBmAoDaPzQhz7k53379nmcv/3bv7X/+l//q1swn3rqKeeZWBYBl8nYyuS+1OourXBU6fMvO2Km73unAiir6AvrpbJKiVz5rWGZJY+yXZEGqOw6DWXKgXsqS/za1VGBS40PJJwOfwE5B+DIdSWdDAOoDIfGXRKfcBVfbii1ADoP+OgQM09Dl9U54uY8AuEBs3nE+pKAwUCd965zob6u1LzpXeSAR/mFdSmpYQCPA+q+xrLCvfvrOgBN2Htc+emfH9aWZO4w94mE2mYvyBDPUQNRA2tSAwFgIjz1IfUi1ssf/ehH9pnPfMatlb/0S7/kYzH/5E/+xJ+R7vF7773XgePu3bvtne98p4NQxmECAhm7+alPfcruuusuB5jwPX78uP3Kr/yK7d+/X+MpN9jrXvc6T4/ucfzHx8d9HCfd4hy4AVQBsVgrOUeKGiizBmIJLXPurIBsVJaLgWVIBnf2WwUCgqEcsunG8VTqhmdLi5q7WwoaE3N9CkRhxjJA3rWswDDzcIJgfhZfQCrueURYZnvnERbDdBb3vJSK4MKlUtfUha1n6rj5Q+nezwqLBZKZ7Fip5MZJT+LhXXS/96uEhf8mkzcQLemBT8JzHylqIGpgbWoAYAmQhLIf4HRXf+tb33Jg+T6NeyTM9773PbtP28iOj4+7RfPgwYP2zW9+UxuiXXRQCFjESsnYyS996Use7pZbbnG3T37yk87rl3/5l70bnq5yQCj1L9bNEydO+Pnw4cPOK8hFuqH+9o/4tanmKPU1oIEILK+BTM4+4mJQubiCWjgQWxBLmCmFWgkb3Te1rzK4DC8ffpZeJwH4lfWSQZhZ8AhQxCH5V0Qsf/MxLrlS+LBt3iV+qYNvWYaAyX8mWJaxgGOGkCIdPueu2aGZyRPNByZsQvBLePpzpx4OqEOghcmEiPEcNRA1sEY0EMAkQI56kvtwjcUwjG3E7bzW7uV4xSteYT/xEz/hlkf8v/vd7/pYzdtuu82tlf+kbWb37Nnj3d2HDx82urbpRv+Lv/gLe/vb3+6z0OENT46HH37YQSwgEh5smQthtcQtnBfX42tExVHMa0QDEVheIxnd62NWAYDzI4YVDeQU0FPCpcbsb5FDrYVe7o7FT1Vgcq1AHjrBZe6WBpq/XupK4Vv1JZhnwlaFTBezzXj7ZbA+JnaI+acJnFt6Vg2tz8DGwEHDA0Igd0rTCm6cYRruI7AMiovnqIE1qQGAGxRAWwCa3HMA6gB/rGGJH6Dv3e9+tz3/+c/3sZjM4MaSyXhLjoceesgeeeQR27Vrlz377LN+kAYWStxxu/HGGzt8n376afvCF75g99xzj918883eRb5Jm1BgxQxWzdAtnpXThY4/UQMl0kAEliXKjNUQhQpxKQqVqXdXe/2qcFnUpmvZED0qQw47lGWXXnt3cnpN0BCkk4bcsBQWUSFsFI8OBs7KlGHse0ArHDLzWCFYkAsIzEQlxAmDAJIwgsNuUiURGOpMoCwHEDNME5yNZ6SogaiBdaKBUFdy5ggAk8cD4DE+Eisk7nRlM2M8AD/WnrygHcY4hyWFsGjiD68XvOAFvtQRQJPZ5nR/AypZeogJPz/5kz/pYeANsIQ3oJa4nCNFDZRZAxFYljl3Vli2LNDrJOWoUEhK/1RiTkJvXCbwS5VqB83Nw6wkHL+qgMXD115MbjuBMtHSsYwea8kfwvrkoSV9E0e3jDro0304LwpfzSxjRHWcPpHjQYLyjNgrk6V9glUSZtmjKXkRCDc4JBBUF2xf7rgyLA2EW6SogaiBtacB6sOw1iUAMEv4hfqSMABCduEJIC9MqiFe4IOVEZDI+EvGXLKsUej2Zrb5DTfc4G4AULrMGY+J/3ve8x5705veZMxAB7DCM1hTuQ/pZ+WL11EDZdJABJZlyo1VkCVUjksl5UDSwZN8haG8G5mAcsMwNw/KuEvIJ0yHm/QM/OoEXnydhmkK5QV+qdOCE2Kkq28ucM/eMLVnXhIXOevt1961n3F12QQS/ZtfAiSzu5PXIMjjYUIcwsghpJOESWy3wQ1gqhGlkaIGlq0B/5ajkIXCyIXKa+cjb9kpXNsMqP/QZdBnsAJyzzXWQcZOAghxC9s5AhwBdbgFyyPAkck6WC7DYurwAAQC/lh+CEsjs78ZT8k9/sz0Jh2WHoLXV7/6VfvoRz/qE3tYy5KZ5aTPTjwAUGQIaXLmGfLq8Ws7h4ufXlm4iBIH2pxyE3KWXkhXYQSW5S5Jqypdp7JKy262CC/sfFl4d4mQRMxGviRAf9a56qnwdllf0sXTz5JiZh09jBY/XuIZotO1pQEWRM+jSnZWWJeA+RyIlHy0hOiEZ0lZvoTa+sJZ6BtCre9zAIF5T9mpu/ICZfwID18AICAvgEp232FbRUAjIA6rIhbFwJ84wQ+ACPCDAJNYFgP4pHubcZKsTfn3f//3tnPnTnvlK1/pAJTZ5HSRv/e97/W1Lf/4j//YvvGNb9jtt9/uQPQ73/mOywRYHR8fN2aTwx+ASfqM8UTuIFPmseJlrgbI86Tt4p2qatk58j0hzbjnHaO+L3hJC7xzJeh4FqFY2iD1tiGP0yVCIUXwTMOU6NRT21wieaMoUQNRA1EDUQNRA5elAQAZ4CxY/gAUADNAGgAx2d2m4ls7/vmf/7mHBdi97W1v8/3BmUQDsAPQsQUkFkWAJKAUN3hzADRDWoyjxAKJNfIP/uAP7GMf+5jzYOLOHXfcYe9617t8DUxmisPr7rvv9nvi0yXOpB+6xZkkxHqZyIr8ANtIUQNl1kAElmXOnShb1EDUQNRA1MCyNQCQ5AC0QVgWg7UKUAmAY1Y3IJMwAD3OWAyxNgISIbq9OX71V3/V4wP4iAMIxSLJPUCQMHSDw5dZ44BGutgBhzfddJMdOXLEw73oRS+yD3/4w27BRCbAKXKFLu9jx445wAygGJmCtdUFij9RAyXUQASWJcyUKFLUQNRA1EDUQP80EABlAJMANSgAuFtvvdWBJYAyADfCcE0YtmHEMgmIZGwk4yCxHGJZBDBCdJvT/U1ahGNyD1ZOurg5CAs/ZCAdliRiu0h4B6CLP0QY0icOfJABsMp1pKiBsmsgAsuy51CUL2ogaiBq4BrWQABby1EBPAB8gLUAMgGKEBNwcMeaCFgkLEAOCkCUa0AdcQlPGMAj4bBM4ke3OEQY4sEfnvhxjT/gkDGb3HMw1jKEJV6Qk+sAXOHJNWnBizABAOMXKWqgbBoII1fLJleUJ2ogaiBqIGogaqBvGgCQhQOmAQByDVBbTIQFcALoAH+MnwyTdfCDcA9xA9gLZ/gDHrkP1wBJLJ5YKOFFFzq88MctWC7hCyiF4IEMHIQPcdwz/kQNlFAD0WJZwkyJIkUNRA1EDUQN9E8DAEQogD6AG24AuUAAPdxxA+xxD5gD4OGG1RD/AEjhFSyd+AMA8QtWz8AbHhATfujaxtJJmCATfoSBH5R1J73ghkykEbrUA7j1APEnaqBEGojAskSZEUWJGogaiBqIGui/BgJoA+wF6yHALIDFAAI54w64o9sZCmECoAPswQ8wSDjCA0K5DsAUP66zIBOAinsAhCHNAB6RCwpn3OEZeBEPP9IOYTxC/IkaKJkGIrAsWYZEcaIGogZKqoGCdSr7sb5dszZsreqs9q+/aEOVBNi0tJ5dTYBkqCJA0Zy22VpcbuZyS0gCyrTyn3Qo6CZgRlc2XeMAOa4BcfMLpwcQRzrZa8Jy32wC+LJ8wqiyeR7EBRRCxAEkJtcAQ7/0M37IkmzDwDmhRDauk7GXhIFFhQUXtWVD4JGEvpq/yXN1lyDopnuI/vig1Ly3UMBc+YzeKAfosuVAHUuz8grdul/dGm1NzFJe19pzOmYUTjP2qxonW9WaxuVRfH/UtgJcIrBcAaVGllEDUQNRA1eigRnhioaAZaU2pVZOu73UBHiG1AUrfFKpq6t2pGVDaffolfAvWxzHdD0Idcn60D3EWTrI0iCnLsAgaKHj0rGWgc9AjeZyPn4SJ/gSlbiALMDNfDjdyC973y2NbBiPlfPTjUdOlBXx4lmLiOeaB8xFoa/cn/zrnk47BfBIDDhvC1nqW8Lq5I2iDTZkidYZN3adawEsdcZN076sqfdOb6bcko+FK5dz/ceMwHL953F8wqiBqIE1ogGsJs32oF2cqtljT07a9394zq0l7cac1dUYJmBm/Sw548CyOxZIck0Nff+AZV5BABQWURH4A7Zw5FERj7y4ZfPr5XnJ4KJM7sdz5edf8hEjQClRZHd2YNnWFjw1xsYq+RnN2j93Tlt0jmxQFjKsQT0D9eRjodpSnmn/Yt98qyh7+/Eoa5xHBJZrPAOj+FEDUQPrRwO1Zt1Ga9usNTlq37/nlJ1+7gfqpmNcnto6dcHRbTqD+XKdEG20OnVzn0Z75KwKLCkGhIhZBJDynyV50CIeueoooWfRM6/W8xbJobKmjzNgPeDSx8cqSjWddDU3O2Nnzk7ZtjG5gSP109bwl4aGPDR5B2sa37rYEl3C3CiDSBFYliEXogxRA1EDUQPSQL09awe2jNncvv129sI5mz0/5Z2rA4ND3hA21MC1NP5rvVAxFOgN7q0XfcTnWGEN6MMs6RJPgKV/KAAg+dMCAeN7DtjBPTtteED7vqurXKNRkq5xAcxqSxOyiL/CIq4H9hFYrodcjM8QNRA1sD40MHvBdm+p2J4XHxaglNlEFpaWGrOqGrpZzVhuCViONNcPsCTTkskr3bMvzoDurpvoc3kawFqJOdLLFLN3dF3T+4X1ErcJWSexYNY09qKh4Sf4VWva/13uUFvgMlKxBiKwLNZRDBE1EDUQNbAqGqirj26grc7fCjutqMHzdkwN4KzGWGrSABPC25XJVZFlNRIpmGifiKBuSx/btuIC9dJlW2Sv6gePFX/QPibQy/OSXJHe+iFSsSyUN7c6agxlW+Cxqg83XjGuKxpDOTY06t3fs5rND6isacIW43ubVS1TpQHQFSb6JIM1+yHwuuURgeW6zdr4YFEDUQNrTQPt2ojNqvXTqkKyoNQEJrW8iaalVoQw2xX11alxu1hfPxZL74IsWL4Fi2aRVbMv+VwEGEAYvVC/+PSSVhnClOV5i+RwcKtxkoBJLeFVUbmrajUALJWaH66J+xpBOa2lhRrq8hagrA3qPZNFszmnXY80VVzFUHGTrvEyqL3MMkRgWebcibJFDUQNrLAGegQLKyxFYD9TmbDmgBo87cxSrwypQdOSQ7KpVDX2sl3RAtutWRue3RKCr4tzEWhk5u5qUEWW4nwSDC4AlxUHN/mWs7ZAzfohgf4CQLdaz1uYfwBJAUisji19oAEo6wKMrF9KV7h6wB1Izg3gJwDZYIkhuem6oqWkaoy5XD8Zt6JPEoHliqo3Mo8aiBoojwYCiFTzQAvhIIFWg1XriinE7hayLzy0CDPdc9VWXY2fOAqDYGGpDQwhsC+43RqY34awmyzR/fI10MvccyysZSAfI1ggSBFgL4i+Lr0ZKlmpAhjTHZDqmvXN2GXGWGKgZEF7oUqAZFtd47x/eiF9PUvc52bVRe5LEC1PPUX5hzW1op4LTUT3uskX8ZfJlNKH5ZQaq5f6ZnlSXnnsCCyvXHcxZtRA1EDUQF81wA47NVklW1p2qFKpy2rJGC81etOz6r6bswEBT5ve2Nc0I7NEAzTYRYQlqwy0lmQtg77mZRAkk/IqWB91rjXYzUogU/dVJsXVZ4Tc1DNARruFUuOdBS65x3jpe7yvkgV9Xua1dxWB5drLsyhx1EDUwDrVgE/e0cQdG1DVLFApe6UatZbNqetO7ZysJWre6utngfQyZaPge4E4miFcEGK1vHuyRpYFBa+WUnpIJ7E4y/InqyWmv5bGUDpy1MvVrslaqUGUzdaAWzErWmtogPHNOugWR51FJaQHEa6JIBFYXhPZHB8yaiBqYC1ooCFLZVWTc5g8oJGVavTYKUSWlaERNWyamarxYeq8WwuPsuZkpPsxj5KhhD2YNfOY9MkPSVUsulLBo3SNt949UJl/QEhBdCZ7d7eUWRWwZMY4S6Czw1VVSw01ZjWuWRN5UDRd12wD6VtBRotlYTGJwLJQRTFA1EDUQNTA6migNTBqJydn7MTJp+3C5EWfvKMl0TXGUkBTkwyqApbtZln2iV4dnaxWKkXj3pCjJ0vhKghcNGEGEYomGq2CmKVMIslnoUkBRv4g3BhnOTBYsb07t9uOzWM2qLGVDEOpau3YZIxjVYumJ13ipXywEgkVgWWJMiOKEjUQNXBta6AhS+Vjp561+37wfZtrTNrY2Ig12nNa9YRFnGVP0RjLJqaVSH3XQL69Ujik7ykug6GEzZPXZS2VwMt41r5GxfrIjBwpJ/n3jwWA5Zwm8Zw/N2k3jI/b8E1HbduGIQaiyMQpayUT6WSxbChSWYZD9FUtfWYWgWWfFRrZRQ1EDUQNXLEGZIyc0O47DZu0g4e32PNvOaxxlZpcQFec2jg6wueiwfKK1RsjXrsaAGcDxgGRwfLMddimcVZd31/44g9salYTe/QBV9f4ywrLEmlyD2DSZ4oLalozDkUpKkURWBZpKPpHDUQNRA2skgaqQo+16rRt3lSx48d226tvv15NmSyWWs9S88N9nsEsEw4i9V8DeYMWQ2oCIqWgtSRrKRQmIdKxkszwZlcdgGYLYJm+T1MzM/bdu56R+7CAZc27xmt0hWvyTlvWSuI32fKxLM9TYjkisCxx5kTRogaiBlZaAzQvxbRacKKmbu+Kz0DV2pWqnQe11klLSw215N7Uvoa1ubpP4CmWOIZYrIGslSpcM66O63AAOtyKlQHvWItxz07uCfGz1q/F6XW7b8oCxrI1nAMfwA2yQMGN68CfsDWtrYhfiMekrjzKypsX7lrzc0CphwYgtpm0k+q1ImDZ8oUu5dacE+pMICTbq7JCQ0t5YEzmWaUeA7euLpU58ijI+qVirapbBJarqu6YWNRA1MDV00CmIfZam3sdmu5bsHnIqok8rDFdtfawzbTGdAy6bJWWRnppIee56qwNNEbU3qnRi3RFGgCYZcGkA0a5AeBqgDuApTgHKxbuwD3cCBvcA/jDHwoA0G8W/YSwwbnJJBFt88I5AEq6XT0d8cuGh3tdYRsCNVUBIORjiZxsmMB38bkIeC4Of63co3PAeYuyoIemK7yCG/foVvnCmgwDwpVsUjArJNnQUdMknhEtU9TowWaZlIocjSqtPPL6SBs3wCfLqxMLx85NHqer4xeB5dXRe0w1aiBqIGogamCVNACYzII/7gEYASjOzc054OQey6ADSoXJhgPMcQQwGcBd4M2jBLfsY2XTxX1wcNCBDWkRHpBDGNKFwj1+HPAHXBJ+cnLShoaGOjJ4hPgTNVAyDURgWbIMieJEDUQNRA1EDfRXAwG0AdKgAAYBa4C2AOJCN3MW3AH6OEIc4gcgSDyuIXiFsNzjFyiEwW1GXa7Dw8PuBaAFaIZ4+NNNDgUZCAMRjjRw5xwpaqCsGojAsqw5E+WKGogaiBqIGuiLBrLADZAZrJLT09MOLElkZGSkA+YAeAEo4sc1blngGdwBnPhzLAafxMkScmBxDKCRe2RhRjJ7VgMeIcAnBMjEDXBJGK7hmU3HA8afqIESaSACyxJlRhQlaiBqIGogaqD/GgDAAcYCAeYCcAS8cQ3IBPCFbmfCBrBIXNyJR3jCQgE4BuDKOevuN+lPCBvAKfwAk4BGQC28uYfH2NiYTU1N+bFhwwa3cF68eNFlIF6kqIEyayCW0DLnTpQtaiBqIGogamDZGgAgAuwAdYA3gCJADpAGqHv88cf9fseOHR6GsYyEHx0ddeB38uRJD7tx40bjgE/gEcDoUqAygMnsAwQgSTwskJzPnz9vFy5c8GvcQjrINzExYYBL5A3phufJ8o3XUQNl0UAElmXJiShH1EDUQNRA1MCKaCBYK7OADJAG8MMS+IlPfML+7d/+zT7wgQ/Ybbfd5sAOIAfA/PKXv2wf/ehHbfPmzfbbv/3bbj2EHwf8OAgbgOXiB1gMLgGygEvCw+Mf/uEf7LOf/ax9+9vfdnB5/fXX2xve8AZ761vfai94wQucHd3ggEx4kV63tBanHe+jBq6GBiKwvBpaj2lGDUQNRA1EDayqBgBjADOOAMywBALavvvd79o3vvENe8973tMZ0wj4o9t727Zttn//ftuyZYvLi1uwHgL2AKicQzd2eKjFgBJ33ACT8OD43ve+56D1qaeesqNHj7r//fffb3/6p3/qlsrdu3cbVlSINJCJ+Evx9kDxJ2qgBBqIwLIEmRBFiBqIGlgNDYQV4TShgjkVWifOV4nTeeEUi0tlCTEv9Zl36SVMYTqM0UvFgjMr2QGC/JCU3Ee6Mg0AxjiCPrH8AdQg3AJAxI1Z25wJ/7znPc8+9KEPeZc5IBP3sOwP1sczZ844qGRcJF3nAEwOwCfgEaKr+9y5c96lvXXrVneHD3He/e53G27j4+Nujfz0pz9tf/iHf2jf/OY3Heju3LnT3UM3ODwBl5HKq4Ge3vM88ambWMcyMAp1Vaemoh4InnmMro5fBJZXR+8x1aiBqIFSaKA3oEYV3lvI5T9U13S6eiw/zWuRA6AxWP8AmRCAEApd2/hjTfyXf/kXB5Y//dM/7TO2P/axj3m46667zv75n//ZTpw44VbNN7/5zfbSl77Uu83h9eijj9rXv/5172YnDGMnX/7yl9sdd9zhlkhA41ve8hYHnIBZAO7hw4c7wBa5gpyMvcQfvrhxRFqnGljj3w0RWK7TchkfK2ogaiBqIGqgdw3Q1QxwA1QC2gLYfOaZZ+wf//Ef3br4tre9zcHoV77yFXvwwQftyJEjvnwQM7jvvvtuB6FYLW+//XZ78sknDevjZz7zGQ9z8OBBB6C///u/77PK3//+9zvQDLO/sWo+WK6rhAAAFyVJREFU9thjbqlE6ltvvdUtmciElTJYQaO1svc8jSGvjgYisLw6eo+pRg1EDUQNRA2USAMAOA4IEAeAC4Du7Nmz7o4/oJOu8CeeeMJe85rX2Lve9S4HoX/0R39k9957r33/+9/37vP77rvPvvjFL3r4D37wg8aknKeffto+/OEP2yc/+Ul77Wtfa8ePH7cf/vCH9qUvfckeeeQR93/ggQds165d9vrXv94tnwBPrJWcsWpGa6VnRfwpsQbi8v0lzpwoWtRA1EDUQNTA6mgggEoAZbAKBhAXxktyxpLJAuZMrMHqSPf3j//4j3sXN+Mg6fJmPCVAkYNxmUz8OX36tE/AATTec889DkyZOMSamHS3YwFl2SOWHQJEEp6lhpAFvmFpoiDn6mglphI1cPkaiBbLy9dZjBE1EDUQNRA1sM40AGAEOALkQnc4wDIQ1wFUAgi3b9/uywEB+thNBwCJhRM/wCHAkKWMsFL+zd/8jYNFutsBksSFF2lhyWQCzxvf+EaPw6QdxmVi1Tx06JC98pWv7EwsIi1ki+Ay5Eo8l1EDEViWMVeiTFEDUQNRA1EDq6oBQB6ADcAXxltyj3vwC9fM5qZ7nHsAJ2ficHANAOSAmLDDckW4w5vZ3wDRG264wUEiE3iYFU5a8Lr55pt9Fvmdd95pd911l3eZ4wcgJV6kqIGyayACy7LnUJQvaiBqIGogamDFNQCoC2MrOQMMAYqAQY4AIEN3OGE4GPcY4iEk8XBjQXUA6C233GK/9mu/5m7EpXsbXkzyee6553y5ItbTJA38ibtp0yZ/XqyfgErckQXCjWt4RIoaKKMGIrAsY65EmaIGogb6rAEmZXAkjTG/3jD3uIRPj8H6InNXuNDVoy/JXhNMAhgDrHEA5jjjDmBj4gygDuCGO5ZGLIVYG0N4FEVXN9ZD1qLkCHt9ByslQJEubiyRLLz++c9/3meKE/ahhx5yUMn6mCyQzsHi6BwAVJY2YsF2LJmEQRaso8iFjHS3R1opDSz1pq/Ai8fslrCkUJjpEu55NF+3kjoq+5ySze/5WeCRDVSK6wgsS5ENUYiogaiBldKAlr5WNQx4UAqqmwEIA7IA0UDPTVJFy3eV6umlmq3sczvwybQbyIbguPsz+G82RrzuRQMBFAIkIfQZrI1YELEsEuZ3f/d3O2tQEoYZ3+Pj4z5xJoBL4lF2GD8JvwBOQxqEI+6LX/xie8c73mGsefkbv/Eb3sUNAGUM5Zve9Cb7rd/6LZ/k89d//dfGXuRM6iEuVkzGYP7cz/2cvfCFL+xYQAGV+GO9JK1IK6EBobtKMoSh0lJZaVNetPwUSVX0cVFpSPeDhQkXVSeUmbmWFudXORmoJTBMgyc8f515q2H1mtmoviHAmEpZQWeUPrIMSIZUpkJJrk6ACCyvjt5jqlEDUQOrpQHa4ExNr7rcKrUErGn0nNVS68BqiRPTWX0NAPQAZYBCrkO3MtZIuqRZsBzrIvcANw7C0o3N7G/CM1YSYMjsbLZ+BOgFKyI8jx07Zj//8z/vE26wZu7Zs8dYZghLJPuAAxixdNIt/pKXvMQOHDjggJawzBJnMXXSfOc73+mLrLMUEQuw48YRZA7AdfW1GFPslwYAik76QCA/A3U+fFRh1epUVMGnc+EOC+9CmPKcK/ryiZ8+5cmPKEnUQNRAnzXQbmNBoppLNkRsyQoxeaFlTzx60U6dnLaBygZV4POVe5+Tvyx2Q8MV+9d7H7UfnnjGXvXK6+xtrzhq7akZa9Q1IaSqbtCZMWvVk20IL4vxNR4Y4AfRVU1DDkij6aNrGsDI8kEATAi3ACwDCA3NJGASYAkRB1AIWCQuYYkHf5YL4j64k27wByRCgFjGU4a0AngEXMCDM25YVEk/yBd4OZP4c9kaQK9Bh0HPuLE26e//j2/LQrjJXn3LUds1PGBNZVWjorOKT7UyZ9qt3Rp9sFi2q+pHSQElRRMUVtUFZcRJltEd283Gj+ywqqyWLaVb9ToMf9kD6WJJg162AlYhQrRYroKSYxJRA1EDV1MDSQ0MrAzwsVqvCiBoYgaWg5KAyqupofWeNsCMRjsAygAouAfgha5tQB7AEsBHHMAjYQMoDG5YKgGVgD7iADgJE4BBAIfBP4DHAExJF9BI2sQhDWTAn/Txh0gPXsQP4XCDQlp+E3/WlAY8X1MQ2UrzMzwAfjX1qAyPKs/D+EtHkdRjKZosMajkOSKwDLkZz1EDUQPrUgNJA0xjTG2cNMp0Mw0N1602IDcsBz6Wal0+fnwoaQDgBgWA5jf6wfoIuAtgDXfKC26EDQfuDgYE8vDHSgkQ5JozfgBFwkO4B8sY7sFCBhgFOJIuYQNP4oT48CM88QGYHIE/Zw74R1rbGvA8VDbW0gHeIW8BmgNVAUvVT/ry9WqrojGVoe5aC0/dwcNrQdgoY9RA1EDUwJVpQIBAf2k9rUY9sQgMDqlxV7dTpPWtAUAaDTkAMwAzwFuwRgarIH5cc8a/09grHvccgELO8MOfbm/AIvGgLJAEJHIEIg7xgyUUd+IRJsiHG9fZ+yAPbgBSzpHWuAY8C/VDXqb5SXmkS3xwcMCGRlVmFyA0IlA2y//c0WJZ/jyKEkYNRA0sUwM0zEnd7bW5GnNZq4bUHT6kRl7WqUjrWwMBLAbLJfcAwCzQ5NobdvmFrugA8Cg/xAlgL/DLhgtxg18AnwEEhrC4kzbWS/wApVCwYJJWsHzCkzAh7cB7fefWNfJ0DhBTlJhUTv7g5P3w8JDqJvw4qLOSessD+E8a7xL3+RBX82oBHr6agsS0owaiBqIGVlID4UufGZneeKs7fGBAFsu0e3wl0468r64GAGjkOcQ1BEgLQC0AuGANBMwRPoBPwnPPgbUxjMHEnziBT0iD8NDiNAhPGCyUgV8AnotlxD/rlnBM5F+cTvCL57WhAXpPyMMwgQep6QLHraZ1hoZHBvRxAzwLADL7XEm4rEvZrqPFsmw5EuWJGoga6LMGEiCBUaCt8UwVxjSpvh4QsNy8uW4TmiE+fVEVusY1tdrq/tTsy5pAB8aAVouKPXSiF4u12K6QjbFUE5H153quzY4qDRupaPs+zQQF9KrD1qqyctU1DrRebZj2YlkcLd4XaEDttRMj1fiwqGilgLrym8lbAzWGScgi6VYjGnzKS5KTbi0kvFzIC/41isLjcY97ElJn8fMA+sXR47qnypN4k6aWYRHY1LUDV6UjfsiBfAlYDNyUBo5pPFgSriY3D5HyxT1S7xpgYnVL75LnB7rV4flOvoiNJmuL6nrnNCGLe72DdU3u07QvZZUmdrUIT5hlks8s1zhavestlYtqSx8nrJuptIaHG7Z5C1ZqSmuSmMTMEHJzu8Ax43/1LyOwvPp5ECWIGogaWFENqDH2OhgAoT9vPNQVrnp741jdNoxVbeq8HGnwVbcnDXzS6JsaEm9xepCvqJrHP026KzctKKSlTQA8smxpnWaN3JOgsl6wSDOyaLJRCi268oge3TWQfGIALhNiKexKOgYyuAk6umfFAWcSLptvmqOt3BHJUskx7wc0mSfck6W2SQNgorOicE7iJOkk1/PxwhXyUGY6culjx/lJrkhXpgF0zccilmQqhTaHrnnn2+SnqKL7Sk1jXvUFUW1qtn97zlpCnJXqqN5HwCeQc7kk6MWHg8TQm90pFHUNx9WmTTY6Bv+l8xkwXHaKwLLsORTlixqIGlimBqiI0+Zbl9TL1OkYLutDFa1juMHO1DUZA2ApCFep0m2qKGrRqcQrzBgXGnWL1TIlKYou24WSHbRzsqA+8KOTNrrlCTWCsmwoYmM2sbLNBWRcxCz6Rw1EDXQ0wPvutmmGQvBe62CoAUMZAJazGuJw6uwF26Z1TQ0rohaQbAvEtxvqMxCirwhcOiANXwsdzldyoU8T7fCDcbxSTWAYa1WyUsXYphGlcyU8yxMnAsvy5EWUJGogamBFNJB0NcIaUImBwE/6YRzTxk2jshBMq2GZ1ZinBEhiLSRUJUzL9BYgBad4rRSpgRsZ0BqKzZo9dP+z9uyJi9bQ1m80aHMNzuoy62GB5pUSL/KNGli7GkjAZJvhLeHjjEt/x5PxtBPnZm2vuqGbDa0nqlXR9Znp/nxoNlUpYO1M7JrL1EJVtk9nqpNYAWxZ+mzDpkEb2zjoH7fdLJbLTHlVokdguSpqjolEDUQNXE0NUIc7qFwkBOPdRjbUbNvOUXvumRmbnpjR+Kth1fSMdZR9Q5G8m2xRvJW6HdTkjgPbt1j9xhvs3MQFdYtrG0KB2pqWqGmwDQgyNSRfpKiBqIHL0gDvMuMpwyQZIicfmPp14Niy63aZ7d293cY0K9uxJ6BTe3lXmurFkOWyjemSrRaXSb7nOP0Qqn8aGvNZ1Xs+sqFum7YM2OAwQ3eAm2uXIrBcu3kXJY8aiBroSQM0BPMVNQAToEkDA7BkjPzWnVr0+mLVLk7IktDUiEYaEwISU8DOJ2osvz1xfnk/tdaU7d04YHs3H5Z8agQZ/6VZom1ZVptq1Np018tyGSlqIGrgcjWgd13vTwIsmZCTWCt9kIvqg6RrXBOkGI7S1NaNcxpLqXeQOIxrJnzdx7fO1yWXK8F8eDhKBnW3N+iJGGoJVA7bBr37HWvqfOA1dxWB5ZrLsihw1EDUwOVoABCZ2CYysbAIABg1fpIGZWikbZu2DtrkhLbVm2L2rg9+cmtlMgUDJiuPLKvq9m4zOaDCbit0uglYzmj8lyYRNDXWsq7lkWxufsHtzBPFy6iBqIECDbTCx2K65FSF8ZW65qjquq4ZfQ1ds7YoPRUaK+Nd3957Lt4AyxZWy2WT3uP/v71zYWobh6KwEjtPSIE+tjP7/3/bTme2u0ChhJA43nMkm6bTbCG7xtTOp2leRpbtT7V0fKV7ZdGq89HMl3B6nofFRRbGaod83IG9vDqcEJYdrjxOHQIQeJqA+5La+ljnrvoX/ZSAtGDUv3caDt9uBuHzp/uwurPo9OoqFpjRF1T5Xr6xL+SJWqgXswe4up3YwaTz14ov8fAaFi/n9WXwCQEIHEDA8yvdFgwkHj3VxbJxs02B8j1KUazvJPhWCkFlr/A8zmneFt5Hgk/7FJqqksJKHXDQPVn9QBubHj0jLs6m4f1vI1krbRlV+R4ib+c5ds+ZNbMJYdkMR0qBAAQ6RiCJTbfgjhSpQD+jk/D2/SzcXm3DarlSR6IORW28vujt5a2VxreWpXKrobfRYKJfmToyx0DUeWSa0D/aaA3rr7JaXjkrCQIQOJCArYFD3dT2Bo9D3LJIbhxLUr9LfR96u8q0ePRd/7B22K9SMUQVZMoBTGNbcOBB92QfKGalh+T19KqoFOPw5kwD8PlKx9SDY5h5s8Tsnh07sknxWn0JJAhAAALHSyANPyXv8Ts58Pz56TZ8/mMV1neTMMnfhHL0EFaDG3U4tiLqJVSSe+pn0j5uRR3A/Ml0UG9R9yw7TXQcwq+3P3k0MhxA4DlUd2rigJJfJ+tzrqeNM2uK2f+9np+ex3+9r+pb3iq0SrZGxik2mroSMi9y4KFzj0CMYkQH+5qvbi/D+dtp+Pj7SVi8yzUVxxbU6gFWU2CisKzLrgvu0CcWyw5VFqcKAQi8DIE4NV89j3XfdDYO5xenihuZh9vPmm+1vFecdFk6FKhcBg01+u4EPKk/iyv0yNYROwK5bzd8cnvKczA+EgSOjEAT/+tdxp47KpE84L5yVuvQaNqMj5j+rg1uG3wQCURNaNFPCUo3GLJBun3xQ2jhtkPb31zM1MbMwnyRa01w7xNdiFI+/YzCUp9dTQjLrtYc5w0BCDRKIE3QT57iizMNPcuykGtpxcu/lmH1IPNBMYpLwcWDuuVXv1F6RQ71JvYst8AkQQACPSeghiJGZ7AMrBSvl4qtZauFY6ng5xafMRKmnfDcXHiYXaIzHw3Dh49zicssTLTKztALMliV6r0vLQjCsuf3AJcHAQg8n0AaEte8RoX3OdW8J62nKIPDJlxflmF55yEuCclolUidikVltDU0bq18/jmTEwIQeH0CUVt6XrY8x+M8TqtEr/8teelRjnxUhNlC7YqWkT17L1E5U2ijTIJSIjQ+pVaWTV9JnNvtLx1NCMuOVhynDQEINEsgWR/cCdgbXHpS4vLkTH6jo7m+l+H671LOM16hJ8WRzLWwr5eDs6WzUABl9R8kCECg7wR25z7a0OhU3/v+my2Uds7ZyBIpQZllpYa7izCVqHz7wUs2DrV0o7bHcpKlMpZRv7msjpsuEZZ1ZfIJAQgcLQFbHZOXuFt1WybVV2gsK9cqG3NZGBxvbjwuw83NNtx8WYeHey//aIHpRd8kMOXU4/lTJAhAoN8EUjuha/SQeH2pbi/83d7kDk/kl0WlFNb8VEs1KqTQ4kLWSonKfFzINpksmd5FOZMYrcyUyZ/aW3cVrHN2JyEsu1NXnCkEIPBiBCwKU2Nvr2837p43Zculw5JMNRcq1yT72WKieHOyXl5plZ6b+7CR9dIdSj7UkPljL/NiJ0nBEIDAqxPwHZ9u9jj8XZ1PPeLhB9IsLzTUPQzT00xrf8tKqQDo07nnYsupp5SnuMKKRYeenTbDpTolL3ILVYRlIsI7BCAAgc4RcOvueU5OtSUhNfPRcqmtA4UOGcnS4JVvplpHeDbLw818HL5eF5p7WYTiQdZLdRYkCECg3wRssXS7UNqT21+U7Kgjz7446jGZKei5BKWXZ7TX92gy1PrfKZKEPcTj3Bkv1epH0rR7fICNBcmJJ4Yd2lWs6Q+deieOZaeqi5OFAASaJ+AhrY0aeYtKx6isbQeP7b62WDgqjzsGDX+XmkO1WYVwdxvCl6tluL1dahk4rdyhIbCikFXCw2SFy/Hrm+XBnREJAhD4RQl8u1X/9QTlmqOGwX7caX7kUJEhMnl6T0aaEqPPU4nK8wtbKDM9jKoYNQFbzdseepnG6vaPH3VToL+7lUhvLrOeUtPdB1WEpSuUBAEIQOAZBB4tFGncK+5hIbnRUm9fLodasWcTlkvPwdyEjbSoBWhc81sx7Cw210OtA06CAAQ6QSAJvmSJrOdW5oWkpby5B3LKkf+eLJKDMDvJw8nJVDFwFZdSa3/Lp++oE8LyqKufi4cABJ5LoBaVzl93MvW+FpdDuXk6HvJ6LQH5IBvoeivBmV72EPXvB20nQQACvyaBuLRjNf/F97jDBg01bJ1eSWCOxw4dlMkJJ5NDX7JKOo6tsiml+7vL8yObqBmEZRMUKQMCEOg9gZ8JS1/8pvRQeRKdadFH2zuizUPdjToc/XPcSxIEIPBrEngciKie/6qPeLL1nfv9yq1pODwJSuf2y3d/d4exm6gZhGUTFCkDAhA4SgIWm7X1crcT2g/D0/VrJ6H9OdgKAQi8JoFKPlZOOd+dSaU6NaMy+t9Ew6ayK2jED2nPph/y9HnDM6aq9vnyuTYIQAACEIAABCAAgaYIYLFsiiTlQAACvSbAUHivq5eLg8C3sD/V8MPuKERthWQo/On/KFgsn2ZEDghAAAIQgAAEILCHgOVn/apDBe3JdkSbsFgeUWVzqRCAAAQgAAEIQOAlCeS7wzsveSDKhgAEIAABCEAAAhDoNwGGwvtdv1wdBCAAAQhAAAIQaI0AwrI11BwIAhCAAAQgAAEI9JsAwrLf9cvVQQACEIAABCAAgdYIICxbQ82BIAABCEAAAhCAQL8JICz7Xb9cHQQgAAEIQAACEGiNAMKyNdQcCAIQgAAEIAABCPSbAMKy3/XL1UEAAhCAAAQgAIHWCCAsW0PNgSAAAQhAAAIQgEC/CRAgvd/1y9VBAAIQgAAEIACB1ghgsWwNNQeCAAQgAAEIQAAC/SaAsOx3/XJ1EIAABCAAAQhAoDUCCMvWUHMgCEAAAhCAAAQg0G8CCMt+1y9XBwEIQAACEIAABFoj8A+lJpHTgWbvpQAAAABJRU5ErkJggg==)"
      ]
    },
    {
      "cell_type": "markdown",
      "metadata": {
        "id": "NuWYKjnetObM"
      },
      "source": [
        "Якщо використовувати підхід довільного доступу, програміст вручну переміщує вказівник на потрібну позицію, зчитує або записує дані у відповідне місце.\n",
        "\n",
        "Довільний доступ до файлу забезпечується функцією **seek()**, що записується так:\n",
        "\n",
        "```\n",
        "file.seek (offset, whence)\n",
        "```\n",
        "\n",
        "Параметр **offset** вказує позицію вказівника всередині файлу. Рух вказівника може бути як прямим, так і зворотним.\n",
        "\n",
        "Параметр **whence** (необов'язковий\n",
        ") вказує, відносно чого рахується зсув. Параметр може набувати значень:\n",
        "\n",
        "- 0 - показує, що зсув відбувається відносно початку файлу (за замовчуванням);\n",
        "\n",
        "- 1 - зсув відбувається відносно поточної позиції вказівника;\n",
        "\n",
        "- 2 - зсув відбувається відносно кінця файлу.\n",
        "\n",
        "У наступному прикладі створюється новий текстовий файл. У нього записується набір символів. Після запису вказівник знаходиться після символу 'z'. Функція seek() переміщує вказівник на позицію десятого символа. Починаючи з цієї позиції, вписується слово 'HELLO'. Далі вказівник переміщується на шосту позицію, вписується слово 'BOO'. Потім файл закривається. Рядки файлу виводяться всередині конструкції with as."
      ]
    },
    {
      "cell_type": "code",
      "execution_count": null,
      "metadata": {
        "id": "Z2uuwARhofng"
      },
      "outputs": [],
      "source": [
        "f = open('text.txt', 'w')\n",
        "f.write('abcdefghijklmnopqrstuvwxyz\\n')\n",
        "f.seek(10,0)\n",
        "f.write('HELLO')\n",
        "f.seek(6, 0)\n",
        "f.write ('BOO')\n",
        "f.close()\n",
        "with open('text.txt', 'r') as f:\n",
        "    for line in f:\n",
        "        print(line, end='')"
      ]
    },
    {
      "cell_type": "markdown",
      "metadata": {
        "id": "ozsLKlHX32k-"
      },
      "source": [
        "#### Допоміжні функції"
      ]
    },
    {
      "cell_type": "markdown",
      "metadata": {
        "id": "dJcblq1n3YjP"
      },
      "source": [
        "Модуль os містить кілька функцій, які можуть допомогти створювати, видаляти та змінювати директорії.\n",
        "\n",
        "- **mkdir()** - функція для створення директорій. Вона приймає на вхід назву директорії, як параметр. Якщо директорії з такою назвою вже існує, активується виключення FileExistsError.\n",
        "\n",
        "- **chdir()** - функції, що може використовуватись для зміни поточної робочої директорії. Це директорія, з якою програма працює за замовчуванням.\n",
        "\n",
        "- **getcwd()** - функція, що повертає назву поточної робочої директорії.\n",
        "\n",
        "- **rmdir()** - функції, що використовується для видалення директорії. Вона приймає на вхід назву директорії, що має бути видалена.\n",
        "\n",
        "- **listdir()** - функція, що повертає список файлів та папок, які містяться у директорії, вказаної як параметр функції.\n",
        "\n",
        "Простий приклад, що ілюструє роботу цих функцій:"
      ]
    },
    {
      "cell_type": "code",
      "execution_count": null,
      "metadata": {
        "id": "uEL0jfKQ1SZf"
      },
      "outputs": [],
      "source": [
        "import os\n",
        "print('os.getcwd(:', os.getcwd())\n",
        "print('List contents of directory')\n",
        "print(os.listdir())\n",
        "print('Create mydir')\n",
        "os.mkdir('mydir')\n",
        "print('List the updated contents of directory')\n",
        "print(os.listdir())\n",
        "print('Change into mydir directory')\n",
        "os.chdir('mydir')\n",
        "print('os.getcwd(:', os.getcwd())\n",
        "print('Change back to parent directory')\n",
        "os.chdir('..')\n",
        "print('os.getcwd(:', os.getcwd())\n",
        "print('Remove mydir directory')\n",
        "os.rmdir('mydir')\n",
        "print('List the resulting contents of directory')\n",
        "print(os.listdir())"
      ]
    },
    {
      "cell_type": "markdown",
      "metadata": {
        "id": "9k6BLFk96sgP"
      },
      "source": [
        "Зверніть увагу на те, що параметр '..' функції chdir() вказує на батьківську директорію. Параметр '.' вказував би на поточну директорію."
      ]
    },
    {
      "cell_type": "markdown",
      "metadata": {},
      "source": [
        "### **2. Робота з CSV-файлами**"
      ]
    },
    {
      "cell_type": "markdown",
      "metadata": {},
      "source": [
        "Формат **CSV** (Comma Separated Values) - найбільш використовуваний формат для імпортування та експортування електронних таблиць та баз даних. CSV не є універсальним стандартом для всіх застосунків, що можуть мати свої специфічні норми та стандарти.\n",
        "\n",
        "Поля у CSV-файлі розділені комами та символами переносу на новий рядок.\n",
        "\n",
        "Для прикладу завантажимо файл titanic.csv (для цього скористаємось функцією **get()** модуля **requests**), та запишемо його вміст у список titanic."
      ]
    },
    {
      "cell_type": "code",
      "execution_count": null,
      "metadata": {},
      "outputs": [],
      "source": [
        "import requests\n",
        "\n",
        "r = requests.get('https://web.stanford.edu/class/archive/cs/cs109/cs109.1166/stuff/titanic.csv', allow_redirects=True)\n",
        "open('titanic.csv', 'wb').write(r.content)"
      ]
    },
    {
      "cell_type": "code",
      "execution_count": null,
      "metadata": {},
      "outputs": [],
      "source": [
        "import re\n",
        "\n",
        "titanic = []\n",
        "with open('titanic.csv', 'r') as f:\n",
        "    lines = f.readlines()\n",
        "    for line in lines:\n",
        "        new_line = line.replace('\\n', '')\n",
        "        split = re.split(',',new_line)\n",
        "        titanic.append(split)\n",
        "        print(split)"
      ]
    },
    {
      "cell_type": "markdown",
      "metadata": {},
      "source": [
        "Однак є простіший спосіб роботи з CSV-файлами. Модуль csv містить функції, призначені для автоматичного зчитування та запису даних у CSV-файл. Деякі з цих функції наведені нижче.\n",
        "\n",
        "- **csv.reader (csvfile, dialect='excel',** **fmtparams)** - повертає об'єкт, що ітерується. На кожній ітерації повертає один рядок файлу. dialect - необов'язковий параметр, в якому вказується діалект (різновид структури) CSV-файлу, який буде використаний (усі діалекти подані у таблиці нижче). Аргумент fmtparams (також необов'язковий) може бути використаний для перезапису параметрів форматування поточного діалекту.\n",
        "\n",
        "- **csv.writer (csvfile, dialect='excel',** **fmtparams)** - повертає об'єкт, що ітерується, призначений для конвертації користувацьких даних у формат CSV.\n",
        "\n",
        "- **csv.list_dialects()** - повертає назви усіх можливих діалектів.\n",
        "\n",
        "Перелік усіх наявних у Python діалектів:\n",
        "\n",
        "Parameter\t| excel\t| excel-tab\t| unix\n",
        "--- | --- | --- | ---\n",
        "delimiter\t| ,\t| \\t\t| ,\n",
        "doublequote\t| True\t| True\t| True\n",
        "escapechar\t| None\t| None\t| None\n",
        "lineterminator\t| \\r\\n\t| \\r\\n\t| \\n\n",
        "quotechar\t| \"\t| \"\t| \"\n",
        "quoting\t| csv.QUOTE_MINIMAL\t| csv.QUOTE_MINIMAL\t| csv.QUOTE_ALL\n",
        "skipinitialspace\t| False\t| False\t| False\n",
        "strict | False\t| False\t| False"
      ]
    },
    {
      "cell_type": "markdown",
      "metadata": {},
      "source": [
        "З функції csv.writer() можна отримати ще 3 методи: **writerow()**, **writerows()** та **dialect**.\n",
        "\n",
        "- **csvwriter.writerow(row)** - записує рядок row, форматований відповідно до поточного діалекту, у файловий об'єкт.\n",
        "\n",
        "- **csvwriter.writerows(rows)** - записує всі рядки у файловий об'єкт.\n",
        "\n",
        "- **csvwriter.dialect** - опис діалекту, що використовується.\n",
        "\n",
        "Рзглянемо приклад. За замовчуванням буде використовуватсь діалект 'excel' (файл можна буде потім відкрити у програмі Microsoft Excel)."
      ]
    },
    {
      "cell_type": "code",
      "execution_count": null,
      "metadata": {},
      "outputs": [],
      "source": [
        "import csv\n",
        "\n",
        "print('Crearting CSV file')\n",
        "with open('sample.csv', 'w', newline='') as csvfile:\n",
        "    writer = csv.writer(csvfile)\n",
        "    writer.writerow(['She Loves You', 'Sept 1963'])\n",
        "    writer.writerow(['I Want to Hold Your Hand', 'Dec 1963'])\n",
        "    writer.writerow(['Cant Buy Me Love', 'Apr 1964'])\n",
        "    writer.writerow(['A Hard Days Night', 'July 1964'])"
      ]
    },
    {
      "cell_type": "markdown",
      "metadata": {},
      "source": [
        "Функція **csv.reader()** використовується разом із циклом for для порядкового зчитування даних з файлу. Вона містить такі додаткові методи:\n",
        "\n",
        "- **csvreader.dialect** - опис діалекту, що використовується.\n",
        "\n",
        "- **csvreader.line_num** - повертає кількість рядків, отриманих з ітератора.\n",
        "\n",
        "Приклад використання функції csv.reader():"
      ]
    },
    {
      "cell_type": "code",
      "execution_count": null,
      "metadata": {},
      "outputs": [],
      "source": [
        "print('Starting to read csv file')\n",
        "with open('sample.csv', newline='') as csvfile:\n",
        "    reader = csv.reader(csvfile)\n",
        "    for row in reader:\n",
        "        print(*row, sep=', ')\n",
        "print('Done Reading')"
      ]
    },
    {
      "cell_type": "markdown",
      "metadata": {},
      "source": [
        "Дуже часто перший рядок CSV-файлу містить назви полів таблиці. Зберігати цю інформацію дуже корисно, щоб потім у відповідний спосіб формувати дані, зчитані з CSV-файлу або записані у CSV-файл.\n",
        "\n",
        "Функція **csv.DictWriter()** повертає об'єкт, що може використовуватись для запису значень у CSV-файл з використанням іменованих колонок. Приклад:"
      ]
    },
    {
      "cell_type": "code",
      "execution_count": null,
      "metadata": {},
      "outputs": [],
      "source": [
        "import csv\n",
        "with open('names.csv', 'w', newline='') as csvfile:\n",
        "    fieldnames = ['first_name', 'last_name', 'result']\n",
        "    writer = csv.DictWriter(csvfile, fieldnames=fieldnames)\n",
        "    writer.writeheader()\n",
        "    writer.writerow({'first_name': 'John',\n",
        "                     'last_name': 'Smith',\n",
        "                     'result' : 54})\n",
        "    writer.writerow({'first_name': 'Jane',\n",
        "                     'last_name': 'Lewis',\n",
        "                     'result': 63})\n",
        "    writer.writerow({'first_name': 'Chris',\n",
        "                     'last_name': 'Davies',\n",
        "                     'result' : 72})"
      ]
    },
    {
      "cell_type": "markdown",
      "metadata": {},
      "source": [
        "Зверніть увагу, що список заголовків задається під час виклику функції DictWriter().\n",
        "\n",
        "Метод **writeheader()** використовується для запису рядка із заголовками у CSV-файл.\n",
        "\n",
        "Метод **writerow()** приймає на вхід словник, ключі якого мають відповідати назвам колонок. Порядок елемнтів у словнику не має значення. Значення, що відповідають ключам, записуються на відповідні позиції у CSV-файлі.\n",
        "\n",
        "Якщо файлу names.csv не існує, він створюється автоматично."
      ]
    },
    {
      "cell_type": "markdown",
      "metadata": {},
      "source": [
        "Разом з функцією csv.DictWriter(), яка використовується для запису файлу з назвами колонок, існує функція **csv.DictReader()**, яка зчитує ці файли.\n",
        "\n",
        "**fieldnames** - параметр функції csv.DictReader(), що зберігає список ключів (заголовків) CSV-файлу (перший рядок файлу).\n",
        "\n",
        "Приклад для текстового файлу names.csv наведено нижче:"
      ]
    },
    {
      "cell_type": "code",
      "execution_count": null,
      "metadata": {},
      "outputs": [],
      "source": [
        "import csv\n",
        "print('Starting to read dict CSV example')\n",
        "with open('names.csv', newline='') as csvfile:\n",
        "    reader = csv.DictReader(csvfile)\n",
        "    for heading in reader.fieldnames:\n",
        "        print(heading, end=' ')\n",
        "    print('\\n------------------------------')\n",
        "    for row in reader:\n",
        "        print(row['first_name'], row['last_name'], row['result'])\n",
        "print('Done')"
      ]
    },
    {
      "cell_type": "markdown",
      "metadata": {},
      "source": [
        "### **3. Робота з JSON-файлами**"
      ]
    },
    {
      "cell_type": "markdown",
      "metadata": {},
      "source": [
        "**JSON-файл** (JavaScript Object Notation File) - це розповсюджений формат даних, що використовується для збереження структурованих даних. Він базується на двох структурах даних: словник та список.\n",
        "\n",
        "У мові Python JSON-об'єкт зберігається у вигляді рядка. Наприклад:"
      ]
    },
    {
      "cell_type": "code",
      "execution_count": null,
      "metadata": {},
      "outputs": [],
      "source": [
        "p = '{\"name\": \"Bob\", \"languages\": [\"Python\", \"Java\"]}'"
      ]
    },
    {
      "cell_type": "markdown",
      "metadata": {},
      "source": [
        "Щоб працювати з JSON-рядками (або файлами, що зберігають JSON-об'єкт), необхідно імпортувати модуль **json**.\n",
        "\n",
        "Щоб перетворити JSON-рядок у словник, можна застосувати метод **json.loads()**. У наступному прикладі person - це JSON-рядок, person_dict - словник."
      ]
    },
    {
      "cell_type": "code",
      "execution_count": null,
      "metadata": {},
      "outputs": [],
      "source": [
        "import json\n",
        "\n",
        "person = '{\"name\": \"Bob\", \"languages\": [\"English\", \"Fench\"]}'\n",
        "person_dict = json.loads(person)\n",
        "\n",
        "print(person_dict)\n",
        "print(person_dict['languages'])"
      ]
    },
    {
      "cell_type": "markdown",
      "metadata": {},
      "source": [
        "Для читання файлу, що зберігає JSON-об'єкт, можна скористатись методом **json.load()**. Якщо існує файл person.json, прочитати його можна так:"
      ]
    },
    {
      "cell_type": "code",
      "execution_count": null,
      "metadata": {},
      "outputs": [],
      "source": [
        "import json\n",
        "\n",
        "with open('person.json') as f:\n",
        "    data = json.load(f)\n",
        "\n",
        "print(data)"
      ]
    },
    {
      "cell_type": "markdown",
      "metadata": {},
      "source": [
        "Щоб конвертувати словник у JSON-рядок, можна скористатись методом **json.dumps()**:"
      ]
    },
    {
      "cell_type": "code",
      "execution_count": null,
      "metadata": {},
      "outputs": [],
      "source": [
        "import json\n",
        "\n",
        "person_dict = {'name': 'Bob',\n",
        "'age': 12,\n",
        "'children': None\n",
        "}\n",
        "person_json = json.dumps(person_dict)\n",
        "\n",
        "print(person_json)"
      ]
    },
    {
      "cell_type": "markdown",
      "metadata": {},
      "source": [
        "У таблиці подано об'єкти Python та їхні відповідники у JSON.\n",
        "\n",
        "Python | JSON Equivalent\n",
        "--- | ---\n",
        "dict\t| object\n",
        "list, tuple\t| array\n",
        "str\t| string\n",
        "int, float, int\t| number\n",
        "True\t| true\n",
        "False\t| false\n",
        "None\t| null"
      ]
    },
    {
      "cell_type": "markdown",
      "metadata": {},
      "source": [
        "Щоб записати словник у текстовий файл, можна застосувати метод **json.dump()**:"
      ]
    },
    {
      "cell_type": "code",
      "execution_count": null,
      "metadata": {},
      "outputs": [],
      "source": [
        "import json\n",
        "\n",
        "person_dict = {\"name\": \"Bob\",\n",
        "\"languages\": [\"English\", \"Fench\"],\n",
        "\"married\": True,\n",
        "\"age\": 32\n",
        "}\n",
        "\n",
        "with open('person.json', 'w') as json_file:\n",
        "    json.dump(person_dict, json_file)"
      ]
    },
    {
      "cell_type": "markdown",
      "metadata": {},
      "source": [
        "Перевірка записаних даних:"
      ]
    },
    {
      "cell_type": "code",
      "execution_count": null,
      "metadata": {},
      "outputs": [],
      "source": [
        "with open('person.json') as f:\n",
        "    data = json.load(f)\n",
        "\n",
        "print(data)"
      ]
    },
    {
      "cell_type": "markdown",
      "metadata": {},
      "source": [
        "Щоб роздрукувати JSON-об'єкт у більш читабельному вигляді, до методів json.dumps() та json.dump() додають додаткові параметри **indent** та **sort_keys**.\n",
        "\n",
        "Параметр indent зберігає кількість пробілів для відступу (за замовчуванням - None).\n",
        "\n",
        "Параметр sort_keys може набувати значеннь True або False в залежності від того, чи потрібно сортувати ключі словника в алфавітному порядку.\n",
        "\n",
        "Приклад:"
      ]
    },
    {
      "cell_type": "code",
      "execution_count": null,
      "metadata": {},
      "outputs": [],
      "source": [
        "import json\n",
        "\n",
        "person_string = '{\"name\": \"Bob\", \"languages\": \"English\", \"numbers\": [2, 1.6, null]}'\n",
        "person_dict = json.loads(person_string)\n",
        "\n",
        "print(json.dumps(person_dict, indent = 4, sort_keys=True))"
      ]
    }
  ],
  "metadata": {
    "colab": {
      "collapsed_sections": [
        "Zr6bpDx_RG0v"
      ],
      "name": "Practice_14.ipynb",
      "provenance": [],
      "toc_visible": true
    },
    "kernelspec": {
      "display_name": "Python 3",
      "language": "python",
      "name": "python3"
    },
    "language_info": {
      "codemirror_mode": {
        "name": "ipython",
        "version": 3
      },
      "file_extension": ".py",
      "mimetype": "text/x-python",
      "name": "python",
      "nbconvert_exporter": "python",
      "pygments_lexer": "ipython3",
      "version": "3.8.10"
    },
    "vscode": {
      "interpreter": {
        "hash": "e7370f93d1d0cde622a1f8e1c04877d8463912d04d973331ad4851f04de6915a"
      }
    }
  },
  "nbformat": 4,
  "nbformat_minor": 0
}
