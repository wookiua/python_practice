{
  "cells": [
    {
      "cell_type": "markdown",
      "metadata": {
        "id": "FMqboNwO4rVs"
      },
      "source": [
        "# **Курс \"Програмування на мові Python\"**"
      ]
    },
    {
      "cell_type": "markdown",
      "metadata": {
        "id": "A2T6MigL5Z06"
      },
      "source": [
        "## **Практичне зайняття №9**\n",
        "\n",
        "### Тема: \"Робота з функціями. Локальні та глобальні змінні\""
      ]
    },
    {
      "cell_type": "markdown",
      "metadata": {
        "id": "cfCdgK2zXm7e"
      },
      "source": [
        "### **Завдання 1 (3 бали)**\n",
        "\n",
        "**Підрахувати визначник матриці, використовуючи правило перестановок.**\n",
        "\n",
        "Функція random_matrix() призначена для створення квадратної матриці випадкових чисел. Її змінювати непотрібно.\n",
        "\n",
        "Приклад використання методу permutations() для створення списку перестановок також подається у комірці з кодом.\n",
        "\n",
        "1) Створити 3 функції: функцію створення списку перестановок, функцію підрахунку добутків та функцію підрахунку загальної суми.\n",
        "\n",
        "2) Кожна функція має супроводжуватись рядком документації, що буде коротко описувати її призначення.\n",
        "\n",
        "3) Розмірність квадратної матриці має вводитись користувачем з клавіатури. Підрахунки виконувати лише в тому разі, якщо користувач введе ціле додатне число.\n",
        "\n",
        "4) Загальний результат повинен підраховуватись за допомогою композиції функцій.\n",
        "\n",
        "За бажанням можна перевірити правильність роботи програми за допомогою функції np.linalg.det(a)."
      ]
    },
    {
      "cell_type": "code",
      "execution_count": 105,
      "metadata": {
        "id": "ifNX2M7LXm7f"
      },
      "outputs": [
        {
          "name": "stdout",
          "output_type": "stream",
          "text": [
            "[[7 5 3 1 0]\n",
            " [9 7 5 1 5]\n",
            " [5 7 6 3 2]\n",
            " [3 5 1 9 2]\n",
            " [0 4 5 5 5]] \n",
            " Det matrix:  1236\n"
          ]
        }
      ],
      "source": [
        "import numpy as np\n",
        "import itertools\n",
        "'''\n",
        "Еhe function of creating a random matrix of arbitrary numbers, the value of which is set by the user\n",
        "'''\n",
        "def random_matrix(dim):\n",
        "    matrix = np.random.randint(10, size = (dim, dim))\n",
        "    return matrix\n",
        "'''\n",
        "Еhe function of the permutation sing, term is determined using inversions\n",
        "'''\n",
        "def permutate(dim):\n",
        "\n",
        "    for i in range(dim):\n",
        "        words.append(i)\n",
        "    perm = list(itertools.permutations(words))\n",
        "    return perm\n",
        "'''\n",
        "The function of calculating products the matrix elements   \n",
        "'''\n",
        "def product(m, dim, perm):\n",
        "    prod = []\n",
        "    for el in perm:\n",
        "        p = 1\n",
        "        for i in range(dim):\n",
        "            p = p* m[i][el[i]]\n",
        "        prod.append(p)\n",
        "    return prod\n",
        "'''\n",
        "The functionpermutation of sign determination\n",
        "'''\n",
        "def sing(perm):\n",
        "    s = []\n",
        "    for el in perm:\n",
        "        sum = 0\n",
        "        for i in range(0, len(el)):\n",
        "            for j in range(i, len(el)):\n",
        "                if el[i] > el[j]:\n",
        "                    sum = sum+1\n",
        "        if sum % 2 == 0:\n",
        "            s.append(1)\n",
        "        else: \n",
        "            s.append(-1)\n",
        "    return s\n",
        "'''\n",
        "The function for calculating the total amount (extracting the determinant of the matrix)    \n",
        "'''\n",
        "def full_sum(prod, s):\n",
        "    sum = 0\n",
        "    for i in range(len(prod)):\n",
        "        sum = sum + prod[i]* s[i]  \n",
        "    return sum\n",
        "\n",
        "words = []\n",
        "try:\n",
        "    dim = int(input(\"Enter a matrix quantity: \"))\n",
        "except ValueError as i:\n",
        "    print(\"Error: incorect input:\", i)\n",
        "else:\n",
        "    m = random_matrix(dim)\n",
        "    perm = permutate(dim)\n",
        "    prod = product(m, dim, perm)\n",
        "    s =sing(perm)\n",
        "    sum = full_sum(prod, s)\n",
        "    print(m,'\\n', \"Det matrix: \", sum )\n",
        "\n"
      ]
    }
  ],
  "metadata": {
    "colab": {
      "collapsed_sections": [],
      "name": "Practice_7_KM-01_.ipynb",
      "provenance": []
    },
    "kernelspec": {
      "display_name": "Python 3.8.10 64-bit",
      "language": "python",
      "name": "python3"
    },
    "language_info": {
      "codemirror_mode": {
        "name": "ipython",
        "version": 3
      },
      "file_extension": ".py",
      "mimetype": "text/x-python",
      "name": "python",
      "nbconvert_exporter": "python",
      "pygments_lexer": "ipython3",
      "version": "3.8.10"
    },
    "vscode": {
      "interpreter": {
        "hash": "916dbcbb3f70747c44a77c7bcd40155683ae19c65e1c03b4aa3499c5328201f1"
      }
    }
  },
  "nbformat": 4,
  "nbformat_minor": 0
}
