{
  "cells": [
    {
      "cell_type": "markdown",
      "metadata": {
        "id": "FMqboNwO4rVs"
      },
      "source": [
        "# **Курс \"Програмування на мові Python\"**"
      ]
    },
    {
      "cell_type": "markdown",
      "metadata": {
        "id": "A2T6MigL5Z06"
      },
      "source": [
        "## **Практичне зайняття №9**\n",
        "\n",
        "### Тема: \"Робота з функціями. Локальні та глобальні змінні\""
      ]
    },
    {
      "cell_type": "markdown",
      "metadata": {
        "id": "tKjgdgnHsnAO"
      },
      "source": [
        "**Функції** - це групи пов'язаних між собою інструкцій, які можуть викликатися разом для виконання певних задач, які можуть приймати на вхід набір параметрів і повертати певне (певні) значення. Функції можуть бути визначені в одному місці, а викликатись в іншому. Одна і та ж функція може викликатись будь-яку кількість разів у різних місцях коду.\n",
        "\n",
        "Коли функція викликається, програма перестрибує з того місця, де функція була викликана, туде, де вона була визначена. Після виконання усіх інструкцій в тілі функції програма повертається в те місце, звідки функція була викликана. Усі значення, що були отримані під час роботи функції, переносяться в основну програму.\n",
        "\n",
        "У Python існують 2 типи функцій: **вбудовані** та **визначені користувачем** (**користувацькі**).\n",
        "\n",
        "**Вбудовані функції** - це функції, визначені мовою програмування. Наприклад, до вбудованих функцій відносяться функції print() та input().\n",
        "\n",
        "**Користувацькі функції** - це функції, що створюються розробниками. Далі будемо розглядати лише їх.\n",
        "\n",
        "Основний синтаксис функції такий:\n",
        "\n",
        "```\n",
        "def function_name(parameter list):\n",
        "    \"\"\"docstring\"\"\"\n",
        "    statement\n",
        "    statement(s)\n",
        "```\n",
        "\n",
        "- Функції визначаються за допомогою ключового слова **def**. \n",
        "\n",
        "- Функція може мати назву, що буде її унікально ідентифікувати. Функція також може бути безіменною (анонімною).\n",
        "\n",
        "- Правила іменування змінних, які були розглянуті раніше, також можна застосовувати і до функцій.\n",
        "\n",
        "- Функція може мати список параметрів, що дозволить даним потрапляти всередину функції.\n",
        "\n",
        "- Двокрапка позначає закінчення *заголовка функції* та початок *тіла функції*.\n",
        "\n",
        "- Рядок документації (*docstring*) може містити опис того, що саме робить функція. Для створення такого рядка зазвичай використовуються потрійні лапки.\n",
        "\n",
        "- Тіло функції складається з однієї чи більше інструкцій. Рядки коду вважатимуться частиною функції, якщо вони мають відступ у 4 пробіли (1 табуляція).\n",
        "\n",
        "Приклад функції:"
      ]
    },
    {
      "cell_type": "code",
      "execution_count": null,
      "metadata": {
        "id": "mJ6NcVb_zREG"
      },
      "outputs": [],
      "source": [
        "def print_msg():\n",
        "    print('Hello World!')"
      ]
    },
    {
      "cell_type": "markdown",
      "metadata": {
        "id": "W61siD3FCIAa"
      },
      "source": [
        "Щоб викликати функцію, потрібно запустити код:"
      ]
    },
    {
      "cell_type": "code",
      "execution_count": null,
      "metadata": {
        "id": "Femii-PuUGRK"
      },
      "outputs": [],
      "source": [
        "print_msg()"
      ]
    },
    {
      "cell_type": "markdown",
      "metadata": {
        "id": "L73tc0oAUKOP"
      },
      "source": [
        "Після назви функції обов'язково потрібно ставити дужки. Якщо під час виклику функції вказати тільки назву, тоді виведиться лише інформація про функцію, як про об'єкт.\n",
        "\n",
        "Функцію print_msg() можна узагальнити, додавши один параметр:"
      ]
    },
    {
      "cell_type": "code",
      "execution_count": null,
      "metadata": {
        "id": "1nilumY-WSHB"
      },
      "outputs": [],
      "source": [
        "def print_my_msg(msg):\n",
        "    print(msg)"
      ]
    },
    {
      "cell_type": "markdown",
      "metadata": {
        "id": "1ytnerBSXjct"
      },
      "source": [
        "Зверніть увагу на те, що msg - локальний параметр, тобто за межами функції print_my_msg() він не буде доступний.\n",
        "\n",
        "Тепер функцію print_my_msg() можна запускати з різними аргументами:"
      ]
    },
    {
      "cell_type": "code",
      "execution_count": null,
      "metadata": {
        "id": "qy0DGYEuX04E"
      },
      "outputs": [],
      "source": [
        "print_my_msg('Hello World')\n",
        "print_my_msg('Good day')\n",
        "print_my_msg('Welcome')\n",
        "print_my_msg('Ola')"
      ]
    },
    {
      "cell_type": "markdown",
      "metadata": {
        "id": "EFcBxxmRYZGz"
      },
      "source": [
        "Щоб функція повертала якесь значення, можна скористатись інструкцією **return**.\n",
        "\n",
        "Якщо return зустрічається всередині функції, функція переривається й повертає значення, що вказані після return. Наприклад:"
      ]
    },
    {
      "cell_type": "code",
      "execution_count": null,
      "metadata": {
        "id": "0mQGNO_dXex4"
      },
      "outputs": [],
      "source": [
        "def square(n):\n",
        "    return n * n"
      ]
    },
    {
      "cell_type": "markdown",
      "metadata": {
        "id": "WaxLoi0cai35"
      },
      "source": [
        "Функція square() буде повертати квадрат будь-якого числа, яке потрапить на її вхід. Значення, що поверне функція, можна використовувати далі. Наприклад:"
      ]
    },
    {
      "cell_type": "code",
      "execution_count": null,
      "metadata": {
        "id": "uJvKmmzbaWFk"
      },
      "outputs": [],
      "source": [
        "result = square(4)\n",
        "print(result)\n",
        "\n",
        "print(square(5))\n",
        "\n",
        "if square(3) < 15:\n",
        "    print('Still less than 15')"
      ]
    },
    {
      "cell_type": "markdown",
      "metadata": {
        "id": "I24aLKI-cRnI"
      },
      "source": [
        "Також функція може повертати кілька значень. Наприклад, функція swap(), наведена нижче, змінює порядок введених значень:"
      ]
    },
    {
      "cell_type": "code",
      "execution_count": null,
      "metadata": {
        "id": "KJ9gWmXYbMnv"
      },
      "outputs": [],
      "source": [
        "def swap(a, b):\n",
        "    return b, a"
      ]
    },
    {
      "cell_type": "code",
      "execution_count": null,
      "metadata": {
        "id": "_YSmI5f6iESl"
      },
      "outputs": [],
      "source": [
        "a = 2\n",
        "b = 3\n",
        "x, y = swap(a, b)\n",
        "print(x, ',', y)"
      ]
    },
    {
      "cell_type": "markdown",
      "metadata": {
        "id": "xYkjM4bhiNcv"
      },
      "source": [
        "Результат, що повертає функція swap() насправді є кортежем. Переконаємось у цьому:"
      ]
    },
    {
      "cell_type": "code",
      "execution_count": null,
      "metadata": {
        "id": "mxZ-l5MKiiFM"
      },
      "outputs": [],
      "source": [
        "z = swap(a, b)\n",
        "print(z)\n",
        "print(type(z))"
      ]
    },
    {
      "cell_type": "markdown",
      "metadata": {
        "id": "gig1EPmiizRg"
      },
      "source": [
        "Створення *рядка документації* не є обов'язковим, але якщо функція достатньо складна та має багато параметрів, бажано створювати такий рядок. У рядку документації зазвичай подають деяку інформацію про те, яким є призначення функції, які дані очікуються на вході та що буде, якщо дані не відповідатимуть вимогам.\n",
        "\n",
        "У прикладі подано рядок документації, в якому пояснюється робота функції і те, як використовуються параметри."
      ]
    },
    {
      "cell_type": "code",
      "execution_count": null,
      "metadata": {
        "id": "gslEFC3dimER"
      },
      "outputs": [],
      "source": [
        "def get_integer_input(message):\n",
        "    \"\"\"\n",
        "    This function will display the message to the user\n",
        "    and request that they input an integer.\n",
        "    If the user enters something that is not a number\n",
        "    then the input will be rejected\n",
        "    and an error message will be displayed.\n",
        "    The user will then be asked to try again.\"\"\"\n",
        "    value_as_string = input(message)\n",
        "    print(value_as_string)\n",
        "    while not value_as_string.isnumeric():\n",
        "        print('The input must be an integer')\n",
        "        value_as_string = input(message)\n",
        "    return int(value_as_string)"
      ]
    },
    {
      "cell_type": "code",
      "execution_count": null,
      "metadata": {
        "id": "P9hM-ewT1aze"
      },
      "outputs": [],
      "source": [
        "age = get_integer_input('Please input your age: ')\n",
        "print('age is', age)"
      ]
    },
    {
      "cell_type": "markdown",
      "metadata": {
        "id": "llmAWcu91r33"
      },
      "source": [
        "Рядки документації можна отримати безпосередньо з коду. Але у середовищах розробки рядок документації теж зберігається, тож інформацію можна отримати, запустивши функцію:"
      ]
    },
    {
      "cell_type": "code",
      "execution_count": null,
      "metadata": {
        "id": "X_pNJblS24Ez"
      },
      "outputs": [],
      "source": [
        "print(get_integer_input.__doc__)"
      ]
    },
    {
      "cell_type": "markdown",
      "metadata": {
        "id": "wxk2AYy7FHIH"
      },
      "source": [
        "#### Параметри функцій"
      ]
    },
    {
      "cell_type": "markdown",
      "metadata": {
        "id": "ixX_4QUq3GpR"
      },
      "source": [
        "Введемо терміни **параметр** та **аргумент**.\n",
        "\n",
        "**Параметр** - це змінна, визначена як частина заголовка функції та призначена для того, щоб дані були доступні всередині функції.\n",
        "\n",
        "**Аргумент** - це певне значення (або дані), що потрапляє до функції, коли вона викликається. Дані будуть збережені у параметрах.\n",
        "\n",
        "Кількість параметрів функції може бути будь-якою (до версії Python 3.7 було обмеження - не більше 256 параметрів).\n",
        "\n",
        "Параметри функції можуть бути задані *за замовчуванням*. Щоб встановити параметр за замовчуванням, треба задати його у заголовку функції. Якщо під час виклику функції значення цього параметра буде задане, воно перезапишеться. Наприклад:"
      ]
    },
    {
      "cell_type": "code",
      "execution_count": null,
      "metadata": {
        "id": "dRkXTl4N6Mjn"
      },
      "outputs": [],
      "source": [
        "def greeter(name, message = 'Live Long and Prosper'):\n",
        "    print('Welcome', name, '-', message)\n",
        "\n",
        "greeter('Eloise')\n",
        "greeter('Eloise', 'Hope you like Python')"
      ]
    },
    {
      "cell_type": "markdown",
      "metadata": {
        "id": "mn0YS6De-guZ"
      },
      "source": [
        "Важливе зауваження. Якщо один з параметрів заданий за замовчуванням, всі параметри, що знаходяться праворуч від нього, теж мають бути задані за замовчуванням. Наприклад, параметри функції **не** можуть бути задані так:"
      ]
    },
    {
      "cell_type": "code",
      "execution_count": null,
      "metadata": {
        "id": "msuF11Of3Cte"
      },
      "outputs": [],
      "source": [
        "def greeter(message = 'Live Long and Prosper', name):\n",
        "    print('Welcome', name, '-', message)\n",
        "    \n",
        "greeter('Eloise')"
      ]
    },
    {
      "cell_type": "markdown",
      "metadata": {
        "id": "5PkC78yCB8aO"
      },
      "source": [
        "Якщо функція має кілька параметрів і деякі з них задані за замовчуванням, постає питання, як передати одним змінним аргументи, залишивши іншим значення за замовчуванням.\n",
        "\n",
        "Це можна зробити, використовуючи *іменовані аргументи* (*named arguments* або *keyword arguments*). Під час виклику функції потрібно використовувати назви тих параметрів, яким мають бути присвоєні певні аргументи. Наприклад:"
      ]
    },
    {
      "cell_type": "code",
      "execution_count": null,
      "metadata": {
        "id": "YoOKpW5jB73i"
      },
      "outputs": [],
      "source": [
        "def greeter(name,\n",
        "            title = 'Dr',\n",
        "            prompt = 'Welcome',\n",
        "            message = 'Live Long and Prosper'):\n",
        "    print(prompt, title, name, '-', message)\n",
        "\n",
        "greeter(message = 'We like Python', name = 'Lloyd')"
      ]
    },
    {
      "cell_type": "markdown",
      "metadata": {
        "id": "vceeqnOOJJYF"
      },
      "source": [
        "Під час виклику функції можуть використовуватись як *позиційні*, так і *іменовані* аргументи. Наприклад:"
      ]
    },
    {
      "cell_type": "code",
      "execution_count": null,
      "metadata": {
        "id": "Obw0rATuAgFS"
      },
      "outputs": [],
      "source": [
        "greeter('Lloyd', message = 'We like Python')"
      ]
    },
    {
      "cell_type": "markdown",
      "metadata": {
        "id": "Er8WyouqJw0C"
      },
      "source": [
        "Однак позиційні аргументи **не можна** ставити після іменованих. Наприклад:"
      ]
    },
    {
      "cell_type": "code",
      "execution_count": null,
      "metadata": {
        "id": "V67xufP1KCqd"
      },
      "outputs": [],
      "source": [
        "greeter(name='John', 'We like Python')"
      ]
    },
    {
      "cell_type": "markdown",
      "metadata": {
        "id": "6L6auiYKKRgK"
      },
      "source": [
        "Іноді важко заздалегідь спрогнозувати, скільки аргументів буде передано функції. У таких випадках можна передати функції усі необхідні аргументи і вже всередині функції обробити їх.\n",
        "\n",
        "Щоб показати, що список параметрів може мати довільну довжину, параметр позначається зірочкою (*). Наприклад:"
      ]
    },
    {
      "cell_type": "code",
      "execution_count": null,
      "metadata": {
        "id": "JuNzQW44Jr52"
      },
      "outputs": [],
      "source": [
        "def greeter(*args):\n",
        "    for name in args:\n",
        "        print('Welcome', name)\n",
        "\n",
        "greeter('John', 'Denise', 'Phoebe', 'Adam', 'Gryff', 'Jasmine')"
      ]
    },
    {
      "cell_type": "markdown",
      "metadata": {
        "id": "_peFtH0tMWsy"
      },
      "source": [
        "Функції у Python можуть бути визначені так, що кількість позиційних та іменованих аргументів може бути заздалегідь невідомою. Такі функції мають 2 аргументи: `*args` та `**kwards`. Наприклад:"
      ]
    },
    {
      "cell_type": "code",
      "execution_count": null,
      "metadata": {
        "id": "WrrjldsbNMmY"
      },
      "outputs": [],
      "source": [
        "def my_function(*args, **kwargs):\n",
        "    for arg in args:\n",
        "        print('arg:', arg)\n",
        "    for key in kwargs.keys():\n",
        "        print('key:', key, 'has value: ', kwargs[key])\n",
        "\n",
        "my_function('John', \n",
        "            'Denise', \n",
        "            daughter='Phoebe', \n",
        "            son='Adam')\n",
        "print('-' * 50)\n",
        "my_function('Paul', \n",
        "            'Fiona',\n",
        "            'Marc', \n",
        "            son_number_one='Andrew', \n",
        "            son_number_two='James', \n",
        "            daughter='Joselyn')"
      ]
    },
    {
      "cell_type": "markdown",
      "metadata": {
        "id": "lXtgagJHP_3U"
      },
      "source": [
        "Важливо звернути увагу на те, що назви аргументів не фіксовані.\n",
        "\n",
        "Також можна визначити функції, в яких використовується або аргумент `*args`, або аргумент `**kwards`. Наприклад:"
      ]
    },
    {
      "cell_type": "code",
      "execution_count": null,
      "metadata": {
        "id": "1fmArgADNZmf"
      },
      "outputs": [],
      "source": [
        "def named(**kwargs):\n",
        "    for key in kwargs.keys():\n",
        "        print('arg:', key, 'has value:', kwargs[key])\n",
        "        \n",
        "named(a=1, b=2, c=3)"
      ]
    },
    {
      "cell_type": "markdown",
      "metadata": {
        "id": "07YjGT2YX4UA"
      },
      "source": [
        "#### Композиція функцій"
      ]
    },
    {
      "cell_type": "markdown",
      "metadata": {
        "id": "h4ntGc2oZDMN"
      },
      "source": [
        "**Композиція функцій** - це спосіб комбінування двох чи більше функцій у такий спосіб, що вихідні дані однієї функції стають вхідними даними іншої. Якщо є дві функції, F() та G(), то F(G(x)) - композиція цих функцій, де x - аргумент функції G(x). Результуюче значення функції G() потрапляє на вхід функції F(). Наприклад:"
      ]
    },
    {
      "cell_type": "code",
      "execution_count": null,
      "metadata": {
        "id": "jDw_jk5MZDdC"
      },
      "outputs": [],
      "source": [
        "def add(x): \n",
        "    return x + 2\n",
        " \n",
        "def multiply(x): \n",
        "    return x * 2\n",
        "\n",
        "print(\"Adding 2 to 5 and multiplying the result with 2: \",  \n",
        "      multiply(add(5)))"
      ]
    },
    {
      "cell_type": "markdown",
      "metadata": {
        "id": "w767SFPjcAAg"
      },
      "source": [
        "#### Локальні та глобальні змінні"
      ]
    },
    {
      "cell_type": "markdown",
      "metadata": {
        "id": "b4UI1eIXcCpo"
      },
      "source": [
        "**Глобальні змінні** - це змінні, які доступні в усій програмі.\n",
        "\n",
        "**Локальні змінні** - це змінні, які доступні лише у межах певної функції.\n",
        "\n",
        "На практиці розробники зазвичай намагаються обмежити кількість глобальних змінних, оскільки глобальні змінні можуть бути змінені в будь-якій частині програми, а це може призвести до непередбачуваних результатів.\n",
        "\n",
        "У наступному прикладі всередині функції my_function() створено локальну змінну a_variable."
      ]
    },
    {
      "cell_type": "code",
      "execution_count": null,
      "metadata": {
        "id": "yp5uM_j4ZDfz"
      },
      "outputs": [],
      "source": [
        "def my_function():\n",
        "    a_variable = 100\n",
        "    print(a_variable)\n",
        "    \n",
        "my_function()"
      ]
    },
    {
      "cell_type": "markdown",
      "metadata": {
        "id": "HIkgm_3QoOV4"
      },
      "source": [
        "Якщо спробувати викликати локальну змінну a_variable за межами функції my_function(), активується виключення."
      ]
    },
    {
      "cell_type": "code",
      "execution_count": null,
      "metadata": {
        "id": "tPJgkowgZDih"
      },
      "outputs": [],
      "source": [
        "my_function()\n",
        "print(a_variable)"
      ]
    },
    {
      "cell_type": "markdown",
      "metadata": {
        "id": "ytNwNRALopmD"
      },
      "source": [
        "Насправді змінна a_variable з'являєтья як нова змінна щоразу, коли викликається функція, тому на кожній наступній ітерації значення змінної, отриманої на попередній ітерації, забувається.\n",
        "\n",
        "Спробуємо ініціалізувати глобальну змінну a_variable."
      ]
    },
    {
      "cell_type": "code",
      "execution_count": null,
      "metadata": {
        "id": "i9RuUJMfZDlJ"
      },
      "outputs": [],
      "source": [
        "a_variable = 25\n",
        "my_function()\n",
        "print(a_variable)"
      ]
    },
    {
      "cell_type": "markdown",
      "metadata": {
        "id": "NqZA9k3qtKLr"
      },
      "source": [
        "Тепер у програмі існують дві однойменні змінні a_variable: перша задана глобально, друга - всередині функції. Вони розглядаються інтерпретатором Python як дві абсолютно різні змінні.\n",
        "\n",
        "Однак іноді зручно визначати глобальні змінні всередині функцій."
      ]
    },
    {
      "cell_type": "code",
      "execution_count": null,
      "metadata": {
        "id": "RpqSOEbgtKnL"
      },
      "outputs": [],
      "source": [
        "max = 100\n",
        "def print_max():\n",
        "    print(max)\n",
        "    \n",
        "print_max()"
      ]
    },
    {
      "cell_type": "markdown",
      "metadata": {
        "id": "u8r0zx9luXtu"
      },
      "source": [
        "Цей код працює добре. Однак якщо потрібно змінити глобальну змінну всередині функції, виникне помилка:"
      ]
    },
    {
      "cell_type": "code",
      "execution_count": null,
      "metadata": {
        "id": "xLhVnGcDtKpx"
      },
      "outputs": [],
      "source": [
        "max = 100\n",
        "def print_max():\n",
        "    max = max + 1\n",
        "    print(max)\n",
        "    \n",
        "print_max()"
      ]
    },
    {
      "cell_type": "markdown",
      "metadata": {
        "id": "tfUgTksGurst"
      },
      "source": [
        "Так стається через те, що Python сприймає змінну max всередині функції як локальну.\n",
        "\n",
        "Щоб вказати, що змінна max всередині функції - це та ж сама глобальна змінна max, потрібно застосувати ключове слово global з назвою цієї змінної. Наприклад:"
      ]
    },
    {
      "cell_type": "code",
      "execution_count": null,
      "metadata": {
        "id": "BsWdXJdltKsf"
      },
      "outputs": [],
      "source": [
        "max = 100\n",
        "def print_max():\n",
        "    global max\n",
        "    max = max + 1\n",
        "    print(max)\n",
        "print_max()\n",
        "print(max)"
      ]
    },
    {
      "cell_type": "markdown",
      "metadata": {
        "id": "3WKrvh0SYJFn"
      },
      "source": [
        "Функції можна визначати всередині інших функцій. Це може бути дуже корисно, якщо працювати з наборами даних та операціями типу map().\n",
        "\n",
        "Однак локальні змінні залишаються локальними, і навіть вкладені функції не мають доступу до локальних змінних зовнішніх функцій. Ключове слово global тут не допоможе, оскільки змінні зовнішньої функції не є глобальними. \n",
        "\n",
        "Розглянемо випадок, коли вкладену функцію визначено всередині батьківської зовнішньої функції. Спробуємо у вкладеній функції змінити локальну змінну зовнішньої функції."
      ]
    },
    {
      "cell_type": "code",
      "execution_count": null,
      "metadata": {
        "id": "ZL8_N3QaYHbq"
      },
      "outputs": [],
      "source": [
        "def outer():\n",
        "    title = 'original title'\n",
        "\n",
        "    def inner():\n",
        "        title = 'another title'\n",
        "        print('inner:', title)\n",
        "\n",
        "    inner()\n",
        "    print('outer:', title)\n",
        "    \n",
        "outer()"
      ]
    },
    {
      "cell_type": "markdown",
      "metadata": {
        "id": "3AmQK9-VYGwf"
      },
      "source": [
        "Бачимо, що кожна з функцій має свою власну змінну title.\n",
        "\n",
        "Цю проблему можна вирішити за допомогою ключового слова **nonlocal**. Воно вказує на те, що змінна не є глобальною, але також змінна не є й локальною по відношенню до поточної функції. Python у такому випадку розглядає область, у якій ця функція визначена, щоб перевірити, чи є там змінна з такою ж назвою.\n",
        "\n",
        "Якщо вписати значення `nonlocal title` всередину вкладеної функції inner(), вона буде бачити версію змінної title зовнішньої функції outer(). Тому, якщо у функції inner() змінити змінну title, то вона зміниться і у функції outer()."
      ]
    },
    {
      "cell_type": "code",
      "execution_count": null,
      "metadata": {
        "id": "G1nAr3RV2iCQ"
      },
      "outputs": [],
      "source": [
        "def outer():\n",
        "    title = 'original title'\n",
        "\n",
        "    def inner():\n",
        "        nonlocal title\n",
        "        title = 'another title'\n",
        "        print('inner:', title)\n",
        "\n",
        "    inner()\n",
        "    print('outer:', title)\n",
        "    \n",
        "outer()"
      ]
    }
  ],
  "metadata": {
    "colab": {
      "collapsed_sections": [
        "wxk2AYy7FHIH",
        "07YjGT2YX4UA",
        "w767SFPjcAAg"
      ],
      "name": "Practice_8.ipynb",
      "provenance": []
    },
    "kernelspec": {
      "display_name": "Python 3.8.10 64-bit",
      "language": "python",
      "name": "python3"
    },
    "language_info": {
      "codemirror_mode": {
        "name": "ipython",
        "version": 3
      },
      "file_extension": ".py",
      "mimetype": "text/x-python",
      "name": "python",
      "nbconvert_exporter": "python",
      "pygments_lexer": "ipython3",
      "version": "3.8.10"
    },
    "vscode": {
      "interpreter": {
        "hash": "916dbcbb3f70747c44a77c7bcd40155683ae19c65e1c03b4aa3499c5328201f1"
      }
    }
  },
  "nbformat": 4,
  "nbformat_minor": 0
}
