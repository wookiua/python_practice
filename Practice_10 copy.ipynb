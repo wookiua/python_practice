{
  "cells": [
    {
      "cell_type": "markdown",
      "metadata": {
        "id": "FMqboNwO4rVs"
      },
      "source": [
        "# **Курс \"Програмування на мові Python\"**"
      ]
    },
    {
      "cell_type": "markdown",
      "metadata": {
        "id": "A2T6MigL5Z06"
      },
      "source": [
        "## **Практичне зайняття №10**\n",
        "\n",
        "### Тема: \"Лямбда-функції. Функції вищих порядків\""
      ]
    },
    {
      "cell_type": "markdown",
      "metadata": {
        "id": "Sk2JGESrCCvK"
      },
      "source": [
        "### **1. Лямбда-функції**"
      ]
    },
    {
      "cell_type": "markdown",
      "metadata": {
        "id": "B5Lxs2JiEDSH"
      },
      "source": [
        "Усі функції, які були розглянуті на попередньому практичному зайнятті, мали назви. До цих функції ми могли звернутися в будь-якому місці програми будь-яку кількість разів. Однак бувають випадки, коли потрібно створити функцію та скористатись нею лише один раз. В такому разі давати функції назву недоречно. Функції без назв називаються *лямбда-функціями*.\n",
        "\n",
        "**Лямбда-функції (анонімні функції)** у мові Python - це функції, що не мають назв та можуть використовуватись лише у тому місці, де вони визначені.\n",
        "\n",
        "Синтаксис лямбда-функції:\n",
        "\n",
        "```\n",
        "lambda parameters: expression\n",
        "```\n",
        "\n",
        "Лямбда-функції складаються лише з одного виразу (що є інструкцією, яка повертає значення) та можуть мати будь-яку кількість параметрів.\n",
        "\n",
        "Приклад лямбда-функції:"
      ]
    },
    {
      "cell_type": "code",
      "execution_count": null,
      "metadata": {
        "id": "RNcFkZpIKEhM"
      },
      "outputs": [],
      "source": [
        "double = lambda i : i * i"
      ]
    },
    {
      "cell_type": "markdown",
      "metadata": {
        "id": "8snX7QNjKP3A"
      },
      "source": [
        "У цьому прикладі lambda показує, що лямбда-функція має один параметр i. Тіло функції починається після двокрапки. Функція повертає значення, що генерується після виконання тіла функції (i * i). Це значення зберігається у змінну double.\n",
        "\n",
        "Щоб викликати лямбда-функцію, достатньо викликати посилання на цю функцію, що зберігається у змінній double, а потім у круглих дужках вказати значення аргумента, що буде в цю функцію передаватись. Наприклад:"
      ]
    },
    {
      "cell_type": "code",
      "execution_count": null,
      "metadata": {
        "id": "BpiZy7q-MOpz"
      },
      "outputs": [],
      "source": [
        "print(double(10))"
      ]
    },
    {
      "cell_type": "markdown",
      "metadata": {
        "id": "eblt_4igZBwN"
      },
      "source": [
        "Звичайна функція, аналогічна за функціональністю до поданої лямбда-функції, буде мати вигляд:"
      ]
    },
    {
      "cell_type": "code",
      "execution_count": null,
      "metadata": {
        "id": "UeOpikglZu6k"
      },
      "outputs": [],
      "source": [
        "def double(i):\n",
        "    return i * i\n",
        "\n",
        "print(double(10))"
      ]
    },
    {
      "cell_type": "markdown",
      "metadata": {
        "id": "ntc9NrvmMVqJ"
      },
      "source": [
        "Кілька прикладів лямбда-функцій (анонімних функцій):"
      ]
    },
    {
      "cell_type": "code",
      "execution_count": null,
      "metadata": {
        "id": "7M_mU9niMRJk"
      },
      "outputs": [],
      "source": [
        "func0 = lambda: print('no args')\n",
        "func1 = lambda x: x * x\n",
        "func2 = lambda x, y: x * y\n",
        "func3 = lambda x, y, z: x + y + z\n",
        "\n",
        "func0()\n",
        "print(func1(4))\n",
        "print(func2(3, 4))\n",
        "print(func3(2, 3, 4))"
      ]
    },
    {
      "cell_type": "markdown",
      "metadata": {
        "id": "UnQLL3thPW3Q"
      },
      "source": [
        "### **2. Функції вищих порядків**"
      ]
    },
    {
      "cell_type": "markdown",
      "metadata": {
        "id": "SR8IwPntPfv-"
      },
      "source": [
        "**Функції вищих порядків** (Higher Order Functions) — це функції, які приймаються на вхід одну чи більше функцій, як параметри, або повертають функцію, як результат.\n",
        "\n",
        "Всі інші функції називаються **функціями першого порядку** (First-Order Functions).\n",
        "\n",
        "Для прикладу розглянемо функцію вищого порядку apply():"
      ]
    },
    {
      "cell_type": "code",
      "execution_count": null,
      "metadata": {
        "id": "C4ZVFV1PPfDE"
      },
      "outputs": [],
      "source": [
        "def apply(x, function):\n",
        "    result = function(x)\n",
        "    return result"
      ]
    },
    {
      "cell_type": "markdown",
      "metadata": {
        "id": "2x6mWNbzsbC9"
      },
      "source": [
        "Результат функції apply(), як функції вищого порядку, буде залежати від поведінки функції, що задана всередині функції apply(). Наприклад:"
      ]
    },
    {
      "cell_type": "code",
      "execution_count": null,
      "metadata": {
        "id": "ULJSN3qtoerH"
      },
      "outputs": [],
      "source": [
        "def mult(y):\n",
        "    return y * 10\n",
        "\n",
        "apply(5, mult)"
      ]
    },
    {
      "cell_type": "markdown",
      "metadata": {
        "id": "5BpmqzgSuLy0"
      },
      "source": [
        "Функції вищих порядків можуть також повертати іншу функцію, як результат.\n",
        "\n",
        "Спробуємо змінити функцію apply() так, щоб вона повертала іншу функцію:"
      ]
    },
    {
      "cell_type": "code",
      "execution_count": null,
      "metadata": {
        "id": "vIk63BE5tO-d"
      },
      "outputs": [],
      "source": [
        "def apply(x, function):\n",
        "    return function(x)"
      ]
    },
    {
      "cell_type": "markdown",
      "metadata": {
        "id": "gKAg6Alour2N"
      },
      "source": [
        "Тепер задамо кілька нових функцій:"
      ]
    },
    {
      "cell_type": "code",
      "execution_count": null,
      "metadata": {
        "id": "khQKW3ZDu0Ve"
      },
      "outputs": [],
      "source": [
        "def mult_by_five(num):\n",
        "    return num * 5\n",
        "\n",
        "def square(num):\n",
        "    return num * num\n",
        "\n",
        "def add_one(num):\n",
        "    return num + 1\n",
        "\n",
        "def mult_by_two(num):\n",
        "    return num * 2"
      ]
    },
    {
      "cell_type": "markdown",
      "metadata": {
        "id": "JQDQFGe6u_h0"
      },
      "source": [
        "Якщо запустити функцію apply(), вказавши одним з її аргументів одну з перелічених нових функцій, результат буде такий:"
      ]
    },
    {
      "cell_type": "code",
      "execution_count": null,
      "metadata": {
        "id": "GXzDVSX1vpIb"
      },
      "outputs": [],
      "source": [
        "print(apply(10, mult_by_five))\n",
        "print(apply(10, square))\n",
        "print(apply(10, add_one))\n",
        "print(apply(10, mult_by_two))"
      ]
    },
    {
      "cell_type": "markdown",
      "metadata": {
        "id": "HR-6-CNEybPy"
      },
      "source": [
        "На перший погляд використання функцій вищого порядку може здатись неефективним. Адже можна просто викликати функцію першого порядку, задавши їй відповідний аргумент. Наприклад, наступні дві функції виводитимуть однакові значення:"
      ]
    },
    {
      "cell_type": "code",
      "execution_count": null,
      "metadata": {
        "id": "Jc1LzN_Mv-D1"
      },
      "outputs": [],
      "source": [
        "print(square(10))\n",
        "print(apply(10, square))"
      ]
    },
    {
      "cell_type": "markdown",
      "metadata": {
        "id": "swSvuZEy0Oj3"
      },
      "source": [
        "Але як бути, якщо відомо, що деяка функція має бути застосована до аргумента 10, однак невідомо, яка саме? Наприклад, припустимо, що треба підрахувати розмір податку, який нараховується в залежності від заробітної плати. Однак нам невідомо, як підрахувати податок для конкретної особи, оскільки підрахунок залежить від деяких додаткових факторів.\n",
        "\n",
        "Функція вищого порядку calculate_tax() може прийняти на вхід іншу функцію, що підраховуватиме податок, та повертатиме відповідне значення."
      ]
    },
    {
      "cell_type": "code",
      "execution_count": null,
      "metadata": {
        "id": "3Vbr1mlR0C_Y"
      },
      "outputs": [],
      "source": [
        "import math\n",
        "\n",
        "def simple_tax_calculator(amount):\n",
        "    return math.ceil(amount * 0.3)\n",
        "\n",
        "def calculate_tax(salary, func):\n",
        "    return func(salary)\n",
        "\n",
        "print(calculate_tax(45000.0, simple_tax_calculator))"
      ]
    },
    {
      "cell_type": "markdown",
      "metadata": {
        "id": "H6aIJOAY5D5j"
      },
      "source": [
        "У мові Python функції також можуть повертати певні значення всередині інших функцій. Цей підхід можна використати, коли деяка функція обирається з переліку наявних фукцій або створюється нова функція на основі певних параметрів. \n",
        "\n",
        "Наприклад:"
      ]
    },
    {
      "cell_type": "code",
      "execution_count": null,
      "metadata": {
        "id": "TqxHjRaK4BgX"
      },
      "outputs": [],
      "source": [
        "def make_checker(s):\n",
        "    if s == 'even':\n",
        "        return lambda n: n%2 == 0\n",
        "    elif s == 'positive':\n",
        "        return lambda n: n >= 0\n",
        "    elif s == 'negative':\n",
        "        return lambda n: n < 0\n",
        "    else:\n",
        "        raise ValueError('Unknown request')\n",
        "\n",
        "f1 = make_checker('even')\n",
        "f2 = make_checker('positive')\n",
        "f3 = make_checker('negative')\n",
        "\n",
        "print(f1(3))\n",
        "print(f2(3))\n",
        "print(f3(3))"
      ]
    },
    {
      "cell_type": "markdown",
      "metadata": {
        "id": "96mC9JSp90HL"
      },
      "source": [
        "Звичайно, не лише анонімні функції можуть повертатись всередині інших функцій. Щоб повернути іменовану функцію, треба повернути її назву:"
      ]
    },
    {
      "cell_type": "code",
      "execution_count": null,
      "metadata": {
        "id": "KU4I3hKG7We4"
      },
      "outputs": [],
      "source": [
        "def make_function():\n",
        "    def adder(x, y):\n",
        "        return x + y\n",
        "    return adder\n",
        "\n",
        "f1 = make_function()\n",
        "print(f1(3, 2))\n",
        "print(f1(3, 3))\n",
        "print(f1(3, 1))"
      ]
    },
    {
      "cell_type": "markdown",
      "metadata": {
        "id": "qW_gJRf4Cje8"
      },
      "source": [
        "### **3. Каррінг**"
      ]
    },
    {
      "cell_type": "markdown",
      "metadata": {
        "id": "IwcrbLdjFrS-"
      },
      "source": [
        "**Каррінг** (currying) - це техніка, яка дозволяє створювати нові функції з існуючих, прив'язуючи один або кілька параметрів до певного значення.\n",
        "\n",
        "Розглянемо функцію, яка приймає на вхід два параметри, x та y, а потім у тілі функції множить їх:"
      ]
    },
    {
      "cell_type": "code",
      "execution_count": null,
      "metadata": {
        "id": "RyxQoI1XCbAH"
      },
      "outputs": [],
      "source": [
        "def operation(x, y): \n",
        "    return x * y\n",
        "\n",
        "print(operation(2, 5))\n",
        "print(operation(2, 10))\n",
        "print(operation(2, 6))\n",
        "print(operation(2, 151))"
      ]
    },
    {
      "cell_type": "markdown",
      "metadata": {
        "id": "8xR8HXhZJNcp"
      },
      "source": [
        "Бачимо, що перший аргумент в усіх випадках виклику функції operation() залишається незмінним. Спробуємо створити нову функцію, перший параметр якої завжди буде зберігати значення 2, а другий параметр буде задаватись під час виклику цієї функції. Тобто потрібно написати щось на кшталт:\n",
        "\n",
        "```\n",
        "double = operation(2, *)\n",
        "```\n",
        "\n",
        "Тоді викликати функцію можна буде так:\n",
        "\n",
        "```\n",
        "double(5)\n",
        "double(151)\n",
        "```\n",
        "\n",
        "Це можна зробити за допомогою **каррованих функцій**. Наприклад:"
      ]
    },
    {
      "cell_type": "code",
      "execution_count": null,
      "metadata": {
        "id": "o_TsyrDpKEcw"
      },
      "outputs": [],
      "source": [
        "def multby(func, num):\n",
        "    return lambda y: func(num, y)\n",
        "\n",
        "def multiply(x, y):\n",
        "    return x * y"
      ]
    },
    {
      "cell_type": "markdown",
      "metadata": {
        "id": "4QjUWr-nLnFV"
      },
      "source": [
        "Якщо уважно подивитись на приклад, то можна побачити, що функція multby() може бути використана для прив'язки першого параметра функції multiply() до будь-якого числа. Наприклад, можна прив'язати цей параметр до значення 2, тобто другий параметр функції multby() завжди буде подвоюватись:"
      ]
    },
    {
      "cell_type": "code",
      "execution_count": null,
      "metadata": {
        "id": "D5qnxjdxO0C1"
      },
      "outputs": [],
      "source": [
        "double = multby(multiply, 2)\n",
        "print(double(5))"
      ]
    },
    {
      "cell_type": "markdown",
      "metadata": {
        "id": "HGHEAybDiRp1"
      },
      "source": [
        "### **4. Замикання**"
      ]
    },
    {
      "cell_type": "markdown",
      "metadata": {
        "id": "5trBC9VzQFTt"
      },
      "source": [
        "Припустимо, що функція посилається на деякі дані, які доступні для цієї функції під час її визначення та недоступні під час її виклику. Ця проблема вирішується за допомогою *замикань* (closures).\n",
        "\n",
        "**Замикання** - це функція (або посилання на функцію) разом з кодом, який її оточує (reference environment). Контекст, в якому функція була визначена, та посилання на кожну нелокальну (non-local) змінну, що використовується цією функцією, зберігаються. Ці нелокальні змінні дозволяють тілу функції посилатися на змінні, що є зовнішніми для функції але використовуються функцією.\n",
        "\n",
        "На концептуальному рівні *замикання* дозволяє функції посилатися на змінні, що доступні в тому місці, в якому функція була визначена, та недоступні за замовчуванням там, де функція була викликана.\n",
        "\n",
        "У прикладі змінна more визначена поза межами функції increase(), однак вона доступна для цієї функції, оскільки вона є глобальною."
      ]
    },
    {
      "cell_type": "code",
      "execution_count": null,
      "metadata": {
        "id": "9IGBKJ-bO1xs"
      },
      "outputs": [],
      "source": [
        "more = 100\n",
        "\n",
        "def increase(num):\n",
        "    return num + more\n",
        "    \n",
        "print(increase(10))\n",
        "more = 50\n",
        "print(increase(10))"
      ]
    },
    {
      "cell_type": "markdown",
      "metadata": {
        "id": "5DuDfxa1YPHS"
      },
      "source": [
        "Варто звернути увагу на те, що під час підрахунку функція використовує те значення змінної more, яке доступне саме під час виклику функції, а не під час її визначення.\n",
        "\n",
        "Розглянемо ще один приклад:"
      ]
    },
    {
      "cell_type": "code",
      "execution_count": null,
      "metadata": {
        "id": "JgpUFHSRYOnA"
      },
      "outputs": [],
      "source": [
        "def increment(num):\n",
        "    return num + 1\n",
        "\n",
        "def reset_function():\n",
        "    global increment\n",
        "    addition = 50\n",
        "    increment = lambda num: num + addition\n",
        "\n",
        "print(increment(5))\n",
        "reset_function()\n",
        "print(increment(5))"
      ]
    },
    {
      "cell_type": "markdown",
      "metadata": {
        "id": "K_Qc8Nz1Z2Uc"
      },
      "source": [
        "Під час виконання функції reset_function() функція increment() була перевизначена.\n",
        "\n",
        "Це наочний приклад використання концепції замикання. Хоча змінна addition є локальною, вона доступна для функції increment() (знаходиться в області доступності цієї функції). Концепція замикання дозволяє використовувати цю локальну змінну навіть в тому випадку, якщо функція була викликана з-поза меж цієї області доступності."
      ]
    },
    {
      "cell_type": "markdown",
      "metadata": {
        "id": "L7oovAe5hy7a"
      },
      "source": [
        "### **5. Функції Map, Filter та Reduce**"
      ]
    },
    {
      "cell_type": "markdown",
      "metadata": {
        "id": "yOuW2i0IvRv0"
      },
      "source": [
        "Функції Filter, Map та Reduce - це функції вищих порядків, які приймають на вхід деяку колекцію даних та функцію, що буде застосована до цієї колекції."
      ]
    },
    {
      "cell_type": "markdown",
      "metadata": {
        "id": "13-mVK_mwuWu"
      },
      "source": [
        "#### Filter"
      ]
    },
    {
      "cell_type": "markdown",
      "metadata": {
        "id": "t3boX6lswxZN"
      },
      "source": [
        "**filter()** - це функція, що використовується для фільтрування елементів колекії. Результат роботи функції filter() - ітератор (iterable), який містить тільки ті елементи, які відібрані функцією тестування. Тобто функція, яка передається у filter(), тестує всі елементи колекції. Ті елементи, опрацьовуючи які функція повертає значення True, додаються до ітератора, що повертається на виході. Послідовність елементів у результуючому ітераторі зберігається. Функція filter() має такий синтаксис:\n",
        "```\n",
        "filter(function, iterable)\n",
        "```\n",
        "Другим аргументом функції filter() може бути будь-який об'єкт, що ітерується. Зокрема список, кортеж, множина, словник та багато інших типів даних.\n",
        "\n",
        "Перший аргумент - функція тестування. Це може бути лямбда-функція або іменована функція.\n",
        "\n",
        "Приклад використання функції filter():"
      ]
    },
    {
      "cell_type": "code",
      "execution_count": null,
      "metadata": {
        "id": "suPQIePfYEmD"
      },
      "outputs": [],
      "source": [
        "data = [1, 3, 5, 2, 7, 4, 10]\n",
        "print('data:', data)\n",
        "\n",
        "# Filter for even numbers using a lambda function\n",
        "d1 = list(filter(lambda i: i % 2 == 0, data))\n",
        "print('d1:', d1)\n",
        "\n",
        "def is_even(i):\n",
        "    return i % 2 == 0\n",
        "\n",
        "# Filter for even numbers using a named function\n",
        "d2 = list(filter(is_even, data))\n",
        "print('d2:', d2)"
      ]
    },
    {
      "cell_type": "markdown",
      "metadata": {
        "id": "MATcVrz62GUT"
      },
      "source": [
        "#### Map"
      ]
    },
    {
      "cell_type": "markdown",
      "metadata": {
        "id": "_1HElsA-3NBe"
      },
      "source": [
        "**map()** - це функція, що застосовує подану на вхід функцію до всіх елементів колекції. map() повертає ітератор з результатами, згенерованими поданою функцією.\n",
        "\n",
        "Функція map() - це функціональний еквівалент циклу for, всі результати якого збираються в один об'єкт.\n",
        "\n",
        "Функція map() має такий синтаксис:\n",
        "```\n",
        "map(function, iterable, ...)\n",
        "```\n",
        "Другий аргумент функції map() - деякий об'єкт, що ітерується.\n",
        "\n",
        "Перший аргумент - деяка функція, що застосовується до кожного елемента колекції iterable.\n",
        "\n",
        "Приклад застосування функції map():"
      ]
    },
    {
      "cell_type": "code",
      "execution_count": null,
      "metadata": {
        "id": "kkZCAOEP1st_"
      },
      "outputs": [],
      "source": [
        "data = [1, 3, 5, 2, 7, 4, 10]\n",
        "print('data:', data)\n",
        "\n",
        "# Apply the lambda function\n",
        "d1 = list(map(lambda i: i + 1, data))\n",
        "print('d1', d1)\n",
        "\n",
        "def add_one(i):\n",
        "    return i + 1\n",
        "    \n",
        "#Apply the add_one function\n",
        "d2 = list(map(add_one, data))\n",
        "print('d2:', d2)"
      ]
    },
    {
      "cell_type": "markdown",
      "metadata": {
        "id": "WctK-_EI7jgv"
      },
      "source": [
        "Зверніть увагу на те, що на вхід функції map() може бути подано один або більше об'єктів, що ітеруються. Якщо у функції map() задано кілька таких об'єктів, функція function повинна приймати на вхід стільки ж параметрів, скільки й об'єктів. Ця властивість стає у нагоді, коли потрібно об'єднати дані, що зберігаються у двох та більше колекціях, в одну колекцію.\n",
        "\n",
        "Наприклад, якщо потрібно додати числа з одного списку до чисел з іншого, можна написати функцію, яка прийматиме на вхід два параметри та повертатиме результат додавання цих чисел:"
      ]
    },
    {
      "cell_type": "code",
      "execution_count": null,
      "metadata": {
        "id": "32aSIVBC7EXp"
      },
      "outputs": [],
      "source": [
        "data1 = [1, 3, 5, 7]\n",
        "data2 = [2, 4, 6, 8]\n",
        "\n",
        "result = list(map(lambda x, y: x + y, data1, data2))\n",
        "print(result)"
      ]
    },
    {
      "cell_type": "markdown",
      "metadata": {
        "id": "gO2gUek5-PV3"
      },
      "source": [
        "#### Reduce"
      ]
    },
    {
      "cell_type": "markdown",
      "metadata": {
        "id": "HUMnds1B-RPg"
      },
      "source": [
        "**reduce()** - це функція, що застосовує подану на вхід функцію до всіх елементів об'єкту, що ітерується, та об'єднує результати роботи функції для кожного з об'єктів в один результат.\n",
        "\n",
        "Функція reduce() входила до переліку вбудованих функцій у Python 2, але була виключена з цього переліку у Python 3. Тому, щоб застосувати цю функцію у Python 3, потрібно імпортувати модуль functools.\n",
        "\n",
        "Функція, що подається на вхід функції reduce(), повинна мати два параметри. Перший параметр зберігає результат з попередньої ітерації, други параметр - наступне значення послідовності.\n",
        "\n",
        "Функція reduce() має такий синтаксис:\n",
        "```\n",
        "functools.reduce(function, iterable[, initializer])\n",
        "```\n",
        "Зверніть увагу на те, що за бажанням можна додати значення initializer, яке використовується для задання початкового значення для результату.\n",
        "\n",
        "Функцію reduce() можна очевидно застосувати для підрахунку суми всіх значень у списку:"
      ]
    },
    {
      "cell_type": "code",
      "execution_count": null,
      "metadata": {
        "id": "e_qOEHx6931c"
      },
      "outputs": [],
      "source": [
        "from functools import reduce\n",
        "\n",
        "data = [1, 3, 5, 2, 7, 4, 10]\n",
        "result = reduce(lambda total, value: total + value, data)\n",
        "print(result)"
      ]
    },
    {
      "cell_type": "markdown",
      "metadata": {
        "id": "IaH1wbIZDBfA"
      },
      "source": [
        "Якщо одним з агрументів функції reduce() задано значення initializer, то саме воно присвоюється параметру total на першій ітерації. Приклад використання аргумента initializer:"
      ]
    },
    {
      "cell_type": "code",
      "execution_count": null,
      "metadata": {
        "id": "noBRE_mZCHBg"
      },
      "outputs": [],
      "source": [
        "from functools import reduce\n",
        "\n",
        "data = [1, 3, 5, 2, 7, 4, 10]\n",
        "result1 = reduce(lambda total, value: total + value, data)\n",
        "result2 = reduce(lambda total, value: total + value, data, 1)\n",
        "result3 = reduce(lambda total, value: total + value, [], 1)\n",
        "print(result1)\n",
        "print(result2)\n",
        "print(result3)"
      ]
    }
  ],
  "metadata": {
    "colab": {
      "collapsed_sections": [],
      "name": "Practice_9.ipynb",
      "provenance": []
    },
    "kernelspec": {
      "display_name": "Python 3",
      "language": "python",
      "name": "python3"
    },
    "language_info": {
      "name": "python",
      "version": "3.8.10 (default, Nov 14 2022, 12:59:47) \n[GCC 9.4.0]"
    },
    "vscode": {
      "interpreter": {
        "hash": "916dbcbb3f70747c44a77c7bcd40155683ae19c65e1c03b4aa3499c5328201f1"
      }
    }
  },
  "nbformat": 4,
  "nbformat_minor": 0
}
