{
  "cells": [
    {
      "cell_type": "markdown",
      "metadata": {
        "id": "FMqboNwO4rVs"
      },
      "source": [
        "# **Курс \"Програмування на мові Python\"**"
      ]
    },
    {
      "cell_type": "markdown",
      "metadata": {
        "id": "A2T6MigL5Z06"
      },
      "source": [
        "## **Практичні зайняття №11-12**\n",
        "\n",
        "### Тема: \"Рекурсивні функції. Рекурсивні структури даних\""
      ]
    },
    {
      "cell_type": "markdown",
      "metadata": {
        "id": "cfCdgK2zXm7e"
      },
      "source": [
        "### **Завдання 1 (1 бал)**\n",
        "\n",
        "Реалізуйте функцію `cons(head, tail)`, що конструює новий список із довільного елемента `head` й іншого списку `tail`.\n",
        "\n",
        "Сама по собі функція `cons` не є рекурсивною, однак вона породжує рекурсивну структуру даних, представлену нижче. "
      ]
    },
    {
      "cell_type": "code",
      "execution_count": 11,
      "metadata": {
        "id": "Bku8v9CjE_Qc"
      },
      "outputs": [
        {
          "name": "stdout",
          "output_type": "stream",
          "text": [
            "Result: [3, 2, 1]\n",
            "All tests good!\n"
          ]
        }
      ],
      "source": [
        "# ВАШ КОД ТУТ\n",
        "def cons(head, tail = []):\n",
        "    return [head] + tail\n",
        "# ПЕРЕВІРКА\n",
        "\n",
        "l = cons(3, \n",
        "        cons(2, \n",
        "            cons(1, [])))\n",
        "print(f'Result: {l}')\n",
        "\n",
        "assert l == [3, 2, 1], 'Failed test 1'\n",
        "assert cons(1) == [1], 'Failed test 2'\n",
        "print('All tests good!')"
      ]
    },
    {
      "cell_type": "markdown",
      "metadata": {
        "id": "474jvMyn38ju"
      },
      "source": [
        "Таким чином, легко уявити, що деякі традиційні структури даних цілком природньо обходяться за допомогою рекурсії.\n",
        "\n",
        "Напишіть тепер рекурсивну функцію `sum(lst)`, яка сумуватиме список `lst`."
      ]
    },
    {
      "cell_type": "code",
      "execution_count": 20,
      "metadata": {
        "id": "9x4n4ct53_Y6"
      },
      "outputs": [
        {
          "name": "stdout",
          "output_type": "stream",
          "text": [
            "6\n",
            "All tests good!\n"
          ]
        }
      ],
      "source": [
        "# ВАШ КОД ТУТ\n",
        "def sum(lst):\n",
        "    if lst == []:\n",
        "        return 0\n",
        "    return lst[0] + sum(lst[1:])    \n",
        "# ПЕРЕВІРКА\n",
        "\n",
        "print(sum(l))\n",
        "assert sum(l) == 6, 'Failed on sum'\n",
        "print('All tests good!')"
      ]
    },
    {
      "cell_type": "markdown",
      "metadata": {
        "id": "oqXwIz3iuPRe"
      },
      "source": [
        "### **Завдання 2 (1 бал)**\n",
        "\n",
        "Реалізуйте рекурсивну функцію `rrange(begin, end, step)`, що повертає список елементів починаючи з `begin` і закінчуючи `end` невключно, із кроком `step`. Зверніть увагу, що крок може бути від'ємним. Якщо `begin` більше `end` при додатньому кроці (чи менше при від'ємному), або якщо крок нульовий, поверніть порожній список.\n",
        "\n",
        "Зверніть увагу на тести, приведені нижче."
      ]
    },
    {
      "cell_type": "code",
      "execution_count": 14,
      "metadata": {
        "id": "yiRr2CqMWxLA"
      },
      "outputs": [
        {
          "name": "stdout",
          "output_type": "stream",
          "text": [
            "All tests good!\n"
          ]
        }
      ],
      "source": [
        "# ВАШ КОД ТУТ\n",
        "def rrange(begin, end, step = 1):\n",
        "    if begin >= end and step > 0:\n",
        "        return []\n",
        "    elif begin <= end and step < 0:\n",
        "        return []\n",
        "    elif step == 0:\n",
        "        return []\n",
        "    else:\n",
        "        return [begin] + rrange(begin + step, end, step)\n",
        "\n",
        "# ПЕРЕВІРКА\n",
        "\n",
        "x = rrange(1, 10)\n",
        "y = rrange(10, 1, -1)\n",
        "z = rrange(10, 1, 1)\n",
        "#print(x, y, z)\n",
        "\n",
        "assert x == list(range(1, 10)), 'Failed test for simple range'\n",
        "assert y == list(range(10, 1, -1)), 'Failed test for reverse range'\n",
        "assert z == list(range(10, 1, 1)), 'Failed test for empty range'\n",
        "print('All tests good!')"
      ]
    },
    {
      "cell_type": "markdown",
      "metadata": {},
      "source": [
        "### **Завдання 3 (1 бал)**\n",
        "\n",
        "Реалізуйте [функцію Акермана](https://uk.wikipedia.org/wiki/%D0%A4%D1%83%D0%BD%D0%BA%D1%86%D1%96%D1%8F_%D0%90%D0%BA%D0%B5%D1%80%D0%BC%D0%B0%D0%BD%D0%B0), що має такий вигляд:\n",
        "$$ \n",
        "A(m,n) = \\begin{cases} \n",
        "n + 1, & \\quad m = 0; \\\\\n",
        "A(m-1, 1), & \\quad m>0, n=0; \\\\\n",
        "A(m-1, A(m, n-1)), & \\quad m > 0, n > 0.\n",
        "\\end{cases}\n",
        "$$\n",
        "\n",
        "_Зауваження 1_: Функція Акермана, незважаючи на оманливу простоту свого визначення, має велику обчислювальну складність. На власний страх і ризик, можете спробувати обчислити значення $A(4, 3)$. Не пробуйте робити це у цьому середовищі (і на повільних домашніх компьютерах)."
      ]
    },
    {
      "cell_type": "code",
      "execution_count": 16,
      "metadata": {},
      "outputs": [
        {
          "name": "stdout",
          "output_type": "stream",
          "text": [
            "All tests good!\n"
          ]
        }
      ],
      "source": [
        "# ВАШ КОД ТУТ\n",
        "def Akk(m, n):\n",
        "    if m == 0:\n",
        "        return n+1\n",
        "    if m > 0 and n == 0:\n",
        "        return Akk(m-1, 1)\n",
        "    if m > 0 and n > 0:\n",
        "        return Akk(m-1, Akk(m, n-1))    \n",
        "\n",
        "# ПЕРЕВІРКА\n",
        "\n",
        "test_pairs = list((m, n) for m in range(0,4) for n in range(0,5))\n",
        "results = [\n",
        "    1,  2,  3,  4, 5, \n",
        "    2,  3,  4,  5, 6, \n",
        "    3,  5,  7,  9, 11,\n",
        "    5, 13, 29, 61, 125\n",
        "]\n",
        "for (m, n), res in zip(test_pairs, results):\n",
        "    assert Akk(m, n) == res, f'Failed test for (m, n) pair ({m}, {n}): Akk({m}, {n}) = {res}'\n",
        "print('All tests good!')"
      ]
    },
    {
      "cell_type": "markdown",
      "metadata": {},
      "source": [
        "### **Завдання 4 (3 бали)**\n",
        "\n",
        "Нехай задано структуру даних, що представляє файли на диску, наступного вигляду:\n",
        "- файли представлені у вигляді рядків зі своїм іменем;\n",
        "- папки представлені у вигляді пари `(name, subnodes)`, де `name` — це ім'я папки, а `subnodes` — список з файлів і/або папок, що містяться у ній.\n",
        "\n",
        "Приклад такої структури наведено нижче у змінній `dirs`.\n",
        "\n",
        "Реалізуйте рекурсивну функцію `search(dirs, filename)` для пошуку усіх файлів із іменем `filename` у структурі `dirs`. Ця функція має повертати список, що містить повні шляхи до файлу у заданій структурі. Наприклад, `search(dirs, 'file2')` для наведеної нижче структури має повертати список `['/folder1/folder2/file2']`.\n",
        "\n",
        "_Зауваження 1_: Ви можете, за необхідності, додати до сигнатури функції додаткові параметри, за умови, що вони матимуть значення за замовчуванням. Однак, я стверджую, що таку функцію завжди можна реалізувати використовуючи лише задану кількість параметрів, незалежно від того, чи будете ви використовувати рекурсію з акумулятором чи без.\n",
        "\n",
        "_Зауваження 2_: Згадайте, що рекурсія буває не тільки безпосередньою, але й непрямою, коли послідовність функцій викликає одна одну: `f() -> g() -> ... -> f()`\n",
        "\n",
        "_Зауваження 3_: Пам'ятайте, що Ви завжди можете використовувати функції `map` та `reduce`. Крім того, ви можете захотіти використати інші функції з модулів `functools` та `itertools`, наприклад `itertools.chain()`. Завдання, однак, можна виконати і без них (хоч це і не дуже зручно).\n",
        "\n",
        "_Зауваження 4_: На мій смак, версія з акумулятором є більш елегантною, але дещо складнішою в реалізації. Спробуйте реалізувати обидві версії.\n",
        "\n",
        "![](https://media.giphy.com/media/enCWEo0vG25Ow/giphy.gif) "
      ]
    },
    {
      "cell_type": "code",
      "execution_count": 34,
      "metadata": {},
      "outputs": [
        {
          "name": "stdout",
          "output_type": "stream",
          "text": [
            "['/folder1/file1']\n",
            "['/folder1/folder2/file2']\n",
            "['/folder1/folder2/file3', '/folder1/folder3/file3', '/folder1/folder3/folder4/file3']\n",
            "['/folder1/folder3/file4']\n",
            "['/folder1/file5']\n",
            "[]\n",
            "[]\n",
            "All tests good!\n"
          ]
        }
      ],
      "source": [
        "dirs = [\n",
        "    ( 'folder1',\n",
        "        [\n",
        "            'file1',\n",
        "            ( 'folder2', \n",
        "                [\n",
        "                    'file2',\n",
        "                    'file3'\n",
        "                ] \n",
        "            ),\n",
        "            ( 'folder3', \n",
        "                [\n",
        "                    'file3', \n",
        "                    'file4',\n",
        "                    ('folder4', ['file3'])\n",
        "                ] \n",
        "            ),\n",
        "            'file5'\n",
        "        ]\n",
        "    )\n",
        "]\n",
        "\n",
        "# ВАШ КОД ТУТ\n",
        "def search(dirs, filename, step = '/'):\n",
        "    result = []\n",
        "    for i in dirs:      \n",
        "        if isinstance(i, str):\n",
        "            if i == filename:\n",
        "                result.append(step + i)\n",
        "        else:\n",
        "            result = result + search(i[1], filename, step + i[0]+'/')     \n",
        "    return result\n",
        "# ПЕРЕВІРКА\n",
        "\n",
        "\n",
        "print(search(dirs, 'file1'))\n",
        "print(search(dirs, 'file2'))\n",
        "print(search(dirs, 'file3'))\n",
        "print(search(dirs, 'file4'))\n",
        "print(search(dirs, 'file5'))\n",
        "print(search(dirs, 'file6'))\n",
        "print(search(dirs, 'folder1'))\n",
        "\n",
        "assert search(dirs, 'file1') == ['/folder1/file1'], 'Failed test for file1'\n",
        "assert search(dirs, 'file2') == ['/folder1/folder2/file2'], 'Failed test for file2'\n",
        "assert search(dirs, 'file3') == ['/folder1/folder2/file3', '/folder1/folder3/file3', '/folder1/folder3/folder4/file3'], 'Failed test for file3'\n",
        "assert search(dirs, 'file4') == ['/folder1/folder3/file4'], 'Failed test for file4'\n",
        "assert search(dirs, 'file5') == ['/folder1/file5'], 'Failed test for file5'\n",
        "assert search(dirs, 'file6') == [], 'Failed test for file6'\n",
        "assert search(dirs, 'folder1') == [], 'Failed test for folder1'\n",
        "print('All tests good!')\n"
      ]
    }
  ],
  "metadata": {
    "colab": {
      "collapsed_sections": [],
      "name": "Practice_12_13_KM_01_.ipynb",
      "provenance": []
    },
    "kernelspec": {
      "display_name": "Python 3",
      "language": "python",
      "name": "python3"
    },
    "language_info": {
      "codemirror_mode": {
        "name": "ipython",
        "version": 3
      },
      "file_extension": ".py",
      "mimetype": "text/x-python",
      "name": "python",
      "nbconvert_exporter": "python",
      "pygments_lexer": "ipython3",
      "version": "3.8.10"
    },
    "vscode": {
      "interpreter": {
        "hash": "e7370f93d1d0cde622a1f8e1c04877d8463912d04d973331ad4851f04de6915a"
      }
    }
  },
  "nbformat": 4,
  "nbformat_minor": 0
}
