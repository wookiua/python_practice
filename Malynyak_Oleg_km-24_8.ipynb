{
  "cells": [
    {
      "cell_type": "markdown",
      "metadata": {
        "id": "FMqboNwO4rVs"
      },
      "source": [
        "# **Курс \"Програмування на мові Python\"**"
      ]
    },
    {
      "cell_type": "markdown",
      "metadata": {
        "id": "A2T6MigL5Z06"
      },
      "source": [
        "## **Практичні зайняття №13-14**\n",
        "\n",
        "### Тема: \"Робота з файлами. Робота зі спеціальними форматами файлів\""
      ]
    },
    {
      "cell_type": "markdown",
      "metadata": {
        "id": "cfCdgK2zXm7e"
      },
      "source": [
        "### **Завдання 1 (1,5 бали)**\n",
        "\n",
        "У 1939 році друком вийшов роман американського письменика Ернеста Вінсента Райта \"Ґетсбі\". Особливу увагу публіки він здобув через те, що письменник жодного разу не використав у романі літеру \"e\" (роман складається з більше ніж 50,000 слів), яка є найбільш вживаною літерою в англійській мові.\n",
        "\n",
        "Порахуйте кількість входжень кожної літери у текст роману. Виведіть список літер англійського алфавіту, а також інформацію про те, скільки відсотків від усіх літер тексту складає кожна літера алфавіту.\n",
        "\n",
        "Зауваження:\n",
        "\n",
        "1. Програма має ігнорувати будь-які символи, окрім літер.\n",
        "\n",
        "2. Переведіть усі літери у верхній або у нижній регістр.\n",
        "\n",
        "3. Під час виведення відсортуйте літери у порядку зменшення їхнього відсотка. Літера \"e\" має стояти на останньому місці у цьому списку (хоча кілька літер e там все ж таки зустрічається).\n",
        "\n",
        "4. Виведіть перші 5 та останні 5 літер відсортованого списку разом з відсотковими значеннями, що їм відповідають. Відсотки округліть до тисячних."
      ]
    },
    {
      "cell_type": "code",
      "execution_count": 66,
      "metadata": {
        "id": "u4-fHJJ6U462",
        "tags": []
      },
      "outputs": [
        {
          "name": "stdout",
          "output_type": "stream",
          "text": [
            "a : 10.952 %\n",
            "o : 10.419 %\n",
            "i : 8.825 %\n",
            "n : 8.597 %\n",
            "t : 8.494 %\n",
            "...\n",
            "j : 0.23 %\n",
            "z : 0.107 %\n",
            "x : 0.079 %\n",
            "q : 0.051 %\n",
            "e : 0.002 %\n"
          ]
        }
      ],
      "source": [
        "import string\n",
        "letters = string.ascii_lowercase\n",
        "\n",
        "sum = 0\n",
        "for letter in letters:\n",
        "    sum = sum + (list(x.lower() for x in str(open('gadsby.txt','r').read())).count(letter)) \n",
        "\n",
        "list_percent = []\n",
        "for letter in letters:\n",
        "    numb_lett_percent = round(list(x.lower() for x in str(open('gadsby.txt','r').read())).count(letter)*100/sum, 3)\n",
        "    list_percent.append(numb_lett_percent)\n",
        "\n",
        "dictionary = dict(zip(letters, list_percent))    \n",
        "\n",
        "sorted_dict = {}\n",
        "sorted_keys = sorted(dictionary, key=dictionary.get, reverse=True)\n",
        "\n",
        "for w in sorted_keys:\n",
        "    sorted_dict[w] = dictionary[w]\n",
        "\n",
        "index = 0\n",
        "for i in sorted_dict:\n",
        "    if index < 5:\n",
        "        print(i,\":\", sorted_dict[i], \"%\")\n",
        "    if index == 5:\n",
        "        print(\"...\")\n",
        "    if index > (len(sorted_dict) - 6):\n",
        "        print(i,\":\", sorted_dict[i], \"%\")\n",
        "    index = index + 1\n",
        "\n",
        "\n",
        "\n",
        "\n",
        "\n",
        "\n",
        "\n",
        "\n",
        "\n"
      ]
    },
    {
      "cell_type": "markdown",
      "metadata": {
        "id": "A34oz70eU463"
      },
      "source": [
        "### **Завдання 2 (1,5 бали)**\n",
        "\n",
        "Архів archive.zip містить 140 txt-файлів, в яких збережено інфорамцію про те, якими іменами називали дітей у США в період з 1880 по 2019 рік.\n",
        "\n",
        "Структура рядка кожного файлу така:\n",
        "\n",
        "*name,sex,number_of_occurrences*\n",
        "\n",
        "Напишіть програму, яка зчитуватиме кожен файл та визначатиме окремо чоловічі, окремо жіночі імена, що були найпопулярнішими хоча б в один з років. Далі програма повинна підраховувати, скільки разів кожне з цих імен ставало найпопулярнишим, та виводити ранжовані списки чоловічіх та жіночих імен у вигляді:\n",
        "\n",
        "```\n",
        "Michael 44\n",
        "John 44\n",
        "Robert 17\n",
        "...\n",
        "\n",
        "Mary 76\n",
        "Jennifer 15\n",
        "Emily 12\n",
        "...\n",
        "```"
      ]
    },
    {
      "cell_type": "code",
      "execution_count": null,
      "metadata": {},
      "outputs": [],
      "source": []
    },
    {
      "cell_type": "markdown",
      "metadata": {},
      "source": [
        "### **Завдання 3 (1,5 бали)**\n",
        "\n",
        "Створіть CSV-файл, що буде містити від 5 до 10 пісень (творів) вашого улюбленого музиканта. Назва файлу - ім'я музиканта (композитора) або назва гурту.\n",
        "\n",
        "1. Обов'язково додайте до файлу рядок з назвами двох колонок (Song, Year) або (Composition, Year).\n",
        "\n",
        "2. Після запису файлу роздрукуйте назву файлу та усі наявні у файлі рядки (включно із заголовками).\n",
        "\n",
        "3. Для запису та зчитування рядків скористайтесь функціями csv.DictWriter() та csv.DictReader()."
      ]
    },
    {
      "cell_type": "code",
      "execution_count": null,
      "metadata": {},
      "outputs": [],
      "source": []
    },
    {
      "cell_type": "markdown",
      "metadata": {},
      "source": [
        "### **Завдання 4 (1,5 бали)**\n",
        "\n",
        "COCO Dataset - набір фотографій та анотацій до них. Його дуже часто використовують для тренування класифікаторів, призначених для розпізнавання об'єктів та визначення ключових точок на зображеннях.\n",
        "\n",
        "Завантажте файли з описом фотографій COCO Dataset за посиланням: [COCO Dataset](http://images.cocodataset.org/annotations/image_info_test2017.zip).\n",
        "\n",
        "Відкрийте файл image_info_test-dev2017.json. Інформація про фотографії з бази COCO міститься у полі \"images\". Інформація про категорії, на які розділені всі фотографії, міститься у полі \"categories\".\n",
        "\n",
        "1. Визначте кількість фотографій, інформацію про які можна знайти у цьому файлі (кількість елементів, що відповідають ключу \"images\").\n",
        "\n",
        "2. Визначте кількість наявних категорій (кількість елементів, що відповідають ключу \"categories\").\n",
        "\n",
        "3. Виведіть посилання на фотографію 000000000001.jpg (\"coco_url\"). Також виведіть висоту цієї фотографії (\"height\"), ширину (\"width\") та її ідентифікатор (\"id\").\n",
        "\n",
        "4. Виведіть назву фотографії з набільшим номером.\n",
        "\n",
        "Опис структури JSON-файлу для набору фотографій COCO можна знайти за посиланням: [Data format](https://cocodataset.org/#format-data).\n",
        "\n",
        "Щоб перевірити правильність результатів, у VS Code встановіть розширення JSON та відкрийте файл image_info_test-dev2017.json. Розширення автоматично визначає кількість елементів у кожному полі."
      ]
    },
    {
      "cell_type": "code",
      "execution_count": null,
      "metadata": {},
      "outputs": [],
      "source": []
    }
  ],
  "metadata": {
    "colab": {
      "collapsed_sections": [],
      "name": "Practice_14_KM_01.ipynb",
      "provenance": []
    },
    "kernelspec": {
      "display_name": "Python 3",
      "language": "python",
      "name": "python3"
    },
    "language_info": {
      "codemirror_mode": {
        "name": "ipython",
        "version": 3
      },
      "file_extension": ".py",
      "mimetype": "text/x-python",
      "name": "python",
      "nbconvert_exporter": "python",
      "pygments_lexer": "ipython3",
      "version": "3.8.10 (default, Nov 14 2022, 12:59:47) \n[GCC 9.4.0]"
    },
    "vscode": {
      "interpreter": {
        "hash": "e7370f93d1d0cde622a1f8e1c04877d8463912d04d973331ad4851f04de6915a"
      }
    }
  },
  "nbformat": 4,
  "nbformat_minor": 0
}
