{
  "cells": [
    {
      "cell_type": "markdown",
      "metadata": {
        "id": "FMqboNwO4rVs"
      },
      "source": [
        "# **Курс \"Програмування на мові Python\"**"
      ]
    },
    {
      "cell_type": "markdown",
      "metadata": {
        "id": "A2T6MigL5Z06"
      },
      "source": [
        "## **Практичне зайняття №8**\n",
        "\n",
        "### Тема: \"Перевірка даних. Робота з виключеннями. Регулярні вирази\""
      ]
    },
    {
      "cell_type": "markdown",
      "metadata": {
        "id": "LyWSBl0DOxJ8"
      },
      "source": [
        "### **1. Перевірка даних**"
      ]
    },
    {
      "cell_type": "markdown",
      "metadata": {
        "id": "uD_xUD86O13C"
      },
      "source": [
        "Для перевірки типу введених даних використовується функція **type()**. Приклад:"
      ]
    },
    {
      "cell_type": "code",
      "execution_count": null,
      "metadata": {
        "id": "j7IKdnkuuStD"
      },
      "outputs": [],
      "source": [
        "print(type(45))\n",
        "print(type(123.45))\n",
        "print(type(True))\n",
        "print(type('Programming'))\n",
        "print(type((1, 2, 3)))\n",
        "print(type([1, 2, 3]))\n",
        "print(type({1, 2, 3}))\n",
        "print(type({1:'First', 2:'Second', 3:'Third'}))"
      ]
    },
    {
      "cell_type": "markdown",
      "metadata": {
        "id": "q4kjWLbzwbAc"
      },
      "source": [
        "Для перевірки даних типу string, можна використати одну з функцій перевірки рядка:"
      ]
    },
    {
      "cell_type": "code",
      "execution_count": null,
      "metadata": {
        "id": "8eo3T-z0uXoF"
      },
      "outputs": [],
      "source": [
        "print(\"'Company12'.isalnum()\", \"Company12\".isalnum())\n",
        "print(\"'Company 12'.isalnum()\", \"Company 12\".isalnum())\n",
        "print(\"---------------------\")\n",
        "print(\"'CompanyX'.isalpha()\", \"CompanyX\".isalpha())\n",
        "print(\"'CompanyX2'.isalpha()\", \"CompanyX2\".isalpha())\n",
        "print(\"---------------------\")\n",
        "print(\"'Hello world!'.islower()\", \"Hello world!\".islower())\n",
        "print(\"'hello 123'.islower()\", \"hello 123\".islower())\n",
        "print(\"'mynameisPeter'.islower()\", \"mynameisPeter\".islower())\n",
        "print(\"---------------------\")\n",
        "print(\"'THIS IS NOW!'.isupper()\", \"THIS IS NOW!\".isupper())\n",
        "print(\"'Hello World!'.isupper()\", \"Hello World!\".isupper())\n",
        "print(\"'HELLO 123'.isupper()\", \"HELLO 123\".isupper())"
      ]
    },
    {
      "cell_type": "markdown",
      "metadata": {
        "id": "hHptNrScUVsK"
      },
      "source": [
        "Наступні 3 методи є подібними, але не однаковими. За визначенням,\n",
        "isdecimal() ⊆ isdigit() ⊆ isnumeric(). У таблиці показано, як працює кожен метод з різними символами.\n",
        "\n",
        "isdecimal() | isdigit() | isnumeric() | Example\n",
        "--- | --- | --- | ---\n",
        "True | True | True | \"038\", \"੦੩੮\", \"０３８\"\n",
        "False | True | True | \"⁰³⁸\", \"🄀⒊⒏\", \"⓪③⑧\"\n",
        "False | False | True | \"↉⅛⅘\", \"ⅠⅢⅧ\", \"⑩⑬㊿\", \"壹貳參\"\n",
        "False | False | False | \"abc\", \"38.0\", \"-38\"\n",
        "\n",
        "Приклад роботи методів з більш типовими символами:"
      ]
    },
    {
      "cell_type": "code",
      "execution_count": null,
      "metadata": {
        "id": "RLYPbWrsUEgZ"
      },
      "outputs": [],
      "source": [
        "print(\"'565543'.isnumeric()\", \"565543\".isnumeric())\n",
        "print(\"'10km2'.isnumeric()\", \"10km2\".isnumeric())\n",
        "print(\"'\\u0030'.isnumeric()\", \"\\u0030\".isnumeric())\n",
        "print(\"---------------------\")\n",
        "print(\"'565543'.isdigit()\", \"565543\".isdigit())\n",
        "print(\"'10km2'.isdigit()\", \"10km2\".isdigit())\n",
        "print(\"'\\u0030'.isdigit()\", \"\\u0030\".isdigit())\n",
        "print(\"---------------------\")\n",
        "print(\"'565543'.isdecimal()\", \"565543\".isdecimal())\n",
        "print(\"'10km2'.isdecimal()\", \"10km2\".isdecimal())\n",
        "print(\"'\\u0030'.isdecimal()\", \"\\u0030\".isdecimal())"
      ]
    },
    {
      "cell_type": "markdown",
      "metadata": {
        "id": "I_TMorsvl4kh"
      },
      "source": [
        "Ще кілька методів перевірки даних типу string:"
      ]
    },
    {
      "cell_type": "code",
      "execution_count": null,
      "metadata": {
        "id": "aoZ9HxSiAlb6"
      },
      "outputs": [],
      "source": [
        "print(\"'MyFolder'.isidentifier()\", \"MyFolder\".isidentifier())\n",
        "print(\"'Demo002'.isidentifier()\", \"Demo002\".isidentifier())\n",
        "print(\"'2bring'.isidentifier()\", \"2bring\".isidentifier())\n",
        "print(\"'my demo'.isidentifier()\", \"my demo\".isidentifier())\n",
        "print(\"---------------------\")\n",
        "print(\"'Hello! Are you #1?'.isprintable()\", \"Hello! Are you #1?\".isprintable())\n",
        "print(\"\\n\".isprintable())\n",
        "print(\"---------------------\")\n",
        "print(\"'   '.isspace()\", \"   \".isspace())\n",
        "print(\"'   s   '.isspace()\", \"   s   \".isspace())\n",
        "print(\"---------------------\")\n",
        "print(\"'Hello, And Welcome To My World!'.istitle()\", \"Hello, And Welcome To My World!\".istitle())\n",
        "print(\"'HELLO, AND WELCOME TO MY WORLD'.istitle()\", \"HELLO, AND WELCOME TO MY WORLD\".istitle())\n",
        "print(\"'22 Names %'!?'.istitle()\", \"22 Names %'!?\".istitle())"
      ]
    },
    {
      "cell_type": "markdown",
      "metadata": {
        "id": "nFriqP-PmGXL"
      },
      "source": [
        "Для відлагодження програм часто використовують ключове слово **assert**. На відміну від звичайної інструкції if, інструкція assert призначена для оповіщення розробників про помилки, які не можна ігнорувати. Інструкція assert *не* призначена для того, щоб сигналізувати про очікуване невиконання певної умови, коли користувач може щось відкорегувати або просто запустити програму знову. Якщо умова assert не виконується, інструкція завершує програму аварійно, виводячи помилку *AssertionError*. \n",
        "\n",
        "Наприклад, в цьому випадку assert повертає значення True і програма може продовжити виконання:"
      ]
    },
    {
      "cell_type": "code",
      "execution_count": 57,
      "metadata": {
        "id": "O4-IYSI6O6pl"
      },
      "outputs": [],
      "source": [
        "x = \"hello\"\n",
        "assert x == \"hello\""
      ]
    },
    {
      "cell_type": "markdown",
      "metadata": {
        "id": "tTiPkGd82Nzn"
      },
      "source": [
        "А цьому випадку повертається значення False та виводиться помилка *AssertionError*:"
      ]
    },
    {
      "cell_type": "code",
      "execution_count": 19,
      "metadata": {
        "id": "hbM1ZFIG2quW"
      },
      "outputs": [
        {
          "ename": "AssertionError",
          "evalue": "",
          "output_type": "error",
          "traceback": [
            "\u001b[0;31m---------------------------------------------------------------------------\u001b[0m",
            "\u001b[0;31mAssertionError\u001b[0m                            Traceback (most recent call last)",
            "Cell \u001b[0;32mIn [19], line 2\u001b[0m\n\u001b[1;32m      1\u001b[0m x \u001b[39m=\u001b[39m \u001b[39m\"\u001b[39m\u001b[39mhello\u001b[39m\u001b[39m\"\u001b[39m\n\u001b[0;32m----> 2\u001b[0m \u001b[39massert\u001b[39;00m x \u001b[39m==\u001b[39m \u001b[39m\"\u001b[39m\u001b[39mgoodbye\u001b[39m\u001b[39m\"\u001b[39m\n",
            "\u001b[0;31mAssertionError\u001b[0m: "
          ]
        }
      ],
      "source": [
        "x = \"hello\"\n",
        "assert x == \"goodbye\""
      ]
    },
    {
      "cell_type": "markdown",
      "metadata": {
        "id": "B8EQhI3x3NJm"
      },
      "source": [
        "### **2. Робота з виключеннями**"
      ]
    },
    {
      "cell_type": "markdown",
      "metadata": {
        "id": "YBb_yVIH3VXP"
      },
      "source": [
        "Коли в програмі щось іде не так, інтерпретатор видає помилку. Помилка складається з короткого опису та вказівника на інструкцію, під час виконання якої ця помилка виникла.\n",
        "\n",
        "У мові Python терміни *помилка* (*error*) та *виключення* (*exception*) є взаємозамінними. Однак з погляду стилістики термін *виключення* частіше застосовують, коли мова йде про проблеми з певними операціями (наприклад, арифметичні виключення), а термін *помилка* застосовують, коли виникають функціональні проблеми (наприклад, не було знайдено файлу, який викликався програмою).\n",
        "\n",
        "Деякі основні виключення подано за посиланням: https://www.tutorialsteacher.com/python/error-types-in-python\n",
        "\n",
        "Надалі, щоб не виникало плутанини, помилки, що видає інтерпретатор, називатимемо саме *виключеннями*.\n",
        "\n",
        "Отже, різні типи помилок продукують різні типи виключень. Наприклад, якщо помилка виникла через ділення цілого числа на нуль, інтерпретатор виведе арифметичне виключення (ArithmeticException).\n",
        "\n",
        "Для обробки виключень у мові програмування Python використовується конструкція try-except. Вона ділиться на 4 частини.\n",
        "\n",
        "1. **Блок try** містить блок коду, який перевіряється. Якщо в процесі виконання коду генерується виключення, вказане у частині except, запускається блок except.\n",
        "\n",
        "2. **Блок except** визначає, що потрібно робити, якщо було згенероване певне виключення. Блоків except може бути будь-яка кількість.\n",
        "\n",
        "3. **Блок else** (необов'язковий) запускається лише в тому випадку, якщо у блоці try не було згенеровано ніяких виключень.\n",
        "\n",
        "4. **Блок finally** (необов'язковий) запускається після виконання блоку try незалежно від того, чи було згенеровано якесь виключення, чи ні.\n",
        "\n",
        "Розглянемо приклад:"
      ]
    },
    {
      "cell_type": "code",
      "execution_count": null,
      "metadata": {
        "id": "TlmDMwjHM0dd"
      },
      "outputs": [],
      "source": [
        "6 / 0"
      ]
    },
    {
      "cell_type": "markdown",
      "metadata": {
        "id": "3BUPwUPoNCEs"
      },
      "source": [
        "Якщо запустити цей код, згенерується виключення ZeroDivisionError. Щоб обробити його, застосуємо конструкцію try-except:"
      ]
    },
    {
      "cell_type": "code",
      "execution_count": 15,
      "metadata": {
        "id": "wYcLJ0D7MIC8"
      },
      "outputs": [
        {
          "name": "stdout",
          "output_type": "stream",
          "text": [
            "oops\n"
          ]
        }
      ],
      "source": [
        "try:\n",
        "    6 / 0\n",
        "except ZeroDivisionError:\n",
        "    print('oops')"
      ]
    },
    {
      "cell_type": "markdown",
      "metadata": {
        "id": "JFI1T2nsNhQl"
      },
      "source": [
        "Насправді необов'язково знати точну назву класу виключення. Можна застосувати клас Except, який включає в себе усі виключення, в тому числі виключення ZeroDivisionError:"
      ]
    },
    {
      "cell_type": "code",
      "execution_count": 16,
      "metadata": {
        "id": "0rwIHDWc2urK"
      },
      "outputs": [
        {
          "name": "stdout",
          "output_type": "stream",
          "text": [
            "oops\n"
          ]
        }
      ],
      "source": [
        "try:\n",
        "    6 / 0\n",
        "except Exception:\n",
        "    print('oops')"
      ]
    },
    {
      "cell_type": "markdown",
      "metadata": {
        "id": "IKDXYiQSPIDV"
      },
      "source": [
        "Однак якщо потрібно визначити поведінку програми для кожного типу виключень, можна використати блок except кілька разів:"
      ]
    },
    {
      "cell_type": "code",
      "execution_count": null,
      "metadata": {
        "id": "c0zbSntXOP7E"
      },
      "outputs": [],
      "source": [
        "try:\n",
        "    6 / 0\n",
        "except ZeroDivisionError:\n",
        "    print('oops')\n",
        "except IndexError:\n",
        "    print('arrgh')\n",
        "except FileNotFoundError:\n",
        "    print('huh!')\n",
        "except Exception:\n",
        "    print('Duh!')"
      ]
    },
    {
      "cell_type": "markdown",
      "metadata": {
        "id": "mGj_wtfqP3qG"
      },
      "source": [
        "В цьому випадку перший блок except обробляє лише виключення класу ZeroDivisionError, інші три блоки обробляють виключення інших класів. Зверніть увагу на те, що останнє виключення Exception не було активоване, хоча воно є універсальним. Воно активується лише в тому випадку, якщо всі попередні блоки except не будуть активовані. Якби виключення Exception запускалось першим, жодний інший блок except не мав би можливості бути запущеним.\n",
        "\n",
        "Щоб вивести текст виключення, можна скористатись ключовим словом **as**. Наприклад:"
      ]
    },
    {
      "cell_type": "code",
      "execution_count": 20,
      "metadata": {
        "id": "gDRkP2i1Psnt"
      },
      "outputs": [
        {
          "name": "stdout",
          "output_type": "stream",
          "text": [
            "division by zero\n",
            "oops\n"
          ]
        }
      ],
      "source": [
        "try:\n",
        "    6 / 0\n",
        "except ZeroDivisionError as exp:\n",
        "    print(exp)\n",
        "    print('oops')"
      ]
    },
    {
      "cell_type": "markdown",
      "metadata": {
        "id": "A9RYw9tsTgRI"
      },
      "source": [
        "Якщо є кілька блоків except, для кожного з них можна визначити окрему змінну, що зберігатиме текст виключення, або не визначати змінної зовсім. Наприклад:"
      ]
    },
    {
      "cell_type": "code",
      "execution_count": 24,
      "metadata": {
        "id": "rzIO_eHsUU29"
      },
      "outputs": [
        {
          "name": "stdout",
          "output_type": "stream",
          "text": [
            "division by zero\n",
            "oops\n"
          ]
        }
      ],
      "source": [
        "try:\n",
        "    6 / 0\n",
        "except ZeroDivisionError as exp:\n",
        "    print(exp)\n",
        "    print('oops')\n",
        "except IndexError as e:\n",
        "    print(e)\n",
        "    print('arrgh')\n",
        "except FileNotFoundError:\n",
        "    print('huh!')\n",
        "except Exception as exception:\n",
        "    print(exception)\n",
        "    print('Duh!')"
      ]
    },
    {
      "cell_type": "markdown",
      "metadata": {
        "id": "9iq0YZCaUnaD"
      },
      "source": [
        "Однією з цікавих особливостей обробки виключень у Python є те, що коли виключення генерується, програма перериває виконання блоку try і активує відповідний блок except. Наприклад:"
      ]
    },
    {
      "cell_type": "code",
      "execution_count": 1,
      "metadata": {
        "id": "2Mxdst78UmYn"
      },
      "outputs": [
        {
          "name": "stdout",
          "output_type": "stream",
          "text": [
            "Before\n",
            "oops\n",
            "Done\n"
          ]
        }
      ],
      "source": [
        "try:  \n",
        "    print('Before')\n",
        "    num = 6 / 0\n",
        "    print(num)\n",
        "    print('After')\n",
        "except ZeroDivisionError as exp:\n",
        "    print('oops')\n",
        "print('Done')"
      ]
    },
    {
      "cell_type": "markdown",
      "metadata": {
        "id": "oahXtOvSXQUE"
      },
      "source": [
        "Бачимо, що текст \"After\" не виводиться, оскільки виключення було згенероване раніше. Виконання інструкцій блоку try було перерване. Тому іноді, коли мова йде про обробку виключень, використовують термін *викидання* (throwing).\n",
        "\n",
        "Також можна використати except, не згадуючи ніяких виключень. Так можна робити лише в тому випадку, якщо клас виключення, яке було згенероване, не має значення."
      ]
    },
    {
      "cell_type": "code",
      "execution_count": 2,
      "metadata": {
        "id": "ytyIeZQpWuZL"
      },
      "outputs": [
        {
          "name": "stdout",
          "output_type": "stream",
          "text": [
            "Something went wrong\n"
          ]
        }
      ],
      "source": [
        "try:\n",
        "    6 / 0\n",
        "except IndexError as e:\n",
        "    print(e)\n",
        "except:\n",
        "    print('Something went wrong')"
      ]
    },
    {
      "cell_type": "markdown",
      "metadata": {
        "id": "wLBR11IwbFKk"
      },
      "source": [
        "Як було сказано раніше, **блок else** виконується лише в тому випадку, якщо всі інструкції блоку try було виконано без помилок. Приклад використання блоку else:"
      ]
    },
    {
      "cell_type": "code",
      "execution_count": 3,
      "metadata": {
        "id": "Zyx-yyKZZ_KQ"
      },
      "outputs": [
        {
          "name": "stdout",
          "output_type": "stream",
          "text": [
            "Everything worked OK\n"
          ]
        }
      ],
      "source": [
        "try:\n",
        "    6 / 2\n",
        "except ZeroDivisionError as e:\n",
        "    print(e)\n",
        "else:\n",
        "    print('Everything worked OK')"
      ]
    },
    {
      "cell_type": "markdown",
      "metadata": {
        "id": "b9V6Toj0byX6"
      },
      "source": [
        "**Блок finally** також може бути визначений разом з інструкцієї try. Цей блок задається останнім. Він виконується в будь-якому випадку після виконання коду блоків try, except (якщо генерується виключення) та else (якщо виключення не генерується). Блок finally може бути дуже корисним для згортання усіх ресурсів, які використовувались у коді (наприклад, для закривання файлів). Приклад:"
      ]
    },
    {
      "cell_type": "code",
      "execution_count": 23,
      "metadata": {
        "id": "3F8x1Eg8bvx8"
      },
      "outputs": [
        {
          "name": "stdout",
          "output_type": "stream",
          "text": [
            "Everything worked OK\n",
            "Always runs\n"
          ]
        }
      ],
      "source": [
        "try:\n",
        "    6 / 2\n",
        "except ZeroDivisionError as e:\n",
        "    print(e)\n",
        "else:\n",
        "    print('Everything worked OK')\n",
        "finally:\n",
        "    print('Always runs')"
      ]
    },
    {
      "cell_type": "markdown",
      "metadata": {
        "id": "8xDg536jfC0o"
      },
      "source": [
        "Виключення можна також викликати вручну за допомогою ключового слова **raise**. Наприклад:"
      ]
    },
    {
      "cell_type": "code",
      "execution_count": 36,
      "metadata": {
        "id": "HHCujyYLdgAV"
      },
      "outputs": [
        {
          "name": "stdout",
          "output_type": "stream",
          "text": [
            "\n"
          ]
        }
      ],
      "source": [
        "n = 4\n",
        "try:\n",
        "    if n > 5:\n",
        "        raise ValueError('Bang!')\n",
        "    print('Everything is OK!')\n",
        "except ValueError as ve:\n",
        "    print(ve)"
      ]
    },
    {
      "cell_type": "markdown",
      "metadata": {
        "id": "ppJlkV8xgbGk"
      },
      "source": [
        "Виключення можна викликати вдруге. Це може бути корисно, якщо потрібно просто зафіксувати факт виникнення помилки, не обробляючи її."
      ]
    },
    {
      "cell_type": "code",
      "execution_count": 28,
      "metadata": {
        "id": "ELGUKMcKgFfu"
      },
      "outputs": [
        {
          "name": "stdout",
          "output_type": "stream",
          "text": [
            "Bang!\n"
          ]
        },
        {
          "ename": "ValueError",
          "evalue": "Bang!",
          "output_type": "error",
          "traceback": [
            "\u001b[0;31m---------------------------------------------------------------------------\u001b[0m",
            "\u001b[0;31mValueError\u001b[0m                                Traceback (most recent call last)",
            "Cell \u001b[0;32mIn [28], line 4\u001b[0m\n\u001b[1;32m      2\u001b[0m \u001b[39mtry\u001b[39;00m:\n\u001b[1;32m      3\u001b[0m     \u001b[39mif\u001b[39;00m n \u001b[39m>\u001b[39m \u001b[39m5\u001b[39m:\n\u001b[0;32m----> 4\u001b[0m         \u001b[39mraise\u001b[39;00m \u001b[39mValueError\u001b[39;00m(\u001b[39m'\u001b[39m\u001b[39mBang!\u001b[39m\u001b[39m'\u001b[39m)\n\u001b[1;32m      5\u001b[0m     \u001b[39mprint\u001b[39m(\u001b[39m'\u001b[39m\u001b[39mEverything is OK!\u001b[39m\u001b[39m'\u001b[39m)\n\u001b[1;32m      6\u001b[0m \u001b[39mexcept\u001b[39;00m \u001b[39mValueError\u001b[39;00m \u001b[39mas\u001b[39;00m ve:\n",
            "\u001b[0;31mValueError\u001b[0m: Bang!"
          ]
        }
      ],
      "source": [
        "n = 6\n",
        "try:\n",
        "    if n > 5:\n",
        "        raise ValueError('Bang!')\n",
        "    print('Everything is OK!')\n",
        "except ValueError as ve:\n",
        "    print(ve)\n",
        "    raise"
      ]
    },
    {
      "cell_type": "markdown",
      "metadata": {
        "id": "Ul7nHpOviLfW"
      },
      "source": [
        "### **3. Регулярні вирази**"
      ]
    },
    {
      "cell_type": "markdown",
      "metadata": {
        "id": "GIgTFMd7iP3a"
      },
      "source": [
        "**Регулярні вирази** - це дуже потужний інструмент для обробки тексту, особливо корисний, коли текст можна представити у вигляді послідовності повторюваних шаблонів. Регулярні вирази часто застосовуються, коли потрібні дані зберігаються у текстових файлах, зокрема у .csv-файлах та Excel-файлах.\n",
        "\n",
        "**Регулярний вираз** - це послідовність символів (літер, цифр та спеціальних символів), які формують шаблон, що може бути використаний для пошуку в тексті послідовностей символів, що відповідають цьому шаблону.\n",
        "\n",
        "Наприклад, можна створити шаблон, перші три позиції в якому займатимуть літери, останні три - цифри. Деякі рядки будуть підходити під цей щаблон, а деякі ні.\n",
        "\n",
        "Рядок | Чи підходить під шаблон\n",
        "--- | ---\n",
        "Abc123 | Підходить\n",
        "A123A | Не підходить\n",
        "123AAA | Не підходить\n",
        "\n",
        "Регулярні вирази дуже широко використовуються, наприклад, для:\n",
        "\n",
        "- пошуку у файлах рядків, що пов'язані з певною особою або певним видом діяльності;\n",
        "\n",
        "- перевірки правильності вводу адреси електронної скриньки чи поштового індекса.\n",
        "\n",
        "У регулярних виразах використовуються спеціальні символи, які дозволяють створювати більш складні шаблони. Розглянемо їх.\n",
        "\n",
        "Character | Description | Example\n",
        "--- | --- | ---\n",
        "[] | A set of characters | [a-d] characters in the sequence ‘a’ to ‘d’\n",
        "\\ | Indicates a special sequence (can also be used to escape special characters) | ‘\\d’ indicates the character should be an integer\n",
        ". | Any character with the exception of the newline character | ‘J.hn’ indicates that there can be any character after the ‘J’ and before the ‘h’\n",
        "^ | Indicates a string must start with the following pattern | “^hello” indicates the string must start with ‘hello’\n",
        "\\$ | Indicates a string must end with the preceding pattern | “world$” indicates the string must end with ‘world’\n",
        "\\* | Zero or more occurrences of the preceding pattern | “Python*” indicates we are looking for zero or more times Python is in a string\n",
        "\\+ | One or more occurrences of preceding pattern | “info+” indicates that we must find info in the string at least once\n",
        "? | Indicates zero or 1 occurrences of the preceding pattern | “john?” indicates zero or one instances of the ‘John’\n",
        "{} | Exactly the specified number of occurrences | “John{3}” this indicates we expect to see the ‘John’ in the string three times. “X{1,2}” indicates that there can be one or two Xs next to each other in the string\n",
        "\\| | Either or | “True \\| OK” indicates we are looking for either True or OK\n",
        "() | Groups together a regular expression; you can then apply another operator to the whole group | “(abc \\|' xyz){2}” indicates that we are looking for the string abc or xyz repeated twice"
      ]
    },
    {
      "cell_type": "markdown",
      "metadata": {
        "id": "4uRF3KSzvee1"
      },
      "source": [
        "Спеціальні послідовності, що складаються з символа зворотного слешу та літери, можуть мати спеціальне значення у шаблонах. У таблиці подано спеціальні послідовності, що використовуються у регулярних виразах:\n",
        "\n",
        "Sequence | Description | Example\n",
        "--- | --- | ---\n",
        "\\A | Returns a match if the following characters are at the beginning of the string | “\\AThe” must start with ‘The’\n",
        "\\b | Returns a match where the specified characters are at the beginning or at the end of a word | “\\bon” or “on\\b” indicates a string must start or end with ‘on’\n",
        "\\B | Indicates that the following characters must be present in a string but not at the start (or at the end) of a word | r”\\Bon” or r”on\\B” must not start or end with ‘on’\n",
        "\\d | Returns a match where the string contains digits (numbers from 0–9) | “\\d”\n",
        "\\D | Returns a match where the string DOES NOT contain digits | “\\D”\n",
        "\\s | Returns a match where the string contains a white space character | “\\s*”\n",
        "\\S | Returns a match where the string DOES NOT contain a white space character | “\\S”\n",
        "\\w | Returns a match where the string contains any word characters (characters from a to Z, digits from 0–9, and the underscore _ character) | “\\w”\n",
        "\\W | Returns a match where the string DOES NOT contain any word characters | “\\W”\n",
        "\\Z | Returns a match if the following characters are present at the end of the string | “Hunt\\Z”"
      ]
    },
    {
      "cell_type": "markdown",
      "metadata": {
        "id": "fZBRjzuuxKQV"
      },
      "source": [
        "Послідовність символів у квадратних дужках називається множиною. У таблиці подано приклади множин та що вони означають у регулярних виразах.\n",
        "\n",
        "Set | Description\n",
        "--- | ---\n",
        "[jeh] | Returns a match where one of the specified characters (j, e or h) are present\n",
        "[a–x] | Returns a match for any lower-case character, alphabetically between a and x\n",
        "[^zxc] | Returns a match for any character EXCEPT z, x and c\n",
        "[0123] | Returns a match where any of the specified digits (0, 1, 2, or 3) are present\n",
        "[0–9] | Returns a match for any digit between 0 and 9\n",
        "[0–9][0–9] | Returns a match for any two-digit numbers from 00 and 99\n",
        "[a–zA–Z] | Returns a match for any character alphabetically between a and z or A and Z"
      ]
    },
    {
      "cell_type": "markdown",
      "metadata": {
        "id": "YbHWSQP7x8M5"
      },
      "source": [
        "#### Робота з регулярними виразами"
      ]
    },
    {
      "cell_type": "markdown",
      "metadata": {
        "id": "mKilpY-zyfge"
      },
      "source": [
        "Дуже часто рядки, що використовуються для визначення шаблонів регулярних виразів, починаються з літери 'r'. Наприклад: r'/bin/sh$'. Літера 'r' показує, що рядок повинен оброблятись, як **необроблений рядок**.\n",
        "\n",
        "**Необроблений рядок** (raw string) у Python - це рядок, у якому всі символи є лише звичайними символами і не мають ніяких спеціальних функцій.\n",
        "\n",
        "Приклад використання символа \\ у звичайному та необробленому рядку:"
      ]
    },
    {
      "cell_type": "code",
      "execution_count": 10,
      "metadata": {
        "id": "a7RxMJdIhJ-D"
      },
      "outputs": [
        {
          "name": "stdout",
          "output_type": "stream",
          "text": [
            "Hello \n",
            " world\n",
            "\n",
            "Hello \\n world\n"
          ]
        }
      ],
      "source": [
        "s1 = 'Hello \\n world'\n",
        "print(s1)\n",
        "print()\n",
        "\n",
        "s2 = r'Hello \\n world'\n",
        "print(s2)"
      ]
    },
    {
      "cell_type": "markdown",
      "metadata": {
        "id": "j8oBzL6ax4Zt"
      },
      "source": [
        "Для регулярних виразів використання необроблених рядків є дуже важливим, оскільки зворотний слеш, наприклад, має в шаблонах особливе значення, тому він не повинен розпізнаватись інтерпретатором у звичайний спосіб.\n",
        "\n",
        "Для створення регулярних виразів застосовують функції модуля **re**. Наприклад, функція **search()** перевіряє, чи є в рядку, що розглядається, підрядок, що відповідає заданому шаблону. Вона повертає занчення None (що сприймається інструкцією if як False) або Match (що відповідає значенню True). Приклад:"
      ]
    },
    {
      "cell_type": "code",
      "execution_count": 11,
      "metadata": {
        "id": "ScRDfkrG3XV5"
      },
      "outputs": [
        {
          "name": "stdout",
          "output_type": "stream",
          "text": [
            "looking in john williams for the pattern [Jj]ohn\n",
            "Match has been found\n"
          ]
        }
      ],
      "source": [
        "import re\n",
        "\n",
        "text1 = 'john williams'\n",
        "pattern = '[Jj]ohn'\n",
        "print('looking in', text1, 'for the pattern', pattern)\n",
        "\n",
        "if re.search(pattern, text1):\n",
        "    print('Match has been found')"
      ]
    },
    {
      "cell_type": "markdown",
      "metadata": {
        "id": "QAR_XOnE41NN"
      },
      "source": [
        "Останнім параметром функції search() може бути спеціальний індикатор, що використовується для визначення додаткових параметрів шаблону. Перелік індикаторів подано у таблиці.\n",
        "\n",
        "Flag | Description\n",
        "--- | ---\n",
        "re.IGNORECASE | Performs case-insensitive matching\n",
        "re.LOCALE | Interprets words according to the current locale. This interpretation affects the alphabetic group (\\w and \\W), as well as word boundary behavior(\\b and \\B)\n",
        "re.MULTILINE | Makes $ match the end of a line (not just the end of the string) and makes ^ match the start of any line (not just the start of the string)\n",
        "re.DOTALL | Makes a period (dot) match any character, including a newline\n",
        "re.UNICODE | Interprets letters according to the Unicode character set. This flag affects the behavior of \\w, \\W, \\b, \\B\n",
        "re.VERBOSE | Ignores whitespace within the pattern (except inside a set [] or when escaped by a backslash) and treats unescaped # as a comment marker"
      ]
    },
    {
      "cell_type": "code",
      "execution_count": 12,
      "metadata": {
        "id": "SYMXSKXR5b32"
      },
      "outputs": [
        {
          "name": "stdout",
          "output_type": "stream",
          "text": [
            "Line 1 contains an integer\n"
          ]
        }
      ],
      "source": [
        "import re\n",
        "\n",
        "line1 = 'The price is 23.55'\n",
        "containsIntegers = r'\\d+'\n",
        "\n",
        "if re.search(containsIntegers, line1):\n",
        "    print('Line 1 contains an integer')\n",
        "else:\n",
        "    print('Line 1 does not contain an integer')"
      ]
    },
    {
      "cell_type": "markdown",
      "metadata": {
        "id": "_5_lkSMz8uYk"
      },
      "source": [
        "Ще один приклад використання функції search():"
      ]
    },
    {
      "cell_type": "code",
      "execution_count": 13,
      "metadata": {
        "id": "HwKKFEUL5eUc"
      },
      "outputs": [
        {
          "name": "stdout",
          "output_type": "stream",
          "text": [
            "Set Fire to the Rain\n"
          ]
        }
      ],
      "source": [
        "import re\n",
        "\n",
        "music = r'Beatles|Adele|Gorillaz'\n",
        "request = 'Play some Adele'\n",
        "\n",
        "if re.search(music, request):\n",
        "    print('Set Fire to the Rain')\n",
        "else:\n",
        "    print('No Adele Available')"
      ]
    },
    {
      "cell_type": "markdown",
      "metadata": {
        "id": "mjCzaiNj9UHB"
      },
      "source": [
        "Функція **match()** призначена для пошуку значень за шаблоном лише на початку рядка. Приклад:"
      ]
    },
    {
      "cell_type": "code",
      "execution_count": null,
      "metadata": {
        "id": "qZAQL1Wb9zKs"
      },
      "outputs": [],
      "source": [
        "import re\n",
        "\n",
        "text1 = 'john williams'\n",
        "text2 = 'alexander desplat'\n",
        "pattern1 = '[Jj]ohn'\n",
        "pattern2 = '[Dd]esplat'\n",
        "\n",
        "if re.match(pattern1, text1):\n",
        "    print('Match 1 has been found')\n",
        "\n",
        "if re.match(pattern2, text2):\n",
        "    print('Match 2 has been found')"
      ]
    },
    {
      "cell_type": "markdown",
      "metadata": {
        "id": "3xYwnSBqEXlq"
      },
      "source": [
        "Функція **findall()** повертає список, в якому будуть міститись усі співпадіння з шаблоном, що зустрічаються у рядку. Значення повертаються у тій послідовності, в якій вони зустрічаються у рядку.\n",
        "\n",
        "Приклад:"
      ]
    },
    {
      "cell_type": "code",
      "execution_count": null,
      "metadata": {
        "id": "IONqy7LF94Q5"
      },
      "outputs": [],
      "source": [
        "import re\n",
        "\n",
        "str = 'The rain in Spain stays mainly in the plain'\n",
        "results = re.findall('[a-zA-Z]{2}ai.', str)\n",
        "print(results)"
      ]
    },
    {
      "cell_type": "markdown",
      "metadata": {
        "id": "9EStmeiGF4KE"
      },
      "source": [
        "Функція **finditer()** створює ітератор, який зберігає усі співпадіння з шаблоном, що зустрічаються у рядку. Приклад:"
      ]
    },
    {
      "cell_type": "code",
      "execution_count": null,
      "metadata": {
        "id": "Xy5dETcZF02J"
      },
      "outputs": [],
      "source": [
        "import re\n",
        "\n",
        "str = 'The rain in Spain stays mainly in the plain'\n",
        "results = re.finditer('[a-zA-Z]{2}ai.', str)\n",
        "print(results)\n",
        "for s in results:\n",
        "    print(s)"
      ]
    },
    {
      "cell_type": "markdown",
      "metadata": {
        "id": "De-5T2w1HitY"
      },
      "source": [
        "Функція **split()** повертає список, що складається з елементів, розділених у рядку заданими символами (або послідовністю символів). Приклад:"
      ]
    },
    {
      "cell_type": "code",
      "execution_count": 14,
      "metadata": {
        "id": "PhDg2pQ8GQrC"
      },
      "outputs": [
        {
          "name": "stdout",
          "output_type": "stream",
          "text": [
            "['It', 'was', 'a', 'hot', 'summer', 'night']\n"
          ]
        }
      ],
      "source": [
        "import re\n",
        "\n",
        "str = 'It was a hot summer night'\n",
        "x = re.split('\\s', str)\n",
        "print(x)"
      ]
    },
    {
      "cell_type": "markdown",
      "metadata": {
        "id": "ydPSa0GQJF2O"
      },
      "source": [
        "Функція **sub()** заміняє кожне входження підрядка заданого рядка на інший підрядок. Функція повертає змінений рядок. Приклад:"
      ]
    },
    {
      "cell_type": "code",
      "execution_count": null,
      "metadata": {
        "id": "KHcI38Y0Iaze"
      },
      "outputs": [],
      "source": [
        "import re\n",
        "\n",
        "pattern = '(England|Wales|Scotland)'\n",
        "input = 'England for football, Wales for Rugby and Scotland for the Highland games'\n",
        "print(re.sub(pattern, 'England', input))"
      ]
    },
    {
      "cell_type": "markdown",
      "metadata": {
        "id": "IE3T_lSMKFXD"
      },
      "source": [
        "Кількість замін можна контролювати за допомогою четвертого параметра функції sub():"
      ]
    },
    {
      "cell_type": "code",
      "execution_count": null,
      "metadata": {
        "id": "7DOkABrVKBrR"
      },
      "outputs": [],
      "source": [
        "import re\n",
        "\n",
        "pattern = '(England|Wales|Scotland)'\n",
        "input = 'England for football, Wales for Rugby and Scotland for the Highland games'\n",
        "x = re.sub(pattern, 'Wales', input, 2)\n",
        "print(x)"
      ]
    },
    {
      "cell_type": "markdown",
      "metadata": {
        "id": "13ojOSy5KozT"
      },
      "source": [
        "Дуже схожою на функцію sub() є функція **subn()**. На відміну від функції sub(), окрім зміненого рядка, вона повертає ще й кількість замін у рядку. Приклад:"
      ]
    },
    {
      "cell_type": "code",
      "execution_count": null,
      "metadata": {
        "id": "Vvh_ln9zKX0E"
      },
      "outputs": [],
      "source": [
        "import re\n",
        "\n",
        "pattern = '(England|Wales|Scotland)'\n",
        "input = 'England for football, Wales for Rugby and Scotland for the Highland games'\n",
        "x = re.subn(pattern,'Scotland', input)\n",
        "print(x)"
      ]
    },
    {
      "cell_type": "markdown",
      "metadata": {
        "id": "kmz41osLLkb1"
      },
      "source": [
        "Функція **compile()** компілює з шаблону регулярного виразу об'єкт регулярного виразу, що може використовуватись для співставлення функціями match(), search() та іншими.\n",
        "\n",
        "Інструкції:\n",
        "\n",
        "*prog = re.compile(pattern)*\n",
        "\n",
        "*result = prog.match(string)*\n",
        "\n",
        "є еквівалентними до інструкції:\n",
        "\n",
        "*result = re.match(pattern, string)*.\n",
        "\n",
        "Збереження результуючого об'єкта регулярного виразу для повторного використання є більш ефективним, якщо вираз буде використовуватись кілька разів в одній програмі.\n",
        "\n",
        "Приклад використання функції compile():"
      ]
    },
    {
      "cell_type": "code",
      "execution_count": 39,
      "metadata": {
        "id": "qBvjLFRXLMSN"
      },
      "outputs": [
        {
          "name": "stdout",
          "output_type": "stream",
          "text": [
            "re.compile('\\\\d+') \\d+\n",
            "Line 1 contains a number\n"
          ]
        }
      ],
      "source": [
        "import re\n",
        "\n",
        "line1 = 'The price is 23.55'\n",
        "containsIntegers = r'\\d+'\n",
        "rePattern = re.compile(containsIntegers)\n",
        "\n",
        "\n",
        "matchLine1 = rePattern.search(line1)\n",
        "if matchLine1:\n",
        "    print('Line 1 contains a number')\n",
        "else:\n",
        "    print('Line 1 does not contain a number')"
      ]
    },
    {
      "cell_type": "markdown",
      "metadata": {
        "id": "PxNE5y9MQ6_H"
      },
      "source": [
        "Ще один приклад:"
      ]
    },
    {
      "cell_type": "code",
      "execution_count": 38,
      "metadata": {
        "id": "IVWeCk03Q88G"
      },
      "outputs": [
        {
          "name": "stdout",
          "output_type": "stream",
          "text": [
            "['20', 'High', 'Street']\n"
          ]
        }
      ],
      "source": [
        "import re\n",
        "\n",
        "p = re.compile(r'\\W+')\n",
        "s = '20 High Street'\n",
        "print(p.split(s))"
      ]
    }
  ],
  "metadata": {
    "colab": {
      "collapsed_sections": [
        "LyWSBl0DOxJ8",
        "B8EQhI3x3NJm"
      ],
      "name": "Practice_7.ipynb",
      "provenance": []
    },
    "kernelspec": {
      "display_name": "Python 3.8.10 64-bit",
      "language": "python",
      "name": "python3"
    },
    "language_info": {
      "codemirror_mode": {
        "name": "ipython",
        "version": 3
      },
      "file_extension": ".py",
      "mimetype": "text/x-python",
      "name": "python",
      "nbconvert_exporter": "python",
      "pygments_lexer": "ipython3",
      "version": "3.8.10"
    },
    "vscode": {
      "interpreter": {
        "hash": "916dbcbb3f70747c44a77c7bcd40155683ae19c65e1c03b4aa3499c5328201f1"
      }
    }
  },
  "nbformat": 4,
  "nbformat_minor": 0
}
